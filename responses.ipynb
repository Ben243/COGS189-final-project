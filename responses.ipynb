{
 "metadata": {
  "language_info": {
   "codemirror_mode": {
    "name": "ipython",
    "version": 3
   },
   "file_extension": ".py",
   "mimetype": "text/x-python",
   "name": "python",
   "nbconvert_exporter": "python",
   "pygments_lexer": "ipython3",
   "version": "3.7.4-final"
  },
  "orig_nbformat": 2,
  "kernelspec": {
   "name": "python3",
   "display_name": "Python 3.7.4 64-bit ('project': pipenv)",
   "metadata": {
    "interpreter": {
     "hash": "19d1e599bcc2b9b3d0ce18f2d04a436772edd8468821bde30145bd8446380c1c"
    }
   }
  }
 },
 "nbformat": 4,
 "nbformat_minor": 2,
 "cells": [
  {
   "cell_type": "code",
   "execution_count": 93,
   "metadata": {},
   "outputs": [],
   "source": [
    "import mne # package for reading edf data\n",
    "import numpy as np\n",
    "import pandas as pd\n",
    "from itertools import chain\n",
    "\n",
    "import json\n",
    "import matplotlib.pyplot as plt"
   ]
  },
  {
   "source": [
    "Description for reference: This dataset accompanies the publication by Daly et al. (2018) and has been analysed in Daly et al. (2014; 2015a; 2015b) (please see Section 5 for full references). The purpose of the research activity in which the data were collected was to investigate the EEG neural correlates of music-induced emotion. For this purpose 31 healthy adult participants listened to 40 music clips of 12 s duration each, targeting a range of emotional states. The music clips comprised excerpts from film scores spanning a range of styles and rated on induced emotion.\n",
    "The dataset contains unprocessed EEG data from all 31 participants (age range 18-66, 18 female) while listening to the music clips, together with the reported induced emotional responses . The paradigm involved 6 runs of EEG recordings. The first and last runs were resting state runs, during which participants were instructed to sit still and rest for 300 s. The other 4 runs each contained 10 music listening trials."
   ],
   "cell_type": "markdown",
   "metadata": {}
  },
  {
   "cell_type": "code",
   "execution_count": 94,
   "metadata": {},
   "outputs": [
    {
     "output_type": "stream",
     "name": "stdout",
     "text": [
      "Extracting EDF parameters from c:\\Users\\Staro\\Documents\\GitHub\\COGS189-final-project\\data\\sub-01\\eeg\\sub-01_task-run2_eeg.edf...\n",
      "EDF file detected\n",
      "Setting channel info structure...\n",
      "Creating raw.info structure...\n",
      "<ipython-input-94-2cc7e562e588>:5: RuntimeWarning: Invalid date encountered (2014-00-00 00:00:00).\n",
      "  data = mne.io.read_raw_edf(file)\n"
     ]
    },
    {
     "output_type": "execute_result",
     "data": {
      "text/plain": [
       "   time         FP1         FP2          F7         F3         Fz         F4  \\\n",
       "0     0  247.085224  226.427986  243.400921  91.204983  55.539856  30.993496   \n",
       "1     1  223.124495  217.253177  230.288985  87.282360  54.399233  29.484103   \n",
       "2     2  179.695673  170.218461  222.421823  85.062414  47.222584  15.159111   \n",
       "3     3  179.258889  176.187614  217.534647  75.923996  47.121620  16.625785   \n",
       "4     4  191.114458  167.068075  230.479704  71.527210  48.106704  13.706676   \n",
       "\n",
       "          F8         T3        C3          Cz         C4         T4  \\\n",
       "0  63.836413 -68.204146 -4.810091 -104.638740 -25.194368  17.563380   \n",
       "1  62.622202 -57.124885 -3.891314 -104.026181 -26.506049  17.346538   \n",
       "2  39.324530 -38.992590  3.748147  -98.604148 -26.024546  20.515767   \n",
       "3  38.768017 -34.866422  0.600485  -98.619684 -24.048723  24.352201   \n",
       "4  35.783082 -32.053774  2.080737  -99.667248 -25.194368  16.062166   \n",
       "\n",
       "          T5         P3         Pz          P4          T6         O1  \\\n",
       "0 -16.669192 -54.736701 -80.506690 -107.095388 -113.935044 -22.240173   \n",
       "1 -26.118804 -53.851772 -79.859751 -106.698069 -119.452995 -21.425506   \n",
       "2 -43.779133 -48.048959 -73.122966 -101.665362 -113.615163 -19.448936   \n",
       "3 -47.422943 -48.302832 -75.577019 -102.460000 -116.374138 -19.422225   \n",
       "4 -46.256924 -47.164029 -75.827168 -101.791495 -116.294168 -20.797811   \n",
       "\n",
       "          O2  \n",
       "0 -24.044401  \n",
       "1 -25.461576  \n",
       "2 -17.671623  \n",
       "3 -20.596241  \n",
       "4 -21.760672  "
      ],
      "text/html": "<div>\n<style scoped>\n    .dataframe tbody tr th:only-of-type {\n        vertical-align: middle;\n    }\n\n    .dataframe tbody tr th {\n        vertical-align: top;\n    }\n\n    .dataframe thead th {\n        text-align: right;\n    }\n</style>\n<table border=\"1\" class=\"dataframe\">\n  <thead>\n    <tr style=\"text-align: right;\">\n      <th></th>\n      <th>time</th>\n      <th>FP1</th>\n      <th>FP2</th>\n      <th>F7</th>\n      <th>F3</th>\n      <th>Fz</th>\n      <th>F4</th>\n      <th>F8</th>\n      <th>T3</th>\n      <th>C3</th>\n      <th>Cz</th>\n      <th>C4</th>\n      <th>T4</th>\n      <th>T5</th>\n      <th>P3</th>\n      <th>Pz</th>\n      <th>P4</th>\n      <th>T6</th>\n      <th>O1</th>\n      <th>O2</th>\n    </tr>\n  </thead>\n  <tbody>\n    <tr>\n      <th>0</th>\n      <td>0</td>\n      <td>247.085224</td>\n      <td>226.427986</td>\n      <td>243.400921</td>\n      <td>91.204983</td>\n      <td>55.539856</td>\n      <td>30.993496</td>\n      <td>63.836413</td>\n      <td>-68.204146</td>\n      <td>-4.810091</td>\n      <td>-104.638740</td>\n      <td>-25.194368</td>\n      <td>17.563380</td>\n      <td>-16.669192</td>\n      <td>-54.736701</td>\n      <td>-80.506690</td>\n      <td>-107.095388</td>\n      <td>-113.935044</td>\n      <td>-22.240173</td>\n      <td>-24.044401</td>\n    </tr>\n    <tr>\n      <th>1</th>\n      <td>1</td>\n      <td>223.124495</td>\n      <td>217.253177</td>\n      <td>230.288985</td>\n      <td>87.282360</td>\n      <td>54.399233</td>\n      <td>29.484103</td>\n      <td>62.622202</td>\n      <td>-57.124885</td>\n      <td>-3.891314</td>\n      <td>-104.026181</td>\n      <td>-26.506049</td>\n      <td>17.346538</td>\n      <td>-26.118804</td>\n      <td>-53.851772</td>\n      <td>-79.859751</td>\n      <td>-106.698069</td>\n      <td>-119.452995</td>\n      <td>-21.425506</td>\n      <td>-25.461576</td>\n    </tr>\n    <tr>\n      <th>2</th>\n      <td>2</td>\n      <td>179.695673</td>\n      <td>170.218461</td>\n      <td>222.421823</td>\n      <td>85.062414</td>\n      <td>47.222584</td>\n      <td>15.159111</td>\n      <td>39.324530</td>\n      <td>-38.992590</td>\n      <td>3.748147</td>\n      <td>-98.604148</td>\n      <td>-26.024546</td>\n      <td>20.515767</td>\n      <td>-43.779133</td>\n      <td>-48.048959</td>\n      <td>-73.122966</td>\n      <td>-101.665362</td>\n      <td>-113.615163</td>\n      <td>-19.448936</td>\n      <td>-17.671623</td>\n    </tr>\n    <tr>\n      <th>3</th>\n      <td>3</td>\n      <td>179.258889</td>\n      <td>176.187614</td>\n      <td>217.534647</td>\n      <td>75.923996</td>\n      <td>47.121620</td>\n      <td>16.625785</td>\n      <td>38.768017</td>\n      <td>-34.866422</td>\n      <td>0.600485</td>\n      <td>-98.619684</td>\n      <td>-24.048723</td>\n      <td>24.352201</td>\n      <td>-47.422943</td>\n      <td>-48.302832</td>\n      <td>-75.577019</td>\n      <td>-102.460000</td>\n      <td>-116.374138</td>\n      <td>-19.422225</td>\n      <td>-20.596241</td>\n    </tr>\n    <tr>\n      <th>4</th>\n      <td>4</td>\n      <td>191.114458</td>\n      <td>167.068075</td>\n      <td>230.479704</td>\n      <td>71.527210</td>\n      <td>48.106704</td>\n      <td>13.706676</td>\n      <td>35.783082</td>\n      <td>-32.053774</td>\n      <td>2.080737</td>\n      <td>-99.667248</td>\n      <td>-25.194368</td>\n      <td>16.062166</td>\n      <td>-46.256924</td>\n      <td>-47.164029</td>\n      <td>-75.827168</td>\n      <td>-101.791495</td>\n      <td>-116.294168</td>\n      <td>-20.797811</td>\n      <td>-21.760672</td>\n    </tr>\n  </tbody>\n</table>\n</div>"
     },
     "metadata": {},
     "execution_count": 94
    }
   ],
   "source": [
    "def get_recording(subjectnum, trialnum):\n",
    "    '''retrieves trial eeg recording given a subject number and trial number'''\n",
    "    subjectnum = '0' + (str(subjectnum)) if subjectnum < 10 else str(subjectnum)\n",
    "    file = r\"data\\sub-\"+str(subjectnum)+r\"\\eeg\\sub-\"+str(subjectnum)+r\"_task-run\"+str(trialnum)+r\"_eeg.edf\"\n",
    "    data = mne.io.read_raw_edf(file)\n",
    "    raw_data = data.get_data()\n",
    "    # you can get the metadata included in the file and a list of all channels:\n",
    "    # info = data.info\n",
    "    # channels = data.ch_names\n",
    "    recording = data.to_data_frame().infer_objects()\n",
    "    return recording\n",
    "subject1 = get_recording(1,2)\n",
    "subject1.head()"
   ]
  },
  {
   "cell_type": "code",
   "execution_count": 95,
   "metadata": {},
   "outputs": [
    {
     "output_type": "execute_result",
     "data": {
      "text/plain": [
       "{'257': {'LongName': 'artifact:EOG',\n",
       "  'Description': 'artifact:EOG (blinks, fast, large amplitude)'},\n",
       " '259': {'LongName': 'artifact:EMG/Muscle',\n",
       "  'Description': 'artifact:EMG/Muscle'},\n",
       " '263': {'LongName': 'artifact:50/60 Hz mains interference',\n",
       "  'Description': 'artifact:50/60 Hz mains interference'},\n",
       " '786': {'LongName': 'Cross on screen',\n",
       "  'Description': 'Fixation cross displayed on screen'},\n",
       " '788': {'LongName': 'Music played', 'Description': 'Start of music play'},\n",
       " '301-360': {'LongName': 'Music stimuli',\n",
       "  'Description': \"The piece of music that was played. To identify which .mp3 file was played to the participants subtract 300 from this code and append .mp3, for example for code '305' the file '005.mp3' was played to the participant. The corresponding mp3 files can be downloaded from https://www.jyu.fi/hytk/fi/laitokset/mutku/en/research/projects2/past-projects/coe/materials/emotion/soundtracks/Index\"},\n",
       " '800': {'LongName': 'Question 01',\n",
       "  'Description': 'Question 01 presented to user (The music made me feel pleasent)'},\n",
       " '801': {'LongName': 'Question 02',\n",
       "  'Description': 'Question 02 presented to user (The music made me feel energetic)'},\n",
       " '802': {'LongName': 'Question 03',\n",
       "  'Description': 'Question 03 presented to user (The music made me feel tense)'},\n",
       " '803': {'LongName': 'Question 04',\n",
       "  'Description': 'Question 04 presented to user (The music made me feel angry)'},\n",
       " '804': {'LongName': 'Question 05',\n",
       "  'Description': 'Question 05 presented to user (The music made me feel afraid)'},\n",
       " '805': {'LongName': 'Question 06',\n",
       "  'Description': 'Question 06 presented to user (The music made me feel happy)'},\n",
       " '806': {'LongName': 'Question 07',\n",
       "  'Description': 'Question 07 presented to user (The music made me feel sad)'},\n",
       " '807': {'LongName': 'Question 08',\n",
       "  'Description': 'Question 08 presented to user (The music made me feel tender)'},\n",
       " '901': {'LongName': 'Answer 01',\n",
       "  'Description': 'The question was answered with a response of 1 (strongly disagree)'},\n",
       " '902': {'LongName': 'Answer 02',\n",
       "  'Description': 'The question was answered with a response of 1 (somewhat disagree)'},\n",
       " '903': {'LongName': 'Answer 03',\n",
       "  'Description': 'The question was answered with a response of 1 (disagree)'},\n",
       " '904': {'LongName': 'Answer 04',\n",
       "  'Description': 'The question was answered with a response of 1 (slightly disagree)'},\n",
       " '905': {'LongName': 'Answer 05',\n",
       "  'Description': 'The question was answered with a response of 1 (neither agree nor disagree)'},\n",
       " '906': {'LongName': 'Answer 06',\n",
       "  'Description': 'The question was answered with a response of 1 (slightly agree)'},\n",
       " '907': {'LongName': 'Answer 07',\n",
       "  'Description': 'The question was answered with a response of 1 (agree)'},\n",
       " '908': {'LongName': 'Answer 08',\n",
       "  'Description': 'The question was answered with a response of 1 (somewhat agree)'},\n",
       " '909': {'LongName': 'Answer 09',\n",
       "  'Description': 'The question was answered with a response of 1 (strongly agree)'},\n",
       " '833': {'LongName': 'Response 01',\n",
       "  'Description': 'Response 01 - The user selected 01 as their response'},\n",
       " '834': {'LongName': 'Response 02',\n",
       "  'Description': 'Response 02 - The user selected 02 as their response'},\n",
       " '835': {'LongName': 'Response 03',\n",
       "  'Description': 'Response 03 - The user selected 03 as their response'},\n",
       " '836': {'LongName': 'Response 04',\n",
       "  'Description': 'Response 04 - The user selected 04 as their response'},\n",
       " '837': {'LongName': 'Response 05',\n",
       "  'Description': 'Response 05 - The user selected 05 as their response'},\n",
       " '838': {'LongName': 'Response 06',\n",
       "  'Description': 'Response 06 - The user selected 06 as their response'},\n",
       " '839': {'LongName': 'Response 07',\n",
       "  'Description': 'Response 07 - The user selected 07 as their response'},\n",
       " '840': {'LongName': 'Response 08',\n",
       "  'Description': 'Response 08 - The user selected 08 as their response'},\n",
       " '841': {'LongName': 'Response 09',\n",
       "  'Description': 'Response 09 - The user selected 09 as their response'},\n",
       " '32768': {'LongName': 'not used', 'Description': 'not used'},\n",
       " '33568': {'LongName': 'Question hidden',\n",
       "  'Description': 'Question no longer displayed on screen'},\n",
       " '33569': {'LongName': 'not used', 'Description': 'not used'},\n",
       " '33570': {'LongName': 'not used', 'Description': 'not used'},\n",
       " '33571': {'LongName': 'not used', 'Description': 'not used'},\n",
       " '33572': {'LongName': 'not used', 'Description': 'not used'},\n",
       " '33573': {'LongName': 'not used', 'Description': 'not used'},\n",
       " '33574': {'LongName': 'not used', 'Description': 'not used'},\n",
       " '33575': {'LongName': 'not used', 'Description': 'not used'}}"
      ]
     },
     "metadata": {},
     "execution_count": 95
    }
   ],
   "source": [
    "# events json file that contains the description for the codes\n",
    "event_codes = {}\n",
    "with open('data\\sub-01\\eeg\\sub-01_task-run2_events.json') as f:\n",
    "    event_codes = json.load(f)\n",
    "event_codes"
   ]
  },
  {
   "cell_type": "code",
   "execution_count": 96,
   "metadata": {},
   "outputs": [
    {
     "output_type": "execute_result",
     "data": {
      "text/plain": [
       "   onset  trial_type                            trial_name  \\\n",
       "0  2.449         263  artifact:50/60 Hz mains interference   \n",
       "1  2.689         786                       Cross on screen   \n",
       "2  2.817         257                          artifact:EOG   \n",
       "3  3.713         257                          artifact:EOG   \n",
       "4  5.689         788                          Music played   \n",
       "\n",
       "                                     trial_desc  \\\n",
       "0          artifact:50/60 Hz mains interference   \n",
       "1            Fixation cross displayed on screen   \n",
       "2  artifact:EOG (blinks, fast, large amplitude)   \n",
       "3  artifact:EOG (blinks, fast, large amplitude)   \n",
       "4                           Start of music play   \n",
       "\n",
       "                     trial_desc_cleaned  song_clip  \n",
       "0  artifact:50/60 Hz mains interference         -1  \n",
       "1    Fixation cross displayed on screen         -1  \n",
       "2         blinks, fast, large amplitude         -1  \n",
       "3         blinks, fast, large amplitude         -1  \n",
       "4                   Start of music play         62  "
      ],
      "text/html": "<div>\n<style scoped>\n    .dataframe tbody tr th:only-of-type {\n        vertical-align: middle;\n    }\n\n    .dataframe tbody tr th {\n        vertical-align: top;\n    }\n\n    .dataframe thead th {\n        text-align: right;\n    }\n</style>\n<table border=\"1\" class=\"dataframe\">\n  <thead>\n    <tr style=\"text-align: right;\">\n      <th></th>\n      <th>onset</th>\n      <th>trial_type</th>\n      <th>trial_name</th>\n      <th>trial_desc</th>\n      <th>trial_desc_cleaned</th>\n      <th>song_clip</th>\n    </tr>\n  </thead>\n  <tbody>\n    <tr>\n      <th>0</th>\n      <td>2.449</td>\n      <td>263</td>\n      <td>artifact:50/60 Hz mains interference</td>\n      <td>artifact:50/60 Hz mains interference</td>\n      <td>artifact:50/60 Hz mains interference</td>\n      <td>-1</td>\n    </tr>\n    <tr>\n      <th>1</th>\n      <td>2.689</td>\n      <td>786</td>\n      <td>Cross on screen</td>\n      <td>Fixation cross displayed on screen</td>\n      <td>Fixation cross displayed on screen</td>\n      <td>-1</td>\n    </tr>\n    <tr>\n      <th>2</th>\n      <td>2.817</td>\n      <td>257</td>\n      <td>artifact:EOG</td>\n      <td>artifact:EOG (blinks, fast, large amplitude)</td>\n      <td>blinks, fast, large amplitude</td>\n      <td>-1</td>\n    </tr>\n    <tr>\n      <th>3</th>\n      <td>3.713</td>\n      <td>257</td>\n      <td>artifact:EOG</td>\n      <td>artifact:EOG (blinks, fast, large amplitude)</td>\n      <td>blinks, fast, large amplitude</td>\n      <td>-1</td>\n    </tr>\n    <tr>\n      <th>4</th>\n      <td>5.689</td>\n      <td>788</td>\n      <td>Music played</td>\n      <td>Start of music play</td>\n      <td>Start of music play</td>\n      <td>62</td>\n    </tr>\n  </tbody>\n</table>\n</div>"
     },
     "metadata": {},
     "execution_count": 96
    }
   ],
   "source": [
    "def get_events(subjectnum, trialnum):\n",
    "    '''retrieves events and timings given a subject number and trial number'''\n",
    "    subjectnum = '0' + (str(subjectnum)) if subjectnum < 10 else str(subjectnum)\n",
    "    events = pd.read_csv(\"data\\sub-\"+str(subjectnum)+\"\\eeg\\sub-\"+str(subjectnum)+\"_task-run\"+str(trialnum)+\"_events.tsv\", sep=\"\\t\", usecols=['onset','trial_type']).infer_objects()\n",
    "    eventcodes = {}\n",
    "    with open('data\\sub-'+str(subjectnum)+'\\eeg\\sub-'+str(subjectnum)+'_task-run'+str(trialnum)+'_events.json') as f:\n",
    "        eventcodes = json.load(f)\n",
    "    events['trial_name'] = events['trial_type'].apply(lambda x: eventcodes[str(x)]['LongName'] if str(x) in eventcodes.keys() else 'n/a')\n",
    "    events['trial_desc'] = events['trial_type'].apply(lambda x: eventcodes[str(x)]['Description'] if str(x) in eventcodes.keys() else 'n/a')\n",
    "    events['trial_desc_cleaned'] = events['trial_desc'].replace(\".* \\(The music made me feel |\\)|.* \\(| - The user.+\", \"\",regex = True)\n",
    "    # logic below gets song name for each of the 10 ish runs\n",
    "    te_sample = events[(300<=events['trial_type'])&(events['trial_type']<=660)][['onset','trial_type']]\n",
    "    songtime = te_sample['onset'].to_numpy()\n",
    "    songdict = te_sample.set_index('onset').to_dict()['trial_type']\n",
    "    def get_song_trial_type(searchVal, inputData):\n",
    "        '''returns trial type of song for particular question sequence'''\n",
    "        if searchVal < inputData.min(): return -1\n",
    "        diff = inputData - searchVal\n",
    "        diff[diff>=0] = -np.inf\n",
    "        idx = diff.argmax()\n",
    "        return songdict[inputData[idx]] -300\n",
    "    events['song_clip'] = events.onset.map(lambda x: get_song_trial_type(x,songtime))\n",
    "\n",
    "    return events\n",
    "s1_2events = get_events(1,2)\n",
    "s1_2events.head()"
   ]
  },
  {
   "source": [
    "## This is the all important function below"
   ],
   "cell_type": "markdown",
   "metadata": {}
  },
  {
   "cell_type": "code",
   "execution_count": 97,
   "metadata": {},
   "outputs": [
    {
     "output_type": "stream",
     "name": "stdout",
     "text": [
      "Extracting EDF parameters from c:\\Users\\Staro\\Documents\\GitHub\\COGS189-final-project\\data\\sub-30\\eeg\\sub-30_task-run2_eeg.edf...\n",
      "EDF file detected\n",
      "Setting channel info structure...\n",
      "Creating raw.info structure...\n",
      "<ipython-input-94-2cc7e562e588>:5: RuntimeWarning: Invalid date encountered (2014-00-00 00:00:00).\n",
      "  data = mne.io.read_raw_edf(file)\n"
     ]
    },
    {
     "output_type": "execute_result",
     "data": {
      "text/plain": [
       "          time  song_clip        FP1        FP2         F7         F3  \\\n",
       "0         6620         62   8.868887  13.995650  48.229592 -54.106238   \n",
       "1         6621         62   9.455152  13.605077  47.808005 -52.726093   \n",
       "2         6622         62   9.284946  11.317438  45.862220 -53.605935   \n",
       "3         6623         62  13.663021  12.265971  49.851079 -53.907842   \n",
       "4         6624         62   9.133652  11.684098  46.835113 -51.915258   \n",
       "...        ...        ...        ...        ...        ...        ...   \n",
       "160005  649494        176 -13.910341  -1.507692  14.113498 -17.092483   \n",
       "160006  649495        176 -12.633796   0.022715  14.599945 -16.083253   \n",
       "160007  649496        176  -8.548854   0.740093  15.378259 -16.411037   \n",
       "160008  649497        176 -10.449487  -1.133061  14.891812 -20.396205   \n",
       "160009  649498        176 -12.473046  -4.903283  14.729664 -19.430103   \n",
       "\n",
       "               Fz         F4         F8         T3  ...         T4         T5  \\\n",
       "0       15.502685  42.289633  72.955059  80.907329  ...  72.729358  34.853280   \n",
       "1       15.035020  41.492044  72.202536  81.627942  ...  72.358054  34.539554   \n",
       "2       12.001464  41.839986  72.718974  80.096639  ...  75.851451  34.631826   \n",
       "3       14.452527  41.797162  71.612323  80.659618  ...  73.247092  35.050128   \n",
       "4       15.166551  40.731926  69.605595  82.393594  ...  71.604986  36.520335   \n",
       "...           ...        ...        ...        ...  ...        ...        ...   \n",
       "160005  18.291970 -10.891891  -6.059831  25.780412  ... -13.564874  21.584508   \n",
       "160006  18.876550  -9.890890  -4.421988  27.199119  ... -10.270203  21.264630   \n",
       "160007  18.757546 -12.026716  -2.666101  23.888802  ... -10.061018   6.568711   \n",
       "160008  18.964237 -11.261244  -3.861284  23.280784  ... -14.469601  -1.132959   \n",
       "160009  17.592561 -15.441896  -9.114188  27.086523  ... -14.626490  12.886295   \n",
       "\n",
       "               P3         Pz          P4         T6         O1         O2  \\\n",
       "0      -46.391721  17.050814  103.392803  72.464162  71.068751  66.195834   \n",
       "1      -45.282516  17.441381  104.324011  72.090361  73.072439  67.464176   \n",
       "2      -45.818382  17.103056  104.258963  73.091614  72.219094  68.618287   \n",
       "3      -46.174376  17.533426  103.543440  72.077011  74.197684  67.625672   \n",
       "4      -45.972021  17.297095  104.053550  71.013459  75.339660  70.221439   \n",
       "...           ...        ...         ...        ...        ...        ...   \n",
       "160005 -12.103794  18.341924   34.983282  -5.411025  43.878826  21.272136   \n",
       "160006 -10.098981  18.983747   38.153496   1.588842  45.535320  23.993949   \n",
       "160007 -16.218345  18.817072   38.263050   3.012845  46.924098  26.010690   \n",
       "160008 -19.789536  18.545914   35.644029  -2.607518  46.146048  23.556725   \n",
       "160009 -16.300786  16.981159   35.164731  -1.575116  45.175577  24.072728   \n",
       "\n",
       "        Number    TARGET  \n",
       "0           62    TENDER  \n",
       "1           62    TENDER  \n",
       "2           62    TENDER  \n",
       "3           62    TENDER  \n",
       "4           62    TENDER  \n",
       "...        ...       ...  \n",
       "160005     176  SURPRISE  \n",
       "160006     176  SURPRISE  \n",
       "160007     176  SURPRISE  \n",
       "160008     176  SURPRISE  \n",
       "160009     176  SURPRISE  \n",
       "\n",
       "[160010 rows x 23 columns]"
      ],
      "text/html": "<div>\n<style scoped>\n    .dataframe tbody tr th:only-of-type {\n        vertical-align: middle;\n    }\n\n    .dataframe tbody tr th {\n        vertical-align: top;\n    }\n\n    .dataframe thead th {\n        text-align: right;\n    }\n</style>\n<table border=\"1\" class=\"dataframe\">\n  <thead>\n    <tr style=\"text-align: right;\">\n      <th></th>\n      <th>time</th>\n      <th>song_clip</th>\n      <th>FP1</th>\n      <th>FP2</th>\n      <th>F7</th>\n      <th>F3</th>\n      <th>Fz</th>\n      <th>F4</th>\n      <th>F8</th>\n      <th>T3</th>\n      <th>...</th>\n      <th>T4</th>\n      <th>T5</th>\n      <th>P3</th>\n      <th>Pz</th>\n      <th>P4</th>\n      <th>T6</th>\n      <th>O1</th>\n      <th>O2</th>\n      <th>Number</th>\n      <th>TARGET</th>\n    </tr>\n  </thead>\n  <tbody>\n    <tr>\n      <th>0</th>\n      <td>6620</td>\n      <td>62</td>\n      <td>8.868887</td>\n      <td>13.995650</td>\n      <td>48.229592</td>\n      <td>-54.106238</td>\n      <td>15.502685</td>\n      <td>42.289633</td>\n      <td>72.955059</td>\n      <td>80.907329</td>\n      <td>...</td>\n      <td>72.729358</td>\n      <td>34.853280</td>\n      <td>-46.391721</td>\n      <td>17.050814</td>\n      <td>103.392803</td>\n      <td>72.464162</td>\n      <td>71.068751</td>\n      <td>66.195834</td>\n      <td>62</td>\n      <td>TENDER</td>\n    </tr>\n    <tr>\n      <th>1</th>\n      <td>6621</td>\n      <td>62</td>\n      <td>9.455152</td>\n      <td>13.605077</td>\n      <td>47.808005</td>\n      <td>-52.726093</td>\n      <td>15.035020</td>\n      <td>41.492044</td>\n      <td>72.202536</td>\n      <td>81.627942</td>\n      <td>...</td>\n      <td>72.358054</td>\n      <td>34.539554</td>\n      <td>-45.282516</td>\n      <td>17.441381</td>\n      <td>104.324011</td>\n      <td>72.090361</td>\n      <td>73.072439</td>\n      <td>67.464176</td>\n      <td>62</td>\n      <td>TENDER</td>\n    </tr>\n    <tr>\n      <th>2</th>\n      <td>6622</td>\n      <td>62</td>\n      <td>9.284946</td>\n      <td>11.317438</td>\n      <td>45.862220</td>\n      <td>-53.605935</td>\n      <td>12.001464</td>\n      <td>41.839986</td>\n      <td>72.718974</td>\n      <td>80.096639</td>\n      <td>...</td>\n      <td>75.851451</td>\n      <td>34.631826</td>\n      <td>-45.818382</td>\n      <td>17.103056</td>\n      <td>104.258963</td>\n      <td>73.091614</td>\n      <td>72.219094</td>\n      <td>68.618287</td>\n      <td>62</td>\n      <td>TENDER</td>\n    </tr>\n    <tr>\n      <th>3</th>\n      <td>6623</td>\n      <td>62</td>\n      <td>13.663021</td>\n      <td>12.265971</td>\n      <td>49.851079</td>\n      <td>-53.907842</td>\n      <td>14.452527</td>\n      <td>41.797162</td>\n      <td>71.612323</td>\n      <td>80.659618</td>\n      <td>...</td>\n      <td>73.247092</td>\n      <td>35.050128</td>\n      <td>-46.174376</td>\n      <td>17.533426</td>\n      <td>103.543440</td>\n      <td>72.077011</td>\n      <td>74.197684</td>\n      <td>67.625672</td>\n      <td>62</td>\n      <td>TENDER</td>\n    </tr>\n    <tr>\n      <th>4</th>\n      <td>6624</td>\n      <td>62</td>\n      <td>9.133652</td>\n      <td>11.684098</td>\n      <td>46.835113</td>\n      <td>-51.915258</td>\n      <td>15.166551</td>\n      <td>40.731926</td>\n      <td>69.605595</td>\n      <td>82.393594</td>\n      <td>...</td>\n      <td>71.604986</td>\n      <td>36.520335</td>\n      <td>-45.972021</td>\n      <td>17.297095</td>\n      <td>104.053550</td>\n      <td>71.013459</td>\n      <td>75.339660</td>\n      <td>70.221439</td>\n      <td>62</td>\n      <td>TENDER</td>\n    </tr>\n    <tr>\n      <th>...</th>\n      <td>...</td>\n      <td>...</td>\n      <td>...</td>\n      <td>...</td>\n      <td>...</td>\n      <td>...</td>\n      <td>...</td>\n      <td>...</td>\n      <td>...</td>\n      <td>...</td>\n      <td>...</td>\n      <td>...</td>\n      <td>...</td>\n      <td>...</td>\n      <td>...</td>\n      <td>...</td>\n      <td>...</td>\n      <td>...</td>\n      <td>...</td>\n      <td>...</td>\n      <td>...</td>\n    </tr>\n    <tr>\n      <th>160005</th>\n      <td>649494</td>\n      <td>176</td>\n      <td>-13.910341</td>\n      <td>-1.507692</td>\n      <td>14.113498</td>\n      <td>-17.092483</td>\n      <td>18.291970</td>\n      <td>-10.891891</td>\n      <td>-6.059831</td>\n      <td>25.780412</td>\n      <td>...</td>\n      <td>-13.564874</td>\n      <td>21.584508</td>\n      <td>-12.103794</td>\n      <td>18.341924</td>\n      <td>34.983282</td>\n      <td>-5.411025</td>\n      <td>43.878826</td>\n      <td>21.272136</td>\n      <td>176</td>\n      <td>SURPRISE</td>\n    </tr>\n    <tr>\n      <th>160006</th>\n      <td>649495</td>\n      <td>176</td>\n      <td>-12.633796</td>\n      <td>0.022715</td>\n      <td>14.599945</td>\n      <td>-16.083253</td>\n      <td>18.876550</td>\n      <td>-9.890890</td>\n      <td>-4.421988</td>\n      <td>27.199119</td>\n      <td>...</td>\n      <td>-10.270203</td>\n      <td>21.264630</td>\n      <td>-10.098981</td>\n      <td>18.983747</td>\n      <td>38.153496</td>\n      <td>1.588842</td>\n      <td>45.535320</td>\n      <td>23.993949</td>\n      <td>176</td>\n      <td>SURPRISE</td>\n    </tr>\n    <tr>\n      <th>160007</th>\n      <td>649496</td>\n      <td>176</td>\n      <td>-8.548854</td>\n      <td>0.740093</td>\n      <td>15.378259</td>\n      <td>-16.411037</td>\n      <td>18.757546</td>\n      <td>-12.026716</td>\n      <td>-2.666101</td>\n      <td>23.888802</td>\n      <td>...</td>\n      <td>-10.061018</td>\n      <td>6.568711</td>\n      <td>-16.218345</td>\n      <td>18.817072</td>\n      <td>38.263050</td>\n      <td>3.012845</td>\n      <td>46.924098</td>\n      <td>26.010690</td>\n      <td>176</td>\n      <td>SURPRISE</td>\n    </tr>\n    <tr>\n      <th>160008</th>\n      <td>649497</td>\n      <td>176</td>\n      <td>-10.449487</td>\n      <td>-1.133061</td>\n      <td>14.891812</td>\n      <td>-20.396205</td>\n      <td>18.964237</td>\n      <td>-11.261244</td>\n      <td>-3.861284</td>\n      <td>23.280784</td>\n      <td>...</td>\n      <td>-14.469601</td>\n      <td>-1.132959</td>\n      <td>-19.789536</td>\n      <td>18.545914</td>\n      <td>35.644029</td>\n      <td>-2.607518</td>\n      <td>46.146048</td>\n      <td>23.556725</td>\n      <td>176</td>\n      <td>SURPRISE</td>\n    </tr>\n    <tr>\n      <th>160009</th>\n      <td>649498</td>\n      <td>176</td>\n      <td>-12.473046</td>\n      <td>-4.903283</td>\n      <td>14.729664</td>\n      <td>-19.430103</td>\n      <td>17.592561</td>\n      <td>-15.441896</td>\n      <td>-9.114188</td>\n      <td>27.086523</td>\n      <td>...</td>\n      <td>-14.626490</td>\n      <td>12.886295</td>\n      <td>-16.300786</td>\n      <td>16.981159</td>\n      <td>35.164731</td>\n      <td>-1.575116</td>\n      <td>45.175577</td>\n      <td>24.072728</td>\n      <td>176</td>\n      <td>SURPRISE</td>\n    </tr>\n  </tbody>\n</table>\n<p>160010 rows × 23 columns</p>\n</div>"
     },
     "metadata": {},
     "execution_count": 97
    }
   ],
   "source": [
    "def get_recording_events(subjectnum, trialnum):    \n",
    "    '''returns the recording events of each trial number of each subject'''\n",
    "    trial_events = get_events(subjectnum,trialnum)\n",
    "    te_sample = trial_events[(300<=trial_events['trial_type'])&(trial_events['trial_type']<=660)][['onset','trial_type']]\n",
    "    songtime = te_sample['onset'].to_numpy()\n",
    "    songdict = te_sample.set_index('onset').to_dict()['trial_type']\n",
    "    def get_song_trial_type(searchVal, inputData):\n",
    "        '''returns trial type of song for particular question sequence'''\n",
    "        if searchVal < inputData.min(): return -1\n",
    "        diff = inputData - searchVal\n",
    "        diff[diff>=0] = -np.inf\n",
    "        idx = diff.argmax()\n",
    "        return songdict[inputData[idx]] -300\n",
    "    trial_events['song_clip'] = trial_events.onset.map(lambda x: get_song_trial_type(x,songtime))\n",
    "    trial_events['onset_time'] = (trial_events.onset*1000).astype(int)\n",
    "    # trial_events\n",
    "    record = get_recording(subjectnum,trialnum)\n",
    "    # record\n",
    "    ot = trial_events[trial_events.trial_type.isin([788,1092])].groupby('song_clip').head(2)[['song_clip','onset_time']]\n",
    "    ot\n",
    "    otdf = pd.DataFrame({'song':ot['song_clip'].iloc[::2].values,'start':ot['onset_time'].iloc[::2].values,'end':ot['onset_time'].iloc[1::2].values}).set_index('song')\n",
    "    otdf\n",
    "    df = pd.DataFrame(list(chain.from_iterable(pd.RangeIndex(otdf[\"start\"],otdf[\"end\"]) for _, otdf in otdf.iterrows())),columns=(\"time\",)).merge(ot, how='left', left_on='time',right_on='onset_time').ffill().astype(int).drop(columns='onset_time')\n",
    "    # df.song_clip.plot() # YES THIS IS IT THIS IS WHAT I WANT\n",
    "    set1 = pd.read_csv('data/set1/set1/mean_ratings_set1.csv').drop(columns=['Unnamed: 10', 'Unnamed: 11'])\n",
    "    return df.merge(record, how='left', on='time').merge(set1[['Number', 'TARGET']], left_on='song_clip', right_on='Number')\n",
    "get_recording_events(30,2)"
   ]
  },
  {
   "cell_type": "code",
   "execution_count": null,
   "metadata": {},
   "outputs": [],
   "source": []
  },
  {
   "cell_type": "code",
   "execution_count": null,
   "metadata": {},
   "outputs": [],
   "source": []
  },
  {
   "cell_type": "code",
   "execution_count": 98,
   "metadata": {},
   "outputs": [
    {
     "output_type": "stream",
     "name": "stderr",
     "text": [
      "C:\\Users\\Staro\\.virtualenvs\\project-5NQxielR\\lib\\site-packages\\ipykernel_launcher.py:14: SettingWithCopyWarning: \nA value is trying to be set on a copy of a slice from a DataFrame.\nTry using .loc[row_indexer,col_indexer] = value instead\n\nSee the caveats in the documentation: https://pandas.pydata.org/pandas-docs/stable/user_guide/indexing.html#returning-a-view-versus-a-copy\n  \n"
     ]
    },
    {
     "output_type": "execute_result",
     "data": {
      "text/plain": [
       "     onset  trial_type   trial_name  \\\n",
       "8   22.290         805  Question 06   \n",
       "11  28.402         800  Question 01   \n",
       "20  34.002         801  Question 02   \n",
       "28  39.002         807  Question 08   \n",
       "37  42.002         804  Question 05   \n",
       "\n",
       "                                           trial_desc trial_desc_cleaned  \\\n",
       "8   Question 06 presented to user (The music made ...              happy   \n",
       "11  Question 01 presented to user (The music made ...           pleasent   \n",
       "20  Question 02 presented to user (The music made ...          energetic   \n",
       "28  Question 08 presented to user (The music made ...             tender   \n",
       "37  Question 05 presented to user (The music made ...             afraid   \n",
       "\n",
       "    song_clip  response  \n",
       "8          62        -1  \n",
       "11         62         4  \n",
       "20         62        -4  \n",
       "28         62        -1  \n",
       "37         62        -1  "
      ],
      "text/html": "<div>\n<style scoped>\n    .dataframe tbody tr th:only-of-type {\n        vertical-align: middle;\n    }\n\n    .dataframe tbody tr th {\n        vertical-align: top;\n    }\n\n    .dataframe thead th {\n        text-align: right;\n    }\n</style>\n<table border=\"1\" class=\"dataframe\">\n  <thead>\n    <tr style=\"text-align: right;\">\n      <th></th>\n      <th>onset</th>\n      <th>trial_type</th>\n      <th>trial_name</th>\n      <th>trial_desc</th>\n      <th>trial_desc_cleaned</th>\n      <th>song_clip</th>\n      <th>response</th>\n    </tr>\n  </thead>\n  <tbody>\n    <tr>\n      <th>8</th>\n      <td>22.290</td>\n      <td>805</td>\n      <td>Question 06</td>\n      <td>Question 06 presented to user (The music made ...</td>\n      <td>happy</td>\n      <td>62</td>\n      <td>-1</td>\n    </tr>\n    <tr>\n      <th>11</th>\n      <td>28.402</td>\n      <td>800</td>\n      <td>Question 01</td>\n      <td>Question 01 presented to user (The music made ...</td>\n      <td>pleasent</td>\n      <td>62</td>\n      <td>4</td>\n    </tr>\n    <tr>\n      <th>20</th>\n      <td>34.002</td>\n      <td>801</td>\n      <td>Question 02</td>\n      <td>Question 02 presented to user (The music made ...</td>\n      <td>energetic</td>\n      <td>62</td>\n      <td>-4</td>\n    </tr>\n    <tr>\n      <th>28</th>\n      <td>39.002</td>\n      <td>807</td>\n      <td>Question 08</td>\n      <td>Question 08 presented to user (The music made ...</td>\n      <td>tender</td>\n      <td>62</td>\n      <td>-1</td>\n    </tr>\n    <tr>\n      <th>37</th>\n      <td>42.002</td>\n      <td>804</td>\n      <td>Question 05</td>\n      <td>Question 05 presented to user (The music made ...</td>\n      <td>afraid</td>\n      <td>62</td>\n      <td>-1</td>\n    </tr>\n  </tbody>\n</table>\n</div>"
     },
     "metadata": {},
     "execution_count": 98
    }
   ],
   "source": [
    "def get_q_a(subjectnum, trialnum):\n",
    "    '''this garbage code returns the responses to the questions. positivity vs negativity of response is reflected by the score, the larger the number the stronger the agreement, zero is neutral.'''\n",
    "    # get labeled trial events by adding the respective json file\n",
    "    trialevents = get_events(subjectnum, trialnum)\n",
    "    \n",
    "    df = trialevents[trialevents.trial_name.str.contains('Question')|trialevents.trial_name.str.contains('Answer')|trialevents.trial_name.str.contains('Response')]\n",
    "    df = df[df['trial_name'].str.contains('Question') & ~df['trial_name'].str.contains('hidden')|df['trial_name'].str.contains('Answer')]\n",
    "    df = df[df['trial_name'].shift() != df['trial_name']]\n",
    "    df = df.sort_values(['onset', 'trial_name'])\n",
    "    answer_matrix = {'strongly disagree':-4,'disagree':-3,'somewhat disagree':-2,'slightly disagree':-1,'neither agree nor disagree':0,'slightly agree':1,'somewhat agree':2,'agree':3,'strongly agree':4}\n",
    "    #get question answers\n",
    "    qapair = df[df.trial_desc_cleaned.isin(['pleasent', 'energetic', 'tense', 'angry', 'afraid', 'happy', 'sad', 'tender']) & \n",
    "        df.shift().trial_desc_cleaned.isin(answer_matrix.keys())|df.trial_desc_cleaned.isin(answer_matrix.keys())]\n",
    "    qapair['response'] = qapair.trial_desc_cleaned.shift(-1)\n",
    "    qapair = qapair[qapair['trial_desc_cleaned'].isin(['pleasent', 'energetic', 'tense', 'angry', 'afraid', 'happy', 'sad', 'tender'])]\n",
    "    return qapair.dropna().replace(answer_matrix)#.drop_duplicates('trial_name', 'last').sort_values('trial_name').reset_index(drop=True)\n",
    "s1_2qa = get_q_a(1,2)\n",
    "s1_2qa.head()"
   ]
  },
  {
   "cell_type": "code",
   "execution_count": 99,
   "metadata": {},
   "outputs": [
    {
     "output_type": "execute_result",
     "data": {
      "text/plain": [
       "trial_desc_cleaned  afraid  angry  energetic  happy  pleasent  sad  tender  \\\n",
       "song_clip                                                                    \n",
       "62                     1.5    4.0       -4.0   -1.0       4.0 -4.0    -1.0   \n",
       "113                    NaN    1.0       -4.0    4.0      -4.0 -3.0    -4.0   \n",
       "135                    4.0   -4.0       -4.0   -4.0      -4.0  NaN     3.0   \n",
       "140                   -4.0    4.0        3.0   -4.0       NaN -4.0    -4.0   \n",
       "160                   -4.0   -2.5        3.0    4.0      -1.0  NaN    -4.0   \n",
       "163                    NaN   -4.0       -3.0   -4.0      -4.0 -3.0     4.0   \n",
       "166                    4.0    4.0        2.0   -4.0       NaN  3.0    -4.0   \n",
       "176                   -4.0    NaN       -4.0    NaN      -4.0 -4.0     NaN   \n",
       "333                   -4.0   -2.0        4.0   -1.0       4.0 -4.0    -4.0   \n",
       "357                   -4.0    NaN       -4.0    2.0      -4.0 -4.0    -2.0   \n",
       "\n",
       "trial_desc_cleaned  tense  \n",
       "song_clip                  \n",
       "62                   -4.0  \n",
       "113                  -4.0  \n",
       "135                  -4.0  \n",
       "140                  -4.0  \n",
       "160                   0.0  \n",
       "163                   4.0  \n",
       "166                   3.0  \n",
       "176                  -3.0  \n",
       "333                   NaN  \n",
       "357                  -4.0  "
      ],
      "text/html": "<div>\n<style scoped>\n    .dataframe tbody tr th:only-of-type {\n        vertical-align: middle;\n    }\n\n    .dataframe tbody tr th {\n        vertical-align: top;\n    }\n\n    .dataframe thead th {\n        text-align: right;\n    }\n</style>\n<table border=\"1\" class=\"dataframe\">\n  <thead>\n    <tr style=\"text-align: right;\">\n      <th>trial_desc_cleaned</th>\n      <th>afraid</th>\n      <th>angry</th>\n      <th>energetic</th>\n      <th>happy</th>\n      <th>pleasent</th>\n      <th>sad</th>\n      <th>tender</th>\n      <th>tense</th>\n    </tr>\n    <tr>\n      <th>song_clip</th>\n      <th></th>\n      <th></th>\n      <th></th>\n      <th></th>\n      <th></th>\n      <th></th>\n      <th></th>\n      <th></th>\n    </tr>\n  </thead>\n  <tbody>\n    <tr>\n      <th>62</th>\n      <td>1.5</td>\n      <td>4.0</td>\n      <td>-4.0</td>\n      <td>-1.0</td>\n      <td>4.0</td>\n      <td>-4.0</td>\n      <td>-1.0</td>\n      <td>-4.0</td>\n    </tr>\n    <tr>\n      <th>113</th>\n      <td>NaN</td>\n      <td>1.0</td>\n      <td>-4.0</td>\n      <td>4.0</td>\n      <td>-4.0</td>\n      <td>-3.0</td>\n      <td>-4.0</td>\n      <td>-4.0</td>\n    </tr>\n    <tr>\n      <th>135</th>\n      <td>4.0</td>\n      <td>-4.0</td>\n      <td>-4.0</td>\n      <td>-4.0</td>\n      <td>-4.0</td>\n      <td>NaN</td>\n      <td>3.0</td>\n      <td>-4.0</td>\n    </tr>\n    <tr>\n      <th>140</th>\n      <td>-4.0</td>\n      <td>4.0</td>\n      <td>3.0</td>\n      <td>-4.0</td>\n      <td>NaN</td>\n      <td>-4.0</td>\n      <td>-4.0</td>\n      <td>-4.0</td>\n    </tr>\n    <tr>\n      <th>160</th>\n      <td>-4.0</td>\n      <td>-2.5</td>\n      <td>3.0</td>\n      <td>4.0</td>\n      <td>-1.0</td>\n      <td>NaN</td>\n      <td>-4.0</td>\n      <td>0.0</td>\n    </tr>\n    <tr>\n      <th>163</th>\n      <td>NaN</td>\n      <td>-4.0</td>\n      <td>-3.0</td>\n      <td>-4.0</td>\n      <td>-4.0</td>\n      <td>-3.0</td>\n      <td>4.0</td>\n      <td>4.0</td>\n    </tr>\n    <tr>\n      <th>166</th>\n      <td>4.0</td>\n      <td>4.0</td>\n      <td>2.0</td>\n      <td>-4.0</td>\n      <td>NaN</td>\n      <td>3.0</td>\n      <td>-4.0</td>\n      <td>3.0</td>\n    </tr>\n    <tr>\n      <th>176</th>\n      <td>-4.0</td>\n      <td>NaN</td>\n      <td>-4.0</td>\n      <td>NaN</td>\n      <td>-4.0</td>\n      <td>-4.0</td>\n      <td>NaN</td>\n      <td>-3.0</td>\n    </tr>\n    <tr>\n      <th>333</th>\n      <td>-4.0</td>\n      <td>-2.0</td>\n      <td>4.0</td>\n      <td>-1.0</td>\n      <td>4.0</td>\n      <td>-4.0</td>\n      <td>-4.0</td>\n      <td>NaN</td>\n    </tr>\n    <tr>\n      <th>357</th>\n      <td>-4.0</td>\n      <td>NaN</td>\n      <td>-4.0</td>\n      <td>2.0</td>\n      <td>-4.0</td>\n      <td>-4.0</td>\n      <td>-2.0</td>\n      <td>-4.0</td>\n    </tr>\n  </tbody>\n</table>\n</div>"
     },
     "metadata": {},
     "execution_count": 99
    }
   ],
   "source": [
    "# ive done it, but at what cost\n",
    "s1_2qa.pivot_table(index='song_clip', columns='trial_desc_cleaned')['response']"
   ]
  },
  {
   "cell_type": "code",
   "execution_count": 100,
   "metadata": {},
   "outputs": [
    {
     "output_type": "execute_result",
     "data": {
      "text/plain": [
       "array([1.  , 1.17, 1.2 , 1.33, 1.4 , 1.5 , 1.6 , 1.67, 1.8 , 1.83, 2.  ,\n",
       "       2.17, 2.2 , 2.33, 2.4 , 2.5 , 2.6 , 2.67, 2.8 , 2.83, 3.  , 3.17,\n",
       "       3.2 , 3.33, 3.4 , 3.5 , 3.6 , 3.67, 3.8 , 3.83, 4.  , 4.17, 4.2 ,\n",
       "       4.33, 4.4 , 4.5 , 4.6 , 4.67, 4.8 , 4.83, 5.  , 5.17, 5.2 , 5.33,\n",
       "       5.4 , 5.5 , 5.6 , 5.67, 5.8 , 5.83, 6.  , 6.17, 6.2 , 6.33, 6.4 ,\n",
       "       6.5 , 6.6 , 6.67, 6.8 , 6.83, 7.  , 7.17, 7.2 , 7.33, 7.4 , 7.5 ,\n",
       "       7.6 , 7.67, 7.8 , 7.83])"
      ]
     },
     "metadata": {},
     "execution_count": 100
    }
   ],
   "source": [
    "# does this go from 1-7 or 1-8\n",
    "mean_ratings = pd.read_csv('data\\set1\\set1\\mean_ratings_set1.csv').drop(['Unnamed: 10', 'Unnamed: 11'],axis=1) \n",
    "np.unique(mean_ratings[['valence','energy','tension','anger','fear','happy','sad','tender']].to_numpy().flatten())"
   ]
  },
  {
   "source": [
    "## --caution tape for the prototyping garbage below--"
   ],
   "cell_type": "markdown",
   "metadata": {}
  },
  {
   "cell_type": "code",
   "execution_count": 101,
   "metadata": {
    "tags": []
   },
   "outputs": [
    {
     "output_type": "stream",
     "name": "stdout",
     "text": [
      "1 Extracting EDF parameters from c:\\Users\\Staro\\Documents\\GitHub\\COGS189-final-project\\data\\sub-01\\eeg\\sub-01_task-run2_eeg.edf...\n",
      "EDF file detected\n",
      "Setting channel info structure...\n",
      "Creating raw.info structure...\n",
      "<ipython-input-94-2cc7e562e588>:5: RuntimeWarning: Invalid date encountered (2014-00-00 00:00:00).\n",
      "  data = mne.io.read_raw_edf(file)\n",
      "(160010, 23)\n",
      "Extracting EDF parameters from c:\\Users\\Staro\\Documents\\GitHub\\COGS189-final-project\\data\\sub-01\\eeg\\sub-01_task-run3_eeg.edf...\n",
      "EDF file detected\n",
      "Setting channel info structure...\n",
      "Creating raw.info structure...\n",
      "<ipython-input-94-2cc7e562e588>:5: RuntimeWarning: Invalid date encountered (2014-00-00 00:00:00).\n",
      "  data = mne.io.read_raw_edf(file)\n",
      "(160009, 23)\n",
      "Extracting EDF parameters from c:\\Users\\Staro\\Documents\\GitHub\\COGS189-final-project\\data\\sub-01\\eeg\\sub-01_task-run4_eeg.edf...\n",
      "EDF file detected\n",
      "Setting channel info structure...\n",
      "Creating raw.info structure...\n",
      "<ipython-input-94-2cc7e562e588>:5: RuntimeWarning: Invalid date encountered (2014-00-00 00:00:00).\n",
      "  data = mne.io.read_raw_edf(file)\n",
      "(160011, 23)\n",
      "Extracting EDF parameters from c:\\Users\\Staro\\Documents\\GitHub\\COGS189-final-project\\data\\sub-01\\eeg\\sub-01_task-run5_eeg.edf...\n",
      "EDF file detected\n",
      "Setting channel info structure...\n",
      "Creating raw.info structure...\n",
      "<ipython-input-94-2cc7e562e588>:5: RuntimeWarning: Invalid date encountered (2014-00-00 00:00:00).\n",
      "  data = mne.io.read_raw_edf(file)\n",
      "(160010, 23)\n",
      "2 Extracting EDF parameters from c:\\Users\\Staro\\Documents\\GitHub\\COGS189-final-project\\data\\sub-02\\eeg\\sub-02_task-run2_eeg.edf...\n",
      "EDF file detected\n",
      "Setting channel info structure...\n",
      "Creating raw.info structure...\n",
      "<ipython-input-94-2cc7e562e588>:5: RuntimeWarning: Invalid date encountered (2014-00-00 00:00:00).\n",
      "  data = mne.io.read_raw_edf(file)\n",
      "(152557, 23)\n",
      "Extracting EDF parameters from c:\\Users\\Staro\\Documents\\GitHub\\COGS189-final-project\\data\\sub-02\\eeg\\sub-02_task-run3_eeg.edf...\n",
      "EDF file detected\n",
      "Setting channel info structure...\n",
      "Creating raw.info structure...\n",
      "<ipython-input-94-2cc7e562e588>:5: RuntimeWarning: Invalid date encountered (2014-00-00 00:00:00).\n",
      "  data = mne.io.read_raw_edf(file)\n",
      "(160010, 23)\n",
      "Extracting EDF parameters from c:\\Users\\Staro\\Documents\\GitHub\\COGS189-final-project\\data\\sub-02\\eeg\\sub-02_task-run4_eeg.edf...\n",
      "EDF file detected\n",
      "Setting channel info structure...\n",
      "Creating raw.info structure...\n",
      "<ipython-input-94-2cc7e562e588>:5: RuntimeWarning: Invalid date encountered (2014-00-00 00:00:00).\n",
      "  data = mne.io.read_raw_edf(file)\n",
      "(160010, 23)\n",
      "Extracting EDF parameters from c:\\Users\\Staro\\Documents\\GitHub\\COGS189-final-project\\data\\sub-02\\eeg\\sub-02_task-run5_eeg.edf...\n",
      "EDF file detected\n",
      "Setting channel info structure...\n",
      "Creating raw.info structure...\n",
      "<ipython-input-94-2cc7e562e588>:5: RuntimeWarning: Invalid date encountered (2014-00-00 00:00:00).\n",
      "  data = mne.io.read_raw_edf(file)\n",
      "(160010, 23)\n",
      "3 Extracting EDF parameters from c:\\Users\\Staro\\Documents\\GitHub\\COGS189-final-project\\data\\sub-03\\eeg\\sub-03_task-run2_eeg.edf...\n",
      "EDF file detected\n",
      "Setting channel info structure...\n",
      "Creating raw.info structure...\n",
      "<ipython-input-94-2cc7e562e588>:5: RuntimeWarning: Invalid date encountered (2014-00-00 00:00:00).\n",
      "  data = mne.io.read_raw_edf(file)\n",
      "(160011, 23)\n",
      "Extracting EDF parameters from c:\\Users\\Staro\\Documents\\GitHub\\COGS189-final-project\\data\\sub-03\\eeg\\sub-03_task-run3_eeg.edf...\n",
      "EDF file detected\n",
      "Setting channel info structure...\n",
      "Creating raw.info structure...\n",
      "<ipython-input-94-2cc7e562e588>:5: RuntimeWarning: Invalid date encountered (2014-00-00 00:00:00).\n",
      "  data = mne.io.read_raw_edf(file)\n",
      "(160010, 23)\n",
      "Extracting EDF parameters from c:\\Users\\Staro\\Documents\\GitHub\\COGS189-final-project\\data\\sub-03\\eeg\\sub-03_task-run4_eeg.edf...\n",
      "EDF file detected\n",
      "Setting channel info structure...\n",
      "Creating raw.info structure...\n",
      "<ipython-input-94-2cc7e562e588>:5: RuntimeWarning: Invalid date encountered (2014-00-00 00:00:00).\n",
      "  data = mne.io.read_raw_edf(file)\n",
      "(157149, 23)\n",
      "Extracting EDF parameters from c:\\Users\\Staro\\Documents\\GitHub\\COGS189-final-project\\data\\sub-03\\eeg\\sub-03_task-run5_eeg.edf...\n",
      "EDF file detected\n",
      "Setting channel info structure...\n",
      "Creating raw.info structure...\n",
      "<ipython-input-94-2cc7e562e588>:5: RuntimeWarning: Invalid date encountered (2014-00-00 00:00:00).\n",
      "  data = mne.io.read_raw_edf(file)\n",
      "(160009, 23)\n",
      "4 Extracting EDF parameters from c:\\Users\\Staro\\Documents\\GitHub\\COGS189-final-project\\data\\sub-04\\eeg\\sub-04_task-run2_eeg.edf...\n",
      "EDF file detected\n",
      "Setting channel info structure...\n",
      "Creating raw.info structure...\n",
      "<ipython-input-94-2cc7e562e588>:5: RuntimeWarning: Invalid date encountered (2014-00-00 00:00:00).\n",
      "  data = mne.io.read_raw_edf(file)\n",
      "(160010, 23)\n",
      "Extracting EDF parameters from c:\\Users\\Staro\\Documents\\GitHub\\COGS189-final-project\\data\\sub-04\\eeg\\sub-04_task-run3_eeg.edf...\n",
      "EDF file detected\n",
      "Setting channel info structure...\n",
      "Creating raw.info structure...\n",
      "<ipython-input-94-2cc7e562e588>:5: RuntimeWarning: Invalid date encountered (2014-00-00 00:00:00).\n",
      "  data = mne.io.read_raw_edf(file)\n",
      "(154106, 23)\n",
      "Extracting EDF parameters from c:\\Users\\Staro\\Documents\\GitHub\\COGS189-final-project\\data\\sub-04\\eeg\\sub-04_task-run4_eeg.edf...\n",
      "EDF file detected\n",
      "Setting channel info structure...\n",
      "Creating raw.info structure...\n",
      "<ipython-input-94-2cc7e562e588>:5: RuntimeWarning: Invalid date encountered (2014-00-00 00:00:00).\n",
      "  data = mne.io.read_raw_edf(file)\n",
      "(159009, 23)\n",
      "Extracting EDF parameters from c:\\Users\\Staro\\Documents\\GitHub\\COGS189-final-project\\data\\sub-04\\eeg\\sub-04_task-run5_eeg.edf...\n",
      "EDF file detected\n",
      "Setting channel info structure...\n",
      "Creating raw.info structure...\n",
      "<ipython-input-94-2cc7e562e588>:5: RuntimeWarning: Invalid date encountered (2014-00-00 00:00:00).\n",
      "  data = mne.io.read_raw_edf(file)\n",
      "(153529, 23)\n",
      "5 Extracting EDF parameters from c:\\Users\\Staro\\Documents\\GitHub\\COGS189-final-project\\data\\sub-05\\eeg\\sub-05_task-run2_eeg.edf...\n",
      "EDF file detected\n",
      "Setting channel info structure...\n",
      "Creating raw.info structure...\n",
      "<ipython-input-94-2cc7e562e588>:5: RuntimeWarning: Invalid date encountered (2014-00-00 00:00:00).\n",
      "  data = mne.io.read_raw_edf(file)\n",
      "(160010, 23)\n",
      "Extracting EDF parameters from c:\\Users\\Staro\\Documents\\GitHub\\COGS189-final-project\\data\\sub-05\\eeg\\sub-05_task-run3_eeg.edf...\n",
      "EDF file detected\n",
      "Setting channel info structure...\n",
      "Creating raw.info structure...\n",
      "<ipython-input-94-2cc7e562e588>:5: RuntimeWarning: Invalid date encountered (2014-00-00 00:00:00).\n",
      "  data = mne.io.read_raw_edf(file)\n",
      "(160010, 23)\n",
      "Extracting EDF parameters from c:\\Users\\Staro\\Documents\\GitHub\\COGS189-final-project\\data\\sub-05\\eeg\\sub-05_task-run4_eeg.edf...\n",
      "EDF file detected\n",
      "Setting channel info structure...\n",
      "Creating raw.info structure...\n",
      "<ipython-input-94-2cc7e562e588>:5: RuntimeWarning: Invalid date encountered (2014-00-00 00:00:00).\n",
      "  data = mne.io.read_raw_edf(file)\n",
      "(160011, 23)\n",
      "Extracting EDF parameters from c:\\Users\\Staro\\Documents\\GitHub\\COGS189-final-project\\data\\sub-05\\eeg\\sub-05_task-run5_eeg.edf...\n",
      "EDF file detected\n",
      "Setting channel info structure...\n",
      "Creating raw.info structure...\n",
      "<ipython-input-94-2cc7e562e588>:5: RuntimeWarning: Invalid date encountered (2014-00-00 00:00:00).\n",
      "  data = mne.io.read_raw_edf(file)\n",
      "(153582, 23)\n",
      "6 Extracting EDF parameters from c:\\Users\\Staro\\Documents\\GitHub\\COGS189-final-project\\data\\sub-06\\eeg\\sub-06_task-run2_eeg.edf...\n",
      "EDF file detected\n",
      "Setting channel info structure...\n",
      "Creating raw.info structure...\n",
      "<ipython-input-94-2cc7e562e588>:5: RuntimeWarning: Invalid date encountered (2014-00-00 00:00:00).\n",
      "  data = mne.io.read_raw_edf(file)\n",
      "(160010, 23)\n",
      "Extracting EDF parameters from c:\\Users\\Staro\\Documents\\GitHub\\COGS189-final-project\\data\\sub-06\\eeg\\sub-06_task-run3_eeg.edf...\n",
      "EDF file detected\n",
      "Setting channel info structure...\n",
      "Creating raw.info structure...\n",
      "<ipython-input-94-2cc7e562e588>:5: RuntimeWarning: Invalid date encountered (2014-00-00 00:00:00).\n",
      "  data = mne.io.read_raw_edf(file)\n",
      "(160010, 23)\n",
      "Extracting EDF parameters from c:\\Users\\Staro\\Documents\\GitHub\\COGS189-final-project\\data\\sub-06\\eeg\\sub-06_task-run4_eeg.edf...\n",
      "EDF file detected\n",
      "Setting channel info structure...\n",
      "Creating raw.info structure...\n",
      "<ipython-input-94-2cc7e562e588>:5: RuntimeWarning: Invalid date encountered (2014-00-00 00:00:00).\n",
      "  data = mne.io.read_raw_edf(file)\n",
      "(160010, 23)\n",
      "Extracting EDF parameters from c:\\Users\\Staro\\Documents\\GitHub\\COGS189-final-project\\data\\sub-06\\eeg\\sub-06_task-run5_eeg.edf...\n",
      "EDF file detected\n",
      "Setting channel info structure...\n",
      "Creating raw.info structure...\n",
      "<ipython-input-94-2cc7e562e588>:5: RuntimeWarning: Invalid date encountered (2014-00-00 00:00:00).\n",
      "  data = mne.io.read_raw_edf(file)\n",
      "(160010, 23)\n",
      "7 Extracting EDF parameters from c:\\Users\\Staro\\Documents\\GitHub\\COGS189-final-project\\data\\sub-07\\eeg\\sub-07_task-run2_eeg.edf...\n",
      "EDF file detected\n",
      "Setting channel info structure...\n",
      "Creating raw.info structure...\n",
      "<ipython-input-94-2cc7e562e588>:5: RuntimeWarning: Invalid date encountered (2014-00-00 00:00:00).\n",
      "  data = mne.io.read_raw_edf(file)\n",
      "(160010, 23)\n",
      "Extracting EDF parameters from c:\\Users\\Staro\\Documents\\GitHub\\COGS189-final-project\\data\\sub-07\\eeg\\sub-07_task-run3_eeg.edf...\n",
      "EDF file detected\n",
      "Setting channel info structure...\n",
      "Creating raw.info structure...\n",
      "<ipython-input-94-2cc7e562e588>:5: RuntimeWarning: Invalid date encountered (2014-00-00 00:00:00).\n",
      "  data = mne.io.read_raw_edf(file)\n",
      "(160010, 23)\n",
      "Extracting EDF parameters from c:\\Users\\Staro\\Documents\\GitHub\\COGS189-final-project\\data\\sub-07\\eeg\\sub-07_task-run4_eeg.edf...\n",
      "EDF file detected\n",
      "Setting channel info structure...\n",
      "Creating raw.info structure...\n",
      "<ipython-input-94-2cc7e562e588>:5: RuntimeWarning: Invalid date encountered (2014-00-00 00:00:00).\n",
      "  data = mne.io.read_raw_edf(file)\n",
      "(160010, 23)\n",
      "Extracting EDF parameters from c:\\Users\\Staro\\Documents\\GitHub\\COGS189-final-project\\data\\sub-07\\eeg\\sub-07_task-run5_eeg.edf...\n",
      "EDF file detected\n",
      "Setting channel info structure...\n",
      "Creating raw.info structure...\n",
      "<ipython-input-94-2cc7e562e588>:5: RuntimeWarning: Invalid date encountered (2014-00-00 00:00:00).\n",
      "  data = mne.io.read_raw_edf(file)\n",
      "(154550, 23)\n",
      "8 Extracting EDF parameters from c:\\Users\\Staro\\Documents\\GitHub\\COGS189-final-project\\data\\sub-08\\eeg\\sub-08_task-run2_eeg.edf...\n",
      "EDF file detected\n",
      "Setting channel info structure...\n",
      "Creating raw.info structure...\n",
      "<ipython-input-94-2cc7e562e588>:5: RuntimeWarning: Invalid date encountered (2014-00-00 00:00:00).\n",
      "  data = mne.io.read_raw_edf(file)\n",
      "(160010, 23)\n",
      "Extracting EDF parameters from c:\\Users\\Staro\\Documents\\GitHub\\COGS189-final-project\\data\\sub-08\\eeg\\sub-08_task-run3_eeg.edf...\n",
      "EDF file detected\n",
      "Setting channel info structure...\n",
      "Creating raw.info structure...\n",
      "<ipython-input-94-2cc7e562e588>:5: RuntimeWarning: Invalid date encountered (2014-00-00 00:00:00).\n",
      "  data = mne.io.read_raw_edf(file)\n",
      "(160011, 23)\n",
      "Extracting EDF parameters from c:\\Users\\Staro\\Documents\\GitHub\\COGS189-final-project\\data\\sub-08\\eeg\\sub-08_task-run4_eeg.edf...\n",
      "EDF file detected\n",
      "Setting channel info structure...\n",
      "Creating raw.info structure...\n",
      "<ipython-input-94-2cc7e562e588>:5: RuntimeWarning: Invalid date encountered (2014-00-00 00:00:00).\n",
      "  data = mne.io.read_raw_edf(file)\n",
      "(160010, 23)\n",
      "Extracting EDF parameters from c:\\Users\\Staro\\Documents\\GitHub\\COGS189-final-project\\data\\sub-08\\eeg\\sub-08_task-run5_eeg.edf...\n",
      "EDF file detected\n",
      "Setting channel info structure...\n",
      "Creating raw.info structure...\n",
      "<ipython-input-94-2cc7e562e588>:5: RuntimeWarning: Invalid date encountered (2014-00-00 00:00:00).\n",
      "  data = mne.io.read_raw_edf(file)\n",
      "(160010, 23)\n",
      "9 Extracting EDF parameters from c:\\Users\\Staro\\Documents\\GitHub\\COGS189-final-project\\data\\sub-09\\eeg\\sub-09_task-run2_eeg.edf...\n",
      "EDF file detected\n",
      "Setting channel info structure...\n",
      "Creating raw.info structure...\n",
      "<ipython-input-94-2cc7e562e588>:5: RuntimeWarning: Invalid date encountered (2014-00-00 00:00:00).\n",
      "  data = mne.io.read_raw_edf(file)\n",
      "(160010, 23)\n",
      "Extracting EDF parameters from c:\\Users\\Staro\\Documents\\GitHub\\COGS189-final-project\\data\\sub-09\\eeg\\sub-09_task-run3_eeg.edf...\n",
      "EDF file detected\n",
      "Setting channel info structure...\n",
      "Creating raw.info structure...\n",
      "<ipython-input-94-2cc7e562e588>:5: RuntimeWarning: Invalid date encountered (2014-00-00 00:00:00).\n",
      "  data = mne.io.read_raw_edf(file)\n",
      "(160010, 23)\n",
      "Extracting EDF parameters from c:\\Users\\Staro\\Documents\\GitHub\\COGS189-final-project\\data\\sub-09\\eeg\\sub-09_task-run4_eeg.edf...\n",
      "EDF file detected\n",
      "Setting channel info structure...\n",
      "Creating raw.info structure...\n",
      "<ipython-input-94-2cc7e562e588>:5: RuntimeWarning: Invalid date encountered (2014-00-00 00:00:00).\n",
      "  data = mne.io.read_raw_edf(file)\n",
      "(160010, 23)\n",
      "Extracting EDF parameters from c:\\Users\\Staro\\Documents\\GitHub\\COGS189-final-project\\data\\sub-09\\eeg\\sub-09_task-run5_eeg.edf...\n",
      "EDF file detected\n",
      "Setting channel info structure...\n",
      "Creating raw.info structure...\n",
      "<ipython-input-94-2cc7e562e588>:5: RuntimeWarning: Invalid date encountered (2014-00-00 00:00:00).\n",
      "  data = mne.io.read_raw_edf(file)\n",
      "(154429, 23)\n",
      "10 Extracting EDF parameters from c:\\Users\\Staro\\Documents\\GitHub\\COGS189-final-project\\data\\sub-10\\eeg\\sub-10_task-run2_eeg.edf...\n",
      "EDF file detected\n",
      "Setting channel info structure...\n",
      "Creating raw.info structure...\n",
      "<ipython-input-94-2cc7e562e588>:5: RuntimeWarning: Invalid date encountered (2014-00-00 00:00:00).\n",
      "  data = mne.io.read_raw_edf(file)\n",
      "(160010, 23)\n",
      "Extracting EDF parameters from c:\\Users\\Staro\\Documents\\GitHub\\COGS189-final-project\\data\\sub-10\\eeg\\sub-10_task-run3_eeg.edf...\n",
      "EDF file detected\n",
      "Setting channel info structure...\n",
      "Creating raw.info structure...\n",
      "<ipython-input-94-2cc7e562e588>:5: RuntimeWarning: Invalid date encountered (2014-00-00 00:00:00).\n",
      "  data = mne.io.read_raw_edf(file)\n",
      "(160010, 23)\n",
      "Extracting EDF parameters from c:\\Users\\Staro\\Documents\\GitHub\\COGS189-final-project\\data\\sub-10\\eeg\\sub-10_task-run4_eeg.edf...\n",
      "EDF file detected\n",
      "Setting channel info structure...\n",
      "Creating raw.info structure...\n",
      "<ipython-input-94-2cc7e562e588>:5: RuntimeWarning: Invalid date encountered (2014-00-00 00:00:00).\n",
      "  data = mne.io.read_raw_edf(file)\n",
      "(160010, 23)\n",
      "Extracting EDF parameters from c:\\Users\\Staro\\Documents\\GitHub\\COGS189-final-project\\data\\sub-10\\eeg\\sub-10_task-run5_eeg.edf...\n",
      "EDF file detected\n",
      "Setting channel info structure...\n",
      "Creating raw.info structure...\n",
      "<ipython-input-94-2cc7e562e588>:5: RuntimeWarning: Invalid date encountered (2014-00-00 00:00:00).\n",
      "  data = mne.io.read_raw_edf(file)\n"
     ]
    },
    {
     "output_type": "error",
     "ename": "KeyboardInterrupt",
     "evalue": "",
     "traceback": [
      "\u001b[1;31m---------------------------------------------------------------------------\u001b[0m",
      "\u001b[1;31mKeyboardInterrupt\u001b[0m                         Traceback (most recent call last)",
      "\u001b[1;32m<ipython-input-101-322279ab387a>\u001b[0m in \u001b[0;36m<module>\u001b[1;34m\u001b[0m\n\u001b[0;32m      2\u001b[0m     \u001b[0mprint\u001b[0m\u001b[1;33m(\u001b[0m\u001b[0mi\u001b[0m\u001b[1;33m,\u001b[0m \u001b[0mend\u001b[0m\u001b[1;33m=\u001b[0m\u001b[1;34m' '\u001b[0m\u001b[1;33m)\u001b[0m\u001b[1;33m\u001b[0m\u001b[1;33m\u001b[0m\u001b[0m\n\u001b[0;32m      3\u001b[0m     \u001b[1;32mfor\u001b[0m \u001b[0mj\u001b[0m \u001b[1;32min\u001b[0m \u001b[0mrange\u001b[0m\u001b[1;33m(\u001b[0m\u001b[1;36m2\u001b[0m\u001b[1;33m,\u001b[0m\u001b[1;36m6\u001b[0m\u001b[1;33m)\u001b[0m\u001b[1;33m:\u001b[0m\u001b[1;33m\u001b[0m\u001b[1;33m\u001b[0m\u001b[0m\n\u001b[1;32m----> 4\u001b[1;33m         \u001b[0mre\u001b[0m \u001b[1;33m=\u001b[0m \u001b[0mget_recording_events\u001b[0m\u001b[1;33m(\u001b[0m\u001b[0mi\u001b[0m\u001b[1;33m,\u001b[0m\u001b[0mj\u001b[0m\u001b[1;33m)\u001b[0m\u001b[1;33m\u001b[0m\u001b[1;33m\u001b[0m\u001b[0m\n\u001b[0m\u001b[0;32m      5\u001b[0m         \u001b[0mprint\u001b[0m\u001b[1;33m(\u001b[0m\u001b[0mre\u001b[0m\u001b[1;33m.\u001b[0m\u001b[0mshape\u001b[0m\u001b[1;33m)\u001b[0m\u001b[1;33m\u001b[0m\u001b[1;33m\u001b[0m\u001b[0m\n",
      "\u001b[1;32m<ipython-input-97-7f54689353f4>\u001b[0m in \u001b[0;36mget_recording_events\u001b[1;34m(subjectnum, trialnum)\u001b[0m\n\u001b[0;32m     23\u001b[0m     \u001b[0mdf\u001b[0m \u001b[1;33m=\u001b[0m \u001b[0mpd\u001b[0m\u001b[1;33m.\u001b[0m\u001b[0mDataFrame\u001b[0m\u001b[1;33m(\u001b[0m\u001b[0mlist\u001b[0m\u001b[1;33m(\u001b[0m\u001b[0mchain\u001b[0m\u001b[1;33m.\u001b[0m\u001b[0mfrom_iterable\u001b[0m\u001b[1;33m(\u001b[0m\u001b[0mpd\u001b[0m\u001b[1;33m.\u001b[0m\u001b[0mRangeIndex\u001b[0m\u001b[1;33m(\u001b[0m\u001b[0motdf\u001b[0m\u001b[1;33m[\u001b[0m\u001b[1;34m\"start\"\u001b[0m\u001b[1;33m]\u001b[0m\u001b[1;33m,\u001b[0m\u001b[0motdf\u001b[0m\u001b[1;33m[\u001b[0m\u001b[1;34m\"end\"\u001b[0m\u001b[1;33m]\u001b[0m\u001b[1;33m)\u001b[0m \u001b[1;32mfor\u001b[0m \u001b[0m_\u001b[0m\u001b[1;33m,\u001b[0m \u001b[0motdf\u001b[0m \u001b[1;32min\u001b[0m \u001b[0motdf\u001b[0m\u001b[1;33m.\u001b[0m\u001b[0miterrows\u001b[0m\u001b[1;33m(\u001b[0m\u001b[1;33m)\u001b[0m\u001b[1;33m)\u001b[0m\u001b[1;33m)\u001b[0m\u001b[1;33m,\u001b[0m\u001b[0mcolumns\u001b[0m\u001b[1;33m=\u001b[0m\u001b[1;33m(\u001b[0m\u001b[1;34m\"time\"\u001b[0m\u001b[1;33m,\u001b[0m\u001b[1;33m)\u001b[0m\u001b[1;33m)\u001b[0m\u001b[1;33m.\u001b[0m\u001b[0mmerge\u001b[0m\u001b[1;33m(\u001b[0m\u001b[0mot\u001b[0m\u001b[1;33m,\u001b[0m \u001b[0mhow\u001b[0m\u001b[1;33m=\u001b[0m\u001b[1;34m'left'\u001b[0m\u001b[1;33m,\u001b[0m \u001b[0mleft_on\u001b[0m\u001b[1;33m=\u001b[0m\u001b[1;34m'time'\u001b[0m\u001b[1;33m,\u001b[0m\u001b[0mright_on\u001b[0m\u001b[1;33m=\u001b[0m\u001b[1;34m'onset_time'\u001b[0m\u001b[1;33m)\u001b[0m\u001b[1;33m.\u001b[0m\u001b[0mffill\u001b[0m\u001b[1;33m(\u001b[0m\u001b[1;33m)\u001b[0m\u001b[1;33m.\u001b[0m\u001b[0mastype\u001b[0m\u001b[1;33m(\u001b[0m\u001b[0mint\u001b[0m\u001b[1;33m)\u001b[0m\u001b[1;33m.\u001b[0m\u001b[0mdrop\u001b[0m\u001b[1;33m(\u001b[0m\u001b[0mcolumns\u001b[0m\u001b[1;33m=\u001b[0m\u001b[1;34m'onset_time'\u001b[0m\u001b[1;33m)\u001b[0m\u001b[1;33m\u001b[0m\u001b[1;33m\u001b[0m\u001b[0m\n\u001b[0;32m     24\u001b[0m     \u001b[1;31m# df.song_clip.plot() # YES THIS IS IT THIS IS WHAT I WANT\u001b[0m\u001b[1;33m\u001b[0m\u001b[1;33m\u001b[0m\u001b[1;33m\u001b[0m\u001b[0m\n\u001b[1;32m---> 25\u001b[1;33m     \u001b[1;32mreturn\u001b[0m \u001b[0mdf\u001b[0m\u001b[1;33m.\u001b[0m\u001b[0mmerge\u001b[0m\u001b[1;33m(\u001b[0m\u001b[0mrecord\u001b[0m\u001b[1;33m,\u001b[0m \u001b[0mhow\u001b[0m\u001b[1;33m=\u001b[0m\u001b[1;34m'left'\u001b[0m\u001b[1;33m,\u001b[0m \u001b[0mon\u001b[0m\u001b[1;33m=\u001b[0m\u001b[1;34m'time'\u001b[0m\u001b[1;33m)\u001b[0m\u001b[1;33m.\u001b[0m\u001b[0mmerge\u001b[0m\u001b[1;33m(\u001b[0m\u001b[0mset1\u001b[0m\u001b[1;33m[\u001b[0m\u001b[1;33m[\u001b[0m\u001b[1;34m'Number'\u001b[0m\u001b[1;33m,\u001b[0m \u001b[1;34m'TARGET'\u001b[0m\u001b[1;33m]\u001b[0m\u001b[1;33m]\u001b[0m\u001b[1;33m,\u001b[0m \u001b[0mleft_on\u001b[0m\u001b[1;33m=\u001b[0m\u001b[1;34m'song_clip'\u001b[0m\u001b[1;33m,\u001b[0m \u001b[0mright_on\u001b[0m\u001b[1;33m=\u001b[0m\u001b[1;34m'Number'\u001b[0m\u001b[1;33m)\u001b[0m\u001b[1;33m\u001b[0m\u001b[1;33m\u001b[0m\u001b[0m\n\u001b[0m\u001b[0;32m     26\u001b[0m \u001b[0mget_recording_events\u001b[0m\u001b[1;33m(\u001b[0m\u001b[1;36m30\u001b[0m\u001b[1;33m,\u001b[0m\u001b[1;36m2\u001b[0m\u001b[1;33m)\u001b[0m\u001b[1;33m\u001b[0m\u001b[1;33m\u001b[0m\u001b[0m\n",
      "\u001b[1;32m~\\.virtualenvs\\project-5NQxielR\\lib\\site-packages\\pandas\\core\\frame.py\u001b[0m in \u001b[0;36mmerge\u001b[1;34m(self, right, how, on, left_on, right_on, left_index, right_index, sort, suffixes, copy, indicator, validate)\u001b[0m\n\u001b[0;32m   8203\u001b[0m             \u001b[0mcopy\u001b[0m\u001b[1;33m=\u001b[0m\u001b[0mcopy\u001b[0m\u001b[1;33m,\u001b[0m\u001b[1;33m\u001b[0m\u001b[1;33m\u001b[0m\u001b[0m\n\u001b[0;32m   8204\u001b[0m             \u001b[0mindicator\u001b[0m\u001b[1;33m=\u001b[0m\u001b[0mindicator\u001b[0m\u001b[1;33m,\u001b[0m\u001b[1;33m\u001b[0m\u001b[1;33m\u001b[0m\u001b[0m\n\u001b[1;32m-> 8205\u001b[1;33m             \u001b[0mvalidate\u001b[0m\u001b[1;33m=\u001b[0m\u001b[0mvalidate\u001b[0m\u001b[1;33m,\u001b[0m\u001b[1;33m\u001b[0m\u001b[1;33m\u001b[0m\u001b[0m\n\u001b[0m\u001b[0;32m   8206\u001b[0m         )\n\u001b[0;32m   8207\u001b[0m \u001b[1;33m\u001b[0m\u001b[0m\n",
      "\u001b[1;32m~\\.virtualenvs\\project-5NQxielR\\lib\\site-packages\\pandas\\core\\reshape\\merge.py\u001b[0m in \u001b[0;36mmerge\u001b[1;34m(left, right, how, on, left_on, right_on, left_index, right_index, sort, suffixes, copy, indicator, validate)\u001b[0m\n\u001b[0;32m     85\u001b[0m         \u001b[0mcopy\u001b[0m\u001b[1;33m=\u001b[0m\u001b[0mcopy\u001b[0m\u001b[1;33m,\u001b[0m\u001b[1;33m\u001b[0m\u001b[1;33m\u001b[0m\u001b[0m\n\u001b[0;32m     86\u001b[0m         \u001b[0mindicator\u001b[0m\u001b[1;33m=\u001b[0m\u001b[0mindicator\u001b[0m\u001b[1;33m,\u001b[0m\u001b[1;33m\u001b[0m\u001b[1;33m\u001b[0m\u001b[0m\n\u001b[1;32m---> 87\u001b[1;33m         \u001b[0mvalidate\u001b[0m\u001b[1;33m=\u001b[0m\u001b[0mvalidate\u001b[0m\u001b[1;33m,\u001b[0m\u001b[1;33m\u001b[0m\u001b[1;33m\u001b[0m\u001b[0m\n\u001b[0m\u001b[0;32m     88\u001b[0m     )\n\u001b[0;32m     89\u001b[0m     \u001b[1;32mreturn\u001b[0m \u001b[0mop\u001b[0m\u001b[1;33m.\u001b[0m\u001b[0mget_result\u001b[0m\u001b[1;33m(\u001b[0m\u001b[1;33m)\u001b[0m\u001b[1;33m\u001b[0m\u001b[1;33m\u001b[0m\u001b[0m\n",
      "\u001b[1;32m~\\.virtualenvs\\project-5NQxielR\\lib\\site-packages\\pandas\\core\\reshape\\merge.py\u001b[0m in \u001b[0;36m__init__\u001b[1;34m(self, left, right, how, on, left_on, right_on, axis, left_index, right_index, sort, suffixes, copy, indicator, validate)\u001b[0m\n\u001b[0;32m    666\u001b[0m             \u001b[0mself\u001b[0m\u001b[1;33m.\u001b[0m\u001b[0mright_join_keys\u001b[0m\u001b[1;33m,\u001b[0m\u001b[1;33m\u001b[0m\u001b[1;33m\u001b[0m\u001b[0m\n\u001b[0;32m    667\u001b[0m             \u001b[0mself\u001b[0m\u001b[1;33m.\u001b[0m\u001b[0mjoin_names\u001b[0m\u001b[1;33m,\u001b[0m\u001b[1;33m\u001b[0m\u001b[1;33m\u001b[0m\u001b[0m\n\u001b[1;32m--> 668\u001b[1;33m         ) = self._get_merge_keys()\n\u001b[0m\u001b[0;32m    669\u001b[0m \u001b[1;33m\u001b[0m\u001b[0m\n\u001b[0;32m    670\u001b[0m         \u001b[1;31m# validate the merge keys dtypes. We may need to coerce\u001b[0m\u001b[1;33m\u001b[0m\u001b[1;33m\u001b[0m\u001b[1;33m\u001b[0m\u001b[0m\n",
      "\u001b[1;32m~\\.virtualenvs\\project-5NQxielR\\lib\\site-packages\\pandas\\core\\reshape\\merge.py\u001b[0m in \u001b[0;36m_get_merge_keys\u001b[1;34m(self)\u001b[0m\n\u001b[0;32m   1089\u001b[0m \u001b[1;33m\u001b[0m\u001b[0m\n\u001b[0;32m   1090\u001b[0m         \u001b[1;32mif\u001b[0m \u001b[0mright_drop\u001b[0m\u001b[1;33m:\u001b[0m\u001b[1;33m\u001b[0m\u001b[1;33m\u001b[0m\u001b[0m\n\u001b[1;32m-> 1091\u001b[1;33m             \u001b[0mself\u001b[0m\u001b[1;33m.\u001b[0m\u001b[0mright\u001b[0m \u001b[1;33m=\u001b[0m \u001b[0mself\u001b[0m\u001b[1;33m.\u001b[0m\u001b[0mright\u001b[0m\u001b[1;33m.\u001b[0m\u001b[0m_drop_labels_or_levels\u001b[0m\u001b[1;33m(\u001b[0m\u001b[0mright_drop\u001b[0m\u001b[1;33m)\u001b[0m\u001b[1;33m\u001b[0m\u001b[1;33m\u001b[0m\u001b[0m\n\u001b[0m\u001b[0;32m   1092\u001b[0m \u001b[1;33m\u001b[0m\u001b[0m\n\u001b[0;32m   1093\u001b[0m         \u001b[1;32mreturn\u001b[0m \u001b[0mleft_keys\u001b[0m\u001b[1;33m,\u001b[0m \u001b[0mright_keys\u001b[0m\u001b[1;33m,\u001b[0m \u001b[0mjoin_names\u001b[0m\u001b[1;33m\u001b[0m\u001b[1;33m\u001b[0m\u001b[0m\n",
      "\u001b[1;32m~\\.virtualenvs\\project-5NQxielR\\lib\\site-packages\\pandas\\core\\generic.py\u001b[0m in \u001b[0;36m_drop_labels_or_levels\u001b[1;34m(self, keys, axis)\u001b[0m\n\u001b[0;32m   1760\u001b[0m             \u001b[1;31m# Handle dropping columns labels\u001b[0m\u001b[1;33m\u001b[0m\u001b[1;33m\u001b[0m\u001b[1;33m\u001b[0m\u001b[0m\n\u001b[0;32m   1761\u001b[0m             \u001b[1;32mif\u001b[0m \u001b[0mlabels_to_drop\u001b[0m\u001b[1;33m:\u001b[0m\u001b[1;33m\u001b[0m\u001b[1;33m\u001b[0m\u001b[0m\n\u001b[1;32m-> 1762\u001b[1;33m                 \u001b[0mdropped\u001b[0m\u001b[1;33m.\u001b[0m\u001b[0mdrop\u001b[0m\u001b[1;33m(\u001b[0m\u001b[0mlabels_to_drop\u001b[0m\u001b[1;33m,\u001b[0m \u001b[0maxis\u001b[0m\u001b[1;33m=\u001b[0m\u001b[1;36m1\u001b[0m\u001b[1;33m,\u001b[0m \u001b[0minplace\u001b[0m\u001b[1;33m=\u001b[0m\u001b[1;32mTrue\u001b[0m\u001b[1;33m)\u001b[0m\u001b[1;33m\u001b[0m\u001b[1;33m\u001b[0m\u001b[0m\n\u001b[0m\u001b[0;32m   1763\u001b[0m         \u001b[1;32melse\u001b[0m\u001b[1;33m:\u001b[0m\u001b[1;33m\u001b[0m\u001b[1;33m\u001b[0m\u001b[0m\n\u001b[0;32m   1764\u001b[0m             \u001b[1;31m# Handle dropping column levels\u001b[0m\u001b[1;33m\u001b[0m\u001b[1;33m\u001b[0m\u001b[1;33m\u001b[0m\u001b[0m\n",
      "\u001b[1;32m~\\.virtualenvs\\project-5NQxielR\\lib\\site-packages\\pandas\\core\\frame.py\u001b[0m in \u001b[0;36mdrop\u001b[1;34m(self, labels, axis, index, columns, level, inplace, errors)\u001b[0m\n\u001b[0;32m   4310\u001b[0m             \u001b[0mlevel\u001b[0m\u001b[1;33m=\u001b[0m\u001b[0mlevel\u001b[0m\u001b[1;33m,\u001b[0m\u001b[1;33m\u001b[0m\u001b[1;33m\u001b[0m\u001b[0m\n\u001b[0;32m   4311\u001b[0m             \u001b[0minplace\u001b[0m\u001b[1;33m=\u001b[0m\u001b[0minplace\u001b[0m\u001b[1;33m,\u001b[0m\u001b[1;33m\u001b[0m\u001b[1;33m\u001b[0m\u001b[0m\n\u001b[1;32m-> 4312\u001b[1;33m             \u001b[0merrors\u001b[0m\u001b[1;33m=\u001b[0m\u001b[0merrors\u001b[0m\u001b[1;33m,\u001b[0m\u001b[1;33m\u001b[0m\u001b[1;33m\u001b[0m\u001b[0m\n\u001b[0m\u001b[0;32m   4313\u001b[0m         )\n\u001b[0;32m   4314\u001b[0m \u001b[1;33m\u001b[0m\u001b[0m\n",
      "\u001b[1;32m~\\.virtualenvs\\project-5NQxielR\\lib\\site-packages\\pandas\\core\\generic.py\u001b[0m in \u001b[0;36mdrop\u001b[1;34m(self, labels, axis, index, columns, level, inplace, errors)\u001b[0m\n\u001b[0;32m   4150\u001b[0m         \u001b[1;32mfor\u001b[0m \u001b[0maxis\u001b[0m\u001b[1;33m,\u001b[0m \u001b[0mlabels\u001b[0m \u001b[1;32min\u001b[0m \u001b[0maxes\u001b[0m\u001b[1;33m.\u001b[0m\u001b[0mitems\u001b[0m\u001b[1;33m(\u001b[0m\u001b[1;33m)\u001b[0m\u001b[1;33m:\u001b[0m\u001b[1;33m\u001b[0m\u001b[1;33m\u001b[0m\u001b[0m\n\u001b[0;32m   4151\u001b[0m             \u001b[1;32mif\u001b[0m \u001b[0mlabels\u001b[0m \u001b[1;32mis\u001b[0m \u001b[1;32mnot\u001b[0m \u001b[1;32mNone\u001b[0m\u001b[1;33m:\u001b[0m\u001b[1;33m\u001b[0m\u001b[1;33m\u001b[0m\u001b[0m\n\u001b[1;32m-> 4152\u001b[1;33m                 \u001b[0mobj\u001b[0m \u001b[1;33m=\u001b[0m \u001b[0mobj\u001b[0m\u001b[1;33m.\u001b[0m\u001b[0m_drop_axis\u001b[0m\u001b[1;33m(\u001b[0m\u001b[0mlabels\u001b[0m\u001b[1;33m,\u001b[0m \u001b[0maxis\u001b[0m\u001b[1;33m,\u001b[0m \u001b[0mlevel\u001b[0m\u001b[1;33m=\u001b[0m\u001b[0mlevel\u001b[0m\u001b[1;33m,\u001b[0m \u001b[0merrors\u001b[0m\u001b[1;33m=\u001b[0m\u001b[0merrors\u001b[0m\u001b[1;33m)\u001b[0m\u001b[1;33m\u001b[0m\u001b[1;33m\u001b[0m\u001b[0m\n\u001b[0m\u001b[0;32m   4153\u001b[0m \u001b[1;33m\u001b[0m\u001b[0m\n\u001b[0;32m   4154\u001b[0m         \u001b[1;32mif\u001b[0m \u001b[0minplace\u001b[0m\u001b[1;33m:\u001b[0m\u001b[1;33m\u001b[0m\u001b[1;33m\u001b[0m\u001b[0m\n",
      "\u001b[1;32m~\\.virtualenvs\\project-5NQxielR\\lib\\site-packages\\pandas\\core\\generic.py\u001b[0m in \u001b[0;36m_drop_axis\u001b[1;34m(self, labels, axis, level, errors)\u001b[0m\n\u001b[0;32m   4186\u001b[0m             \u001b[1;32melse\u001b[0m\u001b[1;33m:\u001b[0m\u001b[1;33m\u001b[0m\u001b[1;33m\u001b[0m\u001b[0m\n\u001b[0;32m   4187\u001b[0m                 \u001b[0mnew_axis\u001b[0m \u001b[1;33m=\u001b[0m \u001b[0maxis\u001b[0m\u001b[1;33m.\u001b[0m\u001b[0mdrop\u001b[0m\u001b[1;33m(\u001b[0m\u001b[0mlabels\u001b[0m\u001b[1;33m,\u001b[0m \u001b[0merrors\u001b[0m\u001b[1;33m=\u001b[0m\u001b[0merrors\u001b[0m\u001b[1;33m)\u001b[0m\u001b[1;33m\u001b[0m\u001b[1;33m\u001b[0m\u001b[0m\n\u001b[1;32m-> 4188\u001b[1;33m             \u001b[0mresult\u001b[0m \u001b[1;33m=\u001b[0m \u001b[0mself\u001b[0m\u001b[1;33m.\u001b[0m\u001b[0mreindex\u001b[0m\u001b[1;33m(\u001b[0m\u001b[1;33m**\u001b[0m\u001b[1;33m{\u001b[0m\u001b[0maxis_name\u001b[0m\u001b[1;33m:\u001b[0m \u001b[0mnew_axis\u001b[0m\u001b[1;33m}\u001b[0m\u001b[1;33m)\u001b[0m\u001b[1;33m\u001b[0m\u001b[1;33m\u001b[0m\u001b[0m\n\u001b[0m\u001b[0;32m   4189\u001b[0m \u001b[1;33m\u001b[0m\u001b[0m\n\u001b[0;32m   4190\u001b[0m         \u001b[1;31m# Case for non-unique axis\u001b[0m\u001b[1;33m\u001b[0m\u001b[1;33m\u001b[0m\u001b[1;33m\u001b[0m\u001b[0m\n",
      "\u001b[1;32m~\\.virtualenvs\\project-5NQxielR\\lib\\site-packages\\pandas\\util\\_decorators.py\u001b[0m in \u001b[0;36mwrapper\u001b[1;34m(*args, **kwargs)\u001b[0m\n\u001b[0;32m    310\u001b[0m         \u001b[1;33m@\u001b[0m\u001b[0mwraps\u001b[0m\u001b[1;33m(\u001b[0m\u001b[0mfunc\u001b[0m\u001b[1;33m)\u001b[0m\u001b[1;33m\u001b[0m\u001b[1;33m\u001b[0m\u001b[0m\n\u001b[0;32m    311\u001b[0m         \u001b[1;32mdef\u001b[0m \u001b[0mwrapper\u001b[0m\u001b[1;33m(\u001b[0m\u001b[1;33m*\u001b[0m\u001b[0margs\u001b[0m\u001b[1;33m,\u001b[0m \u001b[1;33m**\u001b[0m\u001b[0mkwargs\u001b[0m\u001b[1;33m)\u001b[0m \u001b[1;33m->\u001b[0m \u001b[0mCallable\u001b[0m\u001b[1;33m[\u001b[0m\u001b[1;33m...\u001b[0m\u001b[1;33m,\u001b[0m \u001b[0mAny\u001b[0m\u001b[1;33m]\u001b[0m\u001b[1;33m:\u001b[0m\u001b[1;33m\u001b[0m\u001b[1;33m\u001b[0m\u001b[0m\n\u001b[1;32m--> 312\u001b[1;33m             \u001b[1;32mreturn\u001b[0m \u001b[0mfunc\u001b[0m\u001b[1;33m(\u001b[0m\u001b[1;33m*\u001b[0m\u001b[0margs\u001b[0m\u001b[1;33m,\u001b[0m \u001b[1;33m**\u001b[0m\u001b[0mkwargs\u001b[0m\u001b[1;33m)\u001b[0m\u001b[1;33m\u001b[0m\u001b[1;33m\u001b[0m\u001b[0m\n\u001b[0m\u001b[0;32m    313\u001b[0m \u001b[1;33m\u001b[0m\u001b[0m\n\u001b[0;32m    314\u001b[0m         \u001b[0mkind\u001b[0m \u001b[1;33m=\u001b[0m \u001b[0minspect\u001b[0m\u001b[1;33m.\u001b[0m\u001b[0mParameter\u001b[0m\u001b[1;33m.\u001b[0m\u001b[0mPOSITIONAL_OR_KEYWORD\u001b[0m\u001b[1;33m\u001b[0m\u001b[1;33m\u001b[0m\u001b[0m\n",
      "\u001b[1;32m~\\.virtualenvs\\project-5NQxielR\\lib\\site-packages\\pandas\\core\\frame.py\u001b[0m in \u001b[0;36mreindex\u001b[1;34m(self, *args, **kwargs)\u001b[0m\n\u001b[0;32m   4171\u001b[0m         \u001b[0mkwargs\u001b[0m\u001b[1;33m.\u001b[0m\u001b[0mpop\u001b[0m\u001b[1;33m(\u001b[0m\u001b[1;34m\"axis\"\u001b[0m\u001b[1;33m,\u001b[0m \u001b[1;32mNone\u001b[0m\u001b[1;33m)\u001b[0m\u001b[1;33m\u001b[0m\u001b[1;33m\u001b[0m\u001b[0m\n\u001b[0;32m   4172\u001b[0m         \u001b[0mkwargs\u001b[0m\u001b[1;33m.\u001b[0m\u001b[0mpop\u001b[0m\u001b[1;33m(\u001b[0m\u001b[1;34m\"labels\"\u001b[0m\u001b[1;33m,\u001b[0m \u001b[1;32mNone\u001b[0m\u001b[1;33m)\u001b[0m\u001b[1;33m\u001b[0m\u001b[1;33m\u001b[0m\u001b[0m\n\u001b[1;32m-> 4173\u001b[1;33m         \u001b[1;32mreturn\u001b[0m \u001b[0msuper\u001b[0m\u001b[1;33m(\u001b[0m\u001b[1;33m)\u001b[0m\u001b[1;33m.\u001b[0m\u001b[0mreindex\u001b[0m\u001b[1;33m(\u001b[0m\u001b[1;33m**\u001b[0m\u001b[0mkwargs\u001b[0m\u001b[1;33m)\u001b[0m\u001b[1;33m\u001b[0m\u001b[1;33m\u001b[0m\u001b[0m\n\u001b[0m\u001b[0;32m   4174\u001b[0m \u001b[1;33m\u001b[0m\u001b[0m\n\u001b[0;32m   4175\u001b[0m     def drop(\n",
      "\u001b[1;32m~\\.virtualenvs\\project-5NQxielR\\lib\\site-packages\\pandas\\core\\generic.py\u001b[0m in \u001b[0;36mreindex\u001b[1;34m(self, *args, **kwargs)\u001b[0m\n\u001b[0;32m   4807\u001b[0m         \u001b[1;31m# perform the reindex on the axes\u001b[0m\u001b[1;33m\u001b[0m\u001b[1;33m\u001b[0m\u001b[1;33m\u001b[0m\u001b[0m\n\u001b[0;32m   4808\u001b[0m         return self._reindex_axes(\n\u001b[1;32m-> 4809\u001b[1;33m             \u001b[0maxes\u001b[0m\u001b[1;33m,\u001b[0m \u001b[0mlevel\u001b[0m\u001b[1;33m,\u001b[0m \u001b[0mlimit\u001b[0m\u001b[1;33m,\u001b[0m \u001b[0mtolerance\u001b[0m\u001b[1;33m,\u001b[0m \u001b[0mmethod\u001b[0m\u001b[1;33m,\u001b[0m \u001b[0mfill_value\u001b[0m\u001b[1;33m,\u001b[0m \u001b[0mcopy\u001b[0m\u001b[1;33m\u001b[0m\u001b[1;33m\u001b[0m\u001b[0m\n\u001b[0m\u001b[0;32m   4810\u001b[0m         ).__finalize__(self, method=\"reindex\")\n\u001b[0;32m   4811\u001b[0m \u001b[1;33m\u001b[0m\u001b[0m\n",
      "\u001b[1;32m~\\.virtualenvs\\project-5NQxielR\\lib\\site-packages\\pandas\\core\\frame.py\u001b[0m in \u001b[0;36m_reindex_axes\u001b[1;34m(self, axes, level, limit, tolerance, method, fill_value, copy)\u001b[0m\n\u001b[0;32m   4012\u001b[0m         \u001b[1;32mif\u001b[0m \u001b[0mcolumns\u001b[0m \u001b[1;32mis\u001b[0m \u001b[1;32mnot\u001b[0m \u001b[1;32mNone\u001b[0m\u001b[1;33m:\u001b[0m\u001b[1;33m\u001b[0m\u001b[1;33m\u001b[0m\u001b[0m\n\u001b[0;32m   4013\u001b[0m             frame = frame._reindex_columns(\n\u001b[1;32m-> 4014\u001b[1;33m                 \u001b[0mcolumns\u001b[0m\u001b[1;33m,\u001b[0m \u001b[0mmethod\u001b[0m\u001b[1;33m,\u001b[0m \u001b[0mcopy\u001b[0m\u001b[1;33m,\u001b[0m \u001b[0mlevel\u001b[0m\u001b[1;33m,\u001b[0m \u001b[0mfill_value\u001b[0m\u001b[1;33m,\u001b[0m \u001b[0mlimit\u001b[0m\u001b[1;33m,\u001b[0m \u001b[0mtolerance\u001b[0m\u001b[1;33m\u001b[0m\u001b[1;33m\u001b[0m\u001b[0m\n\u001b[0m\u001b[0;32m   4015\u001b[0m             )\n\u001b[0;32m   4016\u001b[0m \u001b[1;33m\u001b[0m\u001b[0m\n",
      "\u001b[1;32m~\\.virtualenvs\\project-5NQxielR\\lib\\site-packages\\pandas\\core\\frame.py\u001b[0m in \u001b[0;36m_reindex_columns\u001b[1;34m(self, new_columns, method, copy, level, fill_value, limit, tolerance)\u001b[0m\n\u001b[0;32m   4060\u001b[0m             \u001b[0mcopy\u001b[0m\u001b[1;33m=\u001b[0m\u001b[0mcopy\u001b[0m\u001b[1;33m,\u001b[0m\u001b[1;33m\u001b[0m\u001b[1;33m\u001b[0m\u001b[0m\n\u001b[0;32m   4061\u001b[0m             \u001b[0mfill_value\u001b[0m\u001b[1;33m=\u001b[0m\u001b[0mfill_value\u001b[0m\u001b[1;33m,\u001b[0m\u001b[1;33m\u001b[0m\u001b[1;33m\u001b[0m\u001b[0m\n\u001b[1;32m-> 4062\u001b[1;33m             \u001b[0mallow_dups\u001b[0m\u001b[1;33m=\u001b[0m\u001b[1;32mFalse\u001b[0m\u001b[1;33m,\u001b[0m\u001b[1;33m\u001b[0m\u001b[1;33m\u001b[0m\u001b[0m\n\u001b[0m\u001b[0;32m   4063\u001b[0m         )\n\u001b[0;32m   4064\u001b[0m \u001b[1;33m\u001b[0m\u001b[0m\n",
      "\u001b[1;32m~\\.virtualenvs\\project-5NQxielR\\lib\\site-packages\\pandas\\core\\generic.py\u001b[0m in \u001b[0;36m_reindex_with_indexers\u001b[1;34m(self, reindexers, fill_value, copy, allow_dups)\u001b[0m\n\u001b[0;32m   4878\u001b[0m                 \u001b[0mfill_value\u001b[0m\u001b[1;33m=\u001b[0m\u001b[0mfill_value\u001b[0m\u001b[1;33m,\u001b[0m\u001b[1;33m\u001b[0m\u001b[1;33m\u001b[0m\u001b[0m\n\u001b[0;32m   4879\u001b[0m                 \u001b[0mallow_dups\u001b[0m\u001b[1;33m=\u001b[0m\u001b[0mallow_dups\u001b[0m\u001b[1;33m,\u001b[0m\u001b[1;33m\u001b[0m\u001b[1;33m\u001b[0m\u001b[0m\n\u001b[1;32m-> 4880\u001b[1;33m                 \u001b[0mcopy\u001b[0m\u001b[1;33m=\u001b[0m\u001b[0mcopy\u001b[0m\u001b[1;33m,\u001b[0m\u001b[1;33m\u001b[0m\u001b[1;33m\u001b[0m\u001b[0m\n\u001b[0m\u001b[0;32m   4881\u001b[0m             )\n\u001b[0;32m   4882\u001b[0m             \u001b[1;31m# If we've made a copy once, no need to make another one\u001b[0m\u001b[1;33m\u001b[0m\u001b[1;33m\u001b[0m\u001b[1;33m\u001b[0m\u001b[0m\n",
      "\u001b[1;32m~\\.virtualenvs\\project-5NQxielR\\lib\\site-packages\\pandas\\core\\internals\\managers.py\u001b[0m in \u001b[0;36mreindex_indexer\u001b[1;34m(self, new_axis, indexer, axis, fill_value, allow_dups, copy, consolidate, only_slice)\u001b[0m\n\u001b[0;32m   1306\u001b[0m         \u001b[1;32mif\u001b[0m \u001b[0maxis\u001b[0m \u001b[1;33m==\u001b[0m \u001b[1;36m0\u001b[0m\u001b[1;33m:\u001b[0m\u001b[1;33m\u001b[0m\u001b[1;33m\u001b[0m\u001b[0m\n\u001b[0;32m   1307\u001b[0m             new_blocks = self._slice_take_blocks_ax0(\n\u001b[1;32m-> 1308\u001b[1;33m                 \u001b[0mindexer\u001b[0m\u001b[1;33m,\u001b[0m \u001b[0mfill_value\u001b[0m\u001b[1;33m=\u001b[0m\u001b[0mfill_value\u001b[0m\u001b[1;33m,\u001b[0m \u001b[0monly_slice\u001b[0m\u001b[1;33m=\u001b[0m\u001b[0monly_slice\u001b[0m\u001b[1;33m\u001b[0m\u001b[1;33m\u001b[0m\u001b[0m\n\u001b[0m\u001b[0;32m   1309\u001b[0m             )\n\u001b[0;32m   1310\u001b[0m         \u001b[1;32melse\u001b[0m\u001b[1;33m:\u001b[0m\u001b[1;33m\u001b[0m\u001b[1;33m\u001b[0m\u001b[0m\n",
      "\u001b[1;32m~\\.virtualenvs\\project-5NQxielR\\lib\\site-packages\\pandas\\core\\internals\\managers.py\u001b[0m in \u001b[0;36m_slice_take_blocks_ax0\u001b[1;34m(self, slice_or_indexer, fill_value, only_slice)\u001b[0m\n\u001b[0;32m   1435\u001b[0m                             \u001b[0mblocks\u001b[0m\u001b[1;33m.\u001b[0m\u001b[0mappend\u001b[0m\u001b[1;33m(\u001b[0m\u001b[0mnb\u001b[0m\u001b[1;33m)\u001b[0m\u001b[1;33m\u001b[0m\u001b[1;33m\u001b[0m\u001b[0m\n\u001b[0;32m   1436\u001b[0m                     \u001b[1;32melse\u001b[0m\u001b[1;33m:\u001b[0m\u001b[1;33m\u001b[0m\u001b[1;33m\u001b[0m\u001b[0m\n\u001b[1;32m-> 1437\u001b[1;33m                         \u001b[0mnb\u001b[0m \u001b[1;33m=\u001b[0m \u001b[0mblk\u001b[0m\u001b[1;33m.\u001b[0m\u001b[0mtake_nd\u001b[0m\u001b[1;33m(\u001b[0m\u001b[0mtaker\u001b[0m\u001b[1;33m,\u001b[0m \u001b[0maxis\u001b[0m\u001b[1;33m=\u001b[0m\u001b[1;36m0\u001b[0m\u001b[1;33m,\u001b[0m \u001b[0mnew_mgr_locs\u001b[0m\u001b[1;33m=\u001b[0m\u001b[0mmgr_locs\u001b[0m\u001b[1;33m)\u001b[0m\u001b[1;33m\u001b[0m\u001b[1;33m\u001b[0m\u001b[0m\n\u001b[0m\u001b[0;32m   1438\u001b[0m                         \u001b[0mblocks\u001b[0m\u001b[1;33m.\u001b[0m\u001b[0mappend\u001b[0m\u001b[1;33m(\u001b[0m\u001b[0mnb\u001b[0m\u001b[1;33m)\u001b[0m\u001b[1;33m\u001b[0m\u001b[1;33m\u001b[0m\u001b[0m\n\u001b[0;32m   1439\u001b[0m \u001b[1;33m\u001b[0m\u001b[0m\n",
      "\u001b[1;32m~\\.virtualenvs\\project-5NQxielR\\lib\\site-packages\\pandas\\core\\internals\\blocks.py\u001b[0m in \u001b[0;36mtake_nd\u001b[1;34m(self, indexer, axis, new_mgr_locs, fill_value)\u001b[0m\n\u001b[0;32m   1384\u001b[0m \u001b[1;33m\u001b[0m\u001b[0m\n\u001b[0;32m   1385\u001b[0m         new_values = algos.take_nd(\n\u001b[1;32m-> 1386\u001b[1;33m             \u001b[0mvalues\u001b[0m\u001b[1;33m,\u001b[0m \u001b[0mindexer\u001b[0m\u001b[1;33m,\u001b[0m \u001b[0maxis\u001b[0m\u001b[1;33m=\u001b[0m\u001b[0maxis\u001b[0m\u001b[1;33m,\u001b[0m \u001b[0mallow_fill\u001b[0m\u001b[1;33m=\u001b[0m\u001b[0mallow_fill\u001b[0m\u001b[1;33m,\u001b[0m \u001b[0mfill_value\u001b[0m\u001b[1;33m=\u001b[0m\u001b[0mfill_value\u001b[0m\u001b[1;33m\u001b[0m\u001b[1;33m\u001b[0m\u001b[0m\n\u001b[0m\u001b[0;32m   1387\u001b[0m         )\n\u001b[0;32m   1388\u001b[0m \u001b[1;33m\u001b[0m\u001b[0m\n",
      "\u001b[1;31mKeyboardInterrupt\u001b[0m: "
     ]
    }
   ],
   "source": [
    "# for i in range(1,32):\n",
    "#     print(i, end=' ')\n",
    "#     for j in range(2,6):\n",
    "#         re = get_recording_events(i,j)\n",
    "#         print(re.shape)"
   ]
  },
  {
   "cell_type": "code",
   "execution_count": 26,
   "metadata": {},
   "outputs": [
    {
     "output_type": "execute_result",
     "data": {
      "text/plain": [
       "       onset  trial_type                            trial_name  \\\n",
       "0      2.449         263  artifact:50/60 Hz mains interference   \n",
       "1      2.689         786                       Cross on screen   \n",
       "2      2.817         257                          artifact:EOG   \n",
       "3      3.713         257                          artifact:EOG   \n",
       "4      5.689         788                          Music played   \n",
       "..       ...         ...                                   ...   \n",
       "710  563.203         807                           Question 08   \n",
       "711  563.303       32768                              not used   \n",
       "712  572.623         805                           Question 06   \n",
       "713  572.623         841                           Response 09   \n",
       "714  572.823       32768                              not used   \n",
       "\n",
       "                                            trial_desc  \\\n",
       "0                 artifact:50/60 Hz mains interference   \n",
       "1                   Fixation cross displayed on screen   \n",
       "2         artifact:EOG (blinks, fast, large amplitude)   \n",
       "3         artifact:EOG (blinks, fast, large amplitude)   \n",
       "4                                  Start of music play   \n",
       "..                                                 ...   \n",
       "710  Question 08 presented to user (The music made ...   \n",
       "711                                           not used   \n",
       "712  Question 06 presented to user (The music made ...   \n",
       "713  Response 09 - The user selected 09 as their re...   \n",
       "714                                           not used   \n",
       "\n",
       "                       trial_desc_cleaned  song_clip  onset_time  \n",
       "0    artifact:50/60 Hz mains interference         -1        2449  \n",
       "1      Fixation cross displayed on screen         -1        2689  \n",
       "2           blinks, fast, large amplitude         -1        2817  \n",
       "3           blinks, fast, large amplitude         -1        3713  \n",
       "4                     Start of music play         62        5689  \n",
       "..                                    ...        ...         ...  \n",
       "710                                tender        176      563203  \n",
       "711                              not used        176      563303  \n",
       "712                                 happy        176      572623  \n",
       "713                           Response 09        176      572623  \n",
       "714                              not used        176      572823  \n",
       "\n",
       "[715 rows x 7 columns]"
      ],
      "text/html": "<div>\n<style scoped>\n    .dataframe tbody tr th:only-of-type {\n        vertical-align: middle;\n    }\n\n    .dataframe tbody tr th {\n        vertical-align: top;\n    }\n\n    .dataframe thead th {\n        text-align: right;\n    }\n</style>\n<table border=\"1\" class=\"dataframe\">\n  <thead>\n    <tr style=\"text-align: right;\">\n      <th></th>\n      <th>onset</th>\n      <th>trial_type</th>\n      <th>trial_name</th>\n      <th>trial_desc</th>\n      <th>trial_desc_cleaned</th>\n      <th>song_clip</th>\n      <th>onset_time</th>\n    </tr>\n  </thead>\n  <tbody>\n    <tr>\n      <th>0</th>\n      <td>2.449</td>\n      <td>263</td>\n      <td>artifact:50/60 Hz mains interference</td>\n      <td>artifact:50/60 Hz mains interference</td>\n      <td>artifact:50/60 Hz mains interference</td>\n      <td>-1</td>\n      <td>2449</td>\n    </tr>\n    <tr>\n      <th>1</th>\n      <td>2.689</td>\n      <td>786</td>\n      <td>Cross on screen</td>\n      <td>Fixation cross displayed on screen</td>\n      <td>Fixation cross displayed on screen</td>\n      <td>-1</td>\n      <td>2689</td>\n    </tr>\n    <tr>\n      <th>2</th>\n      <td>2.817</td>\n      <td>257</td>\n      <td>artifact:EOG</td>\n      <td>artifact:EOG (blinks, fast, large amplitude)</td>\n      <td>blinks, fast, large amplitude</td>\n      <td>-1</td>\n      <td>2817</td>\n    </tr>\n    <tr>\n      <th>3</th>\n      <td>3.713</td>\n      <td>257</td>\n      <td>artifact:EOG</td>\n      <td>artifact:EOG (blinks, fast, large amplitude)</td>\n      <td>blinks, fast, large amplitude</td>\n      <td>-1</td>\n      <td>3713</td>\n    </tr>\n    <tr>\n      <th>4</th>\n      <td>5.689</td>\n      <td>788</td>\n      <td>Music played</td>\n      <td>Start of music play</td>\n      <td>Start of music play</td>\n      <td>62</td>\n      <td>5689</td>\n    </tr>\n    <tr>\n      <th>...</th>\n      <td>...</td>\n      <td>...</td>\n      <td>...</td>\n      <td>...</td>\n      <td>...</td>\n      <td>...</td>\n      <td>...</td>\n    </tr>\n    <tr>\n      <th>710</th>\n      <td>563.203</td>\n      <td>807</td>\n      <td>Question 08</td>\n      <td>Question 08 presented to user (The music made ...</td>\n      <td>tender</td>\n      <td>176</td>\n      <td>563203</td>\n    </tr>\n    <tr>\n      <th>711</th>\n      <td>563.303</td>\n      <td>32768</td>\n      <td>not used</td>\n      <td>not used</td>\n      <td>not used</td>\n      <td>176</td>\n      <td>563303</td>\n    </tr>\n    <tr>\n      <th>712</th>\n      <td>572.623</td>\n      <td>805</td>\n      <td>Question 06</td>\n      <td>Question 06 presented to user (The music made ...</td>\n      <td>happy</td>\n      <td>176</td>\n      <td>572623</td>\n    </tr>\n    <tr>\n      <th>713</th>\n      <td>572.623</td>\n      <td>841</td>\n      <td>Response 09</td>\n      <td>Response 09 - The user selected 09 as their re...</td>\n      <td>Response 09</td>\n      <td>176</td>\n      <td>572623</td>\n    </tr>\n    <tr>\n      <th>714</th>\n      <td>572.823</td>\n      <td>32768</td>\n      <td>not used</td>\n      <td>not used</td>\n      <td>not used</td>\n      <td>176</td>\n      <td>572823</td>\n    </tr>\n  </tbody>\n</table>\n<p>715 rows × 7 columns</p>\n</div>"
     },
     "metadata": {},
     "execution_count": 26
    }
   ],
   "source": [
    "trial_events = get_events(1,2)\n",
    "te_sample = trial_events[(300<=trial_events['trial_type'])&(trial_events['trial_type']<=660)][['onset','trial_type']]\n",
    "songtime = te_sample['onset'].to_numpy()\n",
    "songdict = te_sample.set_index('onset').to_dict()['trial_type']\n",
    "def get_song_trial_type(searchVal, inputData):\n",
    "    '''returns trial type of song for particular question sequence'''\n",
    "    if searchVal < inputData.min(): return -1\n",
    "    diff = inputData - searchVal\n",
    "    diff[diff>=0] = -np.inf\n",
    "    idx = diff.argmax()\n",
    "    return songdict[inputData[idx]] -300\n",
    "trial_events['song_clip'] = trial_events.onset.map(lambda x: get_song_trial_type(x,songtime))\n",
    "trial_events['onset_time'] = (trial_events.onset*1000).astype(int)\n",
    "trial_events"
   ]
  },
  {
   "cell_type": "code",
   "execution_count": 27,
   "metadata": {},
   "outputs": [
    {
     "output_type": "stream",
     "name": "stdout",
     "text": [
      "Extracting EDF parameters from c:\\Users\\Staro\\Documents\\GitHub\\COGS189-final-project\\data\\sub-01\\eeg\\sub-01_task-run2_eeg.edf...\n",
      "EDF file detected\n",
      "Setting channel info structure...\n",
      "Creating raw.info structure...\n",
      "<ipython-input-20-2cc7e562e588>:5: RuntimeWarning: Invalid date encountered (2014-00-00 00:00:00).\n",
      "  data = mne.io.read_raw_edf(file)\n"
     ]
    },
    {
     "output_type": "execute_result",
     "data": {
      "text/plain": [
       "          time          FP1          FP2          F7          F3         Fz  \\\n",
       "0            0   247.085224   226.427986  243.400921   91.204983  55.539856   \n",
       "1            1   223.124495   217.253177  230.288985   87.282360  54.399233   \n",
       "2            2   179.695673   170.218461  222.421823   85.062414  47.222584   \n",
       "3            3   179.258889   176.187614  217.534647   75.923996  47.121620   \n",
       "4            4   191.114458   167.068075  230.479704   71.527210  48.106704   \n",
       "...        ...          ...          ...         ...         ...        ...   \n",
       "573995  573995  3285.730000  2285.620000  623.957000  930.323000  90.227900   \n",
       "573996  573996  3285.730000  2285.620000  623.957000  930.323000  90.227900   \n",
       "573997  573997  3285.730000  2285.620000  623.957000  930.323000  90.227900   \n",
       "573998  573998  3285.730000  2285.620000  623.957000  930.323000  90.227900   \n",
       "573999  573999  3285.730000  2285.620000  623.957000  930.323000  90.227900   \n",
       "\n",
       "                F4          F8          T3          C3          Cz  \\\n",
       "0        30.993496   63.836413  -68.204146   -4.810091 -104.638740   \n",
       "1        29.484103   62.622202  -57.124885   -3.891314 -104.026181   \n",
       "2        15.159111   39.324530  -38.992590    3.748147  -98.604148   \n",
       "3        16.625785   38.768017  -34.866422    0.600485  -98.619684   \n",
       "4        13.706676   35.783082  -32.053774    2.080737  -99.667248   \n",
       "...            ...         ...         ...         ...         ...   \n",
       "573995  416.800000  742.555000  442.170000  572.318000   27.130200   \n",
       "573996  416.800000  742.555000  442.170000  572.318000   27.130200   \n",
       "573997  416.800000  742.555000  442.170000  572.318000   27.130200   \n",
       "573998  416.800000  742.555000  442.170000  572.318000   27.130200   \n",
       "573999  416.800000  742.555000  442.170000  572.318000   27.130200   \n",
       "\n",
       "                C4          T4          T5          P3         Pz          P4  \\\n",
       "0       -25.194368   17.563380  -16.669192  -54.736701 -80.506690 -107.095388   \n",
       "1       -26.506049   17.346538  -26.118804  -53.851772 -79.859751 -106.698069   \n",
       "2       -26.024546   20.515767  -43.779133  -48.048959 -73.122966 -101.665362   \n",
       "3       -24.048723   24.352201  -47.422943  -48.302832 -75.577019 -102.460000   \n",
       "4       -25.194368   16.062166  -46.256924  -47.164029 -75.827168 -101.791495   \n",
       "...            ...         ...         ...         ...        ...         ...   \n",
       "573995  545.370000  608.391000  238.276000  267.392000  98.941100  214.960000   \n",
       "573996  545.370000  608.391000  238.276000  267.392000  98.941100  214.960000   \n",
       "573997  545.370000  608.391000  238.276000  267.392000  98.941100  214.960000   \n",
       "573998  545.370000  608.391000  238.276000  267.392000  98.941100  214.960000   \n",
       "573999  545.370000  608.391000  238.276000  267.392000  98.941100  214.960000   \n",
       "\n",
       "                T6          O1          O2  \n",
       "0      -113.935044  -22.240173  -24.044401  \n",
       "1      -119.452995  -21.425506  -25.461576  \n",
       "2      -113.615163  -19.448936  -17.671623  \n",
       "3      -116.374138  -19.422225  -20.596241  \n",
       "4      -116.294168  -20.797811  -21.760672  \n",
       "...            ...         ...         ...  \n",
       "573995  580.767000  429.927000  370.797000  \n",
       "573996  580.767000  429.927000  370.797000  \n",
       "573997  580.767000  429.927000  370.797000  \n",
       "573998  580.767000  429.927000  370.797000  \n",
       "573999  580.767000  429.927000  370.797000  \n",
       "\n",
       "[574000 rows x 20 columns]"
      ],
      "text/html": "<div>\n<style scoped>\n    .dataframe tbody tr th:only-of-type {\n        vertical-align: middle;\n    }\n\n    .dataframe tbody tr th {\n        vertical-align: top;\n    }\n\n    .dataframe thead th {\n        text-align: right;\n    }\n</style>\n<table border=\"1\" class=\"dataframe\">\n  <thead>\n    <tr style=\"text-align: right;\">\n      <th></th>\n      <th>time</th>\n      <th>FP1</th>\n      <th>FP2</th>\n      <th>F7</th>\n      <th>F3</th>\n      <th>Fz</th>\n      <th>F4</th>\n      <th>F8</th>\n      <th>T3</th>\n      <th>C3</th>\n      <th>Cz</th>\n      <th>C4</th>\n      <th>T4</th>\n      <th>T5</th>\n      <th>P3</th>\n      <th>Pz</th>\n      <th>P4</th>\n      <th>T6</th>\n      <th>O1</th>\n      <th>O2</th>\n    </tr>\n  </thead>\n  <tbody>\n    <tr>\n      <th>0</th>\n      <td>0</td>\n      <td>247.085224</td>\n      <td>226.427986</td>\n      <td>243.400921</td>\n      <td>91.204983</td>\n      <td>55.539856</td>\n      <td>30.993496</td>\n      <td>63.836413</td>\n      <td>-68.204146</td>\n      <td>-4.810091</td>\n      <td>-104.638740</td>\n      <td>-25.194368</td>\n      <td>17.563380</td>\n      <td>-16.669192</td>\n      <td>-54.736701</td>\n      <td>-80.506690</td>\n      <td>-107.095388</td>\n      <td>-113.935044</td>\n      <td>-22.240173</td>\n      <td>-24.044401</td>\n    </tr>\n    <tr>\n      <th>1</th>\n      <td>1</td>\n      <td>223.124495</td>\n      <td>217.253177</td>\n      <td>230.288985</td>\n      <td>87.282360</td>\n      <td>54.399233</td>\n      <td>29.484103</td>\n      <td>62.622202</td>\n      <td>-57.124885</td>\n      <td>-3.891314</td>\n      <td>-104.026181</td>\n      <td>-26.506049</td>\n      <td>17.346538</td>\n      <td>-26.118804</td>\n      <td>-53.851772</td>\n      <td>-79.859751</td>\n      <td>-106.698069</td>\n      <td>-119.452995</td>\n      <td>-21.425506</td>\n      <td>-25.461576</td>\n    </tr>\n    <tr>\n      <th>2</th>\n      <td>2</td>\n      <td>179.695673</td>\n      <td>170.218461</td>\n      <td>222.421823</td>\n      <td>85.062414</td>\n      <td>47.222584</td>\n      <td>15.159111</td>\n      <td>39.324530</td>\n      <td>-38.992590</td>\n      <td>3.748147</td>\n      <td>-98.604148</td>\n      <td>-26.024546</td>\n      <td>20.515767</td>\n      <td>-43.779133</td>\n      <td>-48.048959</td>\n      <td>-73.122966</td>\n      <td>-101.665362</td>\n      <td>-113.615163</td>\n      <td>-19.448936</td>\n      <td>-17.671623</td>\n    </tr>\n    <tr>\n      <th>3</th>\n      <td>3</td>\n      <td>179.258889</td>\n      <td>176.187614</td>\n      <td>217.534647</td>\n      <td>75.923996</td>\n      <td>47.121620</td>\n      <td>16.625785</td>\n      <td>38.768017</td>\n      <td>-34.866422</td>\n      <td>0.600485</td>\n      <td>-98.619684</td>\n      <td>-24.048723</td>\n      <td>24.352201</td>\n      <td>-47.422943</td>\n      <td>-48.302832</td>\n      <td>-75.577019</td>\n      <td>-102.460000</td>\n      <td>-116.374138</td>\n      <td>-19.422225</td>\n      <td>-20.596241</td>\n    </tr>\n    <tr>\n      <th>4</th>\n      <td>4</td>\n      <td>191.114458</td>\n      <td>167.068075</td>\n      <td>230.479704</td>\n      <td>71.527210</td>\n      <td>48.106704</td>\n      <td>13.706676</td>\n      <td>35.783082</td>\n      <td>-32.053774</td>\n      <td>2.080737</td>\n      <td>-99.667248</td>\n      <td>-25.194368</td>\n      <td>16.062166</td>\n      <td>-46.256924</td>\n      <td>-47.164029</td>\n      <td>-75.827168</td>\n      <td>-101.791495</td>\n      <td>-116.294168</td>\n      <td>-20.797811</td>\n      <td>-21.760672</td>\n    </tr>\n    <tr>\n      <th>...</th>\n      <td>...</td>\n      <td>...</td>\n      <td>...</td>\n      <td>...</td>\n      <td>...</td>\n      <td>...</td>\n      <td>...</td>\n      <td>...</td>\n      <td>...</td>\n      <td>...</td>\n      <td>...</td>\n      <td>...</td>\n      <td>...</td>\n      <td>...</td>\n      <td>...</td>\n      <td>...</td>\n      <td>...</td>\n      <td>...</td>\n      <td>...</td>\n      <td>...</td>\n    </tr>\n    <tr>\n      <th>573995</th>\n      <td>573995</td>\n      <td>3285.730000</td>\n      <td>2285.620000</td>\n      <td>623.957000</td>\n      <td>930.323000</td>\n      <td>90.227900</td>\n      <td>416.800000</td>\n      <td>742.555000</td>\n      <td>442.170000</td>\n      <td>572.318000</td>\n      <td>27.130200</td>\n      <td>545.370000</td>\n      <td>608.391000</td>\n      <td>238.276000</td>\n      <td>267.392000</td>\n      <td>98.941100</td>\n      <td>214.960000</td>\n      <td>580.767000</td>\n      <td>429.927000</td>\n      <td>370.797000</td>\n    </tr>\n    <tr>\n      <th>573996</th>\n      <td>573996</td>\n      <td>3285.730000</td>\n      <td>2285.620000</td>\n      <td>623.957000</td>\n      <td>930.323000</td>\n      <td>90.227900</td>\n      <td>416.800000</td>\n      <td>742.555000</td>\n      <td>442.170000</td>\n      <td>572.318000</td>\n      <td>27.130200</td>\n      <td>545.370000</td>\n      <td>608.391000</td>\n      <td>238.276000</td>\n      <td>267.392000</td>\n      <td>98.941100</td>\n      <td>214.960000</td>\n      <td>580.767000</td>\n      <td>429.927000</td>\n      <td>370.797000</td>\n    </tr>\n    <tr>\n      <th>573997</th>\n      <td>573997</td>\n      <td>3285.730000</td>\n      <td>2285.620000</td>\n      <td>623.957000</td>\n      <td>930.323000</td>\n      <td>90.227900</td>\n      <td>416.800000</td>\n      <td>742.555000</td>\n      <td>442.170000</td>\n      <td>572.318000</td>\n      <td>27.130200</td>\n      <td>545.370000</td>\n      <td>608.391000</td>\n      <td>238.276000</td>\n      <td>267.392000</td>\n      <td>98.941100</td>\n      <td>214.960000</td>\n      <td>580.767000</td>\n      <td>429.927000</td>\n      <td>370.797000</td>\n    </tr>\n    <tr>\n      <th>573998</th>\n      <td>573998</td>\n      <td>3285.730000</td>\n      <td>2285.620000</td>\n      <td>623.957000</td>\n      <td>930.323000</td>\n      <td>90.227900</td>\n      <td>416.800000</td>\n      <td>742.555000</td>\n      <td>442.170000</td>\n      <td>572.318000</td>\n      <td>27.130200</td>\n      <td>545.370000</td>\n      <td>608.391000</td>\n      <td>238.276000</td>\n      <td>267.392000</td>\n      <td>98.941100</td>\n      <td>214.960000</td>\n      <td>580.767000</td>\n      <td>429.927000</td>\n      <td>370.797000</td>\n    </tr>\n    <tr>\n      <th>573999</th>\n      <td>573999</td>\n      <td>3285.730000</td>\n      <td>2285.620000</td>\n      <td>623.957000</td>\n      <td>930.323000</td>\n      <td>90.227900</td>\n      <td>416.800000</td>\n      <td>742.555000</td>\n      <td>442.170000</td>\n      <td>572.318000</td>\n      <td>27.130200</td>\n      <td>545.370000</td>\n      <td>608.391000</td>\n      <td>238.276000</td>\n      <td>267.392000</td>\n      <td>98.941100</td>\n      <td>214.960000</td>\n      <td>580.767000</td>\n      <td>429.927000</td>\n      <td>370.797000</td>\n    </tr>\n  </tbody>\n</table>\n<p>574000 rows × 20 columns</p>\n</div>"
     },
     "metadata": {},
     "execution_count": 27
    }
   ],
   "source": [
    "record = get_recording(1,2)\n",
    "record"
   ]
  },
  {
   "cell_type": "code",
   "execution_count": 74,
   "metadata": {},
   "outputs": [
    {
     "output_type": "execute_result",
     "data": {
      "text/plain": [
       "<AxesSubplot:>"
      ]
     },
     "metadata": {},
     "execution_count": 74
    },
    {
     "output_type": "display_data",
     "data": {
      "text/plain": "<Figure size 432x288 with 1 Axes>",
      "image/svg+xml": "<?xml version=\"1.0\" encoding=\"utf-8\" standalone=\"no\"?>\r\n<!DOCTYPE svg PUBLIC \"-//W3C//DTD SVG 1.1//EN\"\r\n  \"http://www.w3.org/Graphics/SVG/1.1/DTD/svg11.dtd\">\r\n<!-- Created with matplotlib (https://matplotlib.org/) -->\r\n<svg height=\"248.518125pt\" version=\"1.1\" viewBox=\"0 0 379.139699 248.518125\" width=\"379.139699pt\" xmlns=\"http://www.w3.org/2000/svg\" xmlns:xlink=\"http://www.w3.org/1999/xlink\">\r\n <metadata>\r\n  <rdf:RDF xmlns:cc=\"http://creativecommons.org/ns#\" xmlns:dc=\"http://purl.org/dc/elements/1.1/\" xmlns:rdf=\"http://www.w3.org/1999/02/22-rdf-syntax-ns#\">\r\n   <cc:Work>\r\n    <dc:type rdf:resource=\"http://purl.org/dc/dcmitype/StillImage\"/>\r\n    <dc:date>2021-03-11T01:14:33.044503</dc:date>\r\n    <dc:format>image/svg+xml</dc:format>\r\n    <dc:creator>\r\n     <cc:Agent>\r\n      <dc:title>Matplotlib v3.3.4, https://matplotlib.org/</dc:title>\r\n     </cc:Agent>\r\n    </dc:creator>\r\n   </cc:Work>\r\n  </rdf:RDF>\r\n </metadata>\r\n <defs>\r\n  <style type=\"text/css\">*{stroke-linecap:butt;stroke-linejoin:round;}</style>\r\n </defs>\r\n <g id=\"figure_1\">\r\n  <g id=\"patch_1\">\r\n   <path d=\"M 0 248.518125 \r\nL 379.139699 248.518125 \r\nL 379.139699 0 \r\nL 0 0 \r\nz\r\n\" style=\"fill:none;\"/>\r\n  </g>\r\n  <g id=\"axes_1\">\r\n   <g id=\"patch_2\">\r\n    <path d=\"M 33.2875 224.64 \r\nL 368.0875 224.64 \r\nL 368.0875 7.2 \r\nL 33.2875 7.2 \r\nz\r\n\" style=\"fill:#ffffff;\"/>\r\n   </g>\r\n   <g id=\"matplotlib.axis_1\">\r\n    <g id=\"xtick_1\">\r\n     <g id=\"line2d_1\">\r\n      <defs>\r\n       <path d=\"M 0 0 \r\nL 0 3.5 \r\n\" id=\"m9d2ee45e17\" style=\"stroke:#000000;stroke-width:0.8;\"/>\r\n      </defs>\r\n      <g>\r\n       <use style=\"stroke:#000000;stroke-width:0.8;\" x=\"48.505682\" xlink:href=\"#m9d2ee45e17\" y=\"224.64\"/>\r\n      </g>\r\n     </g>\r\n     <g id=\"text_1\">\r\n      <!-- 0 -->\r\n      <g transform=\"translate(45.324432 239.238437)scale(0.1 -0.1)\">\r\n       <defs>\r\n        <path d=\"M 31.78125 66.40625 \r\nQ 24.171875 66.40625 20.328125 58.90625 \r\nQ 16.5 51.421875 16.5 36.375 \r\nQ 16.5 21.390625 20.328125 13.890625 \r\nQ 24.171875 6.390625 31.78125 6.390625 \r\nQ 39.453125 6.390625 43.28125 13.890625 \r\nQ 47.125 21.390625 47.125 36.375 \r\nQ 47.125 51.421875 43.28125 58.90625 \r\nQ 39.453125 66.40625 31.78125 66.40625 \r\nz\r\nM 31.78125 74.21875 \r\nQ 44.046875 74.21875 50.515625 64.515625 \r\nQ 56.984375 54.828125 56.984375 36.375 \r\nQ 56.984375 17.96875 50.515625 8.265625 \r\nQ 44.046875 -1.421875 31.78125 -1.421875 \r\nQ 19.53125 -1.421875 13.0625 8.265625 \r\nQ 6.59375 17.96875 6.59375 36.375 \r\nQ 6.59375 54.828125 13.0625 64.515625 \r\nQ 19.53125 74.21875 31.78125 74.21875 \r\nz\r\n\" id=\"DejaVuSans-48\"/>\r\n       </defs>\r\n       <use xlink:href=\"#DejaVuSans-48\"/>\r\n      </g>\r\n     </g>\r\n    </g>\r\n    <g id=\"xtick_2\">\r\n     <g id=\"line2d_2\">\r\n      <g>\r\n       <use style=\"stroke:#000000;stroke-width:0.8;\" x=\"86.548996\" xlink:href=\"#m9d2ee45e17\" y=\"224.64\"/>\r\n      </g>\r\n     </g>\r\n     <g id=\"text_2\">\r\n      <!-- 20000 -->\r\n      <g transform=\"translate(70.642746 239.238437)scale(0.1 -0.1)\">\r\n       <defs>\r\n        <path d=\"M 19.1875 8.296875 \r\nL 53.609375 8.296875 \r\nL 53.609375 0 \r\nL 7.328125 0 \r\nL 7.328125 8.296875 \r\nQ 12.9375 14.109375 22.625 23.890625 \r\nQ 32.328125 33.6875 34.8125 36.53125 \r\nQ 39.546875 41.84375 41.421875 45.53125 \r\nQ 43.3125 49.21875 43.3125 52.78125 \r\nQ 43.3125 58.59375 39.234375 62.25 \r\nQ 35.15625 65.921875 28.609375 65.921875 \r\nQ 23.96875 65.921875 18.8125 64.3125 \r\nQ 13.671875 62.703125 7.8125 59.421875 \r\nL 7.8125 69.390625 \r\nQ 13.765625 71.78125 18.9375 73 \r\nQ 24.125 74.21875 28.421875 74.21875 \r\nQ 39.75 74.21875 46.484375 68.546875 \r\nQ 53.21875 62.890625 53.21875 53.421875 \r\nQ 53.21875 48.921875 51.53125 44.890625 \r\nQ 49.859375 40.875 45.40625 35.40625 \r\nQ 44.1875 33.984375 37.640625 27.21875 \r\nQ 31.109375 20.453125 19.1875 8.296875 \r\nz\r\n\" id=\"DejaVuSans-50\"/>\r\n       </defs>\r\n       <use xlink:href=\"#DejaVuSans-50\"/>\r\n       <use x=\"63.623047\" xlink:href=\"#DejaVuSans-48\"/>\r\n       <use x=\"127.246094\" xlink:href=\"#DejaVuSans-48\"/>\r\n       <use x=\"190.869141\" xlink:href=\"#DejaVuSans-48\"/>\r\n       <use x=\"254.492188\" xlink:href=\"#DejaVuSans-48\"/>\r\n      </g>\r\n     </g>\r\n    </g>\r\n    <g id=\"xtick_3\">\r\n     <g id=\"line2d_3\">\r\n      <g>\r\n       <use style=\"stroke:#000000;stroke-width:0.8;\" x=\"124.592311\" xlink:href=\"#m9d2ee45e17\" y=\"224.64\"/>\r\n      </g>\r\n     </g>\r\n     <g id=\"text_3\">\r\n      <!-- 40000 -->\r\n      <g transform=\"translate(108.686061 239.238437)scale(0.1 -0.1)\">\r\n       <defs>\r\n        <path d=\"M 37.796875 64.3125 \r\nL 12.890625 25.390625 \r\nL 37.796875 25.390625 \r\nz\r\nM 35.203125 72.90625 \r\nL 47.609375 72.90625 \r\nL 47.609375 25.390625 \r\nL 58.015625 25.390625 \r\nL 58.015625 17.1875 \r\nL 47.609375 17.1875 \r\nL 47.609375 0 \r\nL 37.796875 0 \r\nL 37.796875 17.1875 \r\nL 4.890625 17.1875 \r\nL 4.890625 26.703125 \r\nz\r\n\" id=\"DejaVuSans-52\"/>\r\n       </defs>\r\n       <use xlink:href=\"#DejaVuSans-52\"/>\r\n       <use x=\"63.623047\" xlink:href=\"#DejaVuSans-48\"/>\r\n       <use x=\"127.246094\" xlink:href=\"#DejaVuSans-48\"/>\r\n       <use x=\"190.869141\" xlink:href=\"#DejaVuSans-48\"/>\r\n       <use x=\"254.492188\" xlink:href=\"#DejaVuSans-48\"/>\r\n      </g>\r\n     </g>\r\n    </g>\r\n    <g id=\"xtick_4\">\r\n     <g id=\"line2d_4\">\r\n      <g>\r\n       <use style=\"stroke:#000000;stroke-width:0.8;\" x=\"162.635626\" xlink:href=\"#m9d2ee45e17\" y=\"224.64\"/>\r\n      </g>\r\n     </g>\r\n     <g id=\"text_4\">\r\n      <!-- 60000 -->\r\n      <g transform=\"translate(146.729376 239.238437)scale(0.1 -0.1)\">\r\n       <defs>\r\n        <path d=\"M 33.015625 40.375 \r\nQ 26.375 40.375 22.484375 35.828125 \r\nQ 18.609375 31.296875 18.609375 23.390625 \r\nQ 18.609375 15.53125 22.484375 10.953125 \r\nQ 26.375 6.390625 33.015625 6.390625 \r\nQ 39.65625 6.390625 43.53125 10.953125 \r\nQ 47.40625 15.53125 47.40625 23.390625 \r\nQ 47.40625 31.296875 43.53125 35.828125 \r\nQ 39.65625 40.375 33.015625 40.375 \r\nz\r\nM 52.59375 71.296875 \r\nL 52.59375 62.3125 \r\nQ 48.875 64.0625 45.09375 64.984375 \r\nQ 41.3125 65.921875 37.59375 65.921875 \r\nQ 27.828125 65.921875 22.671875 59.328125 \r\nQ 17.53125 52.734375 16.796875 39.40625 \r\nQ 19.671875 43.65625 24.015625 45.921875 \r\nQ 28.375 48.1875 33.59375 48.1875 \r\nQ 44.578125 48.1875 50.953125 41.515625 \r\nQ 57.328125 34.859375 57.328125 23.390625 \r\nQ 57.328125 12.15625 50.6875 5.359375 \r\nQ 44.046875 -1.421875 33.015625 -1.421875 \r\nQ 20.359375 -1.421875 13.671875 8.265625 \r\nQ 6.984375 17.96875 6.984375 36.375 \r\nQ 6.984375 53.65625 15.1875 63.9375 \r\nQ 23.390625 74.21875 37.203125 74.21875 \r\nQ 40.921875 74.21875 44.703125 73.484375 \r\nQ 48.484375 72.75 52.59375 71.296875 \r\nz\r\n\" id=\"DejaVuSans-54\"/>\r\n       </defs>\r\n       <use xlink:href=\"#DejaVuSans-54\"/>\r\n       <use x=\"63.623047\" xlink:href=\"#DejaVuSans-48\"/>\r\n       <use x=\"127.246094\" xlink:href=\"#DejaVuSans-48\"/>\r\n       <use x=\"190.869141\" xlink:href=\"#DejaVuSans-48\"/>\r\n       <use x=\"254.492188\" xlink:href=\"#DejaVuSans-48\"/>\r\n      </g>\r\n     </g>\r\n    </g>\r\n    <g id=\"xtick_5\">\r\n     <g id=\"line2d_5\">\r\n      <g>\r\n       <use style=\"stroke:#000000;stroke-width:0.8;\" x=\"200.67894\" xlink:href=\"#m9d2ee45e17\" y=\"224.64\"/>\r\n      </g>\r\n     </g>\r\n     <g id=\"text_5\">\r\n      <!-- 80000 -->\r\n      <g transform=\"translate(184.77269 239.238437)scale(0.1 -0.1)\">\r\n       <defs>\r\n        <path d=\"M 31.78125 34.625 \r\nQ 24.75 34.625 20.71875 30.859375 \r\nQ 16.703125 27.09375 16.703125 20.515625 \r\nQ 16.703125 13.921875 20.71875 10.15625 \r\nQ 24.75 6.390625 31.78125 6.390625 \r\nQ 38.8125 6.390625 42.859375 10.171875 \r\nQ 46.921875 13.96875 46.921875 20.515625 \r\nQ 46.921875 27.09375 42.890625 30.859375 \r\nQ 38.875 34.625 31.78125 34.625 \r\nz\r\nM 21.921875 38.8125 \r\nQ 15.578125 40.375 12.03125 44.71875 \r\nQ 8.5 49.078125 8.5 55.328125 \r\nQ 8.5 64.0625 14.71875 69.140625 \r\nQ 20.953125 74.21875 31.78125 74.21875 \r\nQ 42.671875 74.21875 48.875 69.140625 \r\nQ 55.078125 64.0625 55.078125 55.328125 \r\nQ 55.078125 49.078125 51.53125 44.71875 \r\nQ 48 40.375 41.703125 38.8125 \r\nQ 48.828125 37.15625 52.796875 32.3125 \r\nQ 56.78125 27.484375 56.78125 20.515625 \r\nQ 56.78125 9.90625 50.3125 4.234375 \r\nQ 43.84375 -1.421875 31.78125 -1.421875 \r\nQ 19.734375 -1.421875 13.25 4.234375 \r\nQ 6.78125 9.90625 6.78125 20.515625 \r\nQ 6.78125 27.484375 10.78125 32.3125 \r\nQ 14.796875 37.15625 21.921875 38.8125 \r\nz\r\nM 18.3125 54.390625 \r\nQ 18.3125 48.734375 21.84375 45.5625 \r\nQ 25.390625 42.390625 31.78125 42.390625 \r\nQ 38.140625 42.390625 41.71875 45.5625 \r\nQ 45.3125 48.734375 45.3125 54.390625 \r\nQ 45.3125 60.0625 41.71875 63.234375 \r\nQ 38.140625 66.40625 31.78125 66.40625 \r\nQ 25.390625 66.40625 21.84375 63.234375 \r\nQ 18.3125 60.0625 18.3125 54.390625 \r\nz\r\n\" id=\"DejaVuSans-56\"/>\r\n       </defs>\r\n       <use xlink:href=\"#DejaVuSans-56\"/>\r\n       <use x=\"63.623047\" xlink:href=\"#DejaVuSans-48\"/>\r\n       <use x=\"127.246094\" xlink:href=\"#DejaVuSans-48\"/>\r\n       <use x=\"190.869141\" xlink:href=\"#DejaVuSans-48\"/>\r\n       <use x=\"254.492188\" xlink:href=\"#DejaVuSans-48\"/>\r\n      </g>\r\n     </g>\r\n    </g>\r\n    <g id=\"xtick_6\">\r\n     <g id=\"line2d_6\">\r\n      <g>\r\n       <use style=\"stroke:#000000;stroke-width:0.8;\" x=\"238.722255\" xlink:href=\"#m9d2ee45e17\" y=\"224.64\"/>\r\n      </g>\r\n     </g>\r\n     <g id=\"text_6\">\r\n      <!-- 100000 -->\r\n      <g transform=\"translate(219.634755 239.238437)scale(0.1 -0.1)\">\r\n       <defs>\r\n        <path d=\"M 12.40625 8.296875 \r\nL 28.515625 8.296875 \r\nL 28.515625 63.921875 \r\nL 10.984375 60.40625 \r\nL 10.984375 69.390625 \r\nL 28.421875 72.90625 \r\nL 38.28125 72.90625 \r\nL 38.28125 8.296875 \r\nL 54.390625 8.296875 \r\nL 54.390625 0 \r\nL 12.40625 0 \r\nz\r\n\" id=\"DejaVuSans-49\"/>\r\n       </defs>\r\n       <use xlink:href=\"#DejaVuSans-49\"/>\r\n       <use x=\"63.623047\" xlink:href=\"#DejaVuSans-48\"/>\r\n       <use x=\"127.246094\" xlink:href=\"#DejaVuSans-48\"/>\r\n       <use x=\"190.869141\" xlink:href=\"#DejaVuSans-48\"/>\r\n       <use x=\"254.492188\" xlink:href=\"#DejaVuSans-48\"/>\r\n       <use x=\"318.115234\" xlink:href=\"#DejaVuSans-48\"/>\r\n      </g>\r\n     </g>\r\n    </g>\r\n    <g id=\"xtick_7\">\r\n     <g id=\"line2d_7\">\r\n      <g>\r\n       <use style=\"stroke:#000000;stroke-width:0.8;\" x=\"276.765569\" xlink:href=\"#m9d2ee45e17\" y=\"224.64\"/>\r\n      </g>\r\n     </g>\r\n     <g id=\"text_7\">\r\n      <!-- 120000 -->\r\n      <g transform=\"translate(257.678069 239.238437)scale(0.1 -0.1)\">\r\n       <use xlink:href=\"#DejaVuSans-49\"/>\r\n       <use x=\"63.623047\" xlink:href=\"#DejaVuSans-50\"/>\r\n       <use x=\"127.246094\" xlink:href=\"#DejaVuSans-48\"/>\r\n       <use x=\"190.869141\" xlink:href=\"#DejaVuSans-48\"/>\r\n       <use x=\"254.492188\" xlink:href=\"#DejaVuSans-48\"/>\r\n       <use x=\"318.115234\" xlink:href=\"#DejaVuSans-48\"/>\r\n      </g>\r\n     </g>\r\n    </g>\r\n    <g id=\"xtick_8\">\r\n     <g id=\"line2d_8\">\r\n      <g>\r\n       <use style=\"stroke:#000000;stroke-width:0.8;\" x=\"314.808884\" xlink:href=\"#m9d2ee45e17\" y=\"224.64\"/>\r\n      </g>\r\n     </g>\r\n     <g id=\"text_8\">\r\n      <!-- 140000 -->\r\n      <g transform=\"translate(295.721384 239.238437)scale(0.1 -0.1)\">\r\n       <use xlink:href=\"#DejaVuSans-49\"/>\r\n       <use x=\"63.623047\" xlink:href=\"#DejaVuSans-52\"/>\r\n       <use x=\"127.246094\" xlink:href=\"#DejaVuSans-48\"/>\r\n       <use x=\"190.869141\" xlink:href=\"#DejaVuSans-48\"/>\r\n       <use x=\"254.492188\" xlink:href=\"#DejaVuSans-48\"/>\r\n       <use x=\"318.115234\" xlink:href=\"#DejaVuSans-48\"/>\r\n      </g>\r\n     </g>\r\n    </g>\r\n    <g id=\"xtick_9\">\r\n     <g id=\"line2d_9\">\r\n      <g>\r\n       <use style=\"stroke:#000000;stroke-width:0.8;\" x=\"352.852199\" xlink:href=\"#m9d2ee45e17\" y=\"224.64\"/>\r\n      </g>\r\n     </g>\r\n     <g id=\"text_9\">\r\n      <!-- 160000 -->\r\n      <g transform=\"translate(333.764699 239.238437)scale(0.1 -0.1)\">\r\n       <use xlink:href=\"#DejaVuSans-49\"/>\r\n       <use x=\"63.623047\" xlink:href=\"#DejaVuSans-54\"/>\r\n       <use x=\"127.246094\" xlink:href=\"#DejaVuSans-48\"/>\r\n       <use x=\"190.869141\" xlink:href=\"#DejaVuSans-48\"/>\r\n       <use x=\"254.492188\" xlink:href=\"#DejaVuSans-48\"/>\r\n       <use x=\"318.115234\" xlink:href=\"#DejaVuSans-48\"/>\r\n      </g>\r\n     </g>\r\n    </g>\r\n   </g>\r\n   <g id=\"matplotlib.axis_2\">\r\n    <g id=\"ytick_1\">\r\n     <g id=\"line2d_10\">\r\n      <defs>\r\n       <path d=\"M 0 0 \r\nL -3.5 0 \r\n\" id=\"me5f8d8bae4\" style=\"stroke:#000000;stroke-width:0.8;\"/>\r\n      </defs>\r\n      <g>\r\n       <use style=\"stroke:#000000;stroke-width:0.8;\" x=\"33.2875\" xlink:href=\"#me5f8d8bae4\" y=\"222.797288\"/>\r\n      </g>\r\n     </g>\r\n     <g id=\"text_10\">\r\n      <!-- 50 -->\r\n      <g transform=\"translate(13.5625 226.596507)scale(0.1 -0.1)\">\r\n       <defs>\r\n        <path d=\"M 10.796875 72.90625 \r\nL 49.515625 72.90625 \r\nL 49.515625 64.59375 \r\nL 19.828125 64.59375 \r\nL 19.828125 46.734375 \r\nQ 21.96875 47.46875 24.109375 47.828125 \r\nQ 26.265625 48.1875 28.421875 48.1875 \r\nQ 40.625 48.1875 47.75 41.5 \r\nQ 54.890625 34.8125 54.890625 23.390625 \r\nQ 54.890625 11.625 47.5625 5.09375 \r\nQ 40.234375 -1.421875 26.90625 -1.421875 \r\nQ 22.3125 -1.421875 17.546875 -0.640625 \r\nQ 12.796875 0.140625 7.71875 1.703125 \r\nL 7.71875 11.625 \r\nQ 12.109375 9.234375 16.796875 8.0625 \r\nQ 21.484375 6.890625 26.703125 6.890625 \r\nQ 35.15625 6.890625 40.078125 11.328125 \r\nQ 45.015625 15.765625 45.015625 23.390625 \r\nQ 45.015625 31 40.078125 35.4375 \r\nQ 35.15625 39.890625 26.703125 39.890625 \r\nQ 22.75 39.890625 18.8125 39.015625 \r\nQ 14.890625 38.140625 10.796875 36.28125 \r\nz\r\n\" id=\"DejaVuSans-53\"/>\r\n       </defs>\r\n       <use xlink:href=\"#DejaVuSans-53\"/>\r\n       <use x=\"63.623047\" xlink:href=\"#DejaVuSans-48\"/>\r\n      </g>\r\n     </g>\r\n    </g>\r\n    <g id=\"ytick_2\">\r\n     <g id=\"line2d_11\">\r\n      <g>\r\n       <use style=\"stroke:#000000;stroke-width:0.8;\" x=\"33.2875\" xlink:href=\"#me5f8d8bae4\" y=\"189.293436\"/>\r\n      </g>\r\n     </g>\r\n     <g id=\"text_11\">\r\n      <!-- 100 -->\r\n      <g transform=\"translate(7.2 193.092655)scale(0.1 -0.1)\">\r\n       <use xlink:href=\"#DejaVuSans-49\"/>\r\n       <use x=\"63.623047\" xlink:href=\"#DejaVuSans-48\"/>\r\n       <use x=\"127.246094\" xlink:href=\"#DejaVuSans-48\"/>\r\n      </g>\r\n     </g>\r\n    </g>\r\n    <g id=\"ytick_3\">\r\n     <g id=\"line2d_12\">\r\n      <g>\r\n       <use style=\"stroke:#000000;stroke-width:0.8;\" x=\"33.2875\" xlink:href=\"#me5f8d8bae4\" y=\"155.789584\"/>\r\n      </g>\r\n     </g>\r\n     <g id=\"text_12\">\r\n      <!-- 150 -->\r\n      <g transform=\"translate(7.2 159.588803)scale(0.1 -0.1)\">\r\n       <use xlink:href=\"#DejaVuSans-49\"/>\r\n       <use x=\"63.623047\" xlink:href=\"#DejaVuSans-53\"/>\r\n       <use x=\"127.246094\" xlink:href=\"#DejaVuSans-48\"/>\r\n      </g>\r\n     </g>\r\n    </g>\r\n    <g id=\"ytick_4\">\r\n     <g id=\"line2d_13\">\r\n      <g>\r\n       <use style=\"stroke:#000000;stroke-width:0.8;\" x=\"33.2875\" xlink:href=\"#me5f8d8bae4\" y=\"122.285732\"/>\r\n      </g>\r\n     </g>\r\n     <g id=\"text_13\">\r\n      <!-- 200 -->\r\n      <g transform=\"translate(7.2 126.084951)scale(0.1 -0.1)\">\r\n       <use xlink:href=\"#DejaVuSans-50\"/>\r\n       <use x=\"63.623047\" xlink:href=\"#DejaVuSans-48\"/>\r\n       <use x=\"127.246094\" xlink:href=\"#DejaVuSans-48\"/>\r\n      </g>\r\n     </g>\r\n    </g>\r\n    <g id=\"ytick_5\">\r\n     <g id=\"line2d_14\">\r\n      <g>\r\n       <use style=\"stroke:#000000;stroke-width:0.8;\" x=\"33.2875\" xlink:href=\"#me5f8d8bae4\" y=\"88.78188\"/>\r\n      </g>\r\n     </g>\r\n     <g id=\"text_14\">\r\n      <!-- 250 -->\r\n      <g transform=\"translate(7.2 92.581099)scale(0.1 -0.1)\">\r\n       <use xlink:href=\"#DejaVuSans-50\"/>\r\n       <use x=\"63.623047\" xlink:href=\"#DejaVuSans-53\"/>\r\n       <use x=\"127.246094\" xlink:href=\"#DejaVuSans-48\"/>\r\n      </g>\r\n     </g>\r\n    </g>\r\n    <g id=\"ytick_6\">\r\n     <g id=\"line2d_15\">\r\n      <g>\r\n       <use style=\"stroke:#000000;stroke-width:0.8;\" x=\"33.2875\" xlink:href=\"#me5f8d8bae4\" y=\"55.278028\"/>\r\n      </g>\r\n     </g>\r\n     <g id=\"text_15\">\r\n      <!-- 300 -->\r\n      <g transform=\"translate(7.2 59.077246)scale(0.1 -0.1)\">\r\n       <defs>\r\n        <path d=\"M 40.578125 39.3125 \r\nQ 47.65625 37.796875 51.625 33 \r\nQ 55.609375 28.21875 55.609375 21.1875 \r\nQ 55.609375 10.40625 48.1875 4.484375 \r\nQ 40.765625 -1.421875 27.09375 -1.421875 \r\nQ 22.515625 -1.421875 17.65625 -0.515625 \r\nQ 12.796875 0.390625 7.625 2.203125 \r\nL 7.625 11.71875 \r\nQ 11.71875 9.328125 16.59375 8.109375 \r\nQ 21.484375 6.890625 26.8125 6.890625 \r\nQ 36.078125 6.890625 40.9375 10.546875 \r\nQ 45.796875 14.203125 45.796875 21.1875 \r\nQ 45.796875 27.640625 41.28125 31.265625 \r\nQ 36.765625 34.90625 28.71875 34.90625 \r\nL 20.21875 34.90625 \r\nL 20.21875 43.015625 \r\nL 29.109375 43.015625 \r\nQ 36.375 43.015625 40.234375 45.921875 \r\nQ 44.09375 48.828125 44.09375 54.296875 \r\nQ 44.09375 59.90625 40.109375 62.90625 \r\nQ 36.140625 65.921875 28.71875 65.921875 \r\nQ 24.65625 65.921875 20.015625 65.03125 \r\nQ 15.375 64.15625 9.8125 62.3125 \r\nL 9.8125 71.09375 \r\nQ 15.4375 72.65625 20.34375 73.4375 \r\nQ 25.25 74.21875 29.59375 74.21875 \r\nQ 40.828125 74.21875 47.359375 69.109375 \r\nQ 53.90625 64.015625 53.90625 55.328125 \r\nQ 53.90625 49.265625 50.4375 45.09375 \r\nQ 46.96875 40.921875 40.578125 39.3125 \r\nz\r\n\" id=\"DejaVuSans-51\"/>\r\n       </defs>\r\n       <use xlink:href=\"#DejaVuSans-51\"/>\r\n       <use x=\"63.623047\" xlink:href=\"#DejaVuSans-48\"/>\r\n       <use x=\"127.246094\" xlink:href=\"#DejaVuSans-48\"/>\r\n      </g>\r\n     </g>\r\n    </g>\r\n    <g id=\"ytick_7\">\r\n     <g id=\"line2d_16\">\r\n      <g>\r\n       <use style=\"stroke:#000000;stroke-width:0.8;\" x=\"33.2875\" xlink:href=\"#me5f8d8bae4\" y=\"21.774176\"/>\r\n      </g>\r\n     </g>\r\n     <g id=\"text_16\">\r\n      <!-- 350 -->\r\n      <g transform=\"translate(7.2 25.573394)scale(0.1 -0.1)\">\r\n       <use xlink:href=\"#DejaVuSans-51\"/>\r\n       <use x=\"63.623047\" xlink:href=\"#DejaVuSans-53\"/>\r\n       <use x=\"127.246094\" xlink:href=\"#DejaVuSans-48\"/>\r\n      </g>\r\n     </g>\r\n    </g>\r\n   </g>\r\n   <g id=\"line2d_17\">\r\n    <path clip-path=\"url(#pa8c638d94d)\" d=\"M 48.505682 214.756364 \r\nL 78.940334 214.756364 \r\nL 79.052561 147.078582 \r\nL 109.376887 147.078582 \r\nL 109.489115 149.088814 \r\nL 139.813441 149.088814 \r\nL 139.925669 33.165485 \r\nL 170.249995 33.165485 \r\nL 170.362223 162.490354 \r\nL 200.686549 162.490354 \r\nL 200.798777 180.582435 \r\nL 231.123103 180.582435 \r\nL 231.235331 165.84074 \r\nL 261.559657 165.84074 \r\nL 261.671884 17.083636 \r\nL 291.99621 17.083636 \r\nL 292.108438 145.068351 \r\nL 322.432764 145.068351 \r\nL 322.544992 138.367581 \r\nL 352.869318 138.367581 \r\nL 352.869318 138.367581 \r\n\" style=\"fill:none;stroke:#1f77b4;stroke-linecap:square;stroke-width:1.5;\"/>\r\n   </g>\r\n   <g id=\"patch_3\">\r\n    <path d=\"M 33.2875 224.64 \r\nL 33.2875 7.2 \r\n\" style=\"fill:none;stroke:#000000;stroke-linecap:square;stroke-linejoin:miter;stroke-width:0.8;\"/>\r\n   </g>\r\n   <g id=\"patch_4\">\r\n    <path d=\"M 368.0875 224.64 \r\nL 368.0875 7.2 \r\n\" style=\"fill:none;stroke:#000000;stroke-linecap:square;stroke-linejoin:miter;stroke-width:0.8;\"/>\r\n   </g>\r\n   <g id=\"patch_5\">\r\n    <path d=\"M 33.2875 224.64 \r\nL 368.0875 224.64 \r\n\" style=\"fill:none;stroke:#000000;stroke-linecap:square;stroke-linejoin:miter;stroke-width:0.8;\"/>\r\n   </g>\r\n   <g id=\"patch_6\">\r\n    <path d=\"M 33.2875 7.2 \r\nL 368.0875 7.2 \r\n\" style=\"fill:none;stroke:#000000;stroke-linecap:square;stroke-linejoin:miter;stroke-width:0.8;\"/>\r\n   </g>\r\n  </g>\r\n </g>\r\n <defs>\r\n  <clipPath id=\"pa8c638d94d\">\r\n   <rect height=\"217.44\" width=\"334.8\" x=\"33.2875\" y=\"7.2\"/>\r\n  </clipPath>\r\n </defs>\r\n</svg>\r\n",
      "image/png": "[encoded data removed]"
     },
     "metadata": {
      "needs_background": "light"
     }
    }
   ],
   "source": [
    "\n",
    "ot = trial_events[trial_events.trial_type.isin([788,1092])].groupby('song_clip').head(2)[['song_clip','onset_time']]\n",
    "ot\n",
    "otdf = pd.DataFrame({'song':ot['song_clip'].iloc[::2].values,'start':ot['onset_time'].iloc[::2].values,'end':ot['onset_time'].iloc[1::2].values}).set_index('song')\n",
    "otdf\n",
    "df = pd.DataFrame(list(chain.from_iterable(pd.RangeIndex(otdf[\"start\"],otdf[\"end\"]) for _, otdf in otdf.iterrows())),columns=(\"time\",)).merge(ot, how='left', left_on='time',right_on='onset_time').ffill().astype(int).drop(columns='onset_time')\n",
    "df.song_clip.plot() # YES THIS IS IT THIS IS WHAT I WANT"
   ]
  },
  {
   "cell_type": "code",
   "execution_count": 75,
   "metadata": {},
   "outputs": [
    {
     "output_type": "execute_result",
     "data": {
      "text/plain": [
       "   time  song_clip\n",
       "0  5689         62\n",
       "1  5690         62\n",
       "2  5691         62\n",
       "3  5692         62\n",
       "4  5693         62"
      ],
      "text/html": "<div>\n<style scoped>\n    .dataframe tbody tr th:only-of-type {\n        vertical-align: middle;\n    }\n\n    .dataframe tbody tr th {\n        vertical-align: top;\n    }\n\n    .dataframe thead th {\n        text-align: right;\n    }\n</style>\n<table border=\"1\" class=\"dataframe\">\n  <thead>\n    <tr style=\"text-align: right;\">\n      <th></th>\n      <th>time</th>\n      <th>song_clip</th>\n    </tr>\n  </thead>\n  <tbody>\n    <tr>\n      <th>0</th>\n      <td>5689</td>\n      <td>62</td>\n    </tr>\n    <tr>\n      <th>1</th>\n      <td>5690</td>\n      <td>62</td>\n    </tr>\n    <tr>\n      <th>2</th>\n      <td>5691</td>\n      <td>62</td>\n    </tr>\n    <tr>\n      <th>3</th>\n      <td>5692</td>\n      <td>62</td>\n    </tr>\n    <tr>\n      <th>4</th>\n      <td>5693</td>\n      <td>62</td>\n    </tr>\n  </tbody>\n</table>\n</div>"
     },
     "metadata": {},
     "execution_count": 75
    }
   ],
   "source": [
    "df.head()"
   ]
  },
  {
   "cell_type": "code",
   "execution_count": 84,
   "metadata": {},
   "outputs": [
    {
     "output_type": "execute_result",
     "data": {
      "text/plain": [
       "          time  song_clip         FP1        FP2         F7         F3  \\\n",
       "0         5689         62 -232.628543 -84.023245  57.974299  -3.002626   \n",
       "1         5690         62 -232.815737 -84.354865  58.570296  -2.830203   \n",
       "2         5691         62 -233.876498 -83.967975  59.357012  -1.623242   \n",
       "3         5692         62 -238.306737 -87.947411  57.235262  -2.334487   \n",
       "4         5693         62 -241.738612 -89.329159  53.254002  -4.317351   \n",
       "...        ...        ...         ...        ...        ...        ...   \n",
       "160005  521664        176 -142.775809 -44.339431 -14.379751 -68.501808   \n",
       "160006  521665        176 -139.031945 -45.776449 -15.142627 -67.984539   \n",
       "160007  521666        176 -138.158376 -42.736603 -17.073658 -67.941433   \n",
       "160008  521667        176 -144.834934 -41.023235 -20.053644 -69.213053   \n",
       "160009  521668        176 -146.644468 -37.596499 -22.056194 -70.182932   \n",
       "\n",
       "               Fz         F4         F8         T3  ...         Cz         C4  \\\n",
       "0        8.304956 -12.351710  -4.564134  34.721616  ... -80.553639  64.547816   \n",
       "1        9.961316 -13.989259  -4.108805  36.077969  ... -81.918580  61.791627   \n",
       "2       11.123769 -12.522584  -4.741206  34.107688  ... -81.758782  64.165934   \n",
       "3        7.928387 -14.345248  -7.979102  31.637698  ... -81.308240  64.348573   \n",
       "4        9.344615 -11.981481  -6.638411  28.382451  ... -82.890684  64.796869   \n",
       "...           ...        ...        ...        ...  ...        ...        ...   \n",
       "160005 -13.276836 -68.113807 -20.500652 -10.352129  ... -66.906451 -16.278262   \n",
       "160006 -13.516967 -70.021908 -20.880093 -11.594263  ... -67.558959 -20.512167   \n",
       "160007 -12.741998 -67.743579 -19.716474 -11.351547  ... -66.269478 -15.448085   \n",
       "160008 -14.542982 -66.533217 -18.957592 -11.808424  ... -66.711142 -16.344676   \n",
       "160009 -15.337052 -65.579167 -18.704631 -13.950034  ... -66.875379 -15.929588   \n",
       "\n",
       "               T4         T5         P3         Pz         P4         T6  \\\n",
       "0       86.102119  55.599693  15.165444  12.035700  14.351771  -1.056958   \n",
       "1       80.731111  62.401470  22.186849  11.466394  11.677751  -5.855176   \n",
       "2       82.015482  53.146194  16.514599  10.129388  13.594973  -3.975874   \n",
       "3       81.948762  50.716988   3.124606   9.538518  13.815705  -0.737076   \n",
       "4       82.265685  54.725179  -3.214968   9.240926  14.831076   0.862330   \n",
       "...           ...        ...        ...        ...        ...        ...   \n",
       "160005  17.546700  -1.826742 -23.314465 -58.144184 -47.478626 -84.865838   \n",
       "160006  19.131314  -2.166831 -24.163126 -56.738171 -45.719070 -84.505971   \n",
       "160007  20.182164  -1.316609 -22.030592 -53.663057 -44.665860 -82.506714   \n",
       "160008  18.864432   1.161181 -20.217213 -52.170785 -44.810913 -82.226818   \n",
       "160009  15.828644  -1.292317 -13.921160 -52.804785 -44.073035 -83.826224   \n",
       "\n",
       "                O1          O2  \n",
       "0       105.074995  101.596801  \n",
       "1        82.731737   96.587040  \n",
       "2        97.409108   95.214997  \n",
       "3       130.383109  100.757328  \n",
       "4       138.422942  103.384067  \n",
       "...            ...         ...  \n",
       "160005   19.721881   36.821942  \n",
       "160006   16.276238   37.841947  \n",
       "160007   22.646670   41.145682  \n",
       "160008   21.217663   40.522847  \n",
       "160009   11.802244   38.843900  \n",
       "\n",
       "[160010 rows x 21 columns]"
      ],
      "text/html": "<div>\n<style scoped>\n    .dataframe tbody tr th:only-of-type {\n        vertical-align: middle;\n    }\n\n    .dataframe tbody tr th {\n        vertical-align: top;\n    }\n\n    .dataframe thead th {\n        text-align: right;\n    }\n</style>\n<table border=\"1\" class=\"dataframe\">\n  <thead>\n    <tr style=\"text-align: right;\">\n      <th></th>\n      <th>time</th>\n      <th>song_clip</th>\n      <th>FP1</th>\n      <th>FP2</th>\n      <th>F7</th>\n      <th>F3</th>\n      <th>Fz</th>\n      <th>F4</th>\n      <th>F8</th>\n      <th>T3</th>\n      <th>...</th>\n      <th>Cz</th>\n      <th>C4</th>\n      <th>T4</th>\n      <th>T5</th>\n      <th>P3</th>\n      <th>Pz</th>\n      <th>P4</th>\n      <th>T6</th>\n      <th>O1</th>\n      <th>O2</th>\n    </tr>\n  </thead>\n  <tbody>\n    <tr>\n      <th>0</th>\n      <td>5689</td>\n      <td>62</td>\n      <td>-232.628543</td>\n      <td>-84.023245</td>\n      <td>57.974299</td>\n      <td>-3.002626</td>\n      <td>8.304956</td>\n      <td>-12.351710</td>\n      <td>-4.564134</td>\n      <td>34.721616</td>\n      <td>...</td>\n      <td>-80.553639</td>\n      <td>64.547816</td>\n      <td>86.102119</td>\n      <td>55.599693</td>\n      <td>15.165444</td>\n      <td>12.035700</td>\n      <td>14.351771</td>\n      <td>-1.056958</td>\n      <td>105.074995</td>\n      <td>101.596801</td>\n    </tr>\n    <tr>\n      <th>1</th>\n      <td>5690</td>\n      <td>62</td>\n      <td>-232.815737</td>\n      <td>-84.354865</td>\n      <td>58.570296</td>\n      <td>-2.830203</td>\n      <td>9.961316</td>\n      <td>-13.989259</td>\n      <td>-4.108805</td>\n      <td>36.077969</td>\n      <td>...</td>\n      <td>-81.918580</td>\n      <td>61.791627</td>\n      <td>80.731111</td>\n      <td>62.401470</td>\n      <td>22.186849</td>\n      <td>11.466394</td>\n      <td>11.677751</td>\n      <td>-5.855176</td>\n      <td>82.731737</td>\n      <td>96.587040</td>\n    </tr>\n    <tr>\n      <th>2</th>\n      <td>5691</td>\n      <td>62</td>\n      <td>-233.876498</td>\n      <td>-83.967975</td>\n      <td>59.357012</td>\n      <td>-1.623242</td>\n      <td>11.123769</td>\n      <td>-12.522584</td>\n      <td>-4.741206</td>\n      <td>34.107688</td>\n      <td>...</td>\n      <td>-81.758782</td>\n      <td>64.165934</td>\n      <td>82.015482</td>\n      <td>53.146194</td>\n      <td>16.514599</td>\n      <td>10.129388</td>\n      <td>13.594973</td>\n      <td>-3.975874</td>\n      <td>97.409108</td>\n      <td>95.214997</td>\n    </tr>\n    <tr>\n      <th>3</th>\n      <td>5692</td>\n      <td>62</td>\n      <td>-238.306737</td>\n      <td>-87.947411</td>\n      <td>57.235262</td>\n      <td>-2.334487</td>\n      <td>7.928387</td>\n      <td>-14.345248</td>\n      <td>-7.979102</td>\n      <td>31.637698</td>\n      <td>...</td>\n      <td>-81.308240</td>\n      <td>64.348573</td>\n      <td>81.948762</td>\n      <td>50.716988</td>\n      <td>3.124606</td>\n      <td>9.538518</td>\n      <td>13.815705</td>\n      <td>-0.737076</td>\n      <td>130.383109</td>\n      <td>100.757328</td>\n    </tr>\n    <tr>\n      <th>4</th>\n      <td>5693</td>\n      <td>62</td>\n      <td>-241.738612</td>\n      <td>-89.329159</td>\n      <td>53.254002</td>\n      <td>-4.317351</td>\n      <td>9.344615</td>\n      <td>-11.981481</td>\n      <td>-6.638411</td>\n      <td>28.382451</td>\n      <td>...</td>\n      <td>-82.890684</td>\n      <td>64.796869</td>\n      <td>82.265685</td>\n      <td>54.725179</td>\n      <td>-3.214968</td>\n      <td>9.240926</td>\n      <td>14.831076</td>\n      <td>0.862330</td>\n      <td>138.422942</td>\n      <td>103.384067</td>\n    </tr>\n    <tr>\n      <th>...</th>\n      <td>...</td>\n      <td>...</td>\n      <td>...</td>\n      <td>...</td>\n      <td>...</td>\n      <td>...</td>\n      <td>...</td>\n      <td>...</td>\n      <td>...</td>\n      <td>...</td>\n      <td>...</td>\n      <td>...</td>\n      <td>...</td>\n      <td>...</td>\n      <td>...</td>\n      <td>...</td>\n      <td>...</td>\n      <td>...</td>\n      <td>...</td>\n      <td>...</td>\n      <td>...</td>\n    </tr>\n    <tr>\n      <th>160005</th>\n      <td>521664</td>\n      <td>176</td>\n      <td>-142.775809</td>\n      <td>-44.339431</td>\n      <td>-14.379751</td>\n      <td>-68.501808</td>\n      <td>-13.276836</td>\n      <td>-68.113807</td>\n      <td>-20.500652</td>\n      <td>-10.352129</td>\n      <td>...</td>\n      <td>-66.906451</td>\n      <td>-16.278262</td>\n      <td>17.546700</td>\n      <td>-1.826742</td>\n      <td>-23.314465</td>\n      <td>-58.144184</td>\n      <td>-47.478626</td>\n      <td>-84.865838</td>\n      <td>19.721881</td>\n      <td>36.821942</td>\n    </tr>\n    <tr>\n      <th>160006</th>\n      <td>521665</td>\n      <td>176</td>\n      <td>-139.031945</td>\n      <td>-45.776449</td>\n      <td>-15.142627</td>\n      <td>-67.984539</td>\n      <td>-13.516967</td>\n      <td>-70.021908</td>\n      <td>-20.880093</td>\n      <td>-11.594263</td>\n      <td>...</td>\n      <td>-67.558959</td>\n      <td>-20.512167</td>\n      <td>19.131314</td>\n      <td>-2.166831</td>\n      <td>-24.163126</td>\n      <td>-56.738171</td>\n      <td>-45.719070</td>\n      <td>-84.505971</td>\n      <td>16.276238</td>\n      <td>37.841947</td>\n    </tr>\n    <tr>\n      <th>160007</th>\n      <td>521666</td>\n      <td>176</td>\n      <td>-138.158376</td>\n      <td>-42.736603</td>\n      <td>-17.073658</td>\n      <td>-67.941433</td>\n      <td>-12.741998</td>\n      <td>-67.743579</td>\n      <td>-19.716474</td>\n      <td>-11.351547</td>\n      <td>...</td>\n      <td>-66.269478</td>\n      <td>-15.448085</td>\n      <td>20.182164</td>\n      <td>-1.316609</td>\n      <td>-22.030592</td>\n      <td>-53.663057</td>\n      <td>-44.665860</td>\n      <td>-82.506714</td>\n      <td>22.646670</td>\n      <td>41.145682</td>\n    </tr>\n    <tr>\n      <th>160008</th>\n      <td>521667</td>\n      <td>176</td>\n      <td>-144.834934</td>\n      <td>-41.023235</td>\n      <td>-20.053644</td>\n      <td>-69.213053</td>\n      <td>-14.542982</td>\n      <td>-66.533217</td>\n      <td>-18.957592</td>\n      <td>-11.808424</td>\n      <td>...</td>\n      <td>-66.711142</td>\n      <td>-16.344676</td>\n      <td>18.864432</td>\n      <td>1.161181</td>\n      <td>-20.217213</td>\n      <td>-52.170785</td>\n      <td>-44.810913</td>\n      <td>-82.226818</td>\n      <td>21.217663</td>\n      <td>40.522847</td>\n    </tr>\n    <tr>\n      <th>160009</th>\n      <td>521668</td>\n      <td>176</td>\n      <td>-146.644468</td>\n      <td>-37.596499</td>\n      <td>-22.056194</td>\n      <td>-70.182932</td>\n      <td>-15.337052</td>\n      <td>-65.579167</td>\n      <td>-18.704631</td>\n      <td>-13.950034</td>\n      <td>...</td>\n      <td>-66.875379</td>\n      <td>-15.929588</td>\n      <td>15.828644</td>\n      <td>-1.292317</td>\n      <td>-13.921160</td>\n      <td>-52.804785</td>\n      <td>-44.073035</td>\n      <td>-83.826224</td>\n      <td>11.802244</td>\n      <td>38.843900</td>\n    </tr>\n  </tbody>\n</table>\n<p>160010 rows × 21 columns</p>\n</div>"
     },
     "metadata": {},
     "execution_count": 84
    }
   ],
   "source": [
    "mdf = df.merge(record, how='left', on='time')\n",
    "mdf"
   ]
  },
  {
   "cell_type": "code",
   "execution_count": 88,
   "metadata": {},
   "outputs": [
    {
     "output_type": "execute_result",
     "data": {
      "text/plain": [
       "     Number  valence  energy  tension  anger  fear  happy   sad  tender  \\\n",
       "0         1     4.83    6.83     3.17   1.00  1.00   7.33  1.00    1.00   \n",
       "1         2     4.83    6.17     3.83   1.00  1.00   7.17  1.17    1.83   \n",
       "2         3     5.60    6.20     3.00   1.00  1.00   7.17  1.00    1.00   \n",
       "3         4     4.67    6.33     3.83   1.00  1.00   7.17  1.00    1.00   \n",
       "4         5     6.50    5.00     3.17   1.17  1.00   7.17  1.00    2.83   \n",
       "..      ...      ...     ...      ...    ...   ...    ...   ...     ...   \n",
       "355     356     4.80    2.40     3.60   1.00  1.00   1.33  6.67    4.50   \n",
       "356     357     5.00    2.83     3.67   1.00  2.40   1.00  2.60    4.20   \n",
       "357     358     4.20    2.20     4.00   1.00  1.83   1.67  5.50    4.33   \n",
       "358     359     4.60    4.20     4.20   1.00  1.33   3.33  2.67    1.00   \n",
       "359     360     3.20    3.40     5.00   1.33  5.33   1.00  3.00    1.00   \n",
       "\n",
       "          TARGET  \n",
       "0          HAPPY  \n",
       "1          HAPPY  \n",
       "2          HAPPY  \n",
       "3          HAPPY  \n",
       "4          HAPPY  \n",
       "..           ...  \n",
       "355  LOW TENSION  \n",
       "356  LOW TENSION  \n",
       "357  LOW TENSION  \n",
       "358  LOW TENSION  \n",
       "359  LOW TENSION  \n",
       "\n",
       "[360 rows x 10 columns]"
      ],
      "text/html": "<div>\n<style scoped>\n    .dataframe tbody tr th:only-of-type {\n        vertical-align: middle;\n    }\n\n    .dataframe tbody tr th {\n        vertical-align: top;\n    }\n\n    .dataframe thead th {\n        text-align: right;\n    }\n</style>\n<table border=\"1\" class=\"dataframe\">\n  <thead>\n    <tr style=\"text-align: right;\">\n      <th></th>\n      <th>Number</th>\n      <th>valence</th>\n      <th>energy</th>\n      <th>tension</th>\n      <th>anger</th>\n      <th>fear</th>\n      <th>happy</th>\n      <th>sad</th>\n      <th>tender</th>\n      <th>TARGET</th>\n    </tr>\n  </thead>\n  <tbody>\n    <tr>\n      <th>0</th>\n      <td>1</td>\n      <td>4.83</td>\n      <td>6.83</td>\n      <td>3.17</td>\n      <td>1.00</td>\n      <td>1.00</td>\n      <td>7.33</td>\n      <td>1.00</td>\n      <td>1.00</td>\n      <td>HAPPY</td>\n    </tr>\n    <tr>\n      <th>1</th>\n      <td>2</td>\n      <td>4.83</td>\n      <td>6.17</td>\n      <td>3.83</td>\n      <td>1.00</td>\n      <td>1.00</td>\n      <td>7.17</td>\n      <td>1.17</td>\n      <td>1.83</td>\n      <td>HAPPY</td>\n    </tr>\n    <tr>\n      <th>2</th>\n      <td>3</td>\n      <td>5.60</td>\n      <td>6.20</td>\n      <td>3.00</td>\n      <td>1.00</td>\n      <td>1.00</td>\n      <td>7.17</td>\n      <td>1.00</td>\n      <td>1.00</td>\n      <td>HAPPY</td>\n    </tr>\n    <tr>\n      <th>3</th>\n      <td>4</td>\n      <td>4.67</td>\n      <td>6.33</td>\n      <td>3.83</td>\n      <td>1.00</td>\n      <td>1.00</td>\n      <td>7.17</td>\n      <td>1.00</td>\n      <td>1.00</td>\n      <td>HAPPY</td>\n    </tr>\n    <tr>\n      <th>4</th>\n      <td>5</td>\n      <td>6.50</td>\n      <td>5.00</td>\n      <td>3.17</td>\n      <td>1.17</td>\n      <td>1.00</td>\n      <td>7.17</td>\n      <td>1.00</td>\n      <td>2.83</td>\n      <td>HAPPY</td>\n    </tr>\n    <tr>\n      <th>...</th>\n      <td>...</td>\n      <td>...</td>\n      <td>...</td>\n      <td>...</td>\n      <td>...</td>\n      <td>...</td>\n      <td>...</td>\n      <td>...</td>\n      <td>...</td>\n      <td>...</td>\n    </tr>\n    <tr>\n      <th>355</th>\n      <td>356</td>\n      <td>4.80</td>\n      <td>2.40</td>\n      <td>3.60</td>\n      <td>1.00</td>\n      <td>1.00</td>\n      <td>1.33</td>\n      <td>6.67</td>\n      <td>4.50</td>\n      <td>LOW TENSION</td>\n    </tr>\n    <tr>\n      <th>356</th>\n      <td>357</td>\n      <td>5.00</td>\n      <td>2.83</td>\n      <td>3.67</td>\n      <td>1.00</td>\n      <td>2.40</td>\n      <td>1.00</td>\n      <td>2.60</td>\n      <td>4.20</td>\n      <td>LOW TENSION</td>\n    </tr>\n    <tr>\n      <th>357</th>\n      <td>358</td>\n      <td>4.20</td>\n      <td>2.20</td>\n      <td>4.00</td>\n      <td>1.00</td>\n      <td>1.83</td>\n      <td>1.67</td>\n      <td>5.50</td>\n      <td>4.33</td>\n      <td>LOW TENSION</td>\n    </tr>\n    <tr>\n      <th>358</th>\n      <td>359</td>\n      <td>4.60</td>\n      <td>4.20</td>\n      <td>4.20</td>\n      <td>1.00</td>\n      <td>1.33</td>\n      <td>3.33</td>\n      <td>2.67</td>\n      <td>1.00</td>\n      <td>LOW TENSION</td>\n    </tr>\n    <tr>\n      <th>359</th>\n      <td>360</td>\n      <td>3.20</td>\n      <td>3.40</td>\n      <td>5.00</td>\n      <td>1.33</td>\n      <td>5.33</td>\n      <td>1.00</td>\n      <td>3.00</td>\n      <td>1.00</td>\n      <td>LOW TENSION</td>\n    </tr>\n  </tbody>\n</table>\n<p>360 rows × 10 columns</p>\n</div>"
     },
     "metadata": {},
     "execution_count": 88
    }
   ],
   "source": [
    "set1 = pd.read_csv('data/set1/set1/mean_ratings_set1.csv').drop(columns=['Unnamed: 10', 'Unnamed: 11'])\n",
    "set1"
   ]
  },
  {
   "cell_type": "code",
   "execution_count": 89,
   "metadata": {},
   "outputs": [
    {
     "output_type": "execute_result",
     "data": {
      "text/plain": [
       "array(['HAPPY', 'SAD', 'TENDER', 'FEAR', 'ANGER', 'SURPRISE',\n",
       "       'HIGH VALENCE', 'LOW VALENCE', 'HIGH ENERGY', 'LOW ENERGY',\n",
       "       'HIGH TENSION', 'LOW TENSION'], dtype=object)"
      ]
     },
     "metadata": {},
     "execution_count": 89
    }
   ],
   "source": [
    "set1.TARGET.unique()\n",
    "positive=['HAPPY', 'SAD', 'TENDER', 'FEAR', 'ANGER', 'SURPRISE',\n",
    "       'HIGH VALENCE', 'LOW VALENCE', 'HIGH ENERGY', 'LOW ENERGY',\n",
    "       'HIGH TENSION', 'LOW TENSION']"
   ]
  },
  {
   "cell_type": "code",
   "execution_count": 91,
   "metadata": {},
   "outputs": [
    {
     "output_type": "execute_result",
     "data": {
      "text/plain": [
       "          time  song_clip         FP1        FP2         F7         F3  \\\n",
       "0         5689         62 -232.628543 -84.023245  57.974299  -3.002626   \n",
       "1         5690         62 -232.815737 -84.354865  58.570296  -2.830203   \n",
       "2         5691         62 -233.876498 -83.967975  59.357012  -1.623242   \n",
       "3         5692         62 -238.306737 -87.947411  57.235262  -2.334487   \n",
       "4         5693         62 -241.738612 -89.329159  53.254002  -4.317351   \n",
       "...        ...        ...         ...        ...        ...        ...   \n",
       "160005  521664        176 -142.775809 -44.339431 -14.379751 -68.501808   \n",
       "160006  521665        176 -139.031945 -45.776449 -15.142627 -67.984539   \n",
       "160007  521666        176 -138.158376 -42.736603 -17.073658 -67.941433   \n",
       "160008  521667        176 -144.834934 -41.023235 -20.053644 -69.213053   \n",
       "160009  521668        176 -146.644468 -37.596499 -22.056194 -70.182932   \n",
       "\n",
       "               Fz         F4         F8         T3  ...         T4         T5  \\\n",
       "0        8.304956 -12.351710  -4.564134  34.721616  ...  86.102119  55.599693   \n",
       "1        9.961316 -13.989259  -4.108805  36.077969  ...  80.731111  62.401470   \n",
       "2       11.123769 -12.522584  -4.741206  34.107688  ...  82.015482  53.146194   \n",
       "3        7.928387 -14.345248  -7.979102  31.637698  ...  81.948762  50.716988   \n",
       "4        9.344615 -11.981481  -6.638411  28.382451  ...  82.265685  54.725179   \n",
       "...           ...        ...        ...        ...  ...        ...        ...   \n",
       "160005 -13.276836 -68.113807 -20.500652 -10.352129  ...  17.546700  -1.826742   \n",
       "160006 -13.516967 -70.021908 -20.880093 -11.594263  ...  19.131314  -2.166831   \n",
       "160007 -12.741998 -67.743579 -19.716474 -11.351547  ...  20.182164  -1.316609   \n",
       "160008 -14.542982 -66.533217 -18.957592 -11.808424  ...  18.864432   1.161181   \n",
       "160009 -15.337052 -65.579167 -18.704631 -13.950034  ...  15.828644  -1.292317   \n",
       "\n",
       "               P3         Pz         P4         T6          O1          O2  \\\n",
       "0       15.165444  12.035700  14.351771  -1.056958  105.074995  101.596801   \n",
       "1       22.186849  11.466394  11.677751  -5.855176   82.731737   96.587040   \n",
       "2       16.514599  10.129388  13.594973  -3.975874   97.409108   95.214997   \n",
       "3        3.124606   9.538518  13.815705  -0.737076  130.383109  100.757328   \n",
       "4       -3.214968   9.240926  14.831076   0.862330  138.422942  103.384067   \n",
       "...           ...        ...        ...        ...         ...         ...   \n",
       "160005 -23.314465 -58.144184 -47.478626 -84.865838   19.721881   36.821942   \n",
       "160006 -24.163126 -56.738171 -45.719070 -84.505971   16.276238   37.841947   \n",
       "160007 -22.030592 -53.663057 -44.665860 -82.506714   22.646670   41.145682   \n",
       "160008 -20.217213 -52.170785 -44.810913 -82.226818   21.217663   40.522847   \n",
       "160009 -13.921160 -52.804785 -44.073035 -83.826224   11.802244   38.843900   \n",
       "\n",
       "        Number    TARGET  \n",
       "0           62    TENDER  \n",
       "1           62    TENDER  \n",
       "2           62    TENDER  \n",
       "3           62    TENDER  \n",
       "4           62    TENDER  \n",
       "...        ...       ...  \n",
       "160005     176  SURPRISE  \n",
       "160006     176  SURPRISE  \n",
       "160007     176  SURPRISE  \n",
       "160008     176  SURPRISE  \n",
       "160009     176  SURPRISE  \n",
       "\n",
       "[160010 rows x 23 columns]"
      ],
      "text/html": "<div>\n<style scoped>\n    .dataframe tbody tr th:only-of-type {\n        vertical-align: middle;\n    }\n\n    .dataframe tbody tr th {\n        vertical-align: top;\n    }\n\n    .dataframe thead th {\n        text-align: right;\n    }\n</style>\n<table border=\"1\" class=\"dataframe\">\n  <thead>\n    <tr style=\"text-align: right;\">\n      <th></th>\n      <th>time</th>\n      <th>song_clip</th>\n      <th>FP1</th>\n      <th>FP2</th>\n      <th>F7</th>\n      <th>F3</th>\n      <th>Fz</th>\n      <th>F4</th>\n      <th>F8</th>\n      <th>T3</th>\n      <th>...</th>\n      <th>T4</th>\n      <th>T5</th>\n      <th>P3</th>\n      <th>Pz</th>\n      <th>P4</th>\n      <th>T6</th>\n      <th>O1</th>\n      <th>O2</th>\n      <th>Number</th>\n      <th>TARGET</th>\n    </tr>\n  </thead>\n  <tbody>\n    <tr>\n      <th>0</th>\n      <td>5689</td>\n      <td>62</td>\n      <td>-232.628543</td>\n      <td>-84.023245</td>\n      <td>57.974299</td>\n      <td>-3.002626</td>\n      <td>8.304956</td>\n      <td>-12.351710</td>\n      <td>-4.564134</td>\n      <td>34.721616</td>\n      <td>...</td>\n      <td>86.102119</td>\n      <td>55.599693</td>\n      <td>15.165444</td>\n      <td>12.035700</td>\n      <td>14.351771</td>\n      <td>-1.056958</td>\n      <td>105.074995</td>\n      <td>101.596801</td>\n      <td>62</td>\n      <td>TENDER</td>\n    </tr>\n    <tr>\n      <th>1</th>\n      <td>5690</td>\n      <td>62</td>\n      <td>-232.815737</td>\n      <td>-84.354865</td>\n      <td>58.570296</td>\n      <td>-2.830203</td>\n      <td>9.961316</td>\n      <td>-13.989259</td>\n      <td>-4.108805</td>\n      <td>36.077969</td>\n      <td>...</td>\n      <td>80.731111</td>\n      <td>62.401470</td>\n      <td>22.186849</td>\n      <td>11.466394</td>\n      <td>11.677751</td>\n      <td>-5.855176</td>\n      <td>82.731737</td>\n      <td>96.587040</td>\n      <td>62</td>\n      <td>TENDER</td>\n    </tr>\n    <tr>\n      <th>2</th>\n      <td>5691</td>\n      <td>62</td>\n      <td>-233.876498</td>\n      <td>-83.967975</td>\n      <td>59.357012</td>\n      <td>-1.623242</td>\n      <td>11.123769</td>\n      <td>-12.522584</td>\n      <td>-4.741206</td>\n      <td>34.107688</td>\n      <td>...</td>\n      <td>82.015482</td>\n      <td>53.146194</td>\n      <td>16.514599</td>\n      <td>10.129388</td>\n      <td>13.594973</td>\n      <td>-3.975874</td>\n      <td>97.409108</td>\n      <td>95.214997</td>\n      <td>62</td>\n      <td>TENDER</td>\n    </tr>\n    <tr>\n      <th>3</th>\n      <td>5692</td>\n      <td>62</td>\n      <td>-238.306737</td>\n      <td>-87.947411</td>\n      <td>57.235262</td>\n      <td>-2.334487</td>\n      <td>7.928387</td>\n      <td>-14.345248</td>\n      <td>-7.979102</td>\n      <td>31.637698</td>\n      <td>...</td>\n      <td>81.948762</td>\n      <td>50.716988</td>\n      <td>3.124606</td>\n      <td>9.538518</td>\n      <td>13.815705</td>\n      <td>-0.737076</td>\n      <td>130.383109</td>\n      <td>100.757328</td>\n      <td>62</td>\n      <td>TENDER</td>\n    </tr>\n    <tr>\n      <th>4</th>\n      <td>5693</td>\n      <td>62</td>\n      <td>-241.738612</td>\n      <td>-89.329159</td>\n      <td>53.254002</td>\n      <td>-4.317351</td>\n      <td>9.344615</td>\n      <td>-11.981481</td>\n      <td>-6.638411</td>\n      <td>28.382451</td>\n      <td>...</td>\n      <td>82.265685</td>\n      <td>54.725179</td>\n      <td>-3.214968</td>\n      <td>9.240926</td>\n      <td>14.831076</td>\n      <td>0.862330</td>\n      <td>138.422942</td>\n      <td>103.384067</td>\n      <td>62</td>\n      <td>TENDER</td>\n    </tr>\n    <tr>\n      <th>...</th>\n      <td>...</td>\n      <td>...</td>\n      <td>...</td>\n      <td>...</td>\n      <td>...</td>\n      <td>...</td>\n      <td>...</td>\n      <td>...</td>\n      <td>...</td>\n      <td>...</td>\n      <td>...</td>\n      <td>...</td>\n      <td>...</td>\n      <td>...</td>\n      <td>...</td>\n      <td>...</td>\n      <td>...</td>\n      <td>...</td>\n      <td>...</td>\n      <td>...</td>\n      <td>...</td>\n    </tr>\n    <tr>\n      <th>160005</th>\n      <td>521664</td>\n      <td>176</td>\n      <td>-142.775809</td>\n      <td>-44.339431</td>\n      <td>-14.379751</td>\n      <td>-68.501808</td>\n      <td>-13.276836</td>\n      <td>-68.113807</td>\n      <td>-20.500652</td>\n      <td>-10.352129</td>\n      <td>...</td>\n      <td>17.546700</td>\n      <td>-1.826742</td>\n      <td>-23.314465</td>\n      <td>-58.144184</td>\n      <td>-47.478626</td>\n      <td>-84.865838</td>\n      <td>19.721881</td>\n      <td>36.821942</td>\n      <td>176</td>\n      <td>SURPRISE</td>\n    </tr>\n    <tr>\n      <th>160006</th>\n      <td>521665</td>\n      <td>176</td>\n      <td>-139.031945</td>\n      <td>-45.776449</td>\n      <td>-15.142627</td>\n      <td>-67.984539</td>\n      <td>-13.516967</td>\n      <td>-70.021908</td>\n      <td>-20.880093</td>\n      <td>-11.594263</td>\n      <td>...</td>\n      <td>19.131314</td>\n      <td>-2.166831</td>\n      <td>-24.163126</td>\n      <td>-56.738171</td>\n      <td>-45.719070</td>\n      <td>-84.505971</td>\n      <td>16.276238</td>\n      <td>37.841947</td>\n      <td>176</td>\n      <td>SURPRISE</td>\n    </tr>\n    <tr>\n      <th>160007</th>\n      <td>521666</td>\n      <td>176</td>\n      <td>-138.158376</td>\n      <td>-42.736603</td>\n      <td>-17.073658</td>\n      <td>-67.941433</td>\n      <td>-12.741998</td>\n      <td>-67.743579</td>\n      <td>-19.716474</td>\n      <td>-11.351547</td>\n      <td>...</td>\n      <td>20.182164</td>\n      <td>-1.316609</td>\n      <td>-22.030592</td>\n      <td>-53.663057</td>\n      <td>-44.665860</td>\n      <td>-82.506714</td>\n      <td>22.646670</td>\n      <td>41.145682</td>\n      <td>176</td>\n      <td>SURPRISE</td>\n    </tr>\n    <tr>\n      <th>160008</th>\n      <td>521667</td>\n      <td>176</td>\n      <td>-144.834934</td>\n      <td>-41.023235</td>\n      <td>-20.053644</td>\n      <td>-69.213053</td>\n      <td>-14.542982</td>\n      <td>-66.533217</td>\n      <td>-18.957592</td>\n      <td>-11.808424</td>\n      <td>...</td>\n      <td>18.864432</td>\n      <td>1.161181</td>\n      <td>-20.217213</td>\n      <td>-52.170785</td>\n      <td>-44.810913</td>\n      <td>-82.226818</td>\n      <td>21.217663</td>\n      <td>40.522847</td>\n      <td>176</td>\n      <td>SURPRISE</td>\n    </tr>\n    <tr>\n      <th>160009</th>\n      <td>521668</td>\n      <td>176</td>\n      <td>-146.644468</td>\n      <td>-37.596499</td>\n      <td>-22.056194</td>\n      <td>-70.182932</td>\n      <td>-15.337052</td>\n      <td>-65.579167</td>\n      <td>-18.704631</td>\n      <td>-13.950034</td>\n      <td>...</td>\n      <td>15.828644</td>\n      <td>-1.292317</td>\n      <td>-13.921160</td>\n      <td>-52.804785</td>\n      <td>-44.073035</td>\n      <td>-83.826224</td>\n      <td>11.802244</td>\n      <td>38.843900</td>\n      <td>176</td>\n      <td>SURPRISE</td>\n    </tr>\n  </tbody>\n</table>\n<p>160010 rows × 23 columns</p>\n</div>"
     },
     "metadata": {},
     "execution_count": 91
    }
   ],
   "source": [
    "mdf.merge(set1[['Number', 'TARGET']], left_on='song_clip', right_on='Number')"
   ]
  },
  {
   "cell_type": "code",
   "execution_count": 37,
   "metadata": {},
   "outputs": [
    {
     "output_type": "execute_result",
     "data": {
      "text/plain": [
       "     Number  valence  energy  tension  anger  fear  happy   sad  tender  \\\n",
       "0         1     4.83    6.83     3.17   1.00  1.00   7.33  1.00    1.00   \n",
       "1         2     4.83    6.17     3.83   1.00  1.00   7.17  1.17    1.83   \n",
       "2         3     5.60    6.20     3.00   1.00  1.00   7.17  1.00    1.00   \n",
       "3         4     4.67    6.33     3.83   1.00  1.00   7.17  1.00    1.00   \n",
       "4         5     6.50    5.00     3.17   1.17  1.00   7.17  1.00    2.83   \n",
       "..      ...      ...     ...      ...    ...   ...    ...   ...     ...   \n",
       "355     356     4.80    2.40     3.60   1.00  1.00   1.33  6.67    4.50   \n",
       "356     357     5.00    2.83     3.67   1.00  2.40   1.00  2.60    4.20   \n",
       "357     358     4.20    2.20     4.00   1.00  1.83   1.67  5.50    4.33   \n",
       "358     359     4.60    4.20     4.20   1.00  1.33   3.33  2.67    1.00   \n",
       "359     360     3.20    3.40     5.00   1.33  5.33   1.00  3.00    1.00   \n",
       "\n",
       "          TARGET  \n",
       "0          HAPPY  \n",
       "1          HAPPY  \n",
       "2          HAPPY  \n",
       "3          HAPPY  \n",
       "4          HAPPY  \n",
       "..           ...  \n",
       "355  LOW TENSION  \n",
       "356  LOW TENSION  \n",
       "357  LOW TENSION  \n",
       "358  LOW TENSION  \n",
       "359  LOW TENSION  \n",
       "\n",
       "[360 rows x 10 columns]"
      ],
      "text/html": "<div>\n<style scoped>\n    .dataframe tbody tr th:only-of-type {\n        vertical-align: middle;\n    }\n\n    .dataframe tbody tr th {\n        vertical-align: top;\n    }\n\n    .dataframe thead th {\n        text-align: right;\n    }\n</style>\n<table border=\"1\" class=\"dataframe\">\n  <thead>\n    <tr style=\"text-align: right;\">\n      <th></th>\n      <th>Number</th>\n      <th>valence</th>\n      <th>energy</th>\n      <th>tension</th>\n      <th>anger</th>\n      <th>fear</th>\n      <th>happy</th>\n      <th>sad</th>\n      <th>tender</th>\n      <th>TARGET</th>\n    </tr>\n  </thead>\n  <tbody>\n    <tr>\n      <th>0</th>\n      <td>1</td>\n      <td>4.83</td>\n      <td>6.83</td>\n      <td>3.17</td>\n      <td>1.00</td>\n      <td>1.00</td>\n      <td>7.33</td>\n      <td>1.00</td>\n      <td>1.00</td>\n      <td>HAPPY</td>\n    </tr>\n    <tr>\n      <th>1</th>\n      <td>2</td>\n      <td>4.83</td>\n      <td>6.17</td>\n      <td>3.83</td>\n      <td>1.00</td>\n      <td>1.00</td>\n      <td>7.17</td>\n      <td>1.17</td>\n      <td>1.83</td>\n      <td>HAPPY</td>\n    </tr>\n    <tr>\n      <th>2</th>\n      <td>3</td>\n      <td>5.60</td>\n      <td>6.20</td>\n      <td>3.00</td>\n      <td>1.00</td>\n      <td>1.00</td>\n      <td>7.17</td>\n      <td>1.00</td>\n      <td>1.00</td>\n      <td>HAPPY</td>\n    </tr>\n    <tr>\n      <th>3</th>\n      <td>4</td>\n      <td>4.67</td>\n      <td>6.33</td>\n      <td>3.83</td>\n      <td>1.00</td>\n      <td>1.00</td>\n      <td>7.17</td>\n      <td>1.00</td>\n      <td>1.00</td>\n      <td>HAPPY</td>\n    </tr>\n    <tr>\n      <th>4</th>\n      <td>5</td>\n      <td>6.50</td>\n      <td>5.00</td>\n      <td>3.17</td>\n      <td>1.17</td>\n      <td>1.00</td>\n      <td>7.17</td>\n      <td>1.00</td>\n      <td>2.83</td>\n      <td>HAPPY</td>\n    </tr>\n    <tr>\n      <th>...</th>\n      <td>...</td>\n      <td>...</td>\n      <td>...</td>\n      <td>...</td>\n      <td>...</td>\n      <td>...</td>\n      <td>...</td>\n      <td>...</td>\n      <td>...</td>\n      <td>...</td>\n    </tr>\n    <tr>\n      <th>355</th>\n      <td>356</td>\n      <td>4.80</td>\n      <td>2.40</td>\n      <td>3.60</td>\n      <td>1.00</td>\n      <td>1.00</td>\n      <td>1.33</td>\n      <td>6.67</td>\n      <td>4.50</td>\n      <td>LOW TENSION</td>\n    </tr>\n    <tr>\n      <th>356</th>\n      <td>357</td>\n      <td>5.00</td>\n      <td>2.83</td>\n      <td>3.67</td>\n      <td>1.00</td>\n      <td>2.40</td>\n      <td>1.00</td>\n      <td>2.60</td>\n      <td>4.20</td>\n      <td>LOW TENSION</td>\n    </tr>\n    <tr>\n      <th>357</th>\n      <td>358</td>\n      <td>4.20</td>\n      <td>2.20</td>\n      <td>4.00</td>\n      <td>1.00</td>\n      <td>1.83</td>\n      <td>1.67</td>\n      <td>5.50</td>\n      <td>4.33</td>\n      <td>LOW TENSION</td>\n    </tr>\n    <tr>\n      <th>358</th>\n      <td>359</td>\n      <td>4.60</td>\n      <td>4.20</td>\n      <td>4.20</td>\n      <td>1.00</td>\n      <td>1.33</td>\n      <td>3.33</td>\n      <td>2.67</td>\n      <td>1.00</td>\n      <td>LOW TENSION</td>\n    </tr>\n    <tr>\n      <th>359</th>\n      <td>360</td>\n      <td>3.20</td>\n      <td>3.40</td>\n      <td>5.00</td>\n      <td>1.33</td>\n      <td>5.33</td>\n      <td>1.00</td>\n      <td>3.00</td>\n      <td>1.00</td>\n      <td>LOW TENSION</td>\n    </tr>\n  </tbody>\n</table>\n<p>360 rows × 10 columns</p>\n</div>"
     },
     "metadata": {},
     "execution_count": 37
    }
   ],
   "source": [
    "set1 = pd.read_csv('set1\\set1\\mean_ratings_set1.csv').drop(['Unnamed: 10', 'Unnamed: 11'],axis=1)\n",
    "set1"
   ]
  },
  {
   "cell_type": "code",
   "execution_count": 38,
   "metadata": {},
   "outputs": [
    {
     "output_type": "execute_result",
     "data": {
      "text/plain": [
       "{'Number': 'target_number',\n",
       " 'valence': 'target_valence',\n",
       " 'energy': 'target_energy',\n",
       " 'tension': 'target_tension',\n",
       " 'anger': 'target_anger',\n",
       " 'fear': 'target_fear',\n",
       " 'happy': 'target_happy',\n",
       " 'sad': 'target_sad',\n",
       " 'tender': 'target_tender',\n",
       " 'TARGET': 'target_target'}"
      ]
     },
     "metadata": {},
     "execution_count": 38
    }
   ],
   "source": [
    "{x:'target_'+str.lower(x) for x in set1.columns} #for renaming target values"
   ]
  },
  {
   "cell_type": "code",
   "execution_count": 39,
   "metadata": {},
   "outputs": [
    {
     "output_type": "execute_result",
     "data": {
      "text/plain": [
       "     Number  valence  energy  tension  anger  fear  happy   sad  tender  \\\n",
       "0         1     2.56    7.73     8.38   6.39  4.40   1.21  1.75    1.01   \n",
       "1         2     2.50    8.21     8.56   5.76  5.93   1.09  1.60    1.10   \n",
       "2         3     2.92    8.21     8.17   6.31  4.06   1.31  1.55    1.01   \n",
       "3         4     2.88    6.75     7.98   5.42  4.51   1.19  2.10    1.06   \n",
       "4         5     3.08    6.83     7.50   6.13  4.24   1.07  2.96    1.07   \n",
       "..      ...      ...     ...      ...    ...   ...    ...   ...     ...   \n",
       "105     106     7.37    3.73     2.21   1.00  1.00   3.13  2.45    6.57   \n",
       "106     107     7.09    4.21     2.75   1.00  1.09   4.26  2.43    5.89   \n",
       "107     108     5.87    2.97     3.54   1.02  1.45   1.17  5.13    4.09   \n",
       "108     109     5.37    2.28     3.22   1.13  1.45   1.02  7.00    3.47   \n",
       "109     110     6.75    3.90     2.82   1.00  1.02   3.23  3.28    4.85   \n",
       "\n",
       "     beauty  liking            TARGET         Soundtrack  Index in Set 1  \n",
       "0      4.71    4.97        ANGER_HIGH    Lethal weapon 3             227  \n",
       "1      4.57    4.79        ANGER_HIGH      The Rainmaker             124  \n",
       "2      4.45    5.06        ANGER_HIGH  The Alien Trilogy             125  \n",
       "3      4.00    4.35        ANGER_HIGH          Cape Fear             168  \n",
       "4      5.08    5.35        ANGER_HIGH  The Fifth Element             239  \n",
       "..      ...     ...               ...                ...             ...  \n",
       "105    6.30    5.93  TENSION NEG HIGH    Lethal weapon 3             333  \n",
       "106    6.34    5.36  TENSION NEG HIGH      The Godfarher             191  \n",
       "107    6.38    5.94  TENSION NEG HIGH          Gladiator              45  \n",
       "108    6.72    6.08  TENSION NEG HIGH  Pride & Prejudice             278  \n",
       "109    6.13    5.52  TENSION NEG HIGH           Big Fish              16  \n",
       "\n",
       "[110 rows x 14 columns]"
      ],
      "text/html": "<div>\n<style scoped>\n    .dataframe tbody tr th:only-of-type {\n        vertical-align: middle;\n    }\n\n    .dataframe tbody tr th {\n        vertical-align: top;\n    }\n\n    .dataframe thead th {\n        text-align: right;\n    }\n</style>\n<table border=\"1\" class=\"dataframe\">\n  <thead>\n    <tr style=\"text-align: right;\">\n      <th></th>\n      <th>Number</th>\n      <th>valence</th>\n      <th>energy</th>\n      <th>tension</th>\n      <th>anger</th>\n      <th>fear</th>\n      <th>happy</th>\n      <th>sad</th>\n      <th>tender</th>\n      <th>beauty</th>\n      <th>liking</th>\n      <th>TARGET</th>\n      <th>Soundtrack</th>\n      <th>Index in Set 1</th>\n    </tr>\n  </thead>\n  <tbody>\n    <tr>\n      <th>0</th>\n      <td>1</td>\n      <td>2.56</td>\n      <td>7.73</td>\n      <td>8.38</td>\n      <td>6.39</td>\n      <td>4.40</td>\n      <td>1.21</td>\n      <td>1.75</td>\n      <td>1.01</td>\n      <td>4.71</td>\n      <td>4.97</td>\n      <td>ANGER_HIGH</td>\n      <td>Lethal weapon 3</td>\n      <td>227</td>\n    </tr>\n    <tr>\n      <th>1</th>\n      <td>2</td>\n      <td>2.50</td>\n      <td>8.21</td>\n      <td>8.56</td>\n      <td>5.76</td>\n      <td>5.93</td>\n      <td>1.09</td>\n      <td>1.60</td>\n      <td>1.10</td>\n      <td>4.57</td>\n      <td>4.79</td>\n      <td>ANGER_HIGH</td>\n      <td>The Rainmaker</td>\n      <td>124</td>\n    </tr>\n    <tr>\n      <th>2</th>\n      <td>3</td>\n      <td>2.92</td>\n      <td>8.21</td>\n      <td>8.17</td>\n      <td>6.31</td>\n      <td>4.06</td>\n      <td>1.31</td>\n      <td>1.55</td>\n      <td>1.01</td>\n      <td>4.45</td>\n      <td>5.06</td>\n      <td>ANGER_HIGH</td>\n      <td>The Alien Trilogy</td>\n      <td>125</td>\n    </tr>\n    <tr>\n      <th>3</th>\n      <td>4</td>\n      <td>2.88</td>\n      <td>6.75</td>\n      <td>7.98</td>\n      <td>5.42</td>\n      <td>4.51</td>\n      <td>1.19</td>\n      <td>2.10</td>\n      <td>1.06</td>\n      <td>4.00</td>\n      <td>4.35</td>\n      <td>ANGER_HIGH</td>\n      <td>Cape Fear</td>\n      <td>168</td>\n    </tr>\n    <tr>\n      <th>4</th>\n      <td>5</td>\n      <td>3.08</td>\n      <td>6.83</td>\n      <td>7.50</td>\n      <td>6.13</td>\n      <td>4.24</td>\n      <td>1.07</td>\n      <td>2.96</td>\n      <td>1.07</td>\n      <td>5.08</td>\n      <td>5.35</td>\n      <td>ANGER_HIGH</td>\n      <td>The Fifth Element</td>\n      <td>239</td>\n    </tr>\n    <tr>\n      <th>...</th>\n      <td>...</td>\n      <td>...</td>\n      <td>...</td>\n      <td>...</td>\n      <td>...</td>\n      <td>...</td>\n      <td>...</td>\n      <td>...</td>\n      <td>...</td>\n      <td>...</td>\n      <td>...</td>\n      <td>...</td>\n      <td>...</td>\n      <td>...</td>\n    </tr>\n    <tr>\n      <th>105</th>\n      <td>106</td>\n      <td>7.37</td>\n      <td>3.73</td>\n      <td>2.21</td>\n      <td>1.00</td>\n      <td>1.00</td>\n      <td>3.13</td>\n      <td>2.45</td>\n      <td>6.57</td>\n      <td>6.30</td>\n      <td>5.93</td>\n      <td>TENSION NEG HIGH</td>\n      <td>Lethal weapon 3</td>\n      <td>333</td>\n    </tr>\n    <tr>\n      <th>106</th>\n      <td>107</td>\n      <td>7.09</td>\n      <td>4.21</td>\n      <td>2.75</td>\n      <td>1.00</td>\n      <td>1.09</td>\n      <td>4.26</td>\n      <td>2.43</td>\n      <td>5.89</td>\n      <td>6.34</td>\n      <td>5.36</td>\n      <td>TENSION NEG HIGH</td>\n      <td>The Godfarher</td>\n      <td>191</td>\n    </tr>\n    <tr>\n      <th>107</th>\n      <td>108</td>\n      <td>5.87</td>\n      <td>2.97</td>\n      <td>3.54</td>\n      <td>1.02</td>\n      <td>1.45</td>\n      <td>1.17</td>\n      <td>5.13</td>\n      <td>4.09</td>\n      <td>6.38</td>\n      <td>5.94</td>\n      <td>TENSION NEG HIGH</td>\n      <td>Gladiator</td>\n      <td>45</td>\n    </tr>\n    <tr>\n      <th>108</th>\n      <td>109</td>\n      <td>5.37</td>\n      <td>2.28</td>\n      <td>3.22</td>\n      <td>1.13</td>\n      <td>1.45</td>\n      <td>1.02</td>\n      <td>7.00</td>\n      <td>3.47</td>\n      <td>6.72</td>\n      <td>6.08</td>\n      <td>TENSION NEG HIGH</td>\n      <td>Pride &amp; Prejudice</td>\n      <td>278</td>\n    </tr>\n    <tr>\n      <th>109</th>\n      <td>110</td>\n      <td>6.75</td>\n      <td>3.90</td>\n      <td>2.82</td>\n      <td>1.00</td>\n      <td>1.02</td>\n      <td>3.23</td>\n      <td>3.28</td>\n      <td>4.85</td>\n      <td>6.13</td>\n      <td>5.52</td>\n      <td>TENSION NEG HIGH</td>\n      <td>Big Fish</td>\n      <td>16</td>\n    </tr>\n  </tbody>\n</table>\n<p>110 rows × 14 columns</p>\n</div>"
     },
     "metadata": {},
     "execution_count": 39
    }
   ],
   "source": [
    "set2 = pd.read_csv('set2\\set2\\mean_ratings_set2.csv')\n",
    "set2"
   ]
  },
  {
   "cell_type": "code",
   "execution_count": 40,
   "metadata": {},
   "outputs": [
    {
     "output_type": "execute_result",
     "data": {
      "text/plain": [
       "0            ANGER_HIGH\n",
       "1            ANGER_HIGH\n",
       "2            ANGER_HIGH\n",
       "3            ANGER_HIGH\n",
       "4            ANGER_HIGH\n",
       "             ...       \n",
       "105    TENSION NEG HIGH\n",
       "106    TENSION NEG HIGH\n",
       "107    TENSION NEG HIGH\n",
       "108    TENSION NEG HIGH\n",
       "109    TENSION NEG HIGH\n",
       "Name: TARGET, Length: 110, dtype: object"
      ]
     },
     "metadata": {},
     "execution_count": 40
    }
   ],
   "source": [
    "set2['TARGET']"
   ]
  },
  {
   "cell_type": "code",
   "execution_count": 41,
   "metadata": {},
   "outputs": [
    {
     "output_type": "execute_result",
     "data": {
      "text/plain": [
       "   Number  valence  energy  tension  anger  fear  happy  sad  tender TARGET\n",
       "0       1     4.83    6.83     3.17    1.0   1.0   7.33  1.0     1.0  HAPPY"
      ],
      "text/html": "<div>\n<style scoped>\n    .dataframe tbody tr th:only-of-type {\n        vertical-align: middle;\n    }\n\n    .dataframe tbody tr th {\n        vertical-align: top;\n    }\n\n    .dataframe thead th {\n        text-align: right;\n    }\n</style>\n<table border=\"1\" class=\"dataframe\">\n  <thead>\n    <tr style=\"text-align: right;\">\n      <th></th>\n      <th>Number</th>\n      <th>valence</th>\n      <th>energy</th>\n      <th>tension</th>\n      <th>anger</th>\n      <th>fear</th>\n      <th>happy</th>\n      <th>sad</th>\n      <th>tender</th>\n      <th>TARGET</th>\n    </tr>\n  </thead>\n  <tbody>\n    <tr>\n      <th>0</th>\n      <td>1</td>\n      <td>4.83</td>\n      <td>6.83</td>\n      <td>3.17</td>\n      <td>1.0</td>\n      <td>1.0</td>\n      <td>7.33</td>\n      <td>1.0</td>\n      <td>1.0</td>\n      <td>HAPPY</td>\n    </tr>\n  </tbody>\n</table>\n</div>"
     },
     "metadata": {},
     "execution_count": 41
    }
   ],
   "source": [
    "set1[:1]"
   ]
  },
  {
   "cell_type": "code",
   "execution_count": 42,
   "metadata": {},
   "outputs": [
    {
     "output_type": "execute_result",
     "data": {
      "text/plain": [
       "array([  1,   3,   4,  10,  11,  16,  18,  20,  21,  22,  29,  30,  32,\n",
       "        36,  37,  39,  40,  45,  54,  58,  62,  79,  98, 104, 113, 114,\n",
       "       115, 117, 124, 125, 156, 157, 160, 162, 163, 168, 170, 173, 177,\n",
       "       178, 180, 187, 188, 189, 190, 191, 192, 204, 210, 215, 218, 219,\n",
       "       227, 230, 234, 237, 239, 240, 246, 250, 253, 260, 261, 262, 263,\n",
       "       265, 266, 269, 270, 273, 274, 276, 278, 280, 283, 288, 292, 293,\n",
       "       294, 295, 296, 297, 299, 306, 309, 313, 316, 320, 321, 325, 329,\n",
       "       331, 333, 334, 335, 340, 343, 346, 349, 353, 357, 360], dtype=int64)"
      ]
     },
     "metadata": {},
     "execution_count": 42
    }
   ],
   "source": [
    "set2['Index in Set 1'].sort_values().unique()"
   ]
  },
  {
   "cell_type": "code",
   "execution_count": 43,
   "metadata": {},
   "outputs": [
    {
     "output_type": "stream",
     "name": "stdout",
     "text": [
      "Extracting EDF parameters from c:\\Users\\Staro\\Desktop\\UCSD\\WI2021\\cogs189\\project\\sub-01\\eeg\\sub-01_task-run2_eeg.edf...\n",
      "EDF file detected\n",
      "Setting channel info structure...\n",
      "Creating raw.info structure...\n"
     ]
    },
    {
     "output_type": "execute_result",
     "data": {
      "text/plain": [
       "          time          FP1          FP2          F7          F3         Fz  \\\n",
       "0            0   247.085224   226.427986  243.400921   91.204983  55.539856   \n",
       "1            1   223.124495   217.253177  230.288985   87.282360  54.399233   \n",
       "2            2   179.695673   170.218461  222.421823   85.062414  47.222584   \n",
       "3            3   179.258889   176.187614  217.534647   75.923996  47.121620   \n",
       "4            4   191.114458   167.068075  230.479704   71.527210  48.106704   \n",
       "...        ...          ...          ...         ...         ...        ...   \n",
       "573995  573995  3285.730000  2285.620000  623.957000  930.323000  90.227900   \n",
       "573996  573996  3285.730000  2285.620000  623.957000  930.323000  90.227900   \n",
       "573997  573997  3285.730000  2285.620000  623.957000  930.323000  90.227900   \n",
       "573998  573998  3285.730000  2285.620000  623.957000  930.323000  90.227900   \n",
       "573999  573999  3285.730000  2285.620000  623.957000  930.323000  90.227900   \n",
       "\n",
       "                F4          F8          T3          C3          Cz  \\\n",
       "0        30.993496   63.836413  -68.204146   -4.810091 -104.638740   \n",
       "1        29.484103   62.622202  -57.124885   -3.891314 -104.026181   \n",
       "2        15.159111   39.324530  -38.992590    3.748147  -98.604148   \n",
       "3        16.625785   38.768017  -34.866422    0.600485  -98.619684   \n",
       "4        13.706676   35.783082  -32.053774    2.080737  -99.667248   \n",
       "...            ...         ...         ...         ...         ...   \n",
       "573995  416.800000  742.555000  442.170000  572.318000   27.130200   \n",
       "573996  416.800000  742.555000  442.170000  572.318000   27.130200   \n",
       "573997  416.800000  742.555000  442.170000  572.318000   27.130200   \n",
       "573998  416.800000  742.555000  442.170000  572.318000   27.130200   \n",
       "573999  416.800000  742.555000  442.170000  572.318000   27.130200   \n",
       "\n",
       "                C4          T4          T5          P3         Pz          P4  \\\n",
       "0       -25.194368   17.563380  -16.669192  -54.736701 -80.506690 -107.095388   \n",
       "1       -26.506049   17.346538  -26.118804  -53.851772 -79.859751 -106.698069   \n",
       "2       -26.024546   20.515767  -43.779133  -48.048959 -73.122966 -101.665362   \n",
       "3       -24.048723   24.352201  -47.422943  -48.302832 -75.577019 -102.460000   \n",
       "4       -25.194368   16.062166  -46.256924  -47.164029 -75.827168 -101.791495   \n",
       "...            ...         ...         ...         ...        ...         ...   \n",
       "573995  545.370000  608.391000  238.276000  267.392000  98.941100  214.960000   \n",
       "573996  545.370000  608.391000  238.276000  267.392000  98.941100  214.960000   \n",
       "573997  545.370000  608.391000  238.276000  267.392000  98.941100  214.960000   \n",
       "573998  545.370000  608.391000  238.276000  267.392000  98.941100  214.960000   \n",
       "573999  545.370000  608.391000  238.276000  267.392000  98.941100  214.960000   \n",
       "\n",
       "                T6          O1          O2  \n",
       "0      -113.935044  -22.240173  -24.044401  \n",
       "1      -119.452995  -21.425506  -25.461576  \n",
       "2      -113.615163  -19.448936  -17.671623  \n",
       "3      -116.374138  -19.422225  -20.596241  \n",
       "4      -116.294168  -20.797811  -21.760672  \n",
       "...            ...         ...         ...  \n",
       "573995  580.767000  429.927000  370.797000  \n",
       "573996  580.767000  429.927000  370.797000  \n",
       "573997  580.767000  429.927000  370.797000  \n",
       "573998  580.767000  429.927000  370.797000  \n",
       "573999  580.767000  429.927000  370.797000  \n",
       "\n",
       "[574000 rows x 20 columns]"
      ],
      "text/html": "<div>\n<style scoped>\n    .dataframe tbody tr th:only-of-type {\n        vertical-align: middle;\n    }\n\n    .dataframe tbody tr th {\n        vertical-align: top;\n    }\n\n    .dataframe thead th {\n        text-align: right;\n    }\n</style>\n<table border=\"1\" class=\"dataframe\">\n  <thead>\n    <tr style=\"text-align: right;\">\n      <th></th>\n      <th>time</th>\n      <th>FP1</th>\n      <th>FP2</th>\n      <th>F7</th>\n      <th>F3</th>\n      <th>Fz</th>\n      <th>F4</th>\n      <th>F8</th>\n      <th>T3</th>\n      <th>C3</th>\n      <th>Cz</th>\n      <th>C4</th>\n      <th>T4</th>\n      <th>T5</th>\n      <th>P3</th>\n      <th>Pz</th>\n      <th>P4</th>\n      <th>T6</th>\n      <th>O1</th>\n      <th>O2</th>\n    </tr>\n  </thead>\n  <tbody>\n    <tr>\n      <th>0</th>\n      <td>0</td>\n      <td>247.085224</td>\n      <td>226.427986</td>\n      <td>243.400921</td>\n      <td>91.204983</td>\n      <td>55.539856</td>\n      <td>30.993496</td>\n      <td>63.836413</td>\n      <td>-68.204146</td>\n      <td>-4.810091</td>\n      <td>-104.638740</td>\n      <td>-25.194368</td>\n      <td>17.563380</td>\n      <td>-16.669192</td>\n      <td>-54.736701</td>\n      <td>-80.506690</td>\n      <td>-107.095388</td>\n      <td>-113.935044</td>\n      <td>-22.240173</td>\n      <td>-24.044401</td>\n    </tr>\n    <tr>\n      <th>1</th>\n      <td>1</td>\n      <td>223.124495</td>\n      <td>217.253177</td>\n      <td>230.288985</td>\n      <td>87.282360</td>\n      <td>54.399233</td>\n      <td>29.484103</td>\n      <td>62.622202</td>\n      <td>-57.124885</td>\n      <td>-3.891314</td>\n      <td>-104.026181</td>\n      <td>-26.506049</td>\n      <td>17.346538</td>\n      <td>-26.118804</td>\n      <td>-53.851772</td>\n      <td>-79.859751</td>\n      <td>-106.698069</td>\n      <td>-119.452995</td>\n      <td>-21.425506</td>\n      <td>-25.461576</td>\n    </tr>\n    <tr>\n      <th>2</th>\n      <td>2</td>\n      <td>179.695673</td>\n      <td>170.218461</td>\n      <td>222.421823</td>\n      <td>85.062414</td>\n      <td>47.222584</td>\n      <td>15.159111</td>\n      <td>39.324530</td>\n      <td>-38.992590</td>\n      <td>3.748147</td>\n      <td>-98.604148</td>\n      <td>-26.024546</td>\n      <td>20.515767</td>\n      <td>-43.779133</td>\n      <td>-48.048959</td>\n      <td>-73.122966</td>\n      <td>-101.665362</td>\n      <td>-113.615163</td>\n      <td>-19.448936</td>\n      <td>-17.671623</td>\n    </tr>\n    <tr>\n      <th>3</th>\n      <td>3</td>\n      <td>179.258889</td>\n      <td>176.187614</td>\n      <td>217.534647</td>\n      <td>75.923996</td>\n      <td>47.121620</td>\n      <td>16.625785</td>\n      <td>38.768017</td>\n      <td>-34.866422</td>\n      <td>0.600485</td>\n      <td>-98.619684</td>\n      <td>-24.048723</td>\n      <td>24.352201</td>\n      <td>-47.422943</td>\n      <td>-48.302832</td>\n      <td>-75.577019</td>\n      <td>-102.460000</td>\n      <td>-116.374138</td>\n      <td>-19.422225</td>\n      <td>-20.596241</td>\n    </tr>\n    <tr>\n      <th>4</th>\n      <td>4</td>\n      <td>191.114458</td>\n      <td>167.068075</td>\n      <td>230.479704</td>\n      <td>71.527210</td>\n      <td>48.106704</td>\n      <td>13.706676</td>\n      <td>35.783082</td>\n      <td>-32.053774</td>\n      <td>2.080737</td>\n      <td>-99.667248</td>\n      <td>-25.194368</td>\n      <td>16.062166</td>\n      <td>-46.256924</td>\n      <td>-47.164029</td>\n      <td>-75.827168</td>\n      <td>-101.791495</td>\n      <td>-116.294168</td>\n      <td>-20.797811</td>\n      <td>-21.760672</td>\n    </tr>\n    <tr>\n      <th>...</th>\n      <td>...</td>\n      <td>...</td>\n      <td>...</td>\n      <td>...</td>\n      <td>...</td>\n      <td>...</td>\n      <td>...</td>\n      <td>...</td>\n      <td>...</td>\n      <td>...</td>\n      <td>...</td>\n      <td>...</td>\n      <td>...</td>\n      <td>...</td>\n      <td>...</td>\n      <td>...</td>\n      <td>...</td>\n      <td>...</td>\n      <td>...</td>\n      <td>...</td>\n    </tr>\n    <tr>\n      <th>573995</th>\n      <td>573995</td>\n      <td>3285.730000</td>\n      <td>2285.620000</td>\n      <td>623.957000</td>\n      <td>930.323000</td>\n      <td>90.227900</td>\n      <td>416.800000</td>\n      <td>742.555000</td>\n      <td>442.170000</td>\n      <td>572.318000</td>\n      <td>27.130200</td>\n      <td>545.370000</td>\n      <td>608.391000</td>\n      <td>238.276000</td>\n      <td>267.392000</td>\n      <td>98.941100</td>\n      <td>214.960000</td>\n      <td>580.767000</td>\n      <td>429.927000</td>\n      <td>370.797000</td>\n    </tr>\n    <tr>\n      <th>573996</th>\n      <td>573996</td>\n      <td>3285.730000</td>\n      <td>2285.620000</td>\n      <td>623.957000</td>\n      <td>930.323000</td>\n      <td>90.227900</td>\n      <td>416.800000</td>\n      <td>742.555000</td>\n      <td>442.170000</td>\n      <td>572.318000</td>\n      <td>27.130200</td>\n      <td>545.370000</td>\n      <td>608.391000</td>\n      <td>238.276000</td>\n      <td>267.392000</td>\n      <td>98.941100</td>\n      <td>214.960000</td>\n      <td>580.767000</td>\n      <td>429.927000</td>\n      <td>370.797000</td>\n    </tr>\n    <tr>\n      <th>573997</th>\n      <td>573997</td>\n      <td>3285.730000</td>\n      <td>2285.620000</td>\n      <td>623.957000</td>\n      <td>930.323000</td>\n      <td>90.227900</td>\n      <td>416.800000</td>\n      <td>742.555000</td>\n      <td>442.170000</td>\n      <td>572.318000</td>\n      <td>27.130200</td>\n      <td>545.370000</td>\n      <td>608.391000</td>\n      <td>238.276000</td>\n      <td>267.392000</td>\n      <td>98.941100</td>\n      <td>214.960000</td>\n      <td>580.767000</td>\n      <td>429.927000</td>\n      <td>370.797000</td>\n    </tr>\n    <tr>\n      <th>573998</th>\n      <td>573998</td>\n      <td>3285.730000</td>\n      <td>2285.620000</td>\n      <td>623.957000</td>\n      <td>930.323000</td>\n      <td>90.227900</td>\n      <td>416.800000</td>\n      <td>742.555000</td>\n      <td>442.170000</td>\n      <td>572.318000</td>\n      <td>27.130200</td>\n      <td>545.370000</td>\n      <td>608.391000</td>\n      <td>238.276000</td>\n      <td>267.392000</td>\n      <td>98.941100</td>\n      <td>214.960000</td>\n      <td>580.767000</td>\n      <td>429.927000</td>\n      <td>370.797000</td>\n    </tr>\n    <tr>\n      <th>573999</th>\n      <td>573999</td>\n      <td>3285.730000</td>\n      <td>2285.620000</td>\n      <td>623.957000</td>\n      <td>930.323000</td>\n      <td>90.227900</td>\n      <td>416.800000</td>\n      <td>742.555000</td>\n      <td>442.170000</td>\n      <td>572.318000</td>\n      <td>27.130200</td>\n      <td>545.370000</td>\n      <td>608.391000</td>\n      <td>238.276000</td>\n      <td>267.392000</td>\n      <td>98.941100</td>\n      <td>214.960000</td>\n      <td>580.767000</td>\n      <td>429.927000</td>\n      <td>370.797000</td>\n    </tr>\n  </tbody>\n</table>\n<p>574000 rows × 20 columns</p>\n</div>"
     },
     "metadata": {},
     "execution_count": 43
    }
   ],
   "source": [
    "record = get_recording(1,2)\n",
    "record"
   ]
  },
  {
   "source": [
    "http://www.imageemotion.org/machajdik_hanbury_affective_image_classification.pdf"
   ],
   "cell_type": "markdown",
   "metadata": {}
  },
  {
   "source": [
    "pad model is 3d, but youer not so interested. its an esoteric model based on strengh. you can throw hyperplanes divding them\n",
    "\n",
    "you oculd take saturation brightness and map the colors onto emotional coordinates and segmented their weights, those people did that.\n",
    "research on a datset with weights where you can look at pad to describe feeling. feelign and emotion are different, a lot of subjectivity. definition of feeling is an emotional feeling, a state of mind with relation to others. its ahrd to find out without a lot of data. mapping music to color\n",
    "\n",
    "mel spectograms,mel scale. music scales? some analysis on\n",
    "robert tumy\n",
    "dsc160 neural nets into classical music"
   ],
   "cell_type": "markdown",
   "metadata": {}
  },
  {
   "cell_type": "code",
   "execution_count": 44,
   "metadata": {},
   "outputs": [
    {
     "output_type": "execute_result",
     "data": {
      "text/plain": [
       "       onset  trial_type                            trial_name  \\\n",
       "0      2.449         263  artifact:50/60 Hz mains interference   \n",
       "1      2.689         786                       Cross on screen   \n",
       "2      2.817         257                          artifact:EOG   \n",
       "3      3.713         257                          artifact:EOG   \n",
       "4      5.689         788                          Music played   \n",
       "..       ...         ...                                   ...   \n",
       "710  563.203         807                           Question 08   \n",
       "711  563.303       32768                              not used   \n",
       "712  572.623         805                           Question 06   \n",
       "713  572.623         841                           Response 09   \n",
       "714  572.823       32768                              not used   \n",
       "\n",
       "                                            trial_desc  \\\n",
       "0                 artifact:50/60 Hz mains interference   \n",
       "1                   Fixation cross displayed on screen   \n",
       "2         artifact:EOG (blinks, fast, large amplitude)   \n",
       "3         artifact:EOG (blinks, fast, large amplitude)   \n",
       "4                                  Start of music play   \n",
       "..                                                 ...   \n",
       "710  Question 08 presented to user (The music made ...   \n",
       "711                                           not used   \n",
       "712  Question 06 presented to user (The music made ...   \n",
       "713  Response 09 - The user selected 09 as their re...   \n",
       "714                                           not used   \n",
       "\n",
       "                       trial_desc_cleaned  song_clip  \n",
       "0    artifact:50/60 Hz mains interference         -1  \n",
       "1      Fixation cross displayed on screen         -1  \n",
       "2           blinks, fast, large amplitude         -1  \n",
       "3           blinks, fast, large amplitude         -1  \n",
       "4                     Start of music play         62  \n",
       "..                                    ...        ...  \n",
       "710                                tender        176  \n",
       "711                              not used        176  \n",
       "712                                 happy        176  \n",
       "713                           Response 09        176  \n",
       "714                              not used        176  \n",
       "\n",
       "[715 rows x 6 columns]"
      ],
      "text/html": "<div>\n<style scoped>\n    .dataframe tbody tr th:only-of-type {\n        vertical-align: middle;\n    }\n\n    .dataframe tbody tr th {\n        vertical-align: top;\n    }\n\n    .dataframe thead th {\n        text-align: right;\n    }\n</style>\n<table border=\"1\" class=\"dataframe\">\n  <thead>\n    <tr style=\"text-align: right;\">\n      <th></th>\n      <th>onset</th>\n      <th>trial_type</th>\n      <th>trial_name</th>\n      <th>trial_desc</th>\n      <th>trial_desc_cleaned</th>\n      <th>song_clip</th>\n    </tr>\n  </thead>\n  <tbody>\n    <tr>\n      <th>0</th>\n      <td>2.449</td>\n      <td>263</td>\n      <td>artifact:50/60 Hz mains interference</td>\n      <td>artifact:50/60 Hz mains interference</td>\n      <td>artifact:50/60 Hz mains interference</td>\n      <td>-1</td>\n    </tr>\n    <tr>\n      <th>1</th>\n      <td>2.689</td>\n      <td>786</td>\n      <td>Cross on screen</td>\n      <td>Fixation cross displayed on screen</td>\n      <td>Fixation cross displayed on screen</td>\n      <td>-1</td>\n    </tr>\n    <tr>\n      <th>2</th>\n      <td>2.817</td>\n      <td>257</td>\n      <td>artifact:EOG</td>\n      <td>artifact:EOG (blinks, fast, large amplitude)</td>\n      <td>blinks, fast, large amplitude</td>\n      <td>-1</td>\n    </tr>\n    <tr>\n      <th>3</th>\n      <td>3.713</td>\n      <td>257</td>\n      <td>artifact:EOG</td>\n      <td>artifact:EOG (blinks, fast, large amplitude)</td>\n      <td>blinks, fast, large amplitude</td>\n      <td>-1</td>\n    </tr>\n    <tr>\n      <th>4</th>\n      <td>5.689</td>\n      <td>788</td>\n      <td>Music played</td>\n      <td>Start of music play</td>\n      <td>Start of music play</td>\n      <td>62</td>\n    </tr>\n    <tr>\n      <th>...</th>\n      <td>...</td>\n      <td>...</td>\n      <td>...</td>\n      <td>...</td>\n      <td>...</td>\n      <td>...</td>\n    </tr>\n    <tr>\n      <th>710</th>\n      <td>563.203</td>\n      <td>807</td>\n      <td>Question 08</td>\n      <td>Question 08 presented to user (The music made ...</td>\n      <td>tender</td>\n      <td>176</td>\n    </tr>\n    <tr>\n      <th>711</th>\n      <td>563.303</td>\n      <td>32768</td>\n      <td>not used</td>\n      <td>not used</td>\n      <td>not used</td>\n      <td>176</td>\n    </tr>\n    <tr>\n      <th>712</th>\n      <td>572.623</td>\n      <td>805</td>\n      <td>Question 06</td>\n      <td>Question 06 presented to user (The music made ...</td>\n      <td>happy</td>\n      <td>176</td>\n    </tr>\n    <tr>\n      <th>713</th>\n      <td>572.623</td>\n      <td>841</td>\n      <td>Response 09</td>\n      <td>Response 09 - The user selected 09 as their re...</td>\n      <td>Response 09</td>\n      <td>176</td>\n    </tr>\n    <tr>\n      <th>714</th>\n      <td>572.823</td>\n      <td>32768</td>\n      <td>not used</td>\n      <td>not used</td>\n      <td>not used</td>\n      <td>176</td>\n    </tr>\n  </tbody>\n</table>\n<p>715 rows × 6 columns</p>\n</div>"
     },
     "metadata": {},
     "execution_count": 44
    }
   ],
   "source": [
    "events = get_events(1,2)\n",
    "events"
   ]
  },
  {
   "cell_type": "code",
   "execution_count": null,
   "metadata": {},
   "outputs": [],
   "source": []
  }
 ]
}