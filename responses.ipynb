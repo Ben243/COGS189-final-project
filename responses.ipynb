{
 "metadata": {
  "language_info": {
   "codemirror_mode": {
    "name": "ipython",
    "version": 3
   },
   "file_extension": ".py",
   "mimetype": "text/x-python",
   "name": "python",
   "nbconvert_exporter": "python",
   "pygments_lexer": "ipython3",
   "version": "3.7.4-final"
  },
  "orig_nbformat": 2,
  "kernelspec": {
   "name": "python3",
   "display_name": "Python 3.7.4 64-bit ('project': pipenv)",
   "metadata": {
    "interpreter": {
     "hash": "19d1e599bcc2b9b3d0ce18f2d04a436772edd8468821bde30145bd8446380c1c"
    }
   }
  }
 },
 "nbformat": 4,
 "nbformat_minor": 2,
 "cells": [
  {
   "cell_type": "code",
   "execution_count": 36,
   "metadata": {},
   "outputs": [],
   "source": [
    "import mne # package for reading edf data\n",
    "import numpy as np\n",
    "import pandas as pd\n",
    "from itertools import chain\n",
    "\n",
    "import json\n",
    "import matplotlib.pyplot as plt"
   ]
  },
  {
   "source": [
    "Description for reference: This dataset accompanies the publication by Daly et al. (2018) and has been analysed in Daly et al. (2014; 2015a; 2015b) (please see Section 5 for full references). The purpose of the research activity in which the data were collected was to investigate the EEG neural correlates of music-induced emotion. For this purpose 31 healthy adult participants listened to 40 music clips of 12 s duration each, targeting a range of emotional states. The music clips comprised excerpts from film scores spanning a range of styles and rated on induced emotion.\n",
    "The dataset contains unprocessed EEG data from all 31 participants (age range 18-66, 18 female) while listening to the music clips, together with the reported induced emotional responses . The paradigm involved 6 runs of EEG recordings. The first and last runs were resting state runs, during which participants were instructed to sit still and rest for 300 s. The other 4 runs each contained 10 music listening trials."
   ],
   "cell_type": "markdown",
   "metadata": {}
  },
  {
   "cell_type": "code",
   "execution_count": 37,
   "metadata": {},
   "outputs": [
    {
     "output_type": "stream",
     "name": "stdout",
     "text": [
      "Extracting EDF parameters from c:\\Users\\Staro\\Documents\\GitHub\\COGS189-final-project\\data\\sub-01\\eeg\\sub-01_task-run2_eeg.edf...\n",
      "EDF file detected\n",
      "Setting channel info structure...\n",
      "Creating raw.info structure...\n",
      "<ipython-input-37-2cc7e562e588>:5: RuntimeWarning: Invalid date encountered (2014-00-00 00:00:00).\n",
      "  data = mne.io.read_raw_edf(file)\n"
     ]
    },
    {
     "output_type": "execute_result",
     "data": {
      "text/plain": [
       "   time         FP1         FP2          F7         F3         Fz         F4  \\\n",
       "0     0  247.085224  226.427986  243.400921  91.204983  55.539856  30.993496   \n",
       "1     1  223.124495  217.253177  230.288985  87.282360  54.399233  29.484103   \n",
       "2     2  179.695673  170.218461  222.421823  85.062414  47.222584  15.159111   \n",
       "3     3  179.258889  176.187614  217.534647  75.923996  47.121620  16.625785   \n",
       "4     4  191.114458  167.068075  230.479704  71.527210  48.106704  13.706676   \n",
       "\n",
       "          F8         T3        C3          Cz         C4         T4  \\\n",
       "0  63.836413 -68.204146 -4.810091 -104.638740 -25.194368  17.563380   \n",
       "1  62.622202 -57.124885 -3.891314 -104.026181 -26.506049  17.346538   \n",
       "2  39.324530 -38.992590  3.748147  -98.604148 -26.024546  20.515767   \n",
       "3  38.768017 -34.866422  0.600485  -98.619684 -24.048723  24.352201   \n",
       "4  35.783082 -32.053774  2.080737  -99.667248 -25.194368  16.062166   \n",
       "\n",
       "          T5         P3         Pz          P4          T6         O1  \\\n",
       "0 -16.669192 -54.736701 -80.506690 -107.095388 -113.935044 -22.240173   \n",
       "1 -26.118804 -53.851772 -79.859751 -106.698069 -119.452995 -21.425506   \n",
       "2 -43.779133 -48.048959 -73.122966 -101.665362 -113.615163 -19.448936   \n",
       "3 -47.422943 -48.302832 -75.577019 -102.460000 -116.374138 -19.422225   \n",
       "4 -46.256924 -47.164029 -75.827168 -101.791495 -116.294168 -20.797811   \n",
       "\n",
       "          O2  \n",
       "0 -24.044401  \n",
       "1 -25.461576  \n",
       "2 -17.671623  \n",
       "3 -20.596241  \n",
       "4 -21.760672  "
      ],
      "text/html": "<div>\n<style scoped>\n    .dataframe tbody tr th:only-of-type {\n        vertical-align: middle;\n    }\n\n    .dataframe tbody tr th {\n        vertical-align: top;\n    }\n\n    .dataframe thead th {\n        text-align: right;\n    }\n</style>\n<table border=\"1\" class=\"dataframe\">\n  <thead>\n    <tr style=\"text-align: right;\">\n      <th></th>\n      <th>time</th>\n      <th>FP1</th>\n      <th>FP2</th>\n      <th>F7</th>\n      <th>F3</th>\n      <th>Fz</th>\n      <th>F4</th>\n      <th>F8</th>\n      <th>T3</th>\n      <th>C3</th>\n      <th>Cz</th>\n      <th>C4</th>\n      <th>T4</th>\n      <th>T5</th>\n      <th>P3</th>\n      <th>Pz</th>\n      <th>P4</th>\n      <th>T6</th>\n      <th>O1</th>\n      <th>O2</th>\n    </tr>\n  </thead>\n  <tbody>\n    <tr>\n      <th>0</th>\n      <td>0</td>\n      <td>247.085224</td>\n      <td>226.427986</td>\n      <td>243.400921</td>\n      <td>91.204983</td>\n      <td>55.539856</td>\n      <td>30.993496</td>\n      <td>63.836413</td>\n      <td>-68.204146</td>\n      <td>-4.810091</td>\n      <td>-104.638740</td>\n      <td>-25.194368</td>\n      <td>17.563380</td>\n      <td>-16.669192</td>\n      <td>-54.736701</td>\n      <td>-80.506690</td>\n      <td>-107.095388</td>\n      <td>-113.935044</td>\n      <td>-22.240173</td>\n      <td>-24.044401</td>\n    </tr>\n    <tr>\n      <th>1</th>\n      <td>1</td>\n      <td>223.124495</td>\n      <td>217.253177</td>\n      <td>230.288985</td>\n      <td>87.282360</td>\n      <td>54.399233</td>\n      <td>29.484103</td>\n      <td>62.622202</td>\n      <td>-57.124885</td>\n      <td>-3.891314</td>\n      <td>-104.026181</td>\n      <td>-26.506049</td>\n      <td>17.346538</td>\n      <td>-26.118804</td>\n      <td>-53.851772</td>\n      <td>-79.859751</td>\n      <td>-106.698069</td>\n      <td>-119.452995</td>\n      <td>-21.425506</td>\n      <td>-25.461576</td>\n    </tr>\n    <tr>\n      <th>2</th>\n      <td>2</td>\n      <td>179.695673</td>\n      <td>170.218461</td>\n      <td>222.421823</td>\n      <td>85.062414</td>\n      <td>47.222584</td>\n      <td>15.159111</td>\n      <td>39.324530</td>\n      <td>-38.992590</td>\n      <td>3.748147</td>\n      <td>-98.604148</td>\n      <td>-26.024546</td>\n      <td>20.515767</td>\n      <td>-43.779133</td>\n      <td>-48.048959</td>\n      <td>-73.122966</td>\n      <td>-101.665362</td>\n      <td>-113.615163</td>\n      <td>-19.448936</td>\n      <td>-17.671623</td>\n    </tr>\n    <tr>\n      <th>3</th>\n      <td>3</td>\n      <td>179.258889</td>\n      <td>176.187614</td>\n      <td>217.534647</td>\n      <td>75.923996</td>\n      <td>47.121620</td>\n      <td>16.625785</td>\n      <td>38.768017</td>\n      <td>-34.866422</td>\n      <td>0.600485</td>\n      <td>-98.619684</td>\n      <td>-24.048723</td>\n      <td>24.352201</td>\n      <td>-47.422943</td>\n      <td>-48.302832</td>\n      <td>-75.577019</td>\n      <td>-102.460000</td>\n      <td>-116.374138</td>\n      <td>-19.422225</td>\n      <td>-20.596241</td>\n    </tr>\n    <tr>\n      <th>4</th>\n      <td>4</td>\n      <td>191.114458</td>\n      <td>167.068075</td>\n      <td>230.479704</td>\n      <td>71.527210</td>\n      <td>48.106704</td>\n      <td>13.706676</td>\n      <td>35.783082</td>\n      <td>-32.053774</td>\n      <td>2.080737</td>\n      <td>-99.667248</td>\n      <td>-25.194368</td>\n      <td>16.062166</td>\n      <td>-46.256924</td>\n      <td>-47.164029</td>\n      <td>-75.827168</td>\n      <td>-101.791495</td>\n      <td>-116.294168</td>\n      <td>-20.797811</td>\n      <td>-21.760672</td>\n    </tr>\n  </tbody>\n</table>\n</div>"
     },
     "metadata": {},
     "execution_count": 37
    }
   ],
   "source": [
    "def get_recording(subjectnum, trialnum):\n",
    "    '''retrieves trial eeg recording given a subject number and trial number'''\n",
    "    subjectnum = '0' + (str(subjectnum)) if subjectnum < 10 else str(subjectnum)\n",
    "    file = r\"data\\sub-\"+str(subjectnum)+r\"\\eeg\\sub-\"+str(subjectnum)+r\"_task-run\"+str(trialnum)+r\"_eeg.edf\"\n",
    "    data = mne.io.read_raw_edf(file)\n",
    "    raw_data = data.get_data()\n",
    "    # you can get the metadata included in the file and a list of all channels:\n",
    "    # info = data.info\n",
    "    # channels = data.ch_names\n",
    "    recording = data.to_data_frame().infer_objects()\n",
    "    return recording\n",
    "subject1 = get_recording(1,2)\n",
    "subject1.head()"
   ]
  },
  {
   "cell_type": "code",
   "execution_count": 38,
   "metadata": {},
   "outputs": [
    {
     "output_type": "execute_result",
     "data": {
      "text/plain": [
       "{'257': {'LongName': 'artifact:EOG',\n",
       "  'Description': 'artifact:EOG (blinks, fast, large amplitude)'},\n",
       " '259': {'LongName': 'artifact:EMG/Muscle',\n",
       "  'Description': 'artifact:EMG/Muscle'},\n",
       " '263': {'LongName': 'artifact:50/60 Hz mains interference',\n",
       "  'Description': 'artifact:50/60 Hz mains interference'},\n",
       " '786': {'LongName': 'Cross on screen',\n",
       "  'Description': 'Fixation cross displayed on screen'},\n",
       " '788': {'LongName': 'Music played', 'Description': 'Start of music play'},\n",
       " '301-360': {'LongName': 'Music stimuli',\n",
       "  'Description': \"The piece of music that was played. To identify which .mp3 file was played to the participants subtract 300 from this code and append .mp3, for example for code '305' the file '005.mp3' was played to the participant. The corresponding mp3 files can be downloaded from https://www.jyu.fi/hytk/fi/laitokset/mutku/en/research/projects2/past-projects/coe/materials/emotion/soundtracks/Index\"},\n",
       " '800': {'LongName': 'Question 01',\n",
       "  'Description': 'Question 01 presented to user (The music made me feel pleasent)'},\n",
       " '801': {'LongName': 'Question 02',\n",
       "  'Description': 'Question 02 presented to user (The music made me feel energetic)'},\n",
       " '802': {'LongName': 'Question 03',\n",
       "  'Description': 'Question 03 presented to user (The music made me feel tense)'},\n",
       " '803': {'LongName': 'Question 04',\n",
       "  'Description': 'Question 04 presented to user (The music made me feel angry)'},\n",
       " '804': {'LongName': 'Question 05',\n",
       "  'Description': 'Question 05 presented to user (The music made me feel afraid)'},\n",
       " '805': {'LongName': 'Question 06',\n",
       "  'Description': 'Question 06 presented to user (The music made me feel happy)'},\n",
       " '806': {'LongName': 'Question 07',\n",
       "  'Description': 'Question 07 presented to user (The music made me feel sad)'},\n",
       " '807': {'LongName': 'Question 08',\n",
       "  'Description': 'Question 08 presented to user (The music made me feel tender)'},\n",
       " '901': {'LongName': 'Answer 01',\n",
       "  'Description': 'The question was answered with a response of 1 (strongly disagree)'},\n",
       " '902': {'LongName': 'Answer 02',\n",
       "  'Description': 'The question was answered with a response of 1 (somewhat disagree)'},\n",
       " '903': {'LongName': 'Answer 03',\n",
       "  'Description': 'The question was answered with a response of 1 (disagree)'},\n",
       " '904': {'LongName': 'Answer 04',\n",
       "  'Description': 'The question was answered with a response of 1 (slightly disagree)'},\n",
       " '905': {'LongName': 'Answer 05',\n",
       "  'Description': 'The question was answered with a response of 1 (neither agree nor disagree)'},\n",
       " '906': {'LongName': 'Answer 06',\n",
       "  'Description': 'The question was answered with a response of 1 (slightly agree)'},\n",
       " '907': {'LongName': 'Answer 07',\n",
       "  'Description': 'The question was answered with a response of 1 (agree)'},\n",
       " '908': {'LongName': 'Answer 08',\n",
       "  'Description': 'The question was answered with a response of 1 (somewhat agree)'},\n",
       " '909': {'LongName': 'Answer 09',\n",
       "  'Description': 'The question was answered with a response of 1 (strongly agree)'},\n",
       " '833': {'LongName': 'Response 01',\n",
       "  'Description': 'Response 01 - The user selected 01 as their response'},\n",
       " '834': {'LongName': 'Response 02',\n",
       "  'Description': 'Response 02 - The user selected 02 as their response'},\n",
       " '835': {'LongName': 'Response 03',\n",
       "  'Description': 'Response 03 - The user selected 03 as their response'},\n",
       " '836': {'LongName': 'Response 04',\n",
       "  'Description': 'Response 04 - The user selected 04 as their response'},\n",
       " '837': {'LongName': 'Response 05',\n",
       "  'Description': 'Response 05 - The user selected 05 as their response'},\n",
       " '838': {'LongName': 'Response 06',\n",
       "  'Description': 'Response 06 - The user selected 06 as their response'},\n",
       " '839': {'LongName': 'Response 07',\n",
       "  'Description': 'Response 07 - The user selected 07 as their response'},\n",
       " '840': {'LongName': 'Response 08',\n",
       "  'Description': 'Response 08 - The user selected 08 as their response'},\n",
       " '841': {'LongName': 'Response 09',\n",
       "  'Description': 'Response 09 - The user selected 09 as their response'},\n",
       " '32768': {'LongName': 'not used', 'Description': 'not used'},\n",
       " '33568': {'LongName': 'Question hidden',\n",
       "  'Description': 'Question no longer displayed on screen'},\n",
       " '33569': {'LongName': 'not used', 'Description': 'not used'},\n",
       " '33570': {'LongName': 'not used', 'Description': 'not used'},\n",
       " '33571': {'LongName': 'not used', 'Description': 'not used'},\n",
       " '33572': {'LongName': 'not used', 'Description': 'not used'},\n",
       " '33573': {'LongName': 'not used', 'Description': 'not used'},\n",
       " '33574': {'LongName': 'not used', 'Description': 'not used'},\n",
       " '33575': {'LongName': 'not used', 'Description': 'not used'}}"
      ]
     },
     "metadata": {},
     "execution_count": 38
    }
   ],
   "source": [
    "# events json file that contains the description for the codes\n",
    "event_codes = {}\n",
    "with open('data\\sub-01\\eeg\\sub-01_task-run2_events.json') as f:\n",
    "    event_codes = json.load(f)\n",
    "event_codes"
   ]
  },
  {
   "cell_type": "code",
   "execution_count": 39,
   "metadata": {},
   "outputs": [
    {
     "output_type": "execute_result",
     "data": {
      "text/plain": [
       "   onset  trial_type                            trial_name  \\\n",
       "0  2.449         263  artifact:50/60 Hz mains interference   \n",
       "1  2.689         786                       Cross on screen   \n",
       "2  2.817         257                          artifact:EOG   \n",
       "3  3.713         257                          artifact:EOG   \n",
       "4  5.689         788                          Music played   \n",
       "\n",
       "                                     trial_desc  \\\n",
       "0          artifact:50/60 Hz mains interference   \n",
       "1            Fixation cross displayed on screen   \n",
       "2  artifact:EOG (blinks, fast, large amplitude)   \n",
       "3  artifact:EOG (blinks, fast, large amplitude)   \n",
       "4                           Start of music play   \n",
       "\n",
       "                     trial_desc_cleaned  song_clip  \n",
       "0  artifact:50/60 Hz mains interference         -1  \n",
       "1    Fixation cross displayed on screen         -1  \n",
       "2         blinks, fast, large amplitude         -1  \n",
       "3         blinks, fast, large amplitude         -1  \n",
       "4                   Start of music play         62  "
      ],
      "text/html": "<div>\n<style scoped>\n    .dataframe tbody tr th:only-of-type {\n        vertical-align: middle;\n    }\n\n    .dataframe tbody tr th {\n        vertical-align: top;\n    }\n\n    .dataframe thead th {\n        text-align: right;\n    }\n</style>\n<table border=\"1\" class=\"dataframe\">\n  <thead>\n    <tr style=\"text-align: right;\">\n      <th></th>\n      <th>onset</th>\n      <th>trial_type</th>\n      <th>trial_name</th>\n      <th>trial_desc</th>\n      <th>trial_desc_cleaned</th>\n      <th>song_clip</th>\n    </tr>\n  </thead>\n  <tbody>\n    <tr>\n      <th>0</th>\n      <td>2.449</td>\n      <td>263</td>\n      <td>artifact:50/60 Hz mains interference</td>\n      <td>artifact:50/60 Hz mains interference</td>\n      <td>artifact:50/60 Hz mains interference</td>\n      <td>-1</td>\n    </tr>\n    <tr>\n      <th>1</th>\n      <td>2.689</td>\n      <td>786</td>\n      <td>Cross on screen</td>\n      <td>Fixation cross displayed on screen</td>\n      <td>Fixation cross displayed on screen</td>\n      <td>-1</td>\n    </tr>\n    <tr>\n      <th>2</th>\n      <td>2.817</td>\n      <td>257</td>\n      <td>artifact:EOG</td>\n      <td>artifact:EOG (blinks, fast, large amplitude)</td>\n      <td>blinks, fast, large amplitude</td>\n      <td>-1</td>\n    </tr>\n    <tr>\n      <th>3</th>\n      <td>3.713</td>\n      <td>257</td>\n      <td>artifact:EOG</td>\n      <td>artifact:EOG (blinks, fast, large amplitude)</td>\n      <td>blinks, fast, large amplitude</td>\n      <td>-1</td>\n    </tr>\n    <tr>\n      <th>4</th>\n      <td>5.689</td>\n      <td>788</td>\n      <td>Music played</td>\n      <td>Start of music play</td>\n      <td>Start of music play</td>\n      <td>62</td>\n    </tr>\n  </tbody>\n</table>\n</div>"
     },
     "metadata": {},
     "execution_count": 39
    }
   ],
   "source": [
    "def get_events(subjectnum, trialnum):\n",
    "    '''retrieves events and timings given a subject number and trial number'''\n",
    "    subjectnum = '0' + (str(subjectnum)) if subjectnum < 10 else str(subjectnum)\n",
    "    events = pd.read_csv(\"data\\sub-\"+str(subjectnum)+\"\\eeg\\sub-\"+str(subjectnum)+\"_task-run\"+str(trialnum)+\"_events.tsv\", sep=\"\\t\", usecols=['onset','trial_type']).infer_objects()\n",
    "    eventcodes = {}\n",
    "    with open('data\\sub-'+str(subjectnum)+'\\eeg\\sub-'+str(subjectnum)+'_task-run'+str(trialnum)+'_events.json') as f:\n",
    "        eventcodes = json.load(f)\n",
    "    events['trial_name'] = events['trial_type'].apply(lambda x: eventcodes[str(x)]['LongName'] if str(x) in eventcodes.keys() else 'n/a')\n",
    "    events['trial_desc'] = events['trial_type'].apply(lambda x: eventcodes[str(x)]['Description'] if str(x) in eventcodes.keys() else 'n/a')\n",
    "    events['trial_desc_cleaned'] = events['trial_desc'].replace(\".* \\(The music made me feel |\\)|.* \\(| - The user.+\", \"\",regex = True)\n",
    "    # logic below gets song name for each of the 10 ish runs\n",
    "    te_sample = events[(300<=events['trial_type'])&(events['trial_type']<=660)][['onset','trial_type']]\n",
    "    songtime = te_sample['onset'].to_numpy()\n",
    "    songdict = te_sample.set_index('onset').to_dict()['trial_type']\n",
    "    def get_song_trial_type(searchVal, inputData):\n",
    "        '''returns trial type of song for particular question sequence'''\n",
    "        if searchVal < inputData.min(): return -1\n",
    "        diff = inputData - searchVal\n",
    "        diff[diff>=0] = -np.inf\n",
    "        idx = diff.argmax()\n",
    "        return songdict[inputData[idx]] -300\n",
    "    events['song_clip'] = events.onset.map(lambda x: get_song_trial_type(x,songtime))\n",
    "\n",
    "    return events\n",
    "s1_2events = get_events(1,2)\n",
    "s1_2events.head()"
   ]
  },
  {
   "source": [
    "## This is the all important function below"
   ],
   "cell_type": "markdown",
   "metadata": {}
  },
  {
   "cell_type": "code",
   "execution_count": 40,
   "metadata": {},
   "outputs": [
    {
     "output_type": "stream",
     "name": "stdout",
     "text": [
      "Extracting EDF parameters from c:\\Users\\Staro\\Documents\\GitHub\\COGS189-final-project\\data\\sub-30\\eeg\\sub-30_task-run2_eeg.edf...\n",
      "EDF file detected\n",
      "Setting channel info structure...\n",
      "Creating raw.info structure...\n",
      "<ipython-input-37-2cc7e562e588>:5: RuntimeWarning: Invalid date encountered (2014-00-00 00:00:00).\n",
      "  data = mne.io.read_raw_edf(file)\n"
     ]
    },
    {
     "output_type": "execute_result",
     "data": {
      "text/plain": [
       "          time  song_clip        FP1        FP2         F7         F3  \\\n",
       "0         6620         62   8.868887  13.995650  48.229592 -54.106238   \n",
       "1         6621         62   9.455152  13.605077  47.808005 -52.726093   \n",
       "2         6622         62   9.284946  11.317438  45.862220 -53.605935   \n",
       "3         6623         62  13.663021  12.265971  49.851079 -53.907842   \n",
       "4         6624         62   9.133652  11.684098  46.835113 -51.915258   \n",
       "...        ...        ...        ...        ...        ...        ...   \n",
       "160005  649494        176 -13.910341  -1.507692  14.113498 -17.092483   \n",
       "160006  649495        176 -12.633796   0.022715  14.599945 -16.083253   \n",
       "160007  649496        176  -8.548854   0.740093  15.378259 -16.411037   \n",
       "160008  649497        176 -10.449487  -1.133061  14.891812 -20.396205   \n",
       "160009  649498        176 -12.473046  -4.903283  14.729664 -19.430103   \n",
       "\n",
       "               Fz         F4         F8         T3  ...         T4         T5  \\\n",
       "0       15.502685  42.289633  72.955059  80.907329  ...  72.729358  34.853280   \n",
       "1       15.035020  41.492044  72.202536  81.627942  ...  72.358054  34.539554   \n",
       "2       12.001464  41.839986  72.718974  80.096639  ...  75.851451  34.631826   \n",
       "3       14.452527  41.797162  71.612323  80.659618  ...  73.247092  35.050128   \n",
       "4       15.166551  40.731926  69.605595  82.393594  ...  71.604986  36.520335   \n",
       "...           ...        ...        ...        ...  ...        ...        ...   \n",
       "160005  18.291970 -10.891891  -6.059831  25.780412  ... -13.564874  21.584508   \n",
       "160006  18.876550  -9.890890  -4.421988  27.199119  ... -10.270203  21.264630   \n",
       "160007  18.757546 -12.026716  -2.666101  23.888802  ... -10.061018   6.568711   \n",
       "160008  18.964237 -11.261244  -3.861284  23.280784  ... -14.469601  -1.132959   \n",
       "160009  17.592561 -15.441896  -9.114188  27.086523  ... -14.626490  12.886295   \n",
       "\n",
       "               P3         Pz          P4         T6         O1         O2  \\\n",
       "0      -46.391721  17.050814  103.392803  72.464162  71.068751  66.195834   \n",
       "1      -45.282516  17.441381  104.324011  72.090361  73.072439  67.464176   \n",
       "2      -45.818382  17.103056  104.258963  73.091614  72.219094  68.618287   \n",
       "3      -46.174376  17.533426  103.543440  72.077011  74.197684  67.625672   \n",
       "4      -45.972021  17.297095  104.053550  71.013459  75.339660  70.221439   \n",
       "...           ...        ...         ...        ...        ...        ...   \n",
       "160005 -12.103794  18.341924   34.983282  -5.411025  43.878826  21.272136   \n",
       "160006 -10.098981  18.983747   38.153496   1.588842  45.535320  23.993949   \n",
       "160007 -16.218345  18.817072   38.263050   3.012845  46.924098  26.010690   \n",
       "160008 -19.789536  18.545914   35.644029  -2.607518  46.146048  23.556725   \n",
       "160009 -16.300786  16.981159   35.164731  -1.575116  45.175577  24.072728   \n",
       "\n",
       "        Number    TARGET  \n",
       "0           62    TENDER  \n",
       "1           62    TENDER  \n",
       "2           62    TENDER  \n",
       "3           62    TENDER  \n",
       "4           62    TENDER  \n",
       "...        ...       ...  \n",
       "160005     176  SURPRISE  \n",
       "160006     176  SURPRISE  \n",
       "160007     176  SURPRISE  \n",
       "160008     176  SURPRISE  \n",
       "160009     176  SURPRISE  \n",
       "\n",
       "[160010 rows x 23 columns]"
      ],
      "text/html": "<div>\n<style scoped>\n    .dataframe tbody tr th:only-of-type {\n        vertical-align: middle;\n    }\n\n    .dataframe tbody tr th {\n        vertical-align: top;\n    }\n\n    .dataframe thead th {\n        text-align: right;\n    }\n</style>\n<table border=\"1\" class=\"dataframe\">\n  <thead>\n    <tr style=\"text-align: right;\">\n      <th></th>\n      <th>time</th>\n      <th>song_clip</th>\n      <th>FP1</th>\n      <th>FP2</th>\n      <th>F7</th>\n      <th>F3</th>\n      <th>Fz</th>\n      <th>F4</th>\n      <th>F8</th>\n      <th>T3</th>\n      <th>...</th>\n      <th>T4</th>\n      <th>T5</th>\n      <th>P3</th>\n      <th>Pz</th>\n      <th>P4</th>\n      <th>T6</th>\n      <th>O1</th>\n      <th>O2</th>\n      <th>Number</th>\n      <th>TARGET</th>\n    </tr>\n  </thead>\n  <tbody>\n    <tr>\n      <th>0</th>\n      <td>6620</td>\n      <td>62</td>\n      <td>8.868887</td>\n      <td>13.995650</td>\n      <td>48.229592</td>\n      <td>-54.106238</td>\n      <td>15.502685</td>\n      <td>42.289633</td>\n      <td>72.955059</td>\n      <td>80.907329</td>\n      <td>...</td>\n      <td>72.729358</td>\n      <td>34.853280</td>\n      <td>-46.391721</td>\n      <td>17.050814</td>\n      <td>103.392803</td>\n      <td>72.464162</td>\n      <td>71.068751</td>\n      <td>66.195834</td>\n      <td>62</td>\n      <td>TENDER</td>\n    </tr>\n    <tr>\n      <th>1</th>\n      <td>6621</td>\n      <td>62</td>\n      <td>9.455152</td>\n      <td>13.605077</td>\n      <td>47.808005</td>\n      <td>-52.726093</td>\n      <td>15.035020</td>\n      <td>41.492044</td>\n      <td>72.202536</td>\n      <td>81.627942</td>\n      <td>...</td>\n      <td>72.358054</td>\n      <td>34.539554</td>\n      <td>-45.282516</td>\n      <td>17.441381</td>\n      <td>104.324011</td>\n      <td>72.090361</td>\n      <td>73.072439</td>\n      <td>67.464176</td>\n      <td>62</td>\n      <td>TENDER</td>\n    </tr>\n    <tr>\n      <th>2</th>\n      <td>6622</td>\n      <td>62</td>\n      <td>9.284946</td>\n      <td>11.317438</td>\n      <td>45.862220</td>\n      <td>-53.605935</td>\n      <td>12.001464</td>\n      <td>41.839986</td>\n      <td>72.718974</td>\n      <td>80.096639</td>\n      <td>...</td>\n      <td>75.851451</td>\n      <td>34.631826</td>\n      <td>-45.818382</td>\n      <td>17.103056</td>\n      <td>104.258963</td>\n      <td>73.091614</td>\n      <td>72.219094</td>\n      <td>68.618287</td>\n      <td>62</td>\n      <td>TENDER</td>\n    </tr>\n    <tr>\n      <th>3</th>\n      <td>6623</td>\n      <td>62</td>\n      <td>13.663021</td>\n      <td>12.265971</td>\n      <td>49.851079</td>\n      <td>-53.907842</td>\n      <td>14.452527</td>\n      <td>41.797162</td>\n      <td>71.612323</td>\n      <td>80.659618</td>\n      <td>...</td>\n      <td>73.247092</td>\n      <td>35.050128</td>\n      <td>-46.174376</td>\n      <td>17.533426</td>\n      <td>103.543440</td>\n      <td>72.077011</td>\n      <td>74.197684</td>\n      <td>67.625672</td>\n      <td>62</td>\n      <td>TENDER</td>\n    </tr>\n    <tr>\n      <th>4</th>\n      <td>6624</td>\n      <td>62</td>\n      <td>9.133652</td>\n      <td>11.684098</td>\n      <td>46.835113</td>\n      <td>-51.915258</td>\n      <td>15.166551</td>\n      <td>40.731926</td>\n      <td>69.605595</td>\n      <td>82.393594</td>\n      <td>...</td>\n      <td>71.604986</td>\n      <td>36.520335</td>\n      <td>-45.972021</td>\n      <td>17.297095</td>\n      <td>104.053550</td>\n      <td>71.013459</td>\n      <td>75.339660</td>\n      <td>70.221439</td>\n      <td>62</td>\n      <td>TENDER</td>\n    </tr>\n    <tr>\n      <th>...</th>\n      <td>...</td>\n      <td>...</td>\n      <td>...</td>\n      <td>...</td>\n      <td>...</td>\n      <td>...</td>\n      <td>...</td>\n      <td>...</td>\n      <td>...</td>\n      <td>...</td>\n      <td>...</td>\n      <td>...</td>\n      <td>...</td>\n      <td>...</td>\n      <td>...</td>\n      <td>...</td>\n      <td>...</td>\n      <td>...</td>\n      <td>...</td>\n      <td>...</td>\n      <td>...</td>\n    </tr>\n    <tr>\n      <th>160005</th>\n      <td>649494</td>\n      <td>176</td>\n      <td>-13.910341</td>\n      <td>-1.507692</td>\n      <td>14.113498</td>\n      <td>-17.092483</td>\n      <td>18.291970</td>\n      <td>-10.891891</td>\n      <td>-6.059831</td>\n      <td>25.780412</td>\n      <td>...</td>\n      <td>-13.564874</td>\n      <td>21.584508</td>\n      <td>-12.103794</td>\n      <td>18.341924</td>\n      <td>34.983282</td>\n      <td>-5.411025</td>\n      <td>43.878826</td>\n      <td>21.272136</td>\n      <td>176</td>\n      <td>SURPRISE</td>\n    </tr>\n    <tr>\n      <th>160006</th>\n      <td>649495</td>\n      <td>176</td>\n      <td>-12.633796</td>\n      <td>0.022715</td>\n      <td>14.599945</td>\n      <td>-16.083253</td>\n      <td>18.876550</td>\n      <td>-9.890890</td>\n      <td>-4.421988</td>\n      <td>27.199119</td>\n      <td>...</td>\n      <td>-10.270203</td>\n      <td>21.264630</td>\n      <td>-10.098981</td>\n      <td>18.983747</td>\n      <td>38.153496</td>\n      <td>1.588842</td>\n      <td>45.535320</td>\n      <td>23.993949</td>\n      <td>176</td>\n      <td>SURPRISE</td>\n    </tr>\n    <tr>\n      <th>160007</th>\n      <td>649496</td>\n      <td>176</td>\n      <td>-8.548854</td>\n      <td>0.740093</td>\n      <td>15.378259</td>\n      <td>-16.411037</td>\n      <td>18.757546</td>\n      <td>-12.026716</td>\n      <td>-2.666101</td>\n      <td>23.888802</td>\n      <td>...</td>\n      <td>-10.061018</td>\n      <td>6.568711</td>\n      <td>-16.218345</td>\n      <td>18.817072</td>\n      <td>38.263050</td>\n      <td>3.012845</td>\n      <td>46.924098</td>\n      <td>26.010690</td>\n      <td>176</td>\n      <td>SURPRISE</td>\n    </tr>\n    <tr>\n      <th>160008</th>\n      <td>649497</td>\n      <td>176</td>\n      <td>-10.449487</td>\n      <td>-1.133061</td>\n      <td>14.891812</td>\n      <td>-20.396205</td>\n      <td>18.964237</td>\n      <td>-11.261244</td>\n      <td>-3.861284</td>\n      <td>23.280784</td>\n      <td>...</td>\n      <td>-14.469601</td>\n      <td>-1.132959</td>\n      <td>-19.789536</td>\n      <td>18.545914</td>\n      <td>35.644029</td>\n      <td>-2.607518</td>\n      <td>46.146048</td>\n      <td>23.556725</td>\n      <td>176</td>\n      <td>SURPRISE</td>\n    </tr>\n    <tr>\n      <th>160009</th>\n      <td>649498</td>\n      <td>176</td>\n      <td>-12.473046</td>\n      <td>-4.903283</td>\n      <td>14.729664</td>\n      <td>-19.430103</td>\n      <td>17.592561</td>\n      <td>-15.441896</td>\n      <td>-9.114188</td>\n      <td>27.086523</td>\n      <td>...</td>\n      <td>-14.626490</td>\n      <td>12.886295</td>\n      <td>-16.300786</td>\n      <td>16.981159</td>\n      <td>35.164731</td>\n      <td>-1.575116</td>\n      <td>45.175577</td>\n      <td>24.072728</td>\n      <td>176</td>\n      <td>SURPRISE</td>\n    </tr>\n  </tbody>\n</table>\n<p>160010 rows × 23 columns</p>\n</div>"
     },
     "metadata": {},
     "execution_count": 40
    }
   ],
   "source": [
    "def get_recording_events(subjectnum, trialnum):    \n",
    "    '''returns the recording events of each trial number of each subject'''\n",
    "    trial_events = get_events(subjectnum,trialnum)\n",
    "    te_sample = trial_events[(300<=trial_events['trial_type'])&(trial_events['trial_type']<=660)][['onset','trial_type']]\n",
    "    songtime = te_sample['onset'].to_numpy()\n",
    "    songdict = te_sample.set_index('onset').to_dict()['trial_type']\n",
    "    def get_song_trial_type(searchVal, inputData):\n",
    "        '''returns trial type of song for particular question sequence'''\n",
    "        if searchVal < inputData.min(): return -1\n",
    "        diff = inputData - searchVal\n",
    "        diff[diff>=0] = -np.inf\n",
    "        idx = diff.argmax()\n",
    "        return songdict[inputData[idx]] -300\n",
    "    trial_events['song_clip'] = trial_events.onset.map(lambda x: get_song_trial_type(x,songtime))\n",
    "    trial_events['onset_time'] = (trial_events.onset*1000).astype(int)\n",
    "    # trial_events\n",
    "    record = get_recording(subjectnum,trialnum)\n",
    "    # record\n",
    "    ot = trial_events[trial_events.trial_type.isin([788,1092])].groupby('song_clip').head(2)[['song_clip','onset_time']]\n",
    "    ot\n",
    "    otdf = pd.DataFrame({'song':ot['song_clip'].iloc[::2].values,'start':ot['onset_time'].iloc[::2].values,'end':ot['onset_time'].iloc[1::2].values}).set_index('song')\n",
    "    otdf\n",
    "    df = pd.DataFrame(list(chain.from_iterable(pd.RangeIndex(otdf[\"start\"],otdf[\"end\"]) for _, otdf in otdf.iterrows())),columns=(\"time\",)).merge(ot, how='left', left_on='time',right_on='onset_time').ffill().astype(int).drop(columns='onset_time')\n",
    "    # df.song_clip.plot() # YES THIS IS IT THIS IS WHAT I WANT\n",
    "    set1 = pd.read_csv('data/set1/set1/mean_ratings_set1.csv').drop(columns=['Unnamed: 10', 'Unnamed: 11'])\n",
    "    return df.merge(record, how='left', on='time').merge(set1[['Number', 'TARGET']], left_on='song_clip', right_on='Number')\n",
    "get_recording_events(30,2)"
   ]
  },
  {
   "cell_type": "code",
   "execution_count": null,
   "metadata": {},
   "outputs": [],
   "source": []
  },
  {
   "cell_type": "code",
   "execution_count": null,
   "metadata": {},
   "outputs": [],
   "source": []
  },
  {
   "cell_type": "code",
   "execution_count": 41,
   "metadata": {},
   "outputs": [
    {
     "output_type": "stream",
     "name": "stderr",
     "text": [
      "ipykernel_launcher:14: SettingWithCopyWarning: \nA value is trying to be set on a copy of a slice from a DataFrame.\nTry using .loc[row_indexer,col_indexer] = value instead\n\nSee the caveats in the documentation: https://pandas.pydata.org/pandas-docs/stable/user_guide/indexing.html#returning-a-view-versus-a-copy\n"
     ]
    },
    {
     "output_type": "execute_result",
     "data": {
      "text/plain": [
       "     onset  trial_type   trial_name  \\\n",
       "8   22.290         805  Question 06   \n",
       "11  28.402         800  Question 01   \n",
       "20  34.002         801  Question 02   \n",
       "28  39.002         807  Question 08   \n",
       "37  42.002         804  Question 05   \n",
       "\n",
       "                                           trial_desc trial_desc_cleaned  \\\n",
       "8   Question 06 presented to user (The music made ...              happy   \n",
       "11  Question 01 presented to user (The music made ...           pleasent   \n",
       "20  Question 02 presented to user (The music made ...          energetic   \n",
       "28  Question 08 presented to user (The music made ...             tender   \n",
       "37  Question 05 presented to user (The music made ...             afraid   \n",
       "\n",
       "    song_clip  response  \n",
       "8          62        -1  \n",
       "11         62         4  \n",
       "20         62        -4  \n",
       "28         62        -1  \n",
       "37         62        -1  "
      ],
      "text/html": "<div>\n<style scoped>\n    .dataframe tbody tr th:only-of-type {\n        vertical-align: middle;\n    }\n\n    .dataframe tbody tr th {\n        vertical-align: top;\n    }\n\n    .dataframe thead th {\n        text-align: right;\n    }\n</style>\n<table border=\"1\" class=\"dataframe\">\n  <thead>\n    <tr style=\"text-align: right;\">\n      <th></th>\n      <th>onset</th>\n      <th>trial_type</th>\n      <th>trial_name</th>\n      <th>trial_desc</th>\n      <th>trial_desc_cleaned</th>\n      <th>song_clip</th>\n      <th>response</th>\n    </tr>\n  </thead>\n  <tbody>\n    <tr>\n      <th>8</th>\n      <td>22.290</td>\n      <td>805</td>\n      <td>Question 06</td>\n      <td>Question 06 presented to user (The music made ...</td>\n      <td>happy</td>\n      <td>62</td>\n      <td>-1</td>\n    </tr>\n    <tr>\n      <th>11</th>\n      <td>28.402</td>\n      <td>800</td>\n      <td>Question 01</td>\n      <td>Question 01 presented to user (The music made ...</td>\n      <td>pleasent</td>\n      <td>62</td>\n      <td>4</td>\n    </tr>\n    <tr>\n      <th>20</th>\n      <td>34.002</td>\n      <td>801</td>\n      <td>Question 02</td>\n      <td>Question 02 presented to user (The music made ...</td>\n      <td>energetic</td>\n      <td>62</td>\n      <td>-4</td>\n    </tr>\n    <tr>\n      <th>28</th>\n      <td>39.002</td>\n      <td>807</td>\n      <td>Question 08</td>\n      <td>Question 08 presented to user (The music made ...</td>\n      <td>tender</td>\n      <td>62</td>\n      <td>-1</td>\n    </tr>\n    <tr>\n      <th>37</th>\n      <td>42.002</td>\n      <td>804</td>\n      <td>Question 05</td>\n      <td>Question 05 presented to user (The music made ...</td>\n      <td>afraid</td>\n      <td>62</td>\n      <td>-1</td>\n    </tr>\n  </tbody>\n</table>\n</div>"
     },
     "metadata": {},
     "execution_count": 41
    }
   ],
   "source": [
    "def get_q_a(subjectnum, trialnum):\n",
    "    '''this garbage code returns the responses to the questions. positivity vs negativity of response is reflected by the score, the larger the number the stronger the agreement, zero is neutral.'''\n",
    "    # get labeled trial events by adding the respective json file\n",
    "    trialevents = get_events(subjectnum, trialnum)\n",
    "    \n",
    "    df = trialevents[trialevents.trial_name.str.contains('Question')|trialevents.trial_name.str.contains('Answer')|trialevents.trial_name.str.contains('Response')]\n",
    "    df = df[df['trial_name'].str.contains('Question') & ~df['trial_name'].str.contains('hidden')|df['trial_name'].str.contains('Answer')]\n",
    "    df = df[df['trial_name'].shift() != df['trial_name']]\n",
    "    df = df.sort_values(['onset', 'trial_name'])\n",
    "    answer_matrix = {'strongly disagree':-4,'disagree':-3,'somewhat disagree':-2,'slightly disagree':-1,'neither agree nor disagree':0,'slightly agree':1,'somewhat agree':2,'agree':3,'strongly agree':4}\n",
    "    #get question answers\n",
    "    qapair = df[df.trial_desc_cleaned.isin(['pleasent', 'energetic', 'tense', 'angry', 'afraid', 'happy', 'sad', 'tender']) & \n",
    "        df.shift().trial_desc_cleaned.isin(answer_matrix.keys())|df.trial_desc_cleaned.isin(answer_matrix.keys())]\n",
    "    qapair['response'] = qapair.trial_desc_cleaned.shift(-1)\n",
    "    qapair = qapair[qapair['trial_desc_cleaned'].isin(['pleasent', 'energetic', 'tense', 'angry', 'afraid', 'happy', 'sad', 'tender'])]\n",
    "    return qapair.dropna().replace(answer_matrix)#.drop_duplicates('trial_name', 'last').sort_values('trial_name').reset_index(drop=True)\n",
    "s1_2qa = get_q_a(1,2)\n",
    "s1_2qa.head()"
   ]
  },
  {
   "cell_type": "code",
   "execution_count": 42,
   "metadata": {},
   "outputs": [
    {
     "output_type": "execute_result",
     "data": {
      "text/plain": [
       "trial_desc_cleaned  afraid  angry  energetic  happy  pleasent  sad  tender  \\\n",
       "song_clip                                                                    \n",
       "62                     1.5    4.0       -4.0   -1.0       4.0 -4.0    -1.0   \n",
       "113                    NaN    1.0       -4.0    4.0      -4.0 -3.0    -4.0   \n",
       "135                    4.0   -4.0       -4.0   -4.0      -4.0  NaN     3.0   \n",
       "140                   -4.0    4.0        3.0   -4.0       NaN -4.0    -4.0   \n",
       "160                   -4.0   -2.5        3.0    4.0      -1.0  NaN    -4.0   \n",
       "163                    NaN   -4.0       -3.0   -4.0      -4.0 -3.0     4.0   \n",
       "166                    4.0    4.0        2.0   -4.0       NaN  3.0    -4.0   \n",
       "176                   -4.0    NaN       -4.0    NaN      -4.0 -4.0     NaN   \n",
       "333                   -4.0   -2.0        4.0   -1.0       4.0 -4.0    -4.0   \n",
       "357                   -4.0    NaN       -4.0    2.0      -4.0 -4.0    -2.0   \n",
       "\n",
       "trial_desc_cleaned  tense  \n",
       "song_clip                  \n",
       "62                   -4.0  \n",
       "113                  -4.0  \n",
       "135                  -4.0  \n",
       "140                  -4.0  \n",
       "160                   0.0  \n",
       "163                   4.0  \n",
       "166                   3.0  \n",
       "176                  -3.0  \n",
       "333                   NaN  \n",
       "357                  -4.0  "
      ],
      "text/html": "<div>\n<style scoped>\n    .dataframe tbody tr th:only-of-type {\n        vertical-align: middle;\n    }\n\n    .dataframe tbody tr th {\n        vertical-align: top;\n    }\n\n    .dataframe thead th {\n        text-align: right;\n    }\n</style>\n<table border=\"1\" class=\"dataframe\">\n  <thead>\n    <tr style=\"text-align: right;\">\n      <th>trial_desc_cleaned</th>\n      <th>afraid</th>\n      <th>angry</th>\n      <th>energetic</th>\n      <th>happy</th>\n      <th>pleasent</th>\n      <th>sad</th>\n      <th>tender</th>\n      <th>tense</th>\n    </tr>\n    <tr>\n      <th>song_clip</th>\n      <th></th>\n      <th></th>\n      <th></th>\n      <th></th>\n      <th></th>\n      <th></th>\n      <th></th>\n      <th></th>\n    </tr>\n  </thead>\n  <tbody>\n    <tr>\n      <th>62</th>\n      <td>1.5</td>\n      <td>4.0</td>\n      <td>-4.0</td>\n      <td>-1.0</td>\n      <td>4.0</td>\n      <td>-4.0</td>\n      <td>-1.0</td>\n      <td>-4.0</td>\n    </tr>\n    <tr>\n      <th>113</th>\n      <td>NaN</td>\n      <td>1.0</td>\n      <td>-4.0</td>\n      <td>4.0</td>\n      <td>-4.0</td>\n      <td>-3.0</td>\n      <td>-4.0</td>\n      <td>-4.0</td>\n    </tr>\n    <tr>\n      <th>135</th>\n      <td>4.0</td>\n      <td>-4.0</td>\n      <td>-4.0</td>\n      <td>-4.0</td>\n      <td>-4.0</td>\n      <td>NaN</td>\n      <td>3.0</td>\n      <td>-4.0</td>\n    </tr>\n    <tr>\n      <th>140</th>\n      <td>-4.0</td>\n      <td>4.0</td>\n      <td>3.0</td>\n      <td>-4.0</td>\n      <td>NaN</td>\n      <td>-4.0</td>\n      <td>-4.0</td>\n      <td>-4.0</td>\n    </tr>\n    <tr>\n      <th>160</th>\n      <td>-4.0</td>\n      <td>-2.5</td>\n      <td>3.0</td>\n      <td>4.0</td>\n      <td>-1.0</td>\n      <td>NaN</td>\n      <td>-4.0</td>\n      <td>0.0</td>\n    </tr>\n    <tr>\n      <th>163</th>\n      <td>NaN</td>\n      <td>-4.0</td>\n      <td>-3.0</td>\n      <td>-4.0</td>\n      <td>-4.0</td>\n      <td>-3.0</td>\n      <td>4.0</td>\n      <td>4.0</td>\n    </tr>\n    <tr>\n      <th>166</th>\n      <td>4.0</td>\n      <td>4.0</td>\n      <td>2.0</td>\n      <td>-4.0</td>\n      <td>NaN</td>\n      <td>3.0</td>\n      <td>-4.0</td>\n      <td>3.0</td>\n    </tr>\n    <tr>\n      <th>176</th>\n      <td>-4.0</td>\n      <td>NaN</td>\n      <td>-4.0</td>\n      <td>NaN</td>\n      <td>-4.0</td>\n      <td>-4.0</td>\n      <td>NaN</td>\n      <td>-3.0</td>\n    </tr>\n    <tr>\n      <th>333</th>\n      <td>-4.0</td>\n      <td>-2.0</td>\n      <td>4.0</td>\n      <td>-1.0</td>\n      <td>4.0</td>\n      <td>-4.0</td>\n      <td>-4.0</td>\n      <td>NaN</td>\n    </tr>\n    <tr>\n      <th>357</th>\n      <td>-4.0</td>\n      <td>NaN</td>\n      <td>-4.0</td>\n      <td>2.0</td>\n      <td>-4.0</td>\n      <td>-4.0</td>\n      <td>-2.0</td>\n      <td>-4.0</td>\n    </tr>\n  </tbody>\n</table>\n</div>"
     },
     "metadata": {},
     "execution_count": 42
    }
   ],
   "source": [
    "# ive done it, but at what cost\n",
    "s1_2qa.pivot_table(index='song_clip', columns='trial_desc_cleaned')['response']"
   ]
  },
  {
   "cell_type": "code",
   "execution_count": 43,
   "metadata": {},
   "outputs": [
    {
     "output_type": "execute_result",
     "data": {
      "text/plain": [
       "array([1.  , 1.17, 1.2 , 1.33, 1.4 , 1.5 , 1.6 , 1.67, 1.8 , 1.83, 2.  ,\n",
       "       2.17, 2.2 , 2.33, 2.4 , 2.5 , 2.6 , 2.67, 2.8 , 2.83, 3.  , 3.17,\n",
       "       3.2 , 3.33, 3.4 , 3.5 , 3.6 , 3.67, 3.8 , 3.83, 4.  , 4.17, 4.2 ,\n",
       "       4.33, 4.4 , 4.5 , 4.6 , 4.67, 4.8 , 4.83, 5.  , 5.17, 5.2 , 5.33,\n",
       "       5.4 , 5.5 , 5.6 , 5.67, 5.8 , 5.83, 6.  , 6.17, 6.2 , 6.33, 6.4 ,\n",
       "       6.5 , 6.6 , 6.67, 6.8 , 6.83, 7.  , 7.17, 7.2 , 7.33, 7.4 , 7.5 ,\n",
       "       7.6 , 7.67, 7.8 , 7.83])"
      ]
     },
     "metadata": {},
     "execution_count": 43
    }
   ],
   "source": [
    "# does this go from 1-7 or 1-8\n",
    "mean_ratings = pd.read_csv('data\\set1\\set1\\mean_ratings_set1.csv').drop(['Unnamed: 10', 'Unnamed: 11'],axis=1) \n",
    "np.unique(mean_ratings[['valence','energy','tension','anger','fear','happy','sad','tender']].to_numpy().flatten())"
   ]
  },
  {
   "source": [
    "## --caution tape for the prototyping garbage below--"
   ],
   "cell_type": "markdown",
   "metadata": {}
  },
  {
   "cell_type": "code",
   "execution_count": 44,
   "metadata": {
    "tags": []
   },
   "outputs": [],
   "source": [
    "# for i in range(1,32):\n",
    "#     print(i, end=' ')\n",
    "#     for j in range(2,6):\n",
    "#         re = get_recording_events(i,j)\n",
    "#         print(re.shape)"
   ]
  },
  {
   "cell_type": "code",
   "execution_count": 45,
   "metadata": {},
   "outputs": [
    {
     "output_type": "execute_result",
     "data": {
      "text/plain": [
       "       onset  trial_type                            trial_name  \\\n",
       "0      2.241         263  artifact:50/60 Hz mains interference   \n",
       "1      2.375         786                       Cross on screen   \n",
       "2      2.465         257                          artifact:EOG   \n",
       "3      4.129         257                          artifact:EOG   \n",
       "4      5.375         788                          Music played   \n",
       "..       ...         ...                                   ...   \n",
       "699  577.835         806                           Question 07   \n",
       "700  577.935       32768                              not used   \n",
       "701  579.202         801                           Question 02   \n",
       "702  579.202         833                           Response 01   \n",
       "703  579.402       32768                              not used   \n",
       "\n",
       "                                            trial_desc  \\\n",
       "0                 artifact:50/60 Hz mains interference   \n",
       "1                   Fixation cross displayed on screen   \n",
       "2         artifact:EOG (blinks, fast, large amplitude)   \n",
       "3         artifact:EOG (blinks, fast, large amplitude)   \n",
       "4                                  Start of music play   \n",
       "..                                                 ...   \n",
       "699  Question 07 presented to user (The music made ...   \n",
       "700                                           not used   \n",
       "701  Question 02 presented to user (The music made ...   \n",
       "702  Response 01 - The user selected 01 as their re...   \n",
       "703                                           not used   \n",
       "\n",
       "                       trial_desc_cleaned  song_clip  onset_time  \n",
       "0    artifact:50/60 Hz mains interference         -1        2241  \n",
       "1      Fixation cross displayed on screen         -1        2375  \n",
       "2           blinks, fast, large amplitude         -1        2465  \n",
       "3           blinks, fast, large amplitude         -1        4129  \n",
       "4                     Start of music play         86        5375  \n",
       "..                                    ...        ...         ...  \n",
       "699                                   sad        165      577835  \n",
       "700                              not used        165      577935  \n",
       "701                             energetic        165      579202  \n",
       "702                           Response 01        165      579202  \n",
       "703                              not used        165      579402  \n",
       "\n",
       "[704 rows x 7 columns]"
      ],
      "text/html": "<div>\n<style scoped>\n    .dataframe tbody tr th:only-of-type {\n        vertical-align: middle;\n    }\n\n    .dataframe tbody tr th {\n        vertical-align: top;\n    }\n\n    .dataframe thead th {\n        text-align: right;\n    }\n</style>\n<table border=\"1\" class=\"dataframe\">\n  <thead>\n    <tr style=\"text-align: right;\">\n      <th></th>\n      <th>onset</th>\n      <th>trial_type</th>\n      <th>trial_name</th>\n      <th>trial_desc</th>\n      <th>trial_desc_cleaned</th>\n      <th>song_clip</th>\n      <th>onset_time</th>\n    </tr>\n  </thead>\n  <tbody>\n    <tr>\n      <th>0</th>\n      <td>2.241</td>\n      <td>263</td>\n      <td>artifact:50/60 Hz mains interference</td>\n      <td>artifact:50/60 Hz mains interference</td>\n      <td>artifact:50/60 Hz mains interference</td>\n      <td>-1</td>\n      <td>2241</td>\n    </tr>\n    <tr>\n      <th>1</th>\n      <td>2.375</td>\n      <td>786</td>\n      <td>Cross on screen</td>\n      <td>Fixation cross displayed on screen</td>\n      <td>Fixation cross displayed on screen</td>\n      <td>-1</td>\n      <td>2375</td>\n    </tr>\n    <tr>\n      <th>2</th>\n      <td>2.465</td>\n      <td>257</td>\n      <td>artifact:EOG</td>\n      <td>artifact:EOG (blinks, fast, large amplitude)</td>\n      <td>blinks, fast, large amplitude</td>\n      <td>-1</td>\n      <td>2465</td>\n    </tr>\n    <tr>\n      <th>3</th>\n      <td>4.129</td>\n      <td>257</td>\n      <td>artifact:EOG</td>\n      <td>artifact:EOG (blinks, fast, large amplitude)</td>\n      <td>blinks, fast, large amplitude</td>\n      <td>-1</td>\n      <td>4129</td>\n    </tr>\n    <tr>\n      <th>4</th>\n      <td>5.375</td>\n      <td>788</td>\n      <td>Music played</td>\n      <td>Start of music play</td>\n      <td>Start of music play</td>\n      <td>86</td>\n      <td>5375</td>\n    </tr>\n    <tr>\n      <th>...</th>\n      <td>...</td>\n      <td>...</td>\n      <td>...</td>\n      <td>...</td>\n      <td>...</td>\n      <td>...</td>\n      <td>...</td>\n    </tr>\n    <tr>\n      <th>699</th>\n      <td>577.835</td>\n      <td>806</td>\n      <td>Question 07</td>\n      <td>Question 07 presented to user (The music made ...</td>\n      <td>sad</td>\n      <td>165</td>\n      <td>577835</td>\n    </tr>\n    <tr>\n      <th>700</th>\n      <td>577.935</td>\n      <td>32768</td>\n      <td>not used</td>\n      <td>not used</td>\n      <td>not used</td>\n      <td>165</td>\n      <td>577935</td>\n    </tr>\n    <tr>\n      <th>701</th>\n      <td>579.202</td>\n      <td>801</td>\n      <td>Question 02</td>\n      <td>Question 02 presented to user (The music made ...</td>\n      <td>energetic</td>\n      <td>165</td>\n      <td>579202</td>\n    </tr>\n    <tr>\n      <th>702</th>\n      <td>579.202</td>\n      <td>833</td>\n      <td>Response 01</td>\n      <td>Response 01 - The user selected 01 as their re...</td>\n      <td>Response 01</td>\n      <td>165</td>\n      <td>579202</td>\n    </tr>\n    <tr>\n      <th>703</th>\n      <td>579.402</td>\n      <td>32768</td>\n      <td>not used</td>\n      <td>not used</td>\n      <td>not used</td>\n      <td>165</td>\n      <td>579402</td>\n    </tr>\n  </tbody>\n</table>\n<p>704 rows × 7 columns</p>\n</div>"
     },
     "metadata": {},
     "execution_count": 45
    }
   ],
   "source": [
    "trial_events = get_events(15,4)\n",
    "te_sample = trial_events[(300<=trial_events['trial_type'])&(trial_events['trial_type']<=660)][['onset','trial_type']]\n",
    "songtime = te_sample['onset'].to_numpy()\n",
    "songdict = te_sample.set_index('onset').to_dict()['trial_type']\n",
    "def get_song_trial_type(searchVal, inputData):\n",
    "    '''returns trial type of song for particular question sequence'''\n",
    "    if searchVal < inputData.min(): return -1\n",
    "    diff = inputData - searchVal\n",
    "    diff[diff>=0] = -np.inf\n",
    "    idx = diff.argmax()\n",
    "    return songdict[inputData[idx]] -300\n",
    "trial_events['song_clip'] = trial_events.onset.map(lambda x: get_song_trial_type(x,songtime))\n",
    "trial_events['onset_time'] = (trial_events.onset*1000).astype(int)\n",
    "trial_events"
   ]
  },
  {
   "cell_type": "code",
   "execution_count": 46,
   "metadata": {},
   "outputs": [
    {
     "output_type": "stream",
     "name": "stdout",
     "text": [
      "Extracting EDF parameters from c:\\Users\\Staro\\Documents\\GitHub\\COGS189-final-project\\data\\sub-15\\eeg\\sub-15_task-run4_eeg.edf...\n",
      "EDF file detected\n",
      "Setting channel info structure...\n",
      "Creating raw.info structure...\n",
      "<ipython-input-37-2cc7e562e588>:5: RuntimeWarning: Invalid date encountered (2014-00-00 00:00:00).\n",
      "  data = mne.io.read_raw_edf(file)\n"
     ]
    },
    {
     "output_type": "execute_result",
     "data": {
      "text/plain": [
       "          time         FP1          FP2           F7          F3          Fz  \\\n",
       "0            0  -84.838193  -103.798938    16.355758  -31.647876  -50.294763   \n",
       "1            1  -82.437226  -102.322742    20.646342  -30.479343  -47.796935   \n",
       "2            2  -77.419475   -99.608446    25.600944  -28.484779  -46.314544   \n",
       "3            3  -77.770178  -100.703688    23.915357  -27.840071  -49.323797   \n",
       "4            4  -81.304185   -98.560823    20.033401  -28.907868  -49.138499   \n",
       "...        ...         ...          ...          ...         ...         ...   \n",
       "579995  579995  812.476000  2357.210000  1500.540000  583.645000  191.372000   \n",
       "579996  579996  812.476000  2357.210000  1500.540000  583.645000  191.372000   \n",
       "579997  579997  812.476000  2357.210000  1500.540000  583.645000  191.372000   \n",
       "579998  579998  812.476000  2357.210000  1500.540000  583.645000  191.372000   \n",
       "579999  579999  812.476000  2357.210000  1500.540000  583.645000  191.372000   \n",
       "\n",
       "                F4           F8           T3           C3          Cz  \\\n",
       "0       -26.067825   -27.197701    17.352344   -23.919063   -7.005827   \n",
       "1       -26.183097   -28.334652    24.688246   -25.520582   -8.755426   \n",
       "2       -31.831435   -25.823885    24.387286   -25.614789   -9.006565   \n",
       "3       -35.981234   -21.512945    21.829125   -19.538439   -9.337231   \n",
       "4       -34.425059   -17.438870    19.647165   -20.056577   -7.449505   \n",
       "...            ...          ...          ...          ...         ...   \n",
       "579995  779.022000  1660.180000  1186.620000  1390.740000  130.254000   \n",
       "579996  779.022000  1660.180000  1186.620000  1390.740000  130.254000   \n",
       "579997  779.022000  1660.180000  1186.620000  1390.740000  130.254000   \n",
       "579998  779.022000  1660.180000  1186.620000  1390.740000  130.254000   \n",
       "579999  779.022000  1660.180000  1186.620000  1390.740000  130.254000   \n",
       "\n",
       "                C4          T4          T5          P3          Pz  \\\n",
       "0         8.006503  -76.059370  -47.995081  -18.332441   -4.442407   \n",
       "1         9.170525  -87.266418  -55.140518  -28.775280   -9.942679   \n",
       "2        -3.109911  -83.733761  -54.434049  -31.490978  -11.486614   \n",
       "3        -8.377112  -81.662894  -39.436705  -22.307999   -6.854807   \n",
       "4        -4.070229  -67.471362  -36.953968  -18.108466   -6.444699   \n",
       "...            ...         ...         ...         ...         ...   \n",
       "579995  919.727000  957.608000  666.589000  517.332000  396.028000   \n",
       "579996  919.727000  957.608000  666.589000  517.332000  396.028000   \n",
       "579997  919.727000  957.608000  666.589000  517.332000  396.028000   \n",
       "579998  919.727000  957.608000  666.589000  517.332000  396.028000   \n",
       "579999  919.727000  957.608000  666.589000  517.332000  396.028000   \n",
       "\n",
       "                P4          T6          O1          O2  \n",
       "0       -12.251176  -32.168593  -35.801448   25.698371  \n",
       "1       -17.005731  -29.996191  -38.972288   12.350940  \n",
       "2       -23.599311  -36.812352  -39.334669    3.852015  \n",
       "3       -19.487668  -37.868658  -30.329485   11.077973  \n",
       "4       -15.989033  -33.464062  -29.278578   13.661347  \n",
       "...            ...         ...         ...         ...  \n",
       "579995  463.294000  639.303000  579.885000  603.176000  \n",
       "579996  463.294000  639.303000  579.885000  603.176000  \n",
       "579997  463.294000  639.303000  579.885000  603.176000  \n",
       "579998  463.294000  639.303000  579.885000  603.176000  \n",
       "579999  463.294000  639.303000  579.885000  603.176000  \n",
       "\n",
       "[580000 rows x 20 columns]"
      ],
      "text/html": "<div>\n<style scoped>\n    .dataframe tbody tr th:only-of-type {\n        vertical-align: middle;\n    }\n\n    .dataframe tbody tr th {\n        vertical-align: top;\n    }\n\n    .dataframe thead th {\n        text-align: right;\n    }\n</style>\n<table border=\"1\" class=\"dataframe\">\n  <thead>\n    <tr style=\"text-align: right;\">\n      <th></th>\n      <th>time</th>\n      <th>FP1</th>\n      <th>FP2</th>\n      <th>F7</th>\n      <th>F3</th>\n      <th>Fz</th>\n      <th>F4</th>\n      <th>F8</th>\n      <th>T3</th>\n      <th>C3</th>\n      <th>Cz</th>\n      <th>C4</th>\n      <th>T4</th>\n      <th>T5</th>\n      <th>P3</th>\n      <th>Pz</th>\n      <th>P4</th>\n      <th>T6</th>\n      <th>O1</th>\n      <th>O2</th>\n    </tr>\n  </thead>\n  <tbody>\n    <tr>\n      <th>0</th>\n      <td>0</td>\n      <td>-84.838193</td>\n      <td>-103.798938</td>\n      <td>16.355758</td>\n      <td>-31.647876</td>\n      <td>-50.294763</td>\n      <td>-26.067825</td>\n      <td>-27.197701</td>\n      <td>17.352344</td>\n      <td>-23.919063</td>\n      <td>-7.005827</td>\n      <td>8.006503</td>\n      <td>-76.059370</td>\n      <td>-47.995081</td>\n      <td>-18.332441</td>\n      <td>-4.442407</td>\n      <td>-12.251176</td>\n      <td>-32.168593</td>\n      <td>-35.801448</td>\n      <td>25.698371</td>\n    </tr>\n    <tr>\n      <th>1</th>\n      <td>1</td>\n      <td>-82.437226</td>\n      <td>-102.322742</td>\n      <td>20.646342</td>\n      <td>-30.479343</td>\n      <td>-47.796935</td>\n      <td>-26.183097</td>\n      <td>-28.334652</td>\n      <td>24.688246</td>\n      <td>-25.520582</td>\n      <td>-8.755426</td>\n      <td>9.170525</td>\n      <td>-87.266418</td>\n      <td>-55.140518</td>\n      <td>-28.775280</td>\n      <td>-9.942679</td>\n      <td>-17.005731</td>\n      <td>-29.996191</td>\n      <td>-38.972288</td>\n      <td>12.350940</td>\n    </tr>\n    <tr>\n      <th>2</th>\n      <td>2</td>\n      <td>-77.419475</td>\n      <td>-99.608446</td>\n      <td>25.600944</td>\n      <td>-28.484779</td>\n      <td>-46.314544</td>\n      <td>-31.831435</td>\n      <td>-25.823885</td>\n      <td>24.387286</td>\n      <td>-25.614789</td>\n      <td>-9.006565</td>\n      <td>-3.109911</td>\n      <td>-83.733761</td>\n      <td>-54.434049</td>\n      <td>-31.490978</td>\n      <td>-11.486614</td>\n      <td>-23.599311</td>\n      <td>-36.812352</td>\n      <td>-39.334669</td>\n      <td>3.852015</td>\n    </tr>\n    <tr>\n      <th>3</th>\n      <td>3</td>\n      <td>-77.770178</td>\n      <td>-100.703688</td>\n      <td>23.915357</td>\n      <td>-27.840071</td>\n      <td>-49.323797</td>\n      <td>-35.981234</td>\n      <td>-21.512945</td>\n      <td>21.829125</td>\n      <td>-19.538439</td>\n      <td>-9.337231</td>\n      <td>-8.377112</td>\n      <td>-81.662894</td>\n      <td>-39.436705</td>\n      <td>-22.307999</td>\n      <td>-6.854807</td>\n      <td>-19.487668</td>\n      <td>-37.868658</td>\n      <td>-30.329485</td>\n      <td>11.077973</td>\n    </tr>\n    <tr>\n      <th>4</th>\n      <td>4</td>\n      <td>-81.304185</td>\n      <td>-98.560823</td>\n      <td>20.033401</td>\n      <td>-28.907868</td>\n      <td>-49.138499</td>\n      <td>-34.425059</td>\n      <td>-17.438870</td>\n      <td>19.647165</td>\n      <td>-20.056577</td>\n      <td>-7.449505</td>\n      <td>-4.070229</td>\n      <td>-67.471362</td>\n      <td>-36.953968</td>\n      <td>-18.108466</td>\n      <td>-6.444699</td>\n      <td>-15.989033</td>\n      <td>-33.464062</td>\n      <td>-29.278578</td>\n      <td>13.661347</td>\n    </tr>\n    <tr>\n      <th>...</th>\n      <td>...</td>\n      <td>...</td>\n      <td>...</td>\n      <td>...</td>\n      <td>...</td>\n      <td>...</td>\n      <td>...</td>\n      <td>...</td>\n      <td>...</td>\n      <td>...</td>\n      <td>...</td>\n      <td>...</td>\n      <td>...</td>\n      <td>...</td>\n      <td>...</td>\n      <td>...</td>\n      <td>...</td>\n      <td>...</td>\n      <td>...</td>\n      <td>...</td>\n    </tr>\n    <tr>\n      <th>579995</th>\n      <td>579995</td>\n      <td>812.476000</td>\n      <td>2357.210000</td>\n      <td>1500.540000</td>\n      <td>583.645000</td>\n      <td>191.372000</td>\n      <td>779.022000</td>\n      <td>1660.180000</td>\n      <td>1186.620000</td>\n      <td>1390.740000</td>\n      <td>130.254000</td>\n      <td>919.727000</td>\n      <td>957.608000</td>\n      <td>666.589000</td>\n      <td>517.332000</td>\n      <td>396.028000</td>\n      <td>463.294000</td>\n      <td>639.303000</td>\n      <td>579.885000</td>\n      <td>603.176000</td>\n    </tr>\n    <tr>\n      <th>579996</th>\n      <td>579996</td>\n      <td>812.476000</td>\n      <td>2357.210000</td>\n      <td>1500.540000</td>\n      <td>583.645000</td>\n      <td>191.372000</td>\n      <td>779.022000</td>\n      <td>1660.180000</td>\n      <td>1186.620000</td>\n      <td>1390.740000</td>\n      <td>130.254000</td>\n      <td>919.727000</td>\n      <td>957.608000</td>\n      <td>666.589000</td>\n      <td>517.332000</td>\n      <td>396.028000</td>\n      <td>463.294000</td>\n      <td>639.303000</td>\n      <td>579.885000</td>\n      <td>603.176000</td>\n    </tr>\n    <tr>\n      <th>579997</th>\n      <td>579997</td>\n      <td>812.476000</td>\n      <td>2357.210000</td>\n      <td>1500.540000</td>\n      <td>583.645000</td>\n      <td>191.372000</td>\n      <td>779.022000</td>\n      <td>1660.180000</td>\n      <td>1186.620000</td>\n      <td>1390.740000</td>\n      <td>130.254000</td>\n      <td>919.727000</td>\n      <td>957.608000</td>\n      <td>666.589000</td>\n      <td>517.332000</td>\n      <td>396.028000</td>\n      <td>463.294000</td>\n      <td>639.303000</td>\n      <td>579.885000</td>\n      <td>603.176000</td>\n    </tr>\n    <tr>\n      <th>579998</th>\n      <td>579998</td>\n      <td>812.476000</td>\n      <td>2357.210000</td>\n      <td>1500.540000</td>\n      <td>583.645000</td>\n      <td>191.372000</td>\n      <td>779.022000</td>\n      <td>1660.180000</td>\n      <td>1186.620000</td>\n      <td>1390.740000</td>\n      <td>130.254000</td>\n      <td>919.727000</td>\n      <td>957.608000</td>\n      <td>666.589000</td>\n      <td>517.332000</td>\n      <td>396.028000</td>\n      <td>463.294000</td>\n      <td>639.303000</td>\n      <td>579.885000</td>\n      <td>603.176000</td>\n    </tr>\n    <tr>\n      <th>579999</th>\n      <td>579999</td>\n      <td>812.476000</td>\n      <td>2357.210000</td>\n      <td>1500.540000</td>\n      <td>583.645000</td>\n      <td>191.372000</td>\n      <td>779.022000</td>\n      <td>1660.180000</td>\n      <td>1186.620000</td>\n      <td>1390.740000</td>\n      <td>130.254000</td>\n      <td>919.727000</td>\n      <td>957.608000</td>\n      <td>666.589000</td>\n      <td>517.332000</td>\n      <td>396.028000</td>\n      <td>463.294000</td>\n      <td>639.303000</td>\n      <td>579.885000</td>\n      <td>603.176000</td>\n    </tr>\n  </tbody>\n</table>\n<p>580000 rows × 20 columns</p>\n</div>"
     },
     "metadata": {},
     "execution_count": 46
    }
   ],
   "source": [
    "record = get_recording(15, 4)\n",
    "record"
   ]
  },
  {
   "cell_type": "code",
   "execution_count": 47,
   "metadata": {},
   "outputs": [
    {
     "output_type": "execute_result",
     "data": {
      "text/plain": [
       "<AxesSubplot:>"
      ]
     },
     "metadata": {},
     "execution_count": 47
    },
    {
     "output_type": "display_data",
     "data": {
      "text/plain": "<Figure size 432x288 with 1 Axes>",
      "image/svg+xml": "<?xml version=\"1.0\" encoding=\"utf-8\" standalone=\"no\"?>\r\n<!DOCTYPE svg PUBLIC \"-//W3C//DTD SVG 1.1//EN\"\r\n  \"http://www.w3.org/Graphics/SVG/1.1/DTD/svg11.dtd\">\r\n<!-- Created with matplotlib (https://matplotlib.org/) -->\r\n<svg height=\"248.518125pt\" version=\"1.1\" viewBox=\"0 0 391.974925 248.518125\" width=\"391.974925pt\" xmlns=\"http://www.w3.org/2000/svg\" xmlns:xlink=\"http://www.w3.org/1999/xlink\">\r\n <metadata>\r\n  <rdf:RDF xmlns:cc=\"http://creativecommons.org/ns#\" xmlns:dc=\"http://purl.org/dc/elements/1.1/\" xmlns:rdf=\"http://www.w3.org/1999/02/22-rdf-syntax-ns#\">\r\n   <cc:Work>\r\n    <dc:type rdf:resource=\"http://purl.org/dc/dcmitype/StillImage\"/>\r\n    <dc:date>2021-03-16T15:45:28.183840</dc:date>\r\n    <dc:format>image/svg+xml</dc:format>\r\n    <dc:creator>\r\n     <cc:Agent>\r\n      <dc:title>Matplotlib v3.3.4, https://matplotlib.org/</dc:title>\r\n     </cc:Agent>\r\n    </dc:creator>\r\n   </cc:Work>\r\n  </rdf:RDF>\r\n </metadata>\r\n <defs>\r\n  <style type=\"text/css\">*{stroke-linecap:butt;stroke-linejoin:round;}</style>\r\n </defs>\r\n <g id=\"figure_1\">\r\n  <g id=\"patch_1\">\r\n   <path d=\"M 0 248.518125 \r\nL 391.974925 248.518125 \r\nL 391.974925 0 \r\nL 0 0 \r\nz\r\n\" style=\"fill:none;\"/>\r\n  </g>\r\n  <g id=\"axes_1\">\r\n   <g id=\"patch_2\">\r\n    <path d=\"M 33.2875 224.64 \r\nL 368.0875 224.64 \r\nL 368.0875 7.2 \r\nL 33.2875 7.2 \r\nz\r\n\" style=\"fill:#ffffff;\"/>\r\n   </g>\r\n   <g id=\"matplotlib.axis_1\">\r\n    <g id=\"xtick_1\">\r\n     <g id=\"line2d_1\">\r\n      <defs>\r\n       <path d=\"M 0 0 \r\nL 0 3.5 \r\n\" id=\"me83893d03c\" style=\"stroke:#000000;stroke-width:0.8;\"/>\r\n      </defs>\r\n      <g>\r\n       <use style=\"stroke:#000000;stroke-width:0.8;\" x=\"48.505682\" xlink:href=\"#me83893d03c\" y=\"224.64\"/>\r\n      </g>\r\n     </g>\r\n     <g id=\"text_1\">\r\n      <!-- 0 -->\r\n      <g transform=\"translate(45.324432 239.238437)scale(0.1 -0.1)\">\r\n       <defs>\r\n        <path d=\"M 31.78125 66.40625 \r\nQ 24.171875 66.40625 20.328125 58.90625 \r\nQ 16.5 51.421875 16.5 36.375 \r\nQ 16.5 21.390625 20.328125 13.890625 \r\nQ 24.171875 6.390625 31.78125 6.390625 \r\nQ 39.453125 6.390625 43.28125 13.890625 \r\nQ 47.125 21.390625 47.125 36.375 \r\nQ 47.125 51.421875 43.28125 58.90625 \r\nQ 39.453125 66.40625 31.78125 66.40625 \r\nz\r\nM 31.78125 74.21875 \r\nQ 44.046875 74.21875 50.515625 64.515625 \r\nQ 56.984375 54.828125 56.984375 36.375 \r\nQ 56.984375 17.96875 50.515625 8.265625 \r\nQ 44.046875 -1.421875 31.78125 -1.421875 \r\nQ 19.53125 -1.421875 13.0625 8.265625 \r\nQ 6.59375 17.96875 6.59375 36.375 \r\nQ 6.59375 54.828125 13.0625 64.515625 \r\nQ 19.53125 74.21875 31.78125 74.21875 \r\nz\r\n\" id=\"DejaVuSans-48\"/>\r\n       </defs>\r\n       <use xlink:href=\"#DejaVuSans-48\"/>\r\n      </g>\r\n     </g>\r\n    </g>\r\n    <g id=\"xtick_2\">\r\n     <g id=\"line2d_2\">\r\n      <g>\r\n       <use style=\"stroke:#000000;stroke-width:0.8;\" x=\"88.1534\" xlink:href=\"#me83893d03c\" y=\"224.64\"/>\r\n      </g>\r\n     </g>\r\n     <g id=\"text_2\">\r\n      <!-- 20000 -->\r\n      <g transform=\"translate(72.24715 239.238437)scale(0.1 -0.1)\">\r\n       <defs>\r\n        <path d=\"M 19.1875 8.296875 \r\nL 53.609375 8.296875 \r\nL 53.609375 0 \r\nL 7.328125 0 \r\nL 7.328125 8.296875 \r\nQ 12.9375 14.109375 22.625 23.890625 \r\nQ 32.328125 33.6875 34.8125 36.53125 \r\nQ 39.546875 41.84375 41.421875 45.53125 \r\nQ 43.3125 49.21875 43.3125 52.78125 \r\nQ 43.3125 58.59375 39.234375 62.25 \r\nQ 35.15625 65.921875 28.609375 65.921875 \r\nQ 23.96875 65.921875 18.8125 64.3125 \r\nQ 13.671875 62.703125 7.8125 59.421875 \r\nL 7.8125 69.390625 \r\nQ 13.765625 71.78125 18.9375 73 \r\nQ 24.125 74.21875 28.421875 74.21875 \r\nQ 39.75 74.21875 46.484375 68.546875 \r\nQ 53.21875 62.890625 53.21875 53.421875 \r\nQ 53.21875 48.921875 51.53125 44.890625 \r\nQ 49.859375 40.875 45.40625 35.40625 \r\nQ 44.1875 33.984375 37.640625 27.21875 \r\nQ 31.109375 20.453125 19.1875 8.296875 \r\nz\r\n\" id=\"DejaVuSans-50\"/>\r\n       </defs>\r\n       <use xlink:href=\"#DejaVuSans-50\"/>\r\n       <use x=\"63.623047\" xlink:href=\"#DejaVuSans-48\"/>\r\n       <use x=\"127.246094\" xlink:href=\"#DejaVuSans-48\"/>\r\n       <use x=\"190.869141\" xlink:href=\"#DejaVuSans-48\"/>\r\n       <use x=\"254.492188\" xlink:href=\"#DejaVuSans-48\"/>\r\n      </g>\r\n     </g>\r\n    </g>\r\n    <g id=\"xtick_3\">\r\n     <g id=\"line2d_3\">\r\n      <g>\r\n       <use style=\"stroke:#000000;stroke-width:0.8;\" x=\"127.801118\" xlink:href=\"#me83893d03c\" y=\"224.64\"/>\r\n      </g>\r\n     </g>\r\n     <g id=\"text_3\">\r\n      <!-- 40000 -->\r\n      <g transform=\"translate(111.894868 239.238437)scale(0.1 -0.1)\">\r\n       <defs>\r\n        <path d=\"M 37.796875 64.3125 \r\nL 12.890625 25.390625 \r\nL 37.796875 25.390625 \r\nz\r\nM 35.203125 72.90625 \r\nL 47.609375 72.90625 \r\nL 47.609375 25.390625 \r\nL 58.015625 25.390625 \r\nL 58.015625 17.1875 \r\nL 47.609375 17.1875 \r\nL 47.609375 0 \r\nL 37.796875 0 \r\nL 37.796875 17.1875 \r\nL 4.890625 17.1875 \r\nL 4.890625 26.703125 \r\nz\r\n\" id=\"DejaVuSans-52\"/>\r\n       </defs>\r\n       <use xlink:href=\"#DejaVuSans-52\"/>\r\n       <use x=\"63.623047\" xlink:href=\"#DejaVuSans-48\"/>\r\n       <use x=\"127.246094\" xlink:href=\"#DejaVuSans-48\"/>\r\n       <use x=\"190.869141\" xlink:href=\"#DejaVuSans-48\"/>\r\n       <use x=\"254.492188\" xlink:href=\"#DejaVuSans-48\"/>\r\n      </g>\r\n     </g>\r\n    </g>\r\n    <g id=\"xtick_4\">\r\n     <g id=\"line2d_4\">\r\n      <g>\r\n       <use style=\"stroke:#000000;stroke-width:0.8;\" x=\"167.448836\" xlink:href=\"#me83893d03c\" y=\"224.64\"/>\r\n      </g>\r\n     </g>\r\n     <g id=\"text_4\">\r\n      <!-- 60000 -->\r\n      <g transform=\"translate(151.542586 239.238437)scale(0.1 -0.1)\">\r\n       <defs>\r\n        <path d=\"M 33.015625 40.375 \r\nQ 26.375 40.375 22.484375 35.828125 \r\nQ 18.609375 31.296875 18.609375 23.390625 \r\nQ 18.609375 15.53125 22.484375 10.953125 \r\nQ 26.375 6.390625 33.015625 6.390625 \r\nQ 39.65625 6.390625 43.53125 10.953125 \r\nQ 47.40625 15.53125 47.40625 23.390625 \r\nQ 47.40625 31.296875 43.53125 35.828125 \r\nQ 39.65625 40.375 33.015625 40.375 \r\nz\r\nM 52.59375 71.296875 \r\nL 52.59375 62.3125 \r\nQ 48.875 64.0625 45.09375 64.984375 \r\nQ 41.3125 65.921875 37.59375 65.921875 \r\nQ 27.828125 65.921875 22.671875 59.328125 \r\nQ 17.53125 52.734375 16.796875 39.40625 \r\nQ 19.671875 43.65625 24.015625 45.921875 \r\nQ 28.375 48.1875 33.59375 48.1875 \r\nQ 44.578125 48.1875 50.953125 41.515625 \r\nQ 57.328125 34.859375 57.328125 23.390625 \r\nQ 57.328125 12.15625 50.6875 5.359375 \r\nQ 44.046875 -1.421875 33.015625 -1.421875 \r\nQ 20.359375 -1.421875 13.671875 8.265625 \r\nQ 6.984375 17.96875 6.984375 36.375 \r\nQ 6.984375 53.65625 15.1875 63.9375 \r\nQ 23.390625 74.21875 37.203125 74.21875 \r\nQ 40.921875 74.21875 44.703125 73.484375 \r\nQ 48.484375 72.75 52.59375 71.296875 \r\nz\r\n\" id=\"DejaVuSans-54\"/>\r\n       </defs>\r\n       <use xlink:href=\"#DejaVuSans-54\"/>\r\n       <use x=\"63.623047\" xlink:href=\"#DejaVuSans-48\"/>\r\n       <use x=\"127.246094\" xlink:href=\"#DejaVuSans-48\"/>\r\n       <use x=\"190.869141\" xlink:href=\"#DejaVuSans-48\"/>\r\n       <use x=\"254.492188\" xlink:href=\"#DejaVuSans-48\"/>\r\n      </g>\r\n     </g>\r\n    </g>\r\n    <g id=\"xtick_5\">\r\n     <g id=\"line2d_5\">\r\n      <g>\r\n       <use style=\"stroke:#000000;stroke-width:0.8;\" x=\"207.096554\" xlink:href=\"#me83893d03c\" y=\"224.64\"/>\r\n      </g>\r\n     </g>\r\n     <g id=\"text_5\">\r\n      <!-- 80000 -->\r\n      <g transform=\"translate(191.190304 239.238437)scale(0.1 -0.1)\">\r\n       <defs>\r\n        <path d=\"M 31.78125 34.625 \r\nQ 24.75 34.625 20.71875 30.859375 \r\nQ 16.703125 27.09375 16.703125 20.515625 \r\nQ 16.703125 13.921875 20.71875 10.15625 \r\nQ 24.75 6.390625 31.78125 6.390625 \r\nQ 38.8125 6.390625 42.859375 10.171875 \r\nQ 46.921875 13.96875 46.921875 20.515625 \r\nQ 46.921875 27.09375 42.890625 30.859375 \r\nQ 38.875 34.625 31.78125 34.625 \r\nz\r\nM 21.921875 38.8125 \r\nQ 15.578125 40.375 12.03125 44.71875 \r\nQ 8.5 49.078125 8.5 55.328125 \r\nQ 8.5 64.0625 14.71875 69.140625 \r\nQ 20.953125 74.21875 31.78125 74.21875 \r\nQ 42.671875 74.21875 48.875 69.140625 \r\nQ 55.078125 64.0625 55.078125 55.328125 \r\nQ 55.078125 49.078125 51.53125 44.71875 \r\nQ 48 40.375 41.703125 38.8125 \r\nQ 48.828125 37.15625 52.796875 32.3125 \r\nQ 56.78125 27.484375 56.78125 20.515625 \r\nQ 56.78125 9.90625 50.3125 4.234375 \r\nQ 43.84375 -1.421875 31.78125 -1.421875 \r\nQ 19.734375 -1.421875 13.25 4.234375 \r\nQ 6.78125 9.90625 6.78125 20.515625 \r\nQ 6.78125 27.484375 10.78125 32.3125 \r\nQ 14.796875 37.15625 21.921875 38.8125 \r\nz\r\nM 18.3125 54.390625 \r\nQ 18.3125 48.734375 21.84375 45.5625 \r\nQ 25.390625 42.390625 31.78125 42.390625 \r\nQ 38.140625 42.390625 41.71875 45.5625 \r\nQ 45.3125 48.734375 45.3125 54.390625 \r\nQ 45.3125 60.0625 41.71875 63.234375 \r\nQ 38.140625 66.40625 31.78125 66.40625 \r\nQ 25.390625 66.40625 21.84375 63.234375 \r\nQ 18.3125 60.0625 18.3125 54.390625 \r\nz\r\n\" id=\"DejaVuSans-56\"/>\r\n       </defs>\r\n       <use xlink:href=\"#DejaVuSans-56\"/>\r\n       <use x=\"63.623047\" xlink:href=\"#DejaVuSans-48\"/>\r\n       <use x=\"127.246094\" xlink:href=\"#DejaVuSans-48\"/>\r\n       <use x=\"190.869141\" xlink:href=\"#DejaVuSans-48\"/>\r\n       <use x=\"254.492188\" xlink:href=\"#DejaVuSans-48\"/>\r\n      </g>\r\n     </g>\r\n    </g>\r\n    <g id=\"xtick_6\">\r\n     <g id=\"line2d_6\">\r\n      <g>\r\n       <use style=\"stroke:#000000;stroke-width:0.8;\" x=\"246.744272\" xlink:href=\"#me83893d03c\" y=\"224.64\"/>\r\n      </g>\r\n     </g>\r\n     <g id=\"text_6\">\r\n      <!-- 100000 -->\r\n      <g transform=\"translate(227.656772 239.238437)scale(0.1 -0.1)\">\r\n       <defs>\r\n        <path d=\"M 12.40625 8.296875 \r\nL 28.515625 8.296875 \r\nL 28.515625 63.921875 \r\nL 10.984375 60.40625 \r\nL 10.984375 69.390625 \r\nL 28.421875 72.90625 \r\nL 38.28125 72.90625 \r\nL 38.28125 8.296875 \r\nL 54.390625 8.296875 \r\nL 54.390625 0 \r\nL 12.40625 0 \r\nz\r\n\" id=\"DejaVuSans-49\"/>\r\n       </defs>\r\n       <use xlink:href=\"#DejaVuSans-49\"/>\r\n       <use x=\"63.623047\" xlink:href=\"#DejaVuSans-48\"/>\r\n       <use x=\"127.246094\" xlink:href=\"#DejaVuSans-48\"/>\r\n       <use x=\"190.869141\" xlink:href=\"#DejaVuSans-48\"/>\r\n       <use x=\"254.492188\" xlink:href=\"#DejaVuSans-48\"/>\r\n       <use x=\"318.115234\" xlink:href=\"#DejaVuSans-48\"/>\r\n      </g>\r\n     </g>\r\n    </g>\r\n    <g id=\"xtick_7\">\r\n     <g id=\"line2d_7\">\r\n      <g>\r\n       <use style=\"stroke:#000000;stroke-width:0.8;\" x=\"286.39199\" xlink:href=\"#me83893d03c\" y=\"224.64\"/>\r\n      </g>\r\n     </g>\r\n     <g id=\"text_7\">\r\n      <!-- 120000 -->\r\n      <g transform=\"translate(267.30449 239.238437)scale(0.1 -0.1)\">\r\n       <use xlink:href=\"#DejaVuSans-49\"/>\r\n       <use x=\"63.623047\" xlink:href=\"#DejaVuSans-50\"/>\r\n       <use x=\"127.246094\" xlink:href=\"#DejaVuSans-48\"/>\r\n       <use x=\"190.869141\" xlink:href=\"#DejaVuSans-48\"/>\r\n       <use x=\"254.492188\" xlink:href=\"#DejaVuSans-48\"/>\r\n       <use x=\"318.115234\" xlink:href=\"#DejaVuSans-48\"/>\r\n      </g>\r\n     </g>\r\n    </g>\r\n    <g id=\"xtick_8\">\r\n     <g id=\"line2d_8\">\r\n      <g>\r\n       <use style=\"stroke:#000000;stroke-width:0.8;\" x=\"326.039707\" xlink:href=\"#me83893d03c\" y=\"224.64\"/>\r\n      </g>\r\n     </g>\r\n     <g id=\"text_8\">\r\n      <!-- 140000 -->\r\n      <g transform=\"translate(306.952207 239.238437)scale(0.1 -0.1)\">\r\n       <use xlink:href=\"#DejaVuSans-49\"/>\r\n       <use x=\"63.623047\" xlink:href=\"#DejaVuSans-52\"/>\r\n       <use x=\"127.246094\" xlink:href=\"#DejaVuSans-48\"/>\r\n       <use x=\"190.869141\" xlink:href=\"#DejaVuSans-48\"/>\r\n       <use x=\"254.492188\" xlink:href=\"#DejaVuSans-48\"/>\r\n       <use x=\"318.115234\" xlink:href=\"#DejaVuSans-48\"/>\r\n      </g>\r\n     </g>\r\n    </g>\r\n    <g id=\"xtick_9\">\r\n     <g id=\"line2d_9\">\r\n      <g>\r\n       <use style=\"stroke:#000000;stroke-width:0.8;\" x=\"365.687425\" xlink:href=\"#me83893d03c\" y=\"224.64\"/>\r\n      </g>\r\n     </g>\r\n     <g id=\"text_9\">\r\n      <!-- 160000 -->\r\n      <g transform=\"translate(346.599925 239.238437)scale(0.1 -0.1)\">\r\n       <use xlink:href=\"#DejaVuSans-49\"/>\r\n       <use x=\"63.623047\" xlink:href=\"#DejaVuSans-54\"/>\r\n       <use x=\"127.246094\" xlink:href=\"#DejaVuSans-48\"/>\r\n       <use x=\"190.869141\" xlink:href=\"#DejaVuSans-48\"/>\r\n       <use x=\"254.492188\" xlink:href=\"#DejaVuSans-48\"/>\r\n       <use x=\"318.115234\" xlink:href=\"#DejaVuSans-48\"/>\r\n      </g>\r\n     </g>\r\n    </g>\r\n   </g>\r\n   <g id=\"matplotlib.axis_2\">\r\n    <g id=\"ytick_1\">\r\n     <g id=\"line2d_10\">\r\n      <defs>\r\n       <path d=\"M 0 0 \r\nL -3.5 0 \r\n\" id=\"mafdbf6b974\" style=\"stroke:#000000;stroke-width:0.8;\"/>\r\n      </defs>\r\n      <g>\r\n       <use style=\"stroke:#000000;stroke-width:0.8;\" x=\"33.2875\" xlink:href=\"#mafdbf6b974\" y=\"199.295927\"/>\r\n      </g>\r\n     </g>\r\n     <g id=\"text_10\">\r\n      <!-- 25 -->\r\n      <g transform=\"translate(13.5625 203.095146)scale(0.1 -0.1)\">\r\n       <defs>\r\n        <path d=\"M 10.796875 72.90625 \r\nL 49.515625 72.90625 \r\nL 49.515625 64.59375 \r\nL 19.828125 64.59375 \r\nL 19.828125 46.734375 \r\nQ 21.96875 47.46875 24.109375 47.828125 \r\nQ 26.265625 48.1875 28.421875 48.1875 \r\nQ 40.625 48.1875 47.75 41.5 \r\nQ 54.890625 34.8125 54.890625 23.390625 \r\nQ 54.890625 11.625 47.5625 5.09375 \r\nQ 40.234375 -1.421875 26.90625 -1.421875 \r\nQ 22.3125 -1.421875 17.546875 -0.640625 \r\nQ 12.796875 0.140625 7.71875 1.703125 \r\nL 7.71875 11.625 \r\nQ 12.109375 9.234375 16.796875 8.0625 \r\nQ 21.484375 6.890625 26.703125 6.890625 \r\nQ 35.15625 6.890625 40.078125 11.328125 \r\nQ 45.015625 15.765625 45.015625 23.390625 \r\nQ 45.015625 31 40.078125 35.4375 \r\nQ 35.15625 39.890625 26.703125 39.890625 \r\nQ 22.75 39.890625 18.8125 39.015625 \r\nQ 14.890625 38.140625 10.796875 36.28125 \r\nz\r\n\" id=\"DejaVuSans-53\"/>\r\n       </defs>\r\n       <use xlink:href=\"#DejaVuSans-50\"/>\r\n       <use x=\"63.623047\" xlink:href=\"#DejaVuSans-53\"/>\r\n      </g>\r\n     </g>\r\n    </g>\r\n    <g id=\"ytick_2\">\r\n     <g id=\"line2d_11\">\r\n      <g>\r\n       <use style=\"stroke:#000000;stroke-width:0.8;\" x=\"33.2875\" xlink:href=\"#mafdbf6b974\" y=\"171.688004\"/>\r\n      </g>\r\n     </g>\r\n     <g id=\"text_11\">\r\n      <!-- 50 -->\r\n      <g transform=\"translate(13.5625 175.487223)scale(0.1 -0.1)\">\r\n       <use xlink:href=\"#DejaVuSans-53\"/>\r\n       <use x=\"63.623047\" xlink:href=\"#DejaVuSans-48\"/>\r\n      </g>\r\n     </g>\r\n    </g>\r\n    <g id=\"ytick_3\">\r\n     <g id=\"line2d_12\">\r\n      <g>\r\n       <use style=\"stroke:#000000;stroke-width:0.8;\" x=\"33.2875\" xlink:href=\"#mafdbf6b974\" y=\"144.080081\"/>\r\n      </g>\r\n     </g>\r\n     <g id=\"text_12\">\r\n      <!-- 75 -->\r\n      <g transform=\"translate(13.5625 147.8793)scale(0.1 -0.1)\">\r\n       <defs>\r\n        <path d=\"M 8.203125 72.90625 \r\nL 55.078125 72.90625 \r\nL 55.078125 68.703125 \r\nL 28.609375 0 \r\nL 18.3125 0 \r\nL 43.21875 64.59375 \r\nL 8.203125 64.59375 \r\nz\r\n\" id=\"DejaVuSans-55\"/>\r\n       </defs>\r\n       <use xlink:href=\"#DejaVuSans-55\"/>\r\n       <use x=\"63.623047\" xlink:href=\"#DejaVuSans-53\"/>\r\n      </g>\r\n     </g>\r\n    </g>\r\n    <g id=\"ytick_4\">\r\n     <g id=\"line2d_13\">\r\n      <g>\r\n       <use style=\"stroke:#000000;stroke-width:0.8;\" x=\"33.2875\" xlink:href=\"#mafdbf6b974\" y=\"116.472158\"/>\r\n      </g>\r\n     </g>\r\n     <g id=\"text_13\">\r\n      <!-- 100 -->\r\n      <g transform=\"translate(7.2 120.271377)scale(0.1 -0.1)\">\r\n       <use xlink:href=\"#DejaVuSans-49\"/>\r\n       <use x=\"63.623047\" xlink:href=\"#DejaVuSans-48\"/>\r\n       <use x=\"127.246094\" xlink:href=\"#DejaVuSans-48\"/>\r\n      </g>\r\n     </g>\r\n    </g>\r\n    <g id=\"ytick_5\">\r\n     <g id=\"line2d_14\">\r\n      <g>\r\n       <use style=\"stroke:#000000;stroke-width:0.8;\" x=\"33.2875\" xlink:href=\"#mafdbf6b974\" y=\"88.864236\"/>\r\n      </g>\r\n     </g>\r\n     <g id=\"text_14\">\r\n      <!-- 125 -->\r\n      <g transform=\"translate(7.2 92.663454)scale(0.1 -0.1)\">\r\n       <use xlink:href=\"#DejaVuSans-49\"/>\r\n       <use x=\"63.623047\" xlink:href=\"#DejaVuSans-50\"/>\r\n       <use x=\"127.246094\" xlink:href=\"#DejaVuSans-53\"/>\r\n      </g>\r\n     </g>\r\n    </g>\r\n    <g id=\"ytick_6\">\r\n     <g id=\"line2d_15\">\r\n      <g>\r\n       <use style=\"stroke:#000000;stroke-width:0.8;\" x=\"33.2875\" xlink:href=\"#mafdbf6b974\" y=\"61.256313\"/>\r\n      </g>\r\n     </g>\r\n     <g id=\"text_15\">\r\n      <!-- 150 -->\r\n      <g transform=\"translate(7.2 65.055532)scale(0.1 -0.1)\">\r\n       <use xlink:href=\"#DejaVuSans-49\"/>\r\n       <use x=\"63.623047\" xlink:href=\"#DejaVuSans-53\"/>\r\n       <use x=\"127.246094\" xlink:href=\"#DejaVuSans-48\"/>\r\n      </g>\r\n     </g>\r\n    </g>\r\n    <g id=\"ytick_7\">\r\n     <g id=\"line2d_16\">\r\n      <g>\r\n       <use style=\"stroke:#000000;stroke-width:0.8;\" x=\"33.2875\" xlink:href=\"#mafdbf6b974\" y=\"33.64839\"/>\r\n      </g>\r\n     </g>\r\n     <g id=\"text_16\">\r\n      <!-- 175 -->\r\n      <g transform=\"translate(7.2 37.447609)scale(0.1 -0.1)\">\r\n       <use xlink:href=\"#DejaVuSans-49\"/>\r\n       <use x=\"63.623047\" xlink:href=\"#DejaVuSans-55\"/>\r\n       <use x=\"127.246094\" xlink:href=\"#DejaVuSans-53\"/>\r\n      </g>\r\n     </g>\r\n    </g>\r\n   </g>\r\n   <g id=\"line2d_17\">\r\n    <path clip-path=\"url(#pee6ce10fe6)\" d=\"M 48.505682 131.932595 \r\nL 80.223856 131.932595 \r\nL 80.336852 93.281503 \r\nL 111.944013 93.281503 \r\nL 112.057009 34.752707 \r\nL 143.66417 34.752707 \r\nL 143.777166 182.731173 \r\nL 175.384326 182.731173 \r\nL 175.497322 193.774342 \r\nL 207.104483 193.774342 \r\nL 207.217479 214.756364 \r\nL 238.82464 214.756364 \r\nL 238.937636 137.45418 \r\nL 270.544797 137.45418 \r\nL 270.657793 17.083636 \r\nL 302.264953 17.083636 \r\nL 302.377949 64.569264 \r\nL 333.98511 64.569264 \r\nL 334.098106 44.691559 \r\nL 352.869318 44.691559 \r\nL 352.869318 44.691559 \r\n\" style=\"fill:none;stroke:#1f77b4;stroke-linecap:square;stroke-width:1.5;\"/>\r\n   </g>\r\n   <g id=\"patch_3\">\r\n    <path d=\"M 33.2875 224.64 \r\nL 33.2875 7.2 \r\n\" style=\"fill:none;stroke:#000000;stroke-linecap:square;stroke-linejoin:miter;stroke-width:0.8;\"/>\r\n   </g>\r\n   <g id=\"patch_4\">\r\n    <path d=\"M 368.0875 224.64 \r\nL 368.0875 7.2 \r\n\" style=\"fill:none;stroke:#000000;stroke-linecap:square;stroke-linejoin:miter;stroke-width:0.8;\"/>\r\n   </g>\r\n   <g id=\"patch_5\">\r\n    <path d=\"M 33.2875 224.64 \r\nL 368.0875 224.64 \r\n\" style=\"fill:none;stroke:#000000;stroke-linecap:square;stroke-linejoin:miter;stroke-width:0.8;\"/>\r\n   </g>\r\n   <g id=\"patch_6\">\r\n    <path d=\"M 33.2875 7.2 \r\nL 368.0875 7.2 \r\n\" style=\"fill:none;stroke:#000000;stroke-linecap:square;stroke-linejoin:miter;stroke-width:0.8;\"/>\r\n   </g>\r\n  </g>\r\n </g>\r\n <defs>\r\n  <clipPath id=\"pee6ce10fe6\">\r\n   <rect height=\"217.44\" width=\"334.8\" x=\"33.2875\" y=\"7.2\"/>\r\n  </clipPath>\r\n </defs>\r\n</svg>\r\n",
      "image/png": "[encoded data removed]"
     },
     "metadata": {
      "needs_background": "light"
     }
    }
   ],
   "source": [
    "\n",
    "ot = trial_events[trial_events.trial_type.isin([788,1092])].groupby('song_clip').head(2)[['song_clip','onset_time']]\n",
    "ot\n",
    "otdf = pd.DataFrame({'song':ot['song_clip'].iloc[::2].values,'start':ot['onset_time'].iloc[::2].values,'end':ot['onset_time'].iloc[1::2].values}).set_index('song')\n",
    "otdf\n",
    "df = pd.DataFrame(list(chain.from_iterable(pd.RangeIndex(otdf[\"start\"],otdf[\"end\"]) for _, otdf in otdf.iterrows())),columns=(\"time\",)).merge(ot, how='left', left_on='time',right_on='onset_time').ffill().astype(int).drop(columns='onset_time')\n",
    "df.song_clip.plot() # YES THIS IS IT THIS IS WHAT I WANT"
   ]
  },
  {
   "cell_type": "code",
   "execution_count": 58,
   "metadata": {},
   "outputs": [
    {
     "output_type": "execute_result",
     "data": {
      "text/plain": [
       "       onset  trial_type                            trial_name  \\\n",
       "0      2.241         263  artifact:50/60 Hz mains interference   \n",
       "2      2.465         257                          artifact:EOG   \n",
       "3      4.129         257                          artifact:EOG   \n",
       "6      5.809         257                          artifact:EOG   \n",
       "7      6.785         257                          artifact:EOG   \n",
       "8     11.793         257                          artifact:EOG   \n",
       "9     18.081         257                          artifact:EOG   \n",
       "215  179.633         263  artifact:50/60 Hz mains interference   \n",
       "216  179.745         263  artifact:50/60 Hz mains interference   \n",
       "218  179.873         263  artifact:50/60 Hz mains interference   \n",
       "221  197.841         257                          artifact:EOG   \n",
       "222  198.561         257                          artifact:EOG   \n",
       "223  198.881         257                          artifact:EOG   \n",
       "357  290.017         257                          artifact:EOG   \n",
       "492  413.489         263  artifact:50/60 Hz mains interference   \n",
       "494  413.649         263  artifact:50/60 Hz mains interference   \n",
       "495  413.649         263  artifact:50/60 Hz mains interference   \n",
       "496  413.649         263  artifact:50/60 Hz mains interference   \n",
       "497  413.649         263  artifact:50/60 Hz mains interference   \n",
       "499  413.713         263  artifact:50/60 Hz mains interference   \n",
       "567  467.569         263  artifact:50/60 Hz mains interference   \n",
       "568  467.681         263  artifact:50/60 Hz mains interference   \n",
       "569  467.729         263  artifact:50/60 Hz mains interference   \n",
       "570  467.793         263  artifact:50/60 Hz mains interference   \n",
       "574  482.433         257                          artifact:EOG   \n",
       "\n",
       "                                       trial_desc  \\\n",
       "0            artifact:50/60 Hz mains interference   \n",
       "2    artifact:EOG (blinks, fast, large amplitude)   \n",
       "3    artifact:EOG (blinks, fast, large amplitude)   \n",
       "6    artifact:EOG (blinks, fast, large amplitude)   \n",
       "7    artifact:EOG (blinks, fast, large amplitude)   \n",
       "8    artifact:EOG (blinks, fast, large amplitude)   \n",
       "9    artifact:EOG (blinks, fast, large amplitude)   \n",
       "215          artifact:50/60 Hz mains interference   \n",
       "216          artifact:50/60 Hz mains interference   \n",
       "218          artifact:50/60 Hz mains interference   \n",
       "221  artifact:EOG (blinks, fast, large amplitude)   \n",
       "222  artifact:EOG (blinks, fast, large amplitude)   \n",
       "223  artifact:EOG (blinks, fast, large amplitude)   \n",
       "357  artifact:EOG (blinks, fast, large amplitude)   \n",
       "492          artifact:50/60 Hz mains interference   \n",
       "494          artifact:50/60 Hz mains interference   \n",
       "495          artifact:50/60 Hz mains interference   \n",
       "496          artifact:50/60 Hz mains interference   \n",
       "497          artifact:50/60 Hz mains interference   \n",
       "499          artifact:50/60 Hz mains interference   \n",
       "567          artifact:50/60 Hz mains interference   \n",
       "568          artifact:50/60 Hz mains interference   \n",
       "569          artifact:50/60 Hz mains interference   \n",
       "570          artifact:50/60 Hz mains interference   \n",
       "574  artifact:EOG (blinks, fast, large amplitude)   \n",
       "\n",
       "                       trial_desc_cleaned  song_clip  onset_time  \n",
       "0    artifact:50/60 Hz mains interference         -1        2241  \n",
       "2           blinks, fast, large amplitude         -1        2465  \n",
       "3           blinks, fast, large amplitude         -1        4129  \n",
       "6           blinks, fast, large amplitude         86        5809  \n",
       "7           blinks, fast, large amplitude         86        6785  \n",
       "8           blinks, fast, large amplitude         86       11793  \n",
       "9           blinks, fast, large amplitude         86       18081  \n",
       "215  artifact:50/60 Hz mains interference        174      179633  \n",
       "216  artifact:50/60 Hz mains interference        174      179745  \n",
       "218  artifact:50/60 Hz mains interference         40      179873  \n",
       "221         blinks, fast, large amplitude         40      197841  \n",
       "222         blinks, fast, large amplitude         40      198561  \n",
       "223         blinks, fast, large amplitude         40      198881  \n",
       "357         blinks, fast, large amplitude         11      290017  \n",
       "492  artifact:50/60 Hz mains interference         81      413489  \n",
       "494  artifact:50/60 Hz mains interference        190      413649  \n",
       "495  artifact:50/60 Hz mains interference        190      413649  \n",
       "496  artifact:50/60 Hz mains interference        190      413649  \n",
       "497  artifact:50/60 Hz mains interference        190      413649  \n",
       "499  artifact:50/60 Hz mains interference        190      413713  \n",
       "567  artifact:50/60 Hz mains interference        147      467569  \n",
       "568  artifact:50/60 Hz mains interference        147      467681  \n",
       "569  artifact:50/60 Hz mains interference        147      467729  \n",
       "570  artifact:50/60 Hz mains interference        147      467793  \n",
       "574         blinks, fast, large amplitude        147      482433  "
      ],
      "text/html": "<div>\n<style scoped>\n    .dataframe tbody tr th:only-of-type {\n        vertical-align: middle;\n    }\n\n    .dataframe tbody tr th {\n        vertical-align: top;\n    }\n\n    .dataframe thead th {\n        text-align: right;\n    }\n</style>\n<table border=\"1\" class=\"dataframe\">\n  <thead>\n    <tr style=\"text-align: right;\">\n      <th></th>\n      <th>onset</th>\n      <th>trial_type</th>\n      <th>trial_name</th>\n      <th>trial_desc</th>\n      <th>trial_desc_cleaned</th>\n      <th>song_clip</th>\n      <th>onset_time</th>\n    </tr>\n  </thead>\n  <tbody>\n    <tr>\n      <th>0</th>\n      <td>2.241</td>\n      <td>263</td>\n      <td>artifact:50/60 Hz mains interference</td>\n      <td>artifact:50/60 Hz mains interference</td>\n      <td>artifact:50/60 Hz mains interference</td>\n      <td>-1</td>\n      <td>2241</td>\n    </tr>\n    <tr>\n      <th>2</th>\n      <td>2.465</td>\n      <td>257</td>\n      <td>artifact:EOG</td>\n      <td>artifact:EOG (blinks, fast, large amplitude)</td>\n      <td>blinks, fast, large amplitude</td>\n      <td>-1</td>\n      <td>2465</td>\n    </tr>\n    <tr>\n      <th>3</th>\n      <td>4.129</td>\n      <td>257</td>\n      <td>artifact:EOG</td>\n      <td>artifact:EOG (blinks, fast, large amplitude)</td>\n      <td>blinks, fast, large amplitude</td>\n      <td>-1</td>\n      <td>4129</td>\n    </tr>\n    <tr>\n      <th>6</th>\n      <td>5.809</td>\n      <td>257</td>\n      <td>artifact:EOG</td>\n      <td>artifact:EOG (blinks, fast, large amplitude)</td>\n      <td>blinks, fast, large amplitude</td>\n      <td>86</td>\n      <td>5809</td>\n    </tr>\n    <tr>\n      <th>7</th>\n      <td>6.785</td>\n      <td>257</td>\n      <td>artifact:EOG</td>\n      <td>artifact:EOG (blinks, fast, large amplitude)</td>\n      <td>blinks, fast, large amplitude</td>\n      <td>86</td>\n      <td>6785</td>\n    </tr>\n    <tr>\n      <th>8</th>\n      <td>11.793</td>\n      <td>257</td>\n      <td>artifact:EOG</td>\n      <td>artifact:EOG (blinks, fast, large amplitude)</td>\n      <td>blinks, fast, large amplitude</td>\n      <td>86</td>\n      <td>11793</td>\n    </tr>\n    <tr>\n      <th>9</th>\n      <td>18.081</td>\n      <td>257</td>\n      <td>artifact:EOG</td>\n      <td>artifact:EOG (blinks, fast, large amplitude)</td>\n      <td>blinks, fast, large amplitude</td>\n      <td>86</td>\n      <td>18081</td>\n    </tr>\n    <tr>\n      <th>215</th>\n      <td>179.633</td>\n      <td>263</td>\n      <td>artifact:50/60 Hz mains interference</td>\n      <td>artifact:50/60 Hz mains interference</td>\n      <td>artifact:50/60 Hz mains interference</td>\n      <td>174</td>\n      <td>179633</td>\n    </tr>\n    <tr>\n      <th>216</th>\n      <td>179.745</td>\n      <td>263</td>\n      <td>artifact:50/60 Hz mains interference</td>\n      <td>artifact:50/60 Hz mains interference</td>\n      <td>artifact:50/60 Hz mains interference</td>\n      <td>174</td>\n      <td>179745</td>\n    </tr>\n    <tr>\n      <th>218</th>\n      <td>179.873</td>\n      <td>263</td>\n      <td>artifact:50/60 Hz mains interference</td>\n      <td>artifact:50/60 Hz mains interference</td>\n      <td>artifact:50/60 Hz mains interference</td>\n      <td>40</td>\n      <td>179873</td>\n    </tr>\n    <tr>\n      <th>221</th>\n      <td>197.841</td>\n      <td>257</td>\n      <td>artifact:EOG</td>\n      <td>artifact:EOG (blinks, fast, large amplitude)</td>\n      <td>blinks, fast, large amplitude</td>\n      <td>40</td>\n      <td>197841</td>\n    </tr>\n    <tr>\n      <th>222</th>\n      <td>198.561</td>\n      <td>257</td>\n      <td>artifact:EOG</td>\n      <td>artifact:EOG (blinks, fast, large amplitude)</td>\n      <td>blinks, fast, large amplitude</td>\n      <td>40</td>\n      <td>198561</td>\n    </tr>\n    <tr>\n      <th>223</th>\n      <td>198.881</td>\n      <td>257</td>\n      <td>artifact:EOG</td>\n      <td>artifact:EOG (blinks, fast, large amplitude)</td>\n      <td>blinks, fast, large amplitude</td>\n      <td>40</td>\n      <td>198881</td>\n    </tr>\n    <tr>\n      <th>357</th>\n      <td>290.017</td>\n      <td>257</td>\n      <td>artifact:EOG</td>\n      <td>artifact:EOG (blinks, fast, large amplitude)</td>\n      <td>blinks, fast, large amplitude</td>\n      <td>11</td>\n      <td>290017</td>\n    </tr>\n    <tr>\n      <th>492</th>\n      <td>413.489</td>\n      <td>263</td>\n      <td>artifact:50/60 Hz mains interference</td>\n      <td>artifact:50/60 Hz mains interference</td>\n      <td>artifact:50/60 Hz mains interference</td>\n      <td>81</td>\n      <td>413489</td>\n    </tr>\n    <tr>\n      <th>494</th>\n      <td>413.649</td>\n      <td>263</td>\n      <td>artifact:50/60 Hz mains interference</td>\n      <td>artifact:50/60 Hz mains interference</td>\n      <td>artifact:50/60 Hz mains interference</td>\n      <td>190</td>\n      <td>413649</td>\n    </tr>\n    <tr>\n      <th>495</th>\n      <td>413.649</td>\n      <td>263</td>\n      <td>artifact:50/60 Hz mains interference</td>\n      <td>artifact:50/60 Hz mains interference</td>\n      <td>artifact:50/60 Hz mains interference</td>\n      <td>190</td>\n      <td>413649</td>\n    </tr>\n    <tr>\n      <th>496</th>\n      <td>413.649</td>\n      <td>263</td>\n      <td>artifact:50/60 Hz mains interference</td>\n      <td>artifact:50/60 Hz mains interference</td>\n      <td>artifact:50/60 Hz mains interference</td>\n      <td>190</td>\n      <td>413649</td>\n    </tr>\n    <tr>\n      <th>497</th>\n      <td>413.649</td>\n      <td>263</td>\n      <td>artifact:50/60 Hz mains interference</td>\n      <td>artifact:50/60 Hz mains interference</td>\n      <td>artifact:50/60 Hz mains interference</td>\n      <td>190</td>\n      <td>413649</td>\n    </tr>\n    <tr>\n      <th>499</th>\n      <td>413.713</td>\n      <td>263</td>\n      <td>artifact:50/60 Hz mains interference</td>\n      <td>artifact:50/60 Hz mains interference</td>\n      <td>artifact:50/60 Hz mains interference</td>\n      <td>190</td>\n      <td>413713</td>\n    </tr>\n    <tr>\n      <th>567</th>\n      <td>467.569</td>\n      <td>263</td>\n      <td>artifact:50/60 Hz mains interference</td>\n      <td>artifact:50/60 Hz mains interference</td>\n      <td>artifact:50/60 Hz mains interference</td>\n      <td>147</td>\n      <td>467569</td>\n    </tr>\n    <tr>\n      <th>568</th>\n      <td>467.681</td>\n      <td>263</td>\n      <td>artifact:50/60 Hz mains interference</td>\n      <td>artifact:50/60 Hz mains interference</td>\n      <td>artifact:50/60 Hz mains interference</td>\n      <td>147</td>\n      <td>467681</td>\n    </tr>\n    <tr>\n      <th>569</th>\n      <td>467.729</td>\n      <td>263</td>\n      <td>artifact:50/60 Hz mains interference</td>\n      <td>artifact:50/60 Hz mains interference</td>\n      <td>artifact:50/60 Hz mains interference</td>\n      <td>147</td>\n      <td>467729</td>\n    </tr>\n    <tr>\n      <th>570</th>\n      <td>467.793</td>\n      <td>263</td>\n      <td>artifact:50/60 Hz mains interference</td>\n      <td>artifact:50/60 Hz mains interference</td>\n      <td>artifact:50/60 Hz mains interference</td>\n      <td>147</td>\n      <td>467793</td>\n    </tr>\n    <tr>\n      <th>574</th>\n      <td>482.433</td>\n      <td>257</td>\n      <td>artifact:EOG</td>\n      <td>artifact:EOG (blinks, fast, large amplitude)</td>\n      <td>blinks, fast, large amplitude</td>\n      <td>147</td>\n      <td>482433</td>\n    </tr>\n  </tbody>\n</table>\n</div>"
     },
     "metadata": {},
     "execution_count": 58
    }
   ],
   "source": [
    "trial_events[trial_events['trial_name'].str.contains('artifact')]"
   ]
  },
  {
   "cell_type": "code",
   "execution_count": 49,
   "metadata": {},
   "outputs": [
    {
     "output_type": "execute_result",
     "data": {
      "text/plain": [
       "          time  song_clip\n",
       "144009  518203        165\n",
       "144010  518204        165\n",
       "144011  518205        165\n",
       "144012  518206        165\n",
       "144013  518207        165\n",
       "...        ...        ...\n",
       "153530  527724        165\n",
       "153531  527725        165\n",
       "153532  527726        165\n",
       "153533  527727        165\n",
       "153534  527728        165\n",
       "\n",
       "[9526 rows x 2 columns]"
      ],
      "text/html": "<div>\n<style scoped>\n    .dataframe tbody tr th:only-of-type {\n        vertical-align: middle;\n    }\n\n    .dataframe tbody tr th {\n        vertical-align: top;\n    }\n\n    .dataframe thead th {\n        text-align: right;\n    }\n</style>\n<table border=\"1\" class=\"dataframe\">\n  <thead>\n    <tr style=\"text-align: right;\">\n      <th></th>\n      <th>time</th>\n      <th>song_clip</th>\n    </tr>\n  </thead>\n  <tbody>\n    <tr>\n      <th>144009</th>\n      <td>518203</td>\n      <td>165</td>\n    </tr>\n    <tr>\n      <th>144010</th>\n      <td>518204</td>\n      <td>165</td>\n    </tr>\n    <tr>\n      <th>144011</th>\n      <td>518205</td>\n      <td>165</td>\n    </tr>\n    <tr>\n      <th>144012</th>\n      <td>518206</td>\n      <td>165</td>\n    </tr>\n    <tr>\n      <th>144013</th>\n      <td>518207</td>\n      <td>165</td>\n    </tr>\n    <tr>\n      <th>...</th>\n      <td>...</td>\n      <td>...</td>\n    </tr>\n    <tr>\n      <th>153530</th>\n      <td>527724</td>\n      <td>165</td>\n    </tr>\n    <tr>\n      <th>153531</th>\n      <td>527725</td>\n      <td>165</td>\n    </tr>\n    <tr>\n      <th>153532</th>\n      <td>527726</td>\n      <td>165</td>\n    </tr>\n    <tr>\n      <th>153533</th>\n      <td>527727</td>\n      <td>165</td>\n    </tr>\n    <tr>\n      <th>153534</th>\n      <td>527728</td>\n      <td>165</td>\n    </tr>\n  </tbody>\n</table>\n<p>9526 rows × 2 columns</p>\n</div>"
     },
     "metadata": {},
     "execution_count": 49
    }
   ],
   "source": [
    "df[df.song_clip==165]"
   ]
  },
  {
   "cell_type": "code",
   "execution_count": 50,
   "metadata": {},
   "outputs": [
    {
     "output_type": "execute_result",
     "data": {
      "text/plain": [
       "          time  song_clip        FP1        FP2         F7         F3  \\\n",
       "0         5375         86 -84.676330 -93.084613  11.043608 -30.036107   \n",
       "1         5376         86 -84.460512 -90.084602   3.739401 -32.715673   \n",
       "2         5377         86 -79.199967 -89.513171   3.637244 -32.091113   \n",
       "3         5378         86 -77.473429 -88.846502   5.731457 -31.929936   \n",
       "4         5379         86 -81.762797 -92.608421   4.812046 -33.158910   \n",
       "...        ...        ...        ...        ...        ...        ...   \n",
       "153530  527724        165 -25.785196 -20.703398  -3.871277 -54.897646   \n",
       "153531  527725        165 -27.107077 -22.084355  -6.629509 -58.665157   \n",
       "153532  527726        165 -27.781506 -21.036732 -10.102838 -59.833689   \n",
       "153533  527727        165 -27.538711 -26.608181  -5.812255 -58.403244   \n",
       "153534  527728        165 -27.188008 -35.941548  -6.527352 -57.395888   \n",
       "\n",
       "               Fz         F4         F8         T3  ...         Cz         C4  \\\n",
       "0      -49.175558 -10.678987 -23.739474  -8.906426  ... -13.815870  10.363648   \n",
       "1      -47.915526 -12.321616 -17.580989 -10.825047  ... -15.372929   1.953586   \n",
       "2      -47.307746 -15.030512 -10.711909  -2.210064  ... -16.410969  -2.964408   \n",
       "3      -48.745665 -20.044853 -13.696406   7.345420  ... -14.895766  -1.800386   \n",
       "4      -51.139726 -26.471278 -24.592188  13.101282  ... -15.130162   2.506497   \n",
       "...           ...        ...        ...        ...  ...        ...        ...   \n",
       "153530 -29.222578 -21.111121   0.420739   0.611437  ... -14.075380 -34.887721   \n",
       "153531 -32.046532 -21.601027  -0.147737  13.289382  ... -12.262996 -31.512056   \n",
       "153532 -30.860620 -20.563578   0.183874  23.070586  ... -11.781647 -33.461793   \n",
       "153533 -33.269505 -24.828649  -6.922071  30.368869  ... -13.560545 -34.334810   \n",
       "153534 -36.234287 -29.180174 -10.143433  31.836049  ... -13.501946 -35.091425   \n",
       "\n",
       "               T4         T5         P3         Pz         P4         T6  \\\n",
       "0      -37.931047 -66.080708 -45.223451   1.721274 -19.098931 -28.441628   \n",
       "1      -34.307029 -65.475162 -43.459647   2.420870 -21.192131 -28.640931   \n",
       "2      -49.838535 -70.299341 -48.961036  -1.981760 -25.169211 -37.230888   \n",
       "3      -61.959200 -71.187475 -49.618962  -0.401638 -25.812123 -41.117296   \n",
       "4      -68.567703 -68.664368 -49.576967  -2.584860 -25.976589 -38.785451   \n",
       "...           ...        ...        ...        ...        ...        ...   \n",
       "153530  -2.695848 -13.458802 -26.087579  -9.918555 -20.250191  -8.690705   \n",
       "153531   0.136368  -6.333550 -27.193456  -9.797935 -19.682037  -6.000115   \n",
       "153532  -2.025861   0.367821 -25.107688 -10.509592 -23.165720 -15.148121   \n",
       "153533  -6.837582  -4.860056 -23.917820 -12.511884 -27.591343 -24.455569   \n",
       "153534  -7.842562  -8.513514 -26.045584 -14.936346 -27.546489 -23.180030   \n",
       "\n",
       "               O1         O2  \n",
       "0      -10.126707  20.381863  \n",
       "1      -12.609021  16.188560  \n",
       "2      -17.899794  14.559912  \n",
       "3      -20.164679  13.118464  \n",
       "4      -20.672013  15.346156  \n",
       "...           ...        ...  \n",
       "153530 -21.106871   1.025280  \n",
       "153531 -19.204368  -2.475379  \n",
       "153532 -15.924814 -10.450141  \n",
       "153533 -16.432148 -11.011744  \n",
       "153534 -23.915329 -10.787103  \n",
       "\n",
       "[153535 rows x 21 columns]"
      ],
      "text/html": "<div>\n<style scoped>\n    .dataframe tbody tr th:only-of-type {\n        vertical-align: middle;\n    }\n\n    .dataframe tbody tr th {\n        vertical-align: top;\n    }\n\n    .dataframe thead th {\n        text-align: right;\n    }\n</style>\n<table border=\"1\" class=\"dataframe\">\n  <thead>\n    <tr style=\"text-align: right;\">\n      <th></th>\n      <th>time</th>\n      <th>song_clip</th>\n      <th>FP1</th>\n      <th>FP2</th>\n      <th>F7</th>\n      <th>F3</th>\n      <th>Fz</th>\n      <th>F4</th>\n      <th>F8</th>\n      <th>T3</th>\n      <th>...</th>\n      <th>Cz</th>\n      <th>C4</th>\n      <th>T4</th>\n      <th>T5</th>\n      <th>P3</th>\n      <th>Pz</th>\n      <th>P4</th>\n      <th>T6</th>\n      <th>O1</th>\n      <th>O2</th>\n    </tr>\n  </thead>\n  <tbody>\n    <tr>\n      <th>0</th>\n      <td>5375</td>\n      <td>86</td>\n      <td>-84.676330</td>\n      <td>-93.084613</td>\n      <td>11.043608</td>\n      <td>-30.036107</td>\n      <td>-49.175558</td>\n      <td>-10.678987</td>\n      <td>-23.739474</td>\n      <td>-8.906426</td>\n      <td>...</td>\n      <td>-13.815870</td>\n      <td>10.363648</td>\n      <td>-37.931047</td>\n      <td>-66.080708</td>\n      <td>-45.223451</td>\n      <td>1.721274</td>\n      <td>-19.098931</td>\n      <td>-28.441628</td>\n      <td>-10.126707</td>\n      <td>20.381863</td>\n    </tr>\n    <tr>\n      <th>1</th>\n      <td>5376</td>\n      <td>86</td>\n      <td>-84.460512</td>\n      <td>-90.084602</td>\n      <td>3.739401</td>\n      <td>-32.715673</td>\n      <td>-47.915526</td>\n      <td>-12.321616</td>\n      <td>-17.580989</td>\n      <td>-10.825047</td>\n      <td>...</td>\n      <td>-15.372929</td>\n      <td>1.953586</td>\n      <td>-34.307029</td>\n      <td>-65.475162</td>\n      <td>-43.459647</td>\n      <td>2.420870</td>\n      <td>-21.192131</td>\n      <td>-28.640931</td>\n      <td>-12.609021</td>\n      <td>16.188560</td>\n    </tr>\n    <tr>\n      <th>2</th>\n      <td>5377</td>\n      <td>86</td>\n      <td>-79.199967</td>\n      <td>-89.513171</td>\n      <td>3.637244</td>\n      <td>-32.091113</td>\n      <td>-47.307746</td>\n      <td>-15.030512</td>\n      <td>-10.711909</td>\n      <td>-2.210064</td>\n      <td>...</td>\n      <td>-16.410969</td>\n      <td>-2.964408</td>\n      <td>-49.838535</td>\n      <td>-70.299341</td>\n      <td>-48.961036</td>\n      <td>-1.981760</td>\n      <td>-25.169211</td>\n      <td>-37.230888</td>\n      <td>-17.899794</td>\n      <td>14.559912</td>\n    </tr>\n    <tr>\n      <th>3</th>\n      <td>5378</td>\n      <td>86</td>\n      <td>-77.473429</td>\n      <td>-88.846502</td>\n      <td>5.731457</td>\n      <td>-31.929936</td>\n      <td>-48.745665</td>\n      <td>-20.044853</td>\n      <td>-13.696406</td>\n      <td>7.345420</td>\n      <td>...</td>\n      <td>-14.895766</td>\n      <td>-1.800386</td>\n      <td>-61.959200</td>\n      <td>-71.187475</td>\n      <td>-49.618962</td>\n      <td>-0.401638</td>\n      <td>-25.812123</td>\n      <td>-41.117296</td>\n      <td>-20.164679</td>\n      <td>13.118464</td>\n    </tr>\n    <tr>\n      <th>4</th>\n      <td>5379</td>\n      <td>86</td>\n      <td>-81.762797</td>\n      <td>-92.608421</td>\n      <td>4.812046</td>\n      <td>-33.158910</td>\n      <td>-51.139726</td>\n      <td>-26.471278</td>\n      <td>-24.592188</td>\n      <td>13.101282</td>\n      <td>...</td>\n      <td>-15.130162</td>\n      <td>2.506497</td>\n      <td>-68.567703</td>\n      <td>-68.664368</td>\n      <td>-49.576967</td>\n      <td>-2.584860</td>\n      <td>-25.976589</td>\n      <td>-38.785451</td>\n      <td>-20.672013</td>\n      <td>15.346156</td>\n    </tr>\n    <tr>\n      <th>...</th>\n      <td>...</td>\n      <td>...</td>\n      <td>...</td>\n      <td>...</td>\n      <td>...</td>\n      <td>...</td>\n      <td>...</td>\n      <td>...</td>\n      <td>...</td>\n      <td>...</td>\n      <td>...</td>\n      <td>...</td>\n      <td>...</td>\n      <td>...</td>\n      <td>...</td>\n      <td>...</td>\n      <td>...</td>\n      <td>...</td>\n      <td>...</td>\n      <td>...</td>\n      <td>...</td>\n    </tr>\n    <tr>\n      <th>153530</th>\n      <td>527724</td>\n      <td>165</td>\n      <td>-25.785196</td>\n      <td>-20.703398</td>\n      <td>-3.871277</td>\n      <td>-54.897646</td>\n      <td>-29.222578</td>\n      <td>-21.111121</td>\n      <td>0.420739</td>\n      <td>0.611437</td>\n      <td>...</td>\n      <td>-14.075380</td>\n      <td>-34.887721</td>\n      <td>-2.695848</td>\n      <td>-13.458802</td>\n      <td>-26.087579</td>\n      <td>-9.918555</td>\n      <td>-20.250191</td>\n      <td>-8.690705</td>\n      <td>-21.106871</td>\n      <td>1.025280</td>\n    </tr>\n    <tr>\n      <th>153531</th>\n      <td>527725</td>\n      <td>165</td>\n      <td>-27.107077</td>\n      <td>-22.084355</td>\n      <td>-6.629509</td>\n      <td>-58.665157</td>\n      <td>-32.046532</td>\n      <td>-21.601027</td>\n      <td>-0.147737</td>\n      <td>13.289382</td>\n      <td>...</td>\n      <td>-12.262996</td>\n      <td>-31.512056</td>\n      <td>0.136368</td>\n      <td>-6.333550</td>\n      <td>-27.193456</td>\n      <td>-9.797935</td>\n      <td>-19.682037</td>\n      <td>-6.000115</td>\n      <td>-19.204368</td>\n      <td>-2.475379</td>\n    </tr>\n    <tr>\n      <th>153532</th>\n      <td>527726</td>\n      <td>165</td>\n      <td>-27.781506</td>\n      <td>-21.036732</td>\n      <td>-10.102838</td>\n      <td>-59.833689</td>\n      <td>-30.860620</td>\n      <td>-20.563578</td>\n      <td>0.183874</td>\n      <td>23.070586</td>\n      <td>...</td>\n      <td>-11.781647</td>\n      <td>-33.461793</td>\n      <td>-2.025861</td>\n      <td>0.367821</td>\n      <td>-25.107688</td>\n      <td>-10.509592</td>\n      <td>-23.165720</td>\n      <td>-15.148121</td>\n      <td>-15.924814</td>\n      <td>-10.450141</td>\n    </tr>\n    <tr>\n      <th>153533</th>\n      <td>527727</td>\n      <td>165</td>\n      <td>-27.538711</td>\n      <td>-26.608181</td>\n      <td>-5.812255</td>\n      <td>-58.403244</td>\n      <td>-33.269505</td>\n      <td>-24.828649</td>\n      <td>-6.922071</td>\n      <td>30.368869</td>\n      <td>...</td>\n      <td>-13.560545</td>\n      <td>-34.334810</td>\n      <td>-6.837582</td>\n      <td>-4.860056</td>\n      <td>-23.917820</td>\n      <td>-12.511884</td>\n      <td>-27.591343</td>\n      <td>-24.455569</td>\n      <td>-16.432148</td>\n      <td>-11.011744</td>\n    </tr>\n    <tr>\n      <th>153534</th>\n      <td>527728</td>\n      <td>165</td>\n      <td>-27.188008</td>\n      <td>-35.941548</td>\n      <td>-6.527352</td>\n      <td>-57.395888</td>\n      <td>-36.234287</td>\n      <td>-29.180174</td>\n      <td>-10.143433</td>\n      <td>31.836049</td>\n      <td>...</td>\n      <td>-13.501946</td>\n      <td>-35.091425</td>\n      <td>-7.842562</td>\n      <td>-8.513514</td>\n      <td>-26.045584</td>\n      <td>-14.936346</td>\n      <td>-27.546489</td>\n      <td>-23.180030</td>\n      <td>-23.915329</td>\n      <td>-10.787103</td>\n    </tr>\n  </tbody>\n</table>\n<p>153535 rows × 21 columns</p>\n</div>"
     },
     "metadata": {},
     "execution_count": 50
    }
   ],
   "source": [
    "mdf = df.merge(record, how='left', on='time')\n",
    "mdf"
   ]
  },
  {
   "cell_type": "code",
   "execution_count": 51,
   "metadata": {},
   "outputs": [
    {
     "output_type": "execute_result",
     "data": {
      "text/plain": [
       "     Number  valence  energy  tension  anger  fear  happy   sad  tender  \\\n",
       "0         1     4.83    6.83     3.17   1.00  1.00   7.33  1.00    1.00   \n",
       "1         2     4.83    6.17     3.83   1.00  1.00   7.17  1.17    1.83   \n",
       "2         3     5.60    6.20     3.00   1.00  1.00   7.17  1.00    1.00   \n",
       "3         4     4.67    6.33     3.83   1.00  1.00   7.17  1.00    1.00   \n",
       "4         5     6.50    5.00     3.17   1.17  1.00   7.17  1.00    2.83   \n",
       "..      ...      ...     ...      ...    ...   ...    ...   ...     ...   \n",
       "355     356     4.80    2.40     3.60   1.00  1.00   1.33  6.67    4.50   \n",
       "356     357     5.00    2.83     3.67   1.00  2.40   1.00  2.60    4.20   \n",
       "357     358     4.20    2.20     4.00   1.00  1.83   1.67  5.50    4.33   \n",
       "358     359     4.60    4.20     4.20   1.00  1.33   3.33  2.67    1.00   \n",
       "359     360     3.20    3.40     5.00   1.33  5.33   1.00  3.00    1.00   \n",
       "\n",
       "          TARGET  \n",
       "0          HAPPY  \n",
       "1          HAPPY  \n",
       "2          HAPPY  \n",
       "3          HAPPY  \n",
       "4          HAPPY  \n",
       "..           ...  \n",
       "355  LOW TENSION  \n",
       "356  LOW TENSION  \n",
       "357  LOW TENSION  \n",
       "358  LOW TENSION  \n",
       "359  LOW TENSION  \n",
       "\n",
       "[360 rows x 10 columns]"
      ],
      "text/html": "<div>\n<style scoped>\n    .dataframe tbody tr th:only-of-type {\n        vertical-align: middle;\n    }\n\n    .dataframe tbody tr th {\n        vertical-align: top;\n    }\n\n    .dataframe thead th {\n        text-align: right;\n    }\n</style>\n<table border=\"1\" class=\"dataframe\">\n  <thead>\n    <tr style=\"text-align: right;\">\n      <th></th>\n      <th>Number</th>\n      <th>valence</th>\n      <th>energy</th>\n      <th>tension</th>\n      <th>anger</th>\n      <th>fear</th>\n      <th>happy</th>\n      <th>sad</th>\n      <th>tender</th>\n      <th>TARGET</th>\n    </tr>\n  </thead>\n  <tbody>\n    <tr>\n      <th>0</th>\n      <td>1</td>\n      <td>4.83</td>\n      <td>6.83</td>\n      <td>3.17</td>\n      <td>1.00</td>\n      <td>1.00</td>\n      <td>7.33</td>\n      <td>1.00</td>\n      <td>1.00</td>\n      <td>HAPPY</td>\n    </tr>\n    <tr>\n      <th>1</th>\n      <td>2</td>\n      <td>4.83</td>\n      <td>6.17</td>\n      <td>3.83</td>\n      <td>1.00</td>\n      <td>1.00</td>\n      <td>7.17</td>\n      <td>1.17</td>\n      <td>1.83</td>\n      <td>HAPPY</td>\n    </tr>\n    <tr>\n      <th>2</th>\n      <td>3</td>\n      <td>5.60</td>\n      <td>6.20</td>\n      <td>3.00</td>\n      <td>1.00</td>\n      <td>1.00</td>\n      <td>7.17</td>\n      <td>1.00</td>\n      <td>1.00</td>\n      <td>HAPPY</td>\n    </tr>\n    <tr>\n      <th>3</th>\n      <td>4</td>\n      <td>4.67</td>\n      <td>6.33</td>\n      <td>3.83</td>\n      <td>1.00</td>\n      <td>1.00</td>\n      <td>7.17</td>\n      <td>1.00</td>\n      <td>1.00</td>\n      <td>HAPPY</td>\n    </tr>\n    <tr>\n      <th>4</th>\n      <td>5</td>\n      <td>6.50</td>\n      <td>5.00</td>\n      <td>3.17</td>\n      <td>1.17</td>\n      <td>1.00</td>\n      <td>7.17</td>\n      <td>1.00</td>\n      <td>2.83</td>\n      <td>HAPPY</td>\n    </tr>\n    <tr>\n      <th>...</th>\n      <td>...</td>\n      <td>...</td>\n      <td>...</td>\n      <td>...</td>\n      <td>...</td>\n      <td>...</td>\n      <td>...</td>\n      <td>...</td>\n      <td>...</td>\n      <td>...</td>\n    </tr>\n    <tr>\n      <th>355</th>\n      <td>356</td>\n      <td>4.80</td>\n      <td>2.40</td>\n      <td>3.60</td>\n      <td>1.00</td>\n      <td>1.00</td>\n      <td>1.33</td>\n      <td>6.67</td>\n      <td>4.50</td>\n      <td>LOW TENSION</td>\n    </tr>\n    <tr>\n      <th>356</th>\n      <td>357</td>\n      <td>5.00</td>\n      <td>2.83</td>\n      <td>3.67</td>\n      <td>1.00</td>\n      <td>2.40</td>\n      <td>1.00</td>\n      <td>2.60</td>\n      <td>4.20</td>\n      <td>LOW TENSION</td>\n    </tr>\n    <tr>\n      <th>357</th>\n      <td>358</td>\n      <td>4.20</td>\n      <td>2.20</td>\n      <td>4.00</td>\n      <td>1.00</td>\n      <td>1.83</td>\n      <td>1.67</td>\n      <td>5.50</td>\n      <td>4.33</td>\n      <td>LOW TENSION</td>\n    </tr>\n    <tr>\n      <th>358</th>\n      <td>359</td>\n      <td>4.60</td>\n      <td>4.20</td>\n      <td>4.20</td>\n      <td>1.00</td>\n      <td>1.33</td>\n      <td>3.33</td>\n      <td>2.67</td>\n      <td>1.00</td>\n      <td>LOW TENSION</td>\n    </tr>\n    <tr>\n      <th>359</th>\n      <td>360</td>\n      <td>3.20</td>\n      <td>3.40</td>\n      <td>5.00</td>\n      <td>1.33</td>\n      <td>5.33</td>\n      <td>1.00</td>\n      <td>3.00</td>\n      <td>1.00</td>\n      <td>LOW TENSION</td>\n    </tr>\n  </tbody>\n</table>\n<p>360 rows × 10 columns</p>\n</div>"
     },
     "metadata": {},
     "execution_count": 51
    }
   ],
   "source": [
    "set1 = pd.read_csv('data/set1/set1/mean_ratings_set1.csv').drop(columns=['Unnamed: 10', 'Unnamed: 11'])\n",
    "set1"
   ]
  },
  {
   "cell_type": "code",
   "execution_count": 52,
   "metadata": {},
   "outputs": [],
   "source": [
    "set1.TARGET.unique()\n",
    "positive=['HAPPY', 'SAD', 'TENDER', 'FEAR', 'ANGER', 'SURPRISE',\n",
    "       'HIGH VALENCE', 'LOW VALENCE', 'HIGH ENERGY', 'LOW ENERGY',\n",
    "       'HIGH TENSION', 'LOW TENSION']"
   ]
  },
  {
   "cell_type": "code",
   "execution_count": 53,
   "metadata": {},
   "outputs": [
    {
     "output_type": "execute_result",
     "data": {
      "text/plain": [
       "          time  song_clip        FP1        FP2         F7         F3  \\\n",
       "0         5375         86 -84.676330 -93.084613  11.043608 -30.036107   \n",
       "1         5376         86 -84.460512 -90.084602   3.739401 -32.715673   \n",
       "2         5377         86 -79.199967 -89.513171   3.637244 -32.091113   \n",
       "3         5378         86 -77.473429 -88.846502   5.731457 -31.929936   \n",
       "4         5379         86 -81.762797 -92.608421   4.812046 -33.158910   \n",
       "...        ...        ...        ...        ...        ...        ...   \n",
       "153530  527724        165 -25.785196 -20.703398  -3.871277 -54.897646   \n",
       "153531  527725        165 -27.107077 -22.084355  -6.629509 -58.665157   \n",
       "153532  527726        165 -27.781506 -21.036732 -10.102838 -59.833689   \n",
       "153533  527727        165 -27.538711 -26.608181  -5.812255 -58.403244   \n",
       "153534  527728        165 -27.188008 -35.941548  -6.527352 -57.395888   \n",
       "\n",
       "               Fz         F4         F8         T3  ...         T4         T5  \\\n",
       "0      -49.175558 -10.678987 -23.739474  -8.906426  ... -37.931047 -66.080708   \n",
       "1      -47.915526 -12.321616 -17.580989 -10.825047  ... -34.307029 -65.475162   \n",
       "2      -47.307746 -15.030512 -10.711909  -2.210064  ... -49.838535 -70.299341   \n",
       "3      -48.745665 -20.044853 -13.696406   7.345420  ... -61.959200 -71.187475   \n",
       "4      -51.139726 -26.471278 -24.592188  13.101282  ... -68.567703 -68.664368   \n",
       "...           ...        ...        ...        ...  ...        ...        ...   \n",
       "153530 -29.222578 -21.111121   0.420739   0.611437  ...  -2.695848 -13.458802   \n",
       "153531 -32.046532 -21.601027  -0.147737  13.289382  ...   0.136368  -6.333550   \n",
       "153532 -30.860620 -20.563578   0.183874  23.070586  ...  -2.025861   0.367821   \n",
       "153533 -33.269505 -24.828649  -6.922071  30.368869  ...  -6.837582  -4.860056   \n",
       "153534 -36.234287 -29.180174 -10.143433  31.836049  ...  -7.842562  -8.513514   \n",
       "\n",
       "               P3         Pz         P4         T6         O1         O2  \\\n",
       "0      -45.223451   1.721274 -19.098931 -28.441628 -10.126707  20.381863   \n",
       "1      -43.459647   2.420870 -21.192131 -28.640931 -12.609021  16.188560   \n",
       "2      -48.961036  -1.981760 -25.169211 -37.230888 -17.899794  14.559912   \n",
       "3      -49.618962  -0.401638 -25.812123 -41.117296 -20.164679  13.118464   \n",
       "4      -49.576967  -2.584860 -25.976589 -38.785451 -20.672013  15.346156   \n",
       "...           ...        ...        ...        ...        ...        ...   \n",
       "153530 -26.087579  -9.918555 -20.250191  -8.690705 -21.106871   1.025280   \n",
       "153531 -27.193456  -9.797935 -19.682037  -6.000115 -19.204368  -2.475379   \n",
       "153532 -25.107688 -10.509592 -23.165720 -15.148121 -15.924814 -10.450141   \n",
       "153533 -23.917820 -12.511884 -27.591343 -24.455569 -16.432148 -11.011744   \n",
       "153534 -26.045584 -14.936346 -27.546489 -23.180030 -23.915329 -10.787103   \n",
       "\n",
       "        Number    TARGET  \n",
       "0           86    TENDER  \n",
       "1           86    TENDER  \n",
       "2           86    TENDER  \n",
       "3           86    TENDER  \n",
       "4           86    TENDER  \n",
       "...        ...       ...  \n",
       "153530     165  SURPRISE  \n",
       "153531     165  SURPRISE  \n",
       "153532     165  SURPRISE  \n",
       "153533     165  SURPRISE  \n",
       "153534     165  SURPRISE  \n",
       "\n",
       "[153535 rows x 23 columns]"
      ],
      "text/html": "<div>\n<style scoped>\n    .dataframe tbody tr th:only-of-type {\n        vertical-align: middle;\n    }\n\n    .dataframe tbody tr th {\n        vertical-align: top;\n    }\n\n    .dataframe thead th {\n        text-align: right;\n    }\n</style>\n<table border=\"1\" class=\"dataframe\">\n  <thead>\n    <tr style=\"text-align: right;\">\n      <th></th>\n      <th>time</th>\n      <th>song_clip</th>\n      <th>FP1</th>\n      <th>FP2</th>\n      <th>F7</th>\n      <th>F3</th>\n      <th>Fz</th>\n      <th>F4</th>\n      <th>F8</th>\n      <th>T3</th>\n      <th>...</th>\n      <th>T4</th>\n      <th>T5</th>\n      <th>P3</th>\n      <th>Pz</th>\n      <th>P4</th>\n      <th>T6</th>\n      <th>O1</th>\n      <th>O2</th>\n      <th>Number</th>\n      <th>TARGET</th>\n    </tr>\n  </thead>\n  <tbody>\n    <tr>\n      <th>0</th>\n      <td>5375</td>\n      <td>86</td>\n      <td>-84.676330</td>\n      <td>-93.084613</td>\n      <td>11.043608</td>\n      <td>-30.036107</td>\n      <td>-49.175558</td>\n      <td>-10.678987</td>\n      <td>-23.739474</td>\n      <td>-8.906426</td>\n      <td>...</td>\n      <td>-37.931047</td>\n      <td>-66.080708</td>\n      <td>-45.223451</td>\n      <td>1.721274</td>\n      <td>-19.098931</td>\n      <td>-28.441628</td>\n      <td>-10.126707</td>\n      <td>20.381863</td>\n      <td>86</td>\n      <td>TENDER</td>\n    </tr>\n    <tr>\n      <th>1</th>\n      <td>5376</td>\n      <td>86</td>\n      <td>-84.460512</td>\n      <td>-90.084602</td>\n      <td>3.739401</td>\n      <td>-32.715673</td>\n      <td>-47.915526</td>\n      <td>-12.321616</td>\n      <td>-17.580989</td>\n      <td>-10.825047</td>\n      <td>...</td>\n      <td>-34.307029</td>\n      <td>-65.475162</td>\n      <td>-43.459647</td>\n      <td>2.420870</td>\n      <td>-21.192131</td>\n      <td>-28.640931</td>\n      <td>-12.609021</td>\n      <td>16.188560</td>\n      <td>86</td>\n      <td>TENDER</td>\n    </tr>\n    <tr>\n      <th>2</th>\n      <td>5377</td>\n      <td>86</td>\n      <td>-79.199967</td>\n      <td>-89.513171</td>\n      <td>3.637244</td>\n      <td>-32.091113</td>\n      <td>-47.307746</td>\n      <td>-15.030512</td>\n      <td>-10.711909</td>\n      <td>-2.210064</td>\n      <td>...</td>\n      <td>-49.838535</td>\n      <td>-70.299341</td>\n      <td>-48.961036</td>\n      <td>-1.981760</td>\n      <td>-25.169211</td>\n      <td>-37.230888</td>\n      <td>-17.899794</td>\n      <td>14.559912</td>\n      <td>86</td>\n      <td>TENDER</td>\n    </tr>\n    <tr>\n      <th>3</th>\n      <td>5378</td>\n      <td>86</td>\n      <td>-77.473429</td>\n      <td>-88.846502</td>\n      <td>5.731457</td>\n      <td>-31.929936</td>\n      <td>-48.745665</td>\n      <td>-20.044853</td>\n      <td>-13.696406</td>\n      <td>7.345420</td>\n      <td>...</td>\n      <td>-61.959200</td>\n      <td>-71.187475</td>\n      <td>-49.618962</td>\n      <td>-0.401638</td>\n      <td>-25.812123</td>\n      <td>-41.117296</td>\n      <td>-20.164679</td>\n      <td>13.118464</td>\n      <td>86</td>\n      <td>TENDER</td>\n    </tr>\n    <tr>\n      <th>4</th>\n      <td>5379</td>\n      <td>86</td>\n      <td>-81.762797</td>\n      <td>-92.608421</td>\n      <td>4.812046</td>\n      <td>-33.158910</td>\n      <td>-51.139726</td>\n      <td>-26.471278</td>\n      <td>-24.592188</td>\n      <td>13.101282</td>\n      <td>...</td>\n      <td>-68.567703</td>\n      <td>-68.664368</td>\n      <td>-49.576967</td>\n      <td>-2.584860</td>\n      <td>-25.976589</td>\n      <td>-38.785451</td>\n      <td>-20.672013</td>\n      <td>15.346156</td>\n      <td>86</td>\n      <td>TENDER</td>\n    </tr>\n    <tr>\n      <th>...</th>\n      <td>...</td>\n      <td>...</td>\n      <td>...</td>\n      <td>...</td>\n      <td>...</td>\n      <td>...</td>\n      <td>...</td>\n      <td>...</td>\n      <td>...</td>\n      <td>...</td>\n      <td>...</td>\n      <td>...</td>\n      <td>...</td>\n      <td>...</td>\n      <td>...</td>\n      <td>...</td>\n      <td>...</td>\n      <td>...</td>\n      <td>...</td>\n      <td>...</td>\n      <td>...</td>\n    </tr>\n    <tr>\n      <th>153530</th>\n      <td>527724</td>\n      <td>165</td>\n      <td>-25.785196</td>\n      <td>-20.703398</td>\n      <td>-3.871277</td>\n      <td>-54.897646</td>\n      <td>-29.222578</td>\n      <td>-21.111121</td>\n      <td>0.420739</td>\n      <td>0.611437</td>\n      <td>...</td>\n      <td>-2.695848</td>\n      <td>-13.458802</td>\n      <td>-26.087579</td>\n      <td>-9.918555</td>\n      <td>-20.250191</td>\n      <td>-8.690705</td>\n      <td>-21.106871</td>\n      <td>1.025280</td>\n      <td>165</td>\n      <td>SURPRISE</td>\n    </tr>\n    <tr>\n      <th>153531</th>\n      <td>527725</td>\n      <td>165</td>\n      <td>-27.107077</td>\n      <td>-22.084355</td>\n      <td>-6.629509</td>\n      <td>-58.665157</td>\n      <td>-32.046532</td>\n      <td>-21.601027</td>\n      <td>-0.147737</td>\n      <td>13.289382</td>\n      <td>...</td>\n      <td>0.136368</td>\n      <td>-6.333550</td>\n      <td>-27.193456</td>\n      <td>-9.797935</td>\n      <td>-19.682037</td>\n      <td>-6.000115</td>\n      <td>-19.204368</td>\n      <td>-2.475379</td>\n      <td>165</td>\n      <td>SURPRISE</td>\n    </tr>\n    <tr>\n      <th>153532</th>\n      <td>527726</td>\n      <td>165</td>\n      <td>-27.781506</td>\n      <td>-21.036732</td>\n      <td>-10.102838</td>\n      <td>-59.833689</td>\n      <td>-30.860620</td>\n      <td>-20.563578</td>\n      <td>0.183874</td>\n      <td>23.070586</td>\n      <td>...</td>\n      <td>-2.025861</td>\n      <td>0.367821</td>\n      <td>-25.107688</td>\n      <td>-10.509592</td>\n      <td>-23.165720</td>\n      <td>-15.148121</td>\n      <td>-15.924814</td>\n      <td>-10.450141</td>\n      <td>165</td>\n      <td>SURPRISE</td>\n    </tr>\n    <tr>\n      <th>153533</th>\n      <td>527727</td>\n      <td>165</td>\n      <td>-27.538711</td>\n      <td>-26.608181</td>\n      <td>-5.812255</td>\n      <td>-58.403244</td>\n      <td>-33.269505</td>\n      <td>-24.828649</td>\n      <td>-6.922071</td>\n      <td>30.368869</td>\n      <td>...</td>\n      <td>-6.837582</td>\n      <td>-4.860056</td>\n      <td>-23.917820</td>\n      <td>-12.511884</td>\n      <td>-27.591343</td>\n      <td>-24.455569</td>\n      <td>-16.432148</td>\n      <td>-11.011744</td>\n      <td>165</td>\n      <td>SURPRISE</td>\n    </tr>\n    <tr>\n      <th>153534</th>\n      <td>527728</td>\n      <td>165</td>\n      <td>-27.188008</td>\n      <td>-35.941548</td>\n      <td>-6.527352</td>\n      <td>-57.395888</td>\n      <td>-36.234287</td>\n      <td>-29.180174</td>\n      <td>-10.143433</td>\n      <td>31.836049</td>\n      <td>...</td>\n      <td>-7.842562</td>\n      <td>-8.513514</td>\n      <td>-26.045584</td>\n      <td>-14.936346</td>\n      <td>-27.546489</td>\n      <td>-23.180030</td>\n      <td>-23.915329</td>\n      <td>-10.787103</td>\n      <td>165</td>\n      <td>SURPRISE</td>\n    </tr>\n  </tbody>\n</table>\n<p>153535 rows × 23 columns</p>\n</div>"
     },
     "metadata": {},
     "execution_count": 53
    }
   ],
   "source": [
    "mdf.merge(set1[['Number', 'TARGET']], left_on='song_clip', right_on='Number')"
   ]
  },
  {
   "cell_type": "code",
   "execution_count": null,
   "metadata": {},
   "outputs": [],
   "source": [
    "mdf.merge()"
   ]
  },
  {
   "cell_type": "code",
   "execution_count": null,
   "metadata": {},
   "outputs": [],
   "source": []
  },
  {
   "cell_type": "code",
   "execution_count": 54,
   "metadata": {},
   "outputs": [
    {
     "output_type": "error",
     "ename": "FileNotFoundError",
     "evalue": "[Errno 2] No such file or directory: 'set1\\\\set1\\\\mean_ratings_set1.csv'",
     "traceback": [
      "\u001b[1;31m---------------------------------------------------------------------------\u001b[0m",
      "\u001b[1;31mFileNotFoundError\u001b[0m                         Traceback (most recent call last)",
      "\u001b[1;32m<ipython-input-54-03f89b7bbb16>\u001b[0m in \u001b[0;36m<module>\u001b[1;34m\u001b[0m\n\u001b[1;32m----> 1\u001b[1;33m \u001b[0mset1\u001b[0m \u001b[1;33m=\u001b[0m \u001b[0mpd\u001b[0m\u001b[1;33m.\u001b[0m\u001b[0mread_csv\u001b[0m\u001b[1;33m(\u001b[0m\u001b[1;34m'set1\\set1\\mean_ratings_set1.csv'\u001b[0m\u001b[1;33m)\u001b[0m\u001b[1;33m.\u001b[0m\u001b[0mdrop\u001b[0m\u001b[1;33m(\u001b[0m\u001b[1;33m[\u001b[0m\u001b[1;34m'Unnamed: 10'\u001b[0m\u001b[1;33m,\u001b[0m \u001b[1;34m'Unnamed: 11'\u001b[0m\u001b[1;33m]\u001b[0m\u001b[1;33m,\u001b[0m\u001b[0maxis\u001b[0m\u001b[1;33m=\u001b[0m\u001b[1;36m1\u001b[0m\u001b[1;33m)\u001b[0m\u001b[1;33m\u001b[0m\u001b[1;33m\u001b[0m\u001b[0m\n\u001b[0m\u001b[0;32m      2\u001b[0m \u001b[0mset1\u001b[0m\u001b[1;33m\u001b[0m\u001b[1;33m\u001b[0m\u001b[0m\n",
      "\u001b[1;32m~\\.virtualenvs\\project-5NQxielR\\lib\\site-packages\\pandas\\io\\parsers.py\u001b[0m in \u001b[0;36mread_csv\u001b[1;34m(filepath_or_buffer, sep, delimiter, header, names, index_col, usecols, squeeze, prefix, mangle_dupe_cols, dtype, engine, converters, true_values, false_values, skipinitialspace, skiprows, skipfooter, nrows, na_values, keep_default_na, na_filter, verbose, skip_blank_lines, parse_dates, infer_datetime_format, keep_date_col, date_parser, dayfirst, cache_dates, iterator, chunksize, compression, thousands, decimal, lineterminator, quotechar, quoting, doublequote, escapechar, comment, encoding, dialect, error_bad_lines, warn_bad_lines, delim_whitespace, low_memory, memory_map, float_precision, storage_options)\u001b[0m\n\u001b[0;32m    608\u001b[0m     \u001b[0mkwds\u001b[0m\u001b[1;33m.\u001b[0m\u001b[0mupdate\u001b[0m\u001b[1;33m(\u001b[0m\u001b[0mkwds_defaults\u001b[0m\u001b[1;33m)\u001b[0m\u001b[1;33m\u001b[0m\u001b[1;33m\u001b[0m\u001b[0m\n\u001b[0;32m    609\u001b[0m \u001b[1;33m\u001b[0m\u001b[0m\n\u001b[1;32m--> 610\u001b[1;33m     \u001b[1;32mreturn\u001b[0m \u001b[0m_read\u001b[0m\u001b[1;33m(\u001b[0m\u001b[0mfilepath_or_buffer\u001b[0m\u001b[1;33m,\u001b[0m \u001b[0mkwds\u001b[0m\u001b[1;33m)\u001b[0m\u001b[1;33m\u001b[0m\u001b[1;33m\u001b[0m\u001b[0m\n\u001b[0m\u001b[0;32m    611\u001b[0m \u001b[1;33m\u001b[0m\u001b[0m\n\u001b[0;32m    612\u001b[0m \u001b[1;33m\u001b[0m\u001b[0m\n",
      "\u001b[1;32m~\\.virtualenvs\\project-5NQxielR\\lib\\site-packages\\pandas\\io\\parsers.py\u001b[0m in \u001b[0;36m_read\u001b[1;34m(filepath_or_buffer, kwds)\u001b[0m\n\u001b[0;32m    460\u001b[0m \u001b[1;33m\u001b[0m\u001b[0m\n\u001b[0;32m    461\u001b[0m     \u001b[1;31m# Create the parser.\u001b[0m\u001b[1;33m\u001b[0m\u001b[1;33m\u001b[0m\u001b[1;33m\u001b[0m\u001b[0m\n\u001b[1;32m--> 462\u001b[1;33m     \u001b[0mparser\u001b[0m \u001b[1;33m=\u001b[0m \u001b[0mTextFileReader\u001b[0m\u001b[1;33m(\u001b[0m\u001b[0mfilepath_or_buffer\u001b[0m\u001b[1;33m,\u001b[0m \u001b[1;33m**\u001b[0m\u001b[0mkwds\u001b[0m\u001b[1;33m)\u001b[0m\u001b[1;33m\u001b[0m\u001b[1;33m\u001b[0m\u001b[0m\n\u001b[0m\u001b[0;32m    463\u001b[0m \u001b[1;33m\u001b[0m\u001b[0m\n\u001b[0;32m    464\u001b[0m     \u001b[1;32mif\u001b[0m \u001b[0mchunksize\u001b[0m \u001b[1;32mor\u001b[0m \u001b[0miterator\u001b[0m\u001b[1;33m:\u001b[0m\u001b[1;33m\u001b[0m\u001b[1;33m\u001b[0m\u001b[0m\n",
      "\u001b[1;32m~\\.virtualenvs\\project-5NQxielR\\lib\\site-packages\\pandas\\io\\parsers.py\u001b[0m in \u001b[0;36m__init__\u001b[1;34m(self, f, engine, **kwds)\u001b[0m\n\u001b[0;32m    817\u001b[0m             \u001b[0mself\u001b[0m\u001b[1;33m.\u001b[0m\u001b[0moptions\u001b[0m\u001b[1;33m[\u001b[0m\u001b[1;34m\"has_index_names\"\u001b[0m\u001b[1;33m]\u001b[0m \u001b[1;33m=\u001b[0m \u001b[0mkwds\u001b[0m\u001b[1;33m[\u001b[0m\u001b[1;34m\"has_index_names\"\u001b[0m\u001b[1;33m]\u001b[0m\u001b[1;33m\u001b[0m\u001b[1;33m\u001b[0m\u001b[0m\n\u001b[0;32m    818\u001b[0m \u001b[1;33m\u001b[0m\u001b[0m\n\u001b[1;32m--> 819\u001b[1;33m         \u001b[0mself\u001b[0m\u001b[1;33m.\u001b[0m\u001b[0m_engine\u001b[0m \u001b[1;33m=\u001b[0m \u001b[0mself\u001b[0m\u001b[1;33m.\u001b[0m\u001b[0m_make_engine\u001b[0m\u001b[1;33m(\u001b[0m\u001b[0mself\u001b[0m\u001b[1;33m.\u001b[0m\u001b[0mengine\u001b[0m\u001b[1;33m)\u001b[0m\u001b[1;33m\u001b[0m\u001b[1;33m\u001b[0m\u001b[0m\n\u001b[0m\u001b[0;32m    820\u001b[0m \u001b[1;33m\u001b[0m\u001b[0m\n\u001b[0;32m    821\u001b[0m     \u001b[1;32mdef\u001b[0m \u001b[0mclose\u001b[0m\u001b[1;33m(\u001b[0m\u001b[0mself\u001b[0m\u001b[1;33m)\u001b[0m\u001b[1;33m:\u001b[0m\u001b[1;33m\u001b[0m\u001b[1;33m\u001b[0m\u001b[0m\n",
      "\u001b[1;32m~\\.virtualenvs\\project-5NQxielR\\lib\\site-packages\\pandas\\io\\parsers.py\u001b[0m in \u001b[0;36m_make_engine\u001b[1;34m(self, engine)\u001b[0m\n\u001b[0;32m   1048\u001b[0m             )\n\u001b[0;32m   1049\u001b[0m         \u001b[1;31m# error: Too many arguments for \"ParserBase\"\u001b[0m\u001b[1;33m\u001b[0m\u001b[1;33m\u001b[0m\u001b[1;33m\u001b[0m\u001b[0m\n\u001b[1;32m-> 1050\u001b[1;33m         \u001b[1;32mreturn\u001b[0m \u001b[0mmapping\u001b[0m\u001b[1;33m[\u001b[0m\u001b[0mengine\u001b[0m\u001b[1;33m]\u001b[0m\u001b[1;33m(\u001b[0m\u001b[0mself\u001b[0m\u001b[1;33m.\u001b[0m\u001b[0mf\u001b[0m\u001b[1;33m,\u001b[0m \u001b[1;33m**\u001b[0m\u001b[0mself\u001b[0m\u001b[1;33m.\u001b[0m\u001b[0moptions\u001b[0m\u001b[1;33m)\u001b[0m  \u001b[1;31m# type: ignore[call-arg]\u001b[0m\u001b[1;33m\u001b[0m\u001b[1;33m\u001b[0m\u001b[0m\n\u001b[0m\u001b[0;32m   1051\u001b[0m \u001b[1;33m\u001b[0m\u001b[0m\n\u001b[0;32m   1052\u001b[0m     \u001b[1;32mdef\u001b[0m \u001b[0m_failover_to_python\u001b[0m\u001b[1;33m(\u001b[0m\u001b[0mself\u001b[0m\u001b[1;33m)\u001b[0m\u001b[1;33m:\u001b[0m\u001b[1;33m\u001b[0m\u001b[1;33m\u001b[0m\u001b[0m\n",
      "\u001b[1;32m~\\.virtualenvs\\project-5NQxielR\\lib\\site-packages\\pandas\\io\\parsers.py\u001b[0m in \u001b[0;36m__init__\u001b[1;34m(self, src, **kwds)\u001b[0m\n\u001b[0;32m   1865\u001b[0m \u001b[1;33m\u001b[0m\u001b[0m\n\u001b[0;32m   1866\u001b[0m         \u001b[1;31m# open handles\u001b[0m\u001b[1;33m\u001b[0m\u001b[1;33m\u001b[0m\u001b[1;33m\u001b[0m\u001b[0m\n\u001b[1;32m-> 1867\u001b[1;33m         \u001b[0mself\u001b[0m\u001b[1;33m.\u001b[0m\u001b[0m_open_handles\u001b[0m\u001b[1;33m(\u001b[0m\u001b[0msrc\u001b[0m\u001b[1;33m,\u001b[0m \u001b[0mkwds\u001b[0m\u001b[1;33m)\u001b[0m\u001b[1;33m\u001b[0m\u001b[1;33m\u001b[0m\u001b[0m\n\u001b[0m\u001b[0;32m   1868\u001b[0m         \u001b[1;32massert\u001b[0m \u001b[0mself\u001b[0m\u001b[1;33m.\u001b[0m\u001b[0mhandles\u001b[0m \u001b[1;32mis\u001b[0m \u001b[1;32mnot\u001b[0m \u001b[1;32mNone\u001b[0m\u001b[1;33m\u001b[0m\u001b[1;33m\u001b[0m\u001b[0m\n\u001b[0;32m   1869\u001b[0m         \u001b[1;32mfor\u001b[0m \u001b[0mkey\u001b[0m \u001b[1;32min\u001b[0m \u001b[1;33m(\u001b[0m\u001b[1;34m\"storage_options\"\u001b[0m\u001b[1;33m,\u001b[0m \u001b[1;34m\"encoding\"\u001b[0m\u001b[1;33m,\u001b[0m \u001b[1;34m\"memory_map\"\u001b[0m\u001b[1;33m,\u001b[0m \u001b[1;34m\"compression\"\u001b[0m\u001b[1;33m)\u001b[0m\u001b[1;33m:\u001b[0m\u001b[1;33m\u001b[0m\u001b[1;33m\u001b[0m\u001b[0m\n",
      "\u001b[1;32m~\\.virtualenvs\\project-5NQxielR\\lib\\site-packages\\pandas\\io\\parsers.py\u001b[0m in \u001b[0;36m_open_handles\u001b[1;34m(self, src, kwds)\u001b[0m\n\u001b[0;32m   1366\u001b[0m             \u001b[0mcompression\u001b[0m\u001b[1;33m=\u001b[0m\u001b[0mkwds\u001b[0m\u001b[1;33m.\u001b[0m\u001b[0mget\u001b[0m\u001b[1;33m(\u001b[0m\u001b[1;34m\"compression\"\u001b[0m\u001b[1;33m,\u001b[0m \u001b[1;32mNone\u001b[0m\u001b[1;33m)\u001b[0m\u001b[1;33m,\u001b[0m\u001b[1;33m\u001b[0m\u001b[1;33m\u001b[0m\u001b[0m\n\u001b[0;32m   1367\u001b[0m             \u001b[0mmemory_map\u001b[0m\u001b[1;33m=\u001b[0m\u001b[0mkwds\u001b[0m\u001b[1;33m.\u001b[0m\u001b[0mget\u001b[0m\u001b[1;33m(\u001b[0m\u001b[1;34m\"memory_map\"\u001b[0m\u001b[1;33m,\u001b[0m \u001b[1;32mFalse\u001b[0m\u001b[1;33m)\u001b[0m\u001b[1;33m,\u001b[0m\u001b[1;33m\u001b[0m\u001b[1;33m\u001b[0m\u001b[0m\n\u001b[1;32m-> 1368\u001b[1;33m             \u001b[0mstorage_options\u001b[0m\u001b[1;33m=\u001b[0m\u001b[0mkwds\u001b[0m\u001b[1;33m.\u001b[0m\u001b[0mget\u001b[0m\u001b[1;33m(\u001b[0m\u001b[1;34m\"storage_options\"\u001b[0m\u001b[1;33m,\u001b[0m \u001b[1;32mNone\u001b[0m\u001b[1;33m)\u001b[0m\u001b[1;33m,\u001b[0m\u001b[1;33m\u001b[0m\u001b[1;33m\u001b[0m\u001b[0m\n\u001b[0m\u001b[0;32m   1369\u001b[0m         )\n\u001b[0;32m   1370\u001b[0m \u001b[1;33m\u001b[0m\u001b[0m\n",
      "\u001b[1;32m~\\.virtualenvs\\project-5NQxielR\\lib\\site-packages\\pandas\\io\\common.py\u001b[0m in \u001b[0;36mget_handle\u001b[1;34m(path_or_buf, mode, encoding, compression, memory_map, is_text, errors, storage_options)\u001b[0m\n\u001b[0;32m    645\u001b[0m                 \u001b[0mencoding\u001b[0m\u001b[1;33m=\u001b[0m\u001b[0mioargs\u001b[0m\u001b[1;33m.\u001b[0m\u001b[0mencoding\u001b[0m\u001b[1;33m,\u001b[0m\u001b[1;33m\u001b[0m\u001b[1;33m\u001b[0m\u001b[0m\n\u001b[0;32m    646\u001b[0m                 \u001b[0merrors\u001b[0m\u001b[1;33m=\u001b[0m\u001b[0merrors\u001b[0m\u001b[1;33m,\u001b[0m\u001b[1;33m\u001b[0m\u001b[1;33m\u001b[0m\u001b[0m\n\u001b[1;32m--> 647\u001b[1;33m                 \u001b[0mnewline\u001b[0m\u001b[1;33m=\u001b[0m\u001b[1;34m\"\"\u001b[0m\u001b[1;33m,\u001b[0m\u001b[1;33m\u001b[0m\u001b[1;33m\u001b[0m\u001b[0m\n\u001b[0m\u001b[0;32m    648\u001b[0m             )\n\u001b[0;32m    649\u001b[0m         \u001b[1;32melse\u001b[0m\u001b[1;33m:\u001b[0m\u001b[1;33m\u001b[0m\u001b[1;33m\u001b[0m\u001b[0m\n",
      "\u001b[1;31mFileNotFoundError\u001b[0m: [Errno 2] No such file or directory: 'set1\\\\set1\\\\mean_ratings_set1.csv'"
     ]
    }
   ],
   "source": [
    "set1 = pd.read_csv('set1\\set1\\mean_ratings_set1.csv').drop(['Unnamed: 10', 'Unnamed: 11'],axis=1)\n",
    "set1"
   ]
  },
  {
   "cell_type": "code",
   "execution_count": 38,
   "metadata": {},
   "outputs": [
    {
     "output_type": "execute_result",
     "data": {
      "text/plain": [
       "{'Number': 'target_number',\n",
       " 'valence': 'target_valence',\n",
       " 'energy': 'target_energy',\n",
       " 'tension': 'target_tension',\n",
       " 'anger': 'target_anger',\n",
       " 'fear': 'target_fear',\n",
       " 'happy': 'target_happy',\n",
       " 'sad': 'target_sad',\n",
       " 'tender': 'target_tender',\n",
       " 'TARGET': 'target_target'}"
      ]
     },
     "metadata": {},
     "execution_count": 38
    }
   ],
   "source": [
    "{x:'target_'+str.lower(x) for x in set1.columns} #for renaming target values"
   ]
  },
  {
   "cell_type": "code",
   "execution_count": 39,
   "metadata": {},
   "outputs": [
    {
     "output_type": "execute_result",
     "data": {
      "text/plain": [
       "     Number  valence  energy  tension  anger  fear  happy   sad  tender  \\\n",
       "0         1     2.56    7.73     8.38   6.39  4.40   1.21  1.75    1.01   \n",
       "1         2     2.50    8.21     8.56   5.76  5.93   1.09  1.60    1.10   \n",
       "2         3     2.92    8.21     8.17   6.31  4.06   1.31  1.55    1.01   \n",
       "3         4     2.88    6.75     7.98   5.42  4.51   1.19  2.10    1.06   \n",
       "4         5     3.08    6.83     7.50   6.13  4.24   1.07  2.96    1.07   \n",
       "..      ...      ...     ...      ...    ...   ...    ...   ...     ...   \n",
       "105     106     7.37    3.73     2.21   1.00  1.00   3.13  2.45    6.57   \n",
       "106     107     7.09    4.21     2.75   1.00  1.09   4.26  2.43    5.89   \n",
       "107     108     5.87    2.97     3.54   1.02  1.45   1.17  5.13    4.09   \n",
       "108     109     5.37    2.28     3.22   1.13  1.45   1.02  7.00    3.47   \n",
       "109     110     6.75    3.90     2.82   1.00  1.02   3.23  3.28    4.85   \n",
       "\n",
       "     beauty  liking            TARGET         Soundtrack  Index in Set 1  \n",
       "0      4.71    4.97        ANGER_HIGH    Lethal weapon 3             227  \n",
       "1      4.57    4.79        ANGER_HIGH      The Rainmaker             124  \n",
       "2      4.45    5.06        ANGER_HIGH  The Alien Trilogy             125  \n",
       "3      4.00    4.35        ANGER_HIGH          Cape Fear             168  \n",
       "4      5.08    5.35        ANGER_HIGH  The Fifth Element             239  \n",
       "..      ...     ...               ...                ...             ...  \n",
       "105    6.30    5.93  TENSION NEG HIGH    Lethal weapon 3             333  \n",
       "106    6.34    5.36  TENSION NEG HIGH      The Godfarher             191  \n",
       "107    6.38    5.94  TENSION NEG HIGH          Gladiator              45  \n",
       "108    6.72    6.08  TENSION NEG HIGH  Pride & Prejudice             278  \n",
       "109    6.13    5.52  TENSION NEG HIGH           Big Fish              16  \n",
       "\n",
       "[110 rows x 14 columns]"
      ],
      "text/html": "<div>\n<style scoped>\n    .dataframe tbody tr th:only-of-type {\n        vertical-align: middle;\n    }\n\n    .dataframe tbody tr th {\n        vertical-align: top;\n    }\n\n    .dataframe thead th {\n        text-align: right;\n    }\n</style>\n<table border=\"1\" class=\"dataframe\">\n  <thead>\n    <tr style=\"text-align: right;\">\n      <th></th>\n      <th>Number</th>\n      <th>valence</th>\n      <th>energy</th>\n      <th>tension</th>\n      <th>anger</th>\n      <th>fear</th>\n      <th>happy</th>\n      <th>sad</th>\n      <th>tender</th>\n      <th>beauty</th>\n      <th>liking</th>\n      <th>TARGET</th>\n      <th>Soundtrack</th>\n      <th>Index in Set 1</th>\n    </tr>\n  </thead>\n  <tbody>\n    <tr>\n      <th>0</th>\n      <td>1</td>\n      <td>2.56</td>\n      <td>7.73</td>\n      <td>8.38</td>\n      <td>6.39</td>\n      <td>4.40</td>\n      <td>1.21</td>\n      <td>1.75</td>\n      <td>1.01</td>\n      <td>4.71</td>\n      <td>4.97</td>\n      <td>ANGER_HIGH</td>\n      <td>Lethal weapon 3</td>\n      <td>227</td>\n    </tr>\n    <tr>\n      <th>1</th>\n      <td>2</td>\n      <td>2.50</td>\n      <td>8.21</td>\n      <td>8.56</td>\n      <td>5.76</td>\n      <td>5.93</td>\n      <td>1.09</td>\n      <td>1.60</td>\n      <td>1.10</td>\n      <td>4.57</td>\n      <td>4.79</td>\n      <td>ANGER_HIGH</td>\n      <td>The Rainmaker</td>\n      <td>124</td>\n    </tr>\n    <tr>\n      <th>2</th>\n      <td>3</td>\n      <td>2.92</td>\n      <td>8.21</td>\n      <td>8.17</td>\n      <td>6.31</td>\n      <td>4.06</td>\n      <td>1.31</td>\n      <td>1.55</td>\n      <td>1.01</td>\n      <td>4.45</td>\n      <td>5.06</td>\n      <td>ANGER_HIGH</td>\n      <td>The Alien Trilogy</td>\n      <td>125</td>\n    </tr>\n    <tr>\n      <th>3</th>\n      <td>4</td>\n      <td>2.88</td>\n      <td>6.75</td>\n      <td>7.98</td>\n      <td>5.42</td>\n      <td>4.51</td>\n      <td>1.19</td>\n      <td>2.10</td>\n      <td>1.06</td>\n      <td>4.00</td>\n      <td>4.35</td>\n      <td>ANGER_HIGH</td>\n      <td>Cape Fear</td>\n      <td>168</td>\n    </tr>\n    <tr>\n      <th>4</th>\n      <td>5</td>\n      <td>3.08</td>\n      <td>6.83</td>\n      <td>7.50</td>\n      <td>6.13</td>\n      <td>4.24</td>\n      <td>1.07</td>\n      <td>2.96</td>\n      <td>1.07</td>\n      <td>5.08</td>\n      <td>5.35</td>\n      <td>ANGER_HIGH</td>\n      <td>The Fifth Element</td>\n      <td>239</td>\n    </tr>\n    <tr>\n      <th>...</th>\n      <td>...</td>\n      <td>...</td>\n      <td>...</td>\n      <td>...</td>\n      <td>...</td>\n      <td>...</td>\n      <td>...</td>\n      <td>...</td>\n      <td>...</td>\n      <td>...</td>\n      <td>...</td>\n      <td>...</td>\n      <td>...</td>\n      <td>...</td>\n    </tr>\n    <tr>\n      <th>105</th>\n      <td>106</td>\n      <td>7.37</td>\n      <td>3.73</td>\n      <td>2.21</td>\n      <td>1.00</td>\n      <td>1.00</td>\n      <td>3.13</td>\n      <td>2.45</td>\n      <td>6.57</td>\n      <td>6.30</td>\n      <td>5.93</td>\n      <td>TENSION NEG HIGH</td>\n      <td>Lethal weapon 3</td>\n      <td>333</td>\n    </tr>\n    <tr>\n      <th>106</th>\n      <td>107</td>\n      <td>7.09</td>\n      <td>4.21</td>\n      <td>2.75</td>\n      <td>1.00</td>\n      <td>1.09</td>\n      <td>4.26</td>\n      <td>2.43</td>\n      <td>5.89</td>\n      <td>6.34</td>\n      <td>5.36</td>\n      <td>TENSION NEG HIGH</td>\n      <td>The Godfarher</td>\n      <td>191</td>\n    </tr>\n    <tr>\n      <th>107</th>\n      <td>108</td>\n      <td>5.87</td>\n      <td>2.97</td>\n      <td>3.54</td>\n      <td>1.02</td>\n      <td>1.45</td>\n      <td>1.17</td>\n      <td>5.13</td>\n      <td>4.09</td>\n      <td>6.38</td>\n      <td>5.94</td>\n      <td>TENSION NEG HIGH</td>\n      <td>Gladiator</td>\n      <td>45</td>\n    </tr>\n    <tr>\n      <th>108</th>\n      <td>109</td>\n      <td>5.37</td>\n      <td>2.28</td>\n      <td>3.22</td>\n      <td>1.13</td>\n      <td>1.45</td>\n      <td>1.02</td>\n      <td>7.00</td>\n      <td>3.47</td>\n      <td>6.72</td>\n      <td>6.08</td>\n      <td>TENSION NEG HIGH</td>\n      <td>Pride &amp; Prejudice</td>\n      <td>278</td>\n    </tr>\n    <tr>\n      <th>109</th>\n      <td>110</td>\n      <td>6.75</td>\n      <td>3.90</td>\n      <td>2.82</td>\n      <td>1.00</td>\n      <td>1.02</td>\n      <td>3.23</td>\n      <td>3.28</td>\n      <td>4.85</td>\n      <td>6.13</td>\n      <td>5.52</td>\n      <td>TENSION NEG HIGH</td>\n      <td>Big Fish</td>\n      <td>16</td>\n    </tr>\n  </tbody>\n</table>\n<p>110 rows × 14 columns</p>\n</div>"
     },
     "metadata": {},
     "execution_count": 39
    }
   ],
   "source": [
    "set2 = pd.read_csv('set2\\set2\\mean_ratings_set2.csv')\n",
    "set2"
   ]
  },
  {
   "cell_type": "code",
   "execution_count": 40,
   "metadata": {},
   "outputs": [
    {
     "output_type": "execute_result",
     "data": {
      "text/plain": [
       "0            ANGER_HIGH\n",
       "1            ANGER_HIGH\n",
       "2            ANGER_HIGH\n",
       "3            ANGER_HIGH\n",
       "4            ANGER_HIGH\n",
       "             ...       \n",
       "105    TENSION NEG HIGH\n",
       "106    TENSION NEG HIGH\n",
       "107    TENSION NEG HIGH\n",
       "108    TENSION NEG HIGH\n",
       "109    TENSION NEG HIGH\n",
       "Name: TARGET, Length: 110, dtype: object"
      ]
     },
     "metadata": {},
     "execution_count": 40
    }
   ],
   "source": [
    "set2['TARGET']"
   ]
  },
  {
   "cell_type": "code",
   "execution_count": 41,
   "metadata": {},
   "outputs": [
    {
     "output_type": "execute_result",
     "data": {
      "text/plain": [
       "   Number  valence  energy  tension  anger  fear  happy  sad  tender TARGET\n",
       "0       1     4.83    6.83     3.17    1.0   1.0   7.33  1.0     1.0  HAPPY"
      ],
      "text/html": "<div>\n<style scoped>\n    .dataframe tbody tr th:only-of-type {\n        vertical-align: middle;\n    }\n\n    .dataframe tbody tr th {\n        vertical-align: top;\n    }\n\n    .dataframe thead th {\n        text-align: right;\n    }\n</style>\n<table border=\"1\" class=\"dataframe\">\n  <thead>\n    <tr style=\"text-align: right;\">\n      <th></th>\n      <th>Number</th>\n      <th>valence</th>\n      <th>energy</th>\n      <th>tension</th>\n      <th>anger</th>\n      <th>fear</th>\n      <th>happy</th>\n      <th>sad</th>\n      <th>tender</th>\n      <th>TARGET</th>\n    </tr>\n  </thead>\n  <tbody>\n    <tr>\n      <th>0</th>\n      <td>1</td>\n      <td>4.83</td>\n      <td>6.83</td>\n      <td>3.17</td>\n      <td>1.0</td>\n      <td>1.0</td>\n      <td>7.33</td>\n      <td>1.0</td>\n      <td>1.0</td>\n      <td>HAPPY</td>\n    </tr>\n  </tbody>\n</table>\n</div>"
     },
     "metadata": {},
     "execution_count": 41
    }
   ],
   "source": [
    "set1[:1]"
   ]
  },
  {
   "cell_type": "code",
   "execution_count": 42,
   "metadata": {},
   "outputs": [
    {
     "output_type": "execute_result",
     "data": {
      "text/plain": [
       "array([  1,   3,   4,  10,  11,  16,  18,  20,  21,  22,  29,  30,  32,\n",
       "        36,  37,  39,  40,  45,  54,  58,  62,  79,  98, 104, 113, 114,\n",
       "       115, 117, 124, 125, 156, 157, 160, 162, 163, 168, 170, 173, 177,\n",
       "       178, 180, 187, 188, 189, 190, 191, 192, 204, 210, 215, 218, 219,\n",
       "       227, 230, 234, 237, 239, 240, 246, 250, 253, 260, 261, 262, 263,\n",
       "       265, 266, 269, 270, 273, 274, 276, 278, 280, 283, 288, 292, 293,\n",
       "       294, 295, 296, 297, 299, 306, 309, 313, 316, 320, 321, 325, 329,\n",
       "       331, 333, 334, 335, 340, 343, 346, 349, 353, 357, 360], dtype=int64)"
      ]
     },
     "metadata": {},
     "execution_count": 42
    }
   ],
   "source": [
    "set2['Index in Set 1'].sort_values().unique()"
   ]
  },
  {
   "cell_type": "code",
   "execution_count": 43,
   "metadata": {},
   "outputs": [
    {
     "output_type": "stream",
     "name": "stdout",
     "text": [
      "Extracting EDF parameters from c:\\Users\\Staro\\Desktop\\UCSD\\WI2021\\cogs189\\project\\sub-01\\eeg\\sub-01_task-run2_eeg.edf...\n",
      "EDF file detected\n",
      "Setting channel info structure...\n",
      "Creating raw.info structure...\n"
     ]
    },
    {
     "output_type": "execute_result",
     "data": {
      "text/plain": [
       "          time          FP1          FP2          F7          F3         Fz  \\\n",
       "0            0   247.085224   226.427986  243.400921   91.204983  55.539856   \n",
       "1            1   223.124495   217.253177  230.288985   87.282360  54.399233   \n",
       "2            2   179.695673   170.218461  222.421823   85.062414  47.222584   \n",
       "3            3   179.258889   176.187614  217.534647   75.923996  47.121620   \n",
       "4            4   191.114458   167.068075  230.479704   71.527210  48.106704   \n",
       "...        ...          ...          ...         ...         ...        ...   \n",
       "573995  573995  3285.730000  2285.620000  623.957000  930.323000  90.227900   \n",
       "573996  573996  3285.730000  2285.620000  623.957000  930.323000  90.227900   \n",
       "573997  573997  3285.730000  2285.620000  623.957000  930.323000  90.227900   \n",
       "573998  573998  3285.730000  2285.620000  623.957000  930.323000  90.227900   \n",
       "573999  573999  3285.730000  2285.620000  623.957000  930.323000  90.227900   \n",
       "\n",
       "                F4          F8          T3          C3          Cz  \\\n",
       "0        30.993496   63.836413  -68.204146   -4.810091 -104.638740   \n",
       "1        29.484103   62.622202  -57.124885   -3.891314 -104.026181   \n",
       "2        15.159111   39.324530  -38.992590    3.748147  -98.604148   \n",
       "3        16.625785   38.768017  -34.866422    0.600485  -98.619684   \n",
       "4        13.706676   35.783082  -32.053774    2.080737  -99.667248   \n",
       "...            ...         ...         ...         ...         ...   \n",
       "573995  416.800000  742.555000  442.170000  572.318000   27.130200   \n",
       "573996  416.800000  742.555000  442.170000  572.318000   27.130200   \n",
       "573997  416.800000  742.555000  442.170000  572.318000   27.130200   \n",
       "573998  416.800000  742.555000  442.170000  572.318000   27.130200   \n",
       "573999  416.800000  742.555000  442.170000  572.318000   27.130200   \n",
       "\n",
       "                C4          T4          T5          P3         Pz          P4  \\\n",
       "0       -25.194368   17.563380  -16.669192  -54.736701 -80.506690 -107.095388   \n",
       "1       -26.506049   17.346538  -26.118804  -53.851772 -79.859751 -106.698069   \n",
       "2       -26.024546   20.515767  -43.779133  -48.048959 -73.122966 -101.665362   \n",
       "3       -24.048723   24.352201  -47.422943  -48.302832 -75.577019 -102.460000   \n",
       "4       -25.194368   16.062166  -46.256924  -47.164029 -75.827168 -101.791495   \n",
       "...            ...         ...         ...         ...        ...         ...   \n",
       "573995  545.370000  608.391000  238.276000  267.392000  98.941100  214.960000   \n",
       "573996  545.370000  608.391000  238.276000  267.392000  98.941100  214.960000   \n",
       "573997  545.370000  608.391000  238.276000  267.392000  98.941100  214.960000   \n",
       "573998  545.370000  608.391000  238.276000  267.392000  98.941100  214.960000   \n",
       "573999  545.370000  608.391000  238.276000  267.392000  98.941100  214.960000   \n",
       "\n",
       "                T6          O1          O2  \n",
       "0      -113.935044  -22.240173  -24.044401  \n",
       "1      -119.452995  -21.425506  -25.461576  \n",
       "2      -113.615163  -19.448936  -17.671623  \n",
       "3      -116.374138  -19.422225  -20.596241  \n",
       "4      -116.294168  -20.797811  -21.760672  \n",
       "...            ...         ...         ...  \n",
       "573995  580.767000  429.927000  370.797000  \n",
       "573996  580.767000  429.927000  370.797000  \n",
       "573997  580.767000  429.927000  370.797000  \n",
       "573998  580.767000  429.927000  370.797000  \n",
       "573999  580.767000  429.927000  370.797000  \n",
       "\n",
       "[574000 rows x 20 columns]"
      ],
      "text/html": "<div>\n<style scoped>\n    .dataframe tbody tr th:only-of-type {\n        vertical-align: middle;\n    }\n\n    .dataframe tbody tr th {\n        vertical-align: top;\n    }\n\n    .dataframe thead th {\n        text-align: right;\n    }\n</style>\n<table border=\"1\" class=\"dataframe\">\n  <thead>\n    <tr style=\"text-align: right;\">\n      <th></th>\n      <th>time</th>\n      <th>FP1</th>\n      <th>FP2</th>\n      <th>F7</th>\n      <th>F3</th>\n      <th>Fz</th>\n      <th>F4</th>\n      <th>F8</th>\n      <th>T3</th>\n      <th>C3</th>\n      <th>Cz</th>\n      <th>C4</th>\n      <th>T4</th>\n      <th>T5</th>\n      <th>P3</th>\n      <th>Pz</th>\n      <th>P4</th>\n      <th>T6</th>\n      <th>O1</th>\n      <th>O2</th>\n    </tr>\n  </thead>\n  <tbody>\n    <tr>\n      <th>0</th>\n      <td>0</td>\n      <td>247.085224</td>\n      <td>226.427986</td>\n      <td>243.400921</td>\n      <td>91.204983</td>\n      <td>55.539856</td>\n      <td>30.993496</td>\n      <td>63.836413</td>\n      <td>-68.204146</td>\n      <td>-4.810091</td>\n      <td>-104.638740</td>\n      <td>-25.194368</td>\n      <td>17.563380</td>\n      <td>-16.669192</td>\n      <td>-54.736701</td>\n      <td>-80.506690</td>\n      <td>-107.095388</td>\n      <td>-113.935044</td>\n      <td>-22.240173</td>\n      <td>-24.044401</td>\n    </tr>\n    <tr>\n      <th>1</th>\n      <td>1</td>\n      <td>223.124495</td>\n      <td>217.253177</td>\n      <td>230.288985</td>\n      <td>87.282360</td>\n      <td>54.399233</td>\n      <td>29.484103</td>\n      <td>62.622202</td>\n      <td>-57.124885</td>\n      <td>-3.891314</td>\n      <td>-104.026181</td>\n      <td>-26.506049</td>\n      <td>17.346538</td>\n      <td>-26.118804</td>\n      <td>-53.851772</td>\n      <td>-79.859751</td>\n      <td>-106.698069</td>\n      <td>-119.452995</td>\n      <td>-21.425506</td>\n      <td>-25.461576</td>\n    </tr>\n    <tr>\n      <th>2</th>\n      <td>2</td>\n      <td>179.695673</td>\n      <td>170.218461</td>\n      <td>222.421823</td>\n      <td>85.062414</td>\n      <td>47.222584</td>\n      <td>15.159111</td>\n      <td>39.324530</td>\n      <td>-38.992590</td>\n      <td>3.748147</td>\n      <td>-98.604148</td>\n      <td>-26.024546</td>\n      <td>20.515767</td>\n      <td>-43.779133</td>\n      <td>-48.048959</td>\n      <td>-73.122966</td>\n      <td>-101.665362</td>\n      <td>-113.615163</td>\n      <td>-19.448936</td>\n      <td>-17.671623</td>\n    </tr>\n    <tr>\n      <th>3</th>\n      <td>3</td>\n      <td>179.258889</td>\n      <td>176.187614</td>\n      <td>217.534647</td>\n      <td>75.923996</td>\n      <td>47.121620</td>\n      <td>16.625785</td>\n      <td>38.768017</td>\n      <td>-34.866422</td>\n      <td>0.600485</td>\n      <td>-98.619684</td>\n      <td>-24.048723</td>\n      <td>24.352201</td>\n      <td>-47.422943</td>\n      <td>-48.302832</td>\n      <td>-75.577019</td>\n      <td>-102.460000</td>\n      <td>-116.374138</td>\n      <td>-19.422225</td>\n      <td>-20.596241</td>\n    </tr>\n    <tr>\n      <th>4</th>\n      <td>4</td>\n      <td>191.114458</td>\n      <td>167.068075</td>\n      <td>230.479704</td>\n      <td>71.527210</td>\n      <td>48.106704</td>\n      <td>13.706676</td>\n      <td>35.783082</td>\n      <td>-32.053774</td>\n      <td>2.080737</td>\n      <td>-99.667248</td>\n      <td>-25.194368</td>\n      <td>16.062166</td>\n      <td>-46.256924</td>\n      <td>-47.164029</td>\n      <td>-75.827168</td>\n      <td>-101.791495</td>\n      <td>-116.294168</td>\n      <td>-20.797811</td>\n      <td>-21.760672</td>\n    </tr>\n    <tr>\n      <th>...</th>\n      <td>...</td>\n      <td>...</td>\n      <td>...</td>\n      <td>...</td>\n      <td>...</td>\n      <td>...</td>\n      <td>...</td>\n      <td>...</td>\n      <td>...</td>\n      <td>...</td>\n      <td>...</td>\n      <td>...</td>\n      <td>...</td>\n      <td>...</td>\n      <td>...</td>\n      <td>...</td>\n      <td>...</td>\n      <td>...</td>\n      <td>...</td>\n      <td>...</td>\n    </tr>\n    <tr>\n      <th>573995</th>\n      <td>573995</td>\n      <td>3285.730000</td>\n      <td>2285.620000</td>\n      <td>623.957000</td>\n      <td>930.323000</td>\n      <td>90.227900</td>\n      <td>416.800000</td>\n      <td>742.555000</td>\n      <td>442.170000</td>\n      <td>572.318000</td>\n      <td>27.130200</td>\n      <td>545.370000</td>\n      <td>608.391000</td>\n      <td>238.276000</td>\n      <td>267.392000</td>\n      <td>98.941100</td>\n      <td>214.960000</td>\n      <td>580.767000</td>\n      <td>429.927000</td>\n      <td>370.797000</td>\n    </tr>\n    <tr>\n      <th>573996</th>\n      <td>573996</td>\n      <td>3285.730000</td>\n      <td>2285.620000</td>\n      <td>623.957000</td>\n      <td>930.323000</td>\n      <td>90.227900</td>\n      <td>416.800000</td>\n      <td>742.555000</td>\n      <td>442.170000</td>\n      <td>572.318000</td>\n      <td>27.130200</td>\n      <td>545.370000</td>\n      <td>608.391000</td>\n      <td>238.276000</td>\n      <td>267.392000</td>\n      <td>98.941100</td>\n      <td>214.960000</td>\n      <td>580.767000</td>\n      <td>429.927000</td>\n      <td>370.797000</td>\n    </tr>\n    <tr>\n      <th>573997</th>\n      <td>573997</td>\n      <td>3285.730000</td>\n      <td>2285.620000</td>\n      <td>623.957000</td>\n      <td>930.323000</td>\n      <td>90.227900</td>\n      <td>416.800000</td>\n      <td>742.555000</td>\n      <td>442.170000</td>\n      <td>572.318000</td>\n      <td>27.130200</td>\n      <td>545.370000</td>\n      <td>608.391000</td>\n      <td>238.276000</td>\n      <td>267.392000</td>\n      <td>98.941100</td>\n      <td>214.960000</td>\n      <td>580.767000</td>\n      <td>429.927000</td>\n      <td>370.797000</td>\n    </tr>\n    <tr>\n      <th>573998</th>\n      <td>573998</td>\n      <td>3285.730000</td>\n      <td>2285.620000</td>\n      <td>623.957000</td>\n      <td>930.323000</td>\n      <td>90.227900</td>\n      <td>416.800000</td>\n      <td>742.555000</td>\n      <td>442.170000</td>\n      <td>572.318000</td>\n      <td>27.130200</td>\n      <td>545.370000</td>\n      <td>608.391000</td>\n      <td>238.276000</td>\n      <td>267.392000</td>\n      <td>98.941100</td>\n      <td>214.960000</td>\n      <td>580.767000</td>\n      <td>429.927000</td>\n      <td>370.797000</td>\n    </tr>\n    <tr>\n      <th>573999</th>\n      <td>573999</td>\n      <td>3285.730000</td>\n      <td>2285.620000</td>\n      <td>623.957000</td>\n      <td>930.323000</td>\n      <td>90.227900</td>\n      <td>416.800000</td>\n      <td>742.555000</td>\n      <td>442.170000</td>\n      <td>572.318000</td>\n      <td>27.130200</td>\n      <td>545.370000</td>\n      <td>608.391000</td>\n      <td>238.276000</td>\n      <td>267.392000</td>\n      <td>98.941100</td>\n      <td>214.960000</td>\n      <td>580.767000</td>\n      <td>429.927000</td>\n      <td>370.797000</td>\n    </tr>\n  </tbody>\n</table>\n<p>574000 rows × 20 columns</p>\n</div>"
     },
     "metadata": {},
     "execution_count": 43
    }
   ],
   "source": [
    "record = get_recording(1,2)\n",
    "record"
   ]
  },
  {
   "source": [
    "http://www.imageemotion.org/machajdik_hanbury_affective_image_classification.pdf"
   ],
   "cell_type": "markdown",
   "metadata": {}
  },
  {
   "source": [
    "pad model is 3d, but youer not so interested. its an esoteric model based on strengh. you can throw hyperplanes divding them\n",
    "\n",
    "you oculd take saturation brightness and map the colors onto emotional coordinates and segmented their weights, those people did that.\n",
    "research on a datset with weights where you can look at pad to describe feeling. feelign and emotion are different, a lot of subjectivity. definition of feeling is an emotional feeling, a state of mind with relation to others. its ahrd to find out without a lot of data. mapping music to color\n",
    "\n",
    "mel spectograms,mel scale. music scales? some analysis on\n",
    "robert tumy\n",
    "dsc160 neural nets into classical music"
   ],
   "cell_type": "markdown",
   "metadata": {}
  },
  {
   "cell_type": "code",
   "execution_count": 44,
   "metadata": {},
   "outputs": [
    {
     "output_type": "execute_result",
     "data": {
      "text/plain": [
       "       onset  trial_type                            trial_name  \\\n",
       "0      2.449         263  artifact:50/60 Hz mains interference   \n",
       "1      2.689         786                       Cross on screen   \n",
       "2      2.817         257                          artifact:EOG   \n",
       "3      3.713         257                          artifact:EOG   \n",
       "4      5.689         788                          Music played   \n",
       "..       ...         ...                                   ...   \n",
       "710  563.203         807                           Question 08   \n",
       "711  563.303       32768                              not used   \n",
       "712  572.623         805                           Question 06   \n",
       "713  572.623         841                           Response 09   \n",
       "714  572.823       32768                              not used   \n",
       "\n",
       "                                            trial_desc  \\\n",
       "0                 artifact:50/60 Hz mains interference   \n",
       "1                   Fixation cross displayed on screen   \n",
       "2         artifact:EOG (blinks, fast, large amplitude)   \n",
       "3         artifact:EOG (blinks, fast, large amplitude)   \n",
       "4                                  Start of music play   \n",
       "..                                                 ...   \n",
       "710  Question 08 presented to user (The music made ...   \n",
       "711                                           not used   \n",
       "712  Question 06 presented to user (The music made ...   \n",
       "713  Response 09 - The user selected 09 as their re...   \n",
       "714                                           not used   \n",
       "\n",
       "                       trial_desc_cleaned  song_clip  \n",
       "0    artifact:50/60 Hz mains interference         -1  \n",
       "1      Fixation cross displayed on screen         -1  \n",
       "2           blinks, fast, large amplitude         -1  \n",
       "3           blinks, fast, large amplitude         -1  \n",
       "4                     Start of music play         62  \n",
       "..                                    ...        ...  \n",
       "710                                tender        176  \n",
       "711                              not used        176  \n",
       "712                                 happy        176  \n",
       "713                           Response 09        176  \n",
       "714                              not used        176  \n",
       "\n",
       "[715 rows x 6 columns]"
      ],
      "text/html": "<div>\n<style scoped>\n    .dataframe tbody tr th:only-of-type {\n        vertical-align: middle;\n    }\n\n    .dataframe tbody tr th {\n        vertical-align: top;\n    }\n\n    .dataframe thead th {\n        text-align: right;\n    }\n</style>\n<table border=\"1\" class=\"dataframe\">\n  <thead>\n    <tr style=\"text-align: right;\">\n      <th></th>\n      <th>onset</th>\n      <th>trial_type</th>\n      <th>trial_name</th>\n      <th>trial_desc</th>\n      <th>trial_desc_cleaned</th>\n      <th>song_clip</th>\n    </tr>\n  </thead>\n  <tbody>\n    <tr>\n      <th>0</th>\n      <td>2.449</td>\n      <td>263</td>\n      <td>artifact:50/60 Hz mains interference</td>\n      <td>artifact:50/60 Hz mains interference</td>\n      <td>artifact:50/60 Hz mains interference</td>\n      <td>-1</td>\n    </tr>\n    <tr>\n      <th>1</th>\n      <td>2.689</td>\n      <td>786</td>\n      <td>Cross on screen</td>\n      <td>Fixation cross displayed on screen</td>\n      <td>Fixation cross displayed on screen</td>\n      <td>-1</td>\n    </tr>\n    <tr>\n      <th>2</th>\n      <td>2.817</td>\n      <td>257</td>\n      <td>artifact:EOG</td>\n      <td>artifact:EOG (blinks, fast, large amplitude)</td>\n      <td>blinks, fast, large amplitude</td>\n      <td>-1</td>\n    </tr>\n    <tr>\n      <th>3</th>\n      <td>3.713</td>\n      <td>257</td>\n      <td>artifact:EOG</td>\n      <td>artifact:EOG (blinks, fast, large amplitude)</td>\n      <td>blinks, fast, large amplitude</td>\n      <td>-1</td>\n    </tr>\n    <tr>\n      <th>4</th>\n      <td>5.689</td>\n      <td>788</td>\n      <td>Music played</td>\n      <td>Start of music play</td>\n      <td>Start of music play</td>\n      <td>62</td>\n    </tr>\n    <tr>\n      <th>...</th>\n      <td>...</td>\n      <td>...</td>\n      <td>...</td>\n      <td>...</td>\n      <td>...</td>\n      <td>...</td>\n    </tr>\n    <tr>\n      <th>710</th>\n      <td>563.203</td>\n      <td>807</td>\n      <td>Question 08</td>\n      <td>Question 08 presented to user (The music made ...</td>\n      <td>tender</td>\n      <td>176</td>\n    </tr>\n    <tr>\n      <th>711</th>\n      <td>563.303</td>\n      <td>32768</td>\n      <td>not used</td>\n      <td>not used</td>\n      <td>not used</td>\n      <td>176</td>\n    </tr>\n    <tr>\n      <th>712</th>\n      <td>572.623</td>\n      <td>805</td>\n      <td>Question 06</td>\n      <td>Question 06 presented to user (The music made ...</td>\n      <td>happy</td>\n      <td>176</td>\n    </tr>\n    <tr>\n      <th>713</th>\n      <td>572.623</td>\n      <td>841</td>\n      <td>Response 09</td>\n      <td>Response 09 - The user selected 09 as their re...</td>\n      <td>Response 09</td>\n      <td>176</td>\n    </tr>\n    <tr>\n      <th>714</th>\n      <td>572.823</td>\n      <td>32768</td>\n      <td>not used</td>\n      <td>not used</td>\n      <td>not used</td>\n      <td>176</td>\n    </tr>\n  </tbody>\n</table>\n<p>715 rows × 6 columns</p>\n</div>"
     },
     "metadata": {},
     "execution_count": 44
    }
   ],
   "source": [
    "events = get_events(1,2)\n",
    "events"
   ]
  },
  {
   "cell_type": "code",
   "execution_count": null,
   "metadata": {},
   "outputs": [],
   "source": []
  }
 ]
}