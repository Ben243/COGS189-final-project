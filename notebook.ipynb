{
 "metadata": {
  "language_info": {
   "codemirror_mode": {
    "name": "ipython",
    "version": 3
   },
   "file_extension": ".py",
   "mimetype": "text/x-python",
   "name": "python",
   "nbconvert_exporter": "python",
   "pygments_lexer": "ipython3",
   "version": "3.7.4-final"
  },
  "orig_nbformat": 2,
  "kernelspec": {
   "name": "python3",
   "display_name": "Python 3.7.4 64-bit ('project': pipenv)",
   "metadata": {
    "interpreter": {
     "hash": "19d1e599bcc2b9b3d0ce18f2d04a436772edd8468821bde30145bd8446380c1c"
    }
   }
  }
 },
 "nbformat": 4,
 "nbformat_minor": 2,
 "cells": [
  {
   "cell_type": "code",
   "execution_count": 1,
   "metadata": {},
   "outputs": [],
   "source": [
    "# 10 songs for each of 4 trials for each of 31 subjects = total of 1240 playings\n",
    "# 12 target classes: HAPPY, LOW VALENCE, LOW TENSION, LOW ENERGY, HIGH ENERGY, SURPRISE, FEAR, TENDER, ANGER, SAD, HIGH VALENCE, HIGH TENSION\n",
    "# ? Unknown how many playings fall under each target"
   ]
  },
  {
   "cell_type": "code",
   "execution_count": 2,
   "metadata": {},
   "outputs": [],
   "source": [
    "import mne # package for reading edf data\n",
    "import numpy as np\n",
    "import pandas as pd\n",
    "import json\n",
    "import matplotlib.pyplot as plt\n",
    "from scipy.signal import butter, sosfiltfilt, sosfreqz  \n",
    "\n",
    "from data_tools import * # i made all the functions into a python file"
   ]
  },
  {
   "cell_type": "code",
   "execution_count": 3,
   "metadata": {},
   "outputs": [
    {
     "output_type": "stream",
     "name": "stdout",
     "text": [
      "Extracting EDF parameters from c:\\Users\\Staro\\Documents\\GitHub\\COGS189-final-project\\data\\sub-02\\eeg\\sub-02_task-run3_eeg.edf...\n",
      "EDF file detected\n",
      "Setting channel info structure...\n",
      "Creating raw.info structure...\n",
      "c:\\Users\\Staro\\Documents\\GitHub\\COGS189-final-project\\data_tools.py:17: RuntimeWarning: Invalid date encountered (2014-00-00 00:00:00).\n",
      "  data = mne.io.read_raw_edf(file)\n"
     ]
    },
    {
     "output_type": "execute_result",
     "data": {
      "text/plain": [
       "   time  song_clip         FP1         FP2         F7         F3         Fz  \\\n",
       "0  6703         29 -149.623601 -111.775574  49.314735  -1.279259 -65.707514   \n",
       "1  6704         29 -173.877896 -116.794177  33.418188  -1.556187 -69.779909   \n",
       "2  6705         29 -175.805390 -118.389954  64.473467  -7.593208 -69.412832   \n",
       "3  6706         29 -170.906344 -119.754459  54.479436  -3.910071 -68.782323   \n",
       "4  6707         29 -162.594027 -116.215997  87.748158 -12.411747 -72.142157   \n",
       "\n",
       "          F4         F8         T3  ...         T4         T5         P3  \\\n",
       "0 -49.011326 -12.416786  10.371734  ...   9.759761 -35.782211 -16.815982   \n",
       "1 -51.001599 -13.867926  31.866286  ...  12.467998 -16.045504  -4.362878   \n",
       "2 -52.480088 -16.696420  13.820617  ...   9.736810  -9.136154   3.951592   \n",
       "3 -53.006089 -20.090613  -8.301004  ...   4.871165  -7.288654   6.899788   \n",
       "4 -50.020679 -13.720352  21.206103  ...  10.517150  -4.494874   3.421475   \n",
       "\n",
       "          Pz         P4         T6          O1        O2  Number  TARGET  \n",
       "0   8.581891  72.525610  49.671773  102.469989 -2.850259      29   HAPPY  \n",
       "1  12.894548  76.087524  50.927955  112.681901  2.977428      29   HAPPY  \n",
       "2  12.663714  72.600796  39.190897  109.743665 -2.839427      29   HAPPY  \n",
       "3  14.493496  71.651578  32.960740  111.808649 -2.427806      29   HAPPY  \n",
       "4  13.761583  74.085710  37.845894  114.674970  1.200959      29   HAPPY  \n",
       "\n",
       "[5 rows x 23 columns]"
      ],
      "text/html": "<div>\n<style scoped>\n    .dataframe tbody tr th:only-of-type {\n        vertical-align: middle;\n    }\n\n    .dataframe tbody tr th {\n        vertical-align: top;\n    }\n\n    .dataframe thead th {\n        text-align: right;\n    }\n</style>\n<table border=\"1\" class=\"dataframe\">\n  <thead>\n    <tr style=\"text-align: right;\">\n      <th></th>\n      <th>time</th>\n      <th>song_clip</th>\n      <th>FP1</th>\n      <th>FP2</th>\n      <th>F7</th>\n      <th>F3</th>\n      <th>Fz</th>\n      <th>F4</th>\n      <th>F8</th>\n      <th>T3</th>\n      <th>...</th>\n      <th>T4</th>\n      <th>T5</th>\n      <th>P3</th>\n      <th>Pz</th>\n      <th>P4</th>\n      <th>T6</th>\n      <th>O1</th>\n      <th>O2</th>\n      <th>Number</th>\n      <th>TARGET</th>\n    </tr>\n  </thead>\n  <tbody>\n    <tr>\n      <th>0</th>\n      <td>6703</td>\n      <td>29</td>\n      <td>-149.623601</td>\n      <td>-111.775574</td>\n      <td>49.314735</td>\n      <td>-1.279259</td>\n      <td>-65.707514</td>\n      <td>-49.011326</td>\n      <td>-12.416786</td>\n      <td>10.371734</td>\n      <td>...</td>\n      <td>9.759761</td>\n      <td>-35.782211</td>\n      <td>-16.815982</td>\n      <td>8.581891</td>\n      <td>72.525610</td>\n      <td>49.671773</td>\n      <td>102.469989</td>\n      <td>-2.850259</td>\n      <td>29</td>\n      <td>HAPPY</td>\n    </tr>\n    <tr>\n      <th>1</th>\n      <td>6704</td>\n      <td>29</td>\n      <td>-173.877896</td>\n      <td>-116.794177</td>\n      <td>33.418188</td>\n      <td>-1.556187</td>\n      <td>-69.779909</td>\n      <td>-51.001599</td>\n      <td>-13.867926</td>\n      <td>31.866286</td>\n      <td>...</td>\n      <td>12.467998</td>\n      <td>-16.045504</td>\n      <td>-4.362878</td>\n      <td>12.894548</td>\n      <td>76.087524</td>\n      <td>50.927955</td>\n      <td>112.681901</td>\n      <td>2.977428</td>\n      <td>29</td>\n      <td>HAPPY</td>\n    </tr>\n    <tr>\n      <th>2</th>\n      <td>6705</td>\n      <td>29</td>\n      <td>-175.805390</td>\n      <td>-118.389954</td>\n      <td>64.473467</td>\n      <td>-7.593208</td>\n      <td>-69.412832</td>\n      <td>-52.480088</td>\n      <td>-16.696420</td>\n      <td>13.820617</td>\n      <td>...</td>\n      <td>9.736810</td>\n      <td>-9.136154</td>\n      <td>3.951592</td>\n      <td>12.663714</td>\n      <td>72.600796</td>\n      <td>39.190897</td>\n      <td>109.743665</td>\n      <td>-2.839427</td>\n      <td>29</td>\n      <td>HAPPY</td>\n    </tr>\n    <tr>\n      <th>3</th>\n      <td>6706</td>\n      <td>29</td>\n      <td>-170.906344</td>\n      <td>-119.754459</td>\n      <td>54.479436</td>\n      <td>-3.910071</td>\n      <td>-68.782323</td>\n      <td>-53.006089</td>\n      <td>-20.090613</td>\n      <td>-8.301004</td>\n      <td>...</td>\n      <td>4.871165</td>\n      <td>-7.288654</td>\n      <td>6.899788</td>\n      <td>14.493496</td>\n      <td>71.651578</td>\n      <td>32.960740</td>\n      <td>111.808649</td>\n      <td>-2.427806</td>\n      <td>29</td>\n      <td>HAPPY</td>\n    </tr>\n    <tr>\n      <th>4</th>\n      <td>6707</td>\n      <td>29</td>\n      <td>-162.594027</td>\n      <td>-116.215997</td>\n      <td>87.748158</td>\n      <td>-12.411747</td>\n      <td>-72.142157</td>\n      <td>-50.020679</td>\n      <td>-13.720352</td>\n      <td>21.206103</td>\n      <td>...</td>\n      <td>10.517150</td>\n      <td>-4.494874</td>\n      <td>3.421475</td>\n      <td>13.761583</td>\n      <td>74.085710</td>\n      <td>37.845894</td>\n      <td>114.674970</td>\n      <td>1.200959</td>\n      <td>29</td>\n      <td>HAPPY</td>\n    </tr>\n  </tbody>\n</table>\n<p>5 rows × 23 columns</p>\n</div>"
     },
     "metadata": {},
     "execution_count": 3
    }
   ],
   "source": [
    "df = get_recording_events(2,3) # you can now run the functions here\n",
    "df.head() # gets the head of the dataframe"
   ]
  },
  {
   "source": [
    "this is an example of what will be in the labels list"
   ],
   "cell_type": "markdown",
   "metadata": {}
  },
  {
   "cell_type": "code",
   "execution_count": 4,
   "metadata": {},
   "outputs": [
    {
     "output_type": "execute_result",
     "data": {
      "text/plain": [
       "['HAPPY',\n",
       " 'FEAR',\n",
       " 'ANGER',\n",
       " 'SAD',\n",
       " 'SURPRISE',\n",
       " 'HIGH VALENCE',\n",
       " 'SAD',\n",
       " 'HIGH VALENCE',\n",
       " 'SAD',\n",
       " 'SURPRISE']"
      ]
     },
     "metadata": {},
     "execution_count": 4
    }
   ],
   "source": [
    "df.groupby('song_clip').head(1).TARGET.to_list()"
   ]
  },
  {
   "source": [
    "This is an example of what will be in the lists (one item in the recordings list). If you wish to keep the time column, remove it from the drop columns list\n",
    "it actually isnt always 16000 columns, sometimes for whatever reason the last one of 10 cuts off early for reasons unknown."
   ],
   "cell_type": "markdown",
   "metadata": {}
  },
  {
   "cell_type": "code",
   "execution_count": 5,
   "metadata": {
    "tags": []
   },
   "outputs": [
    {
     "output_type": "execute_result",
     "data": {
      "text/plain": [
       "              FP1         FP2         F7          F3         Fz         F4  \\\n",
       "0     -149.623601 -111.775574  49.314735   -1.279259 -65.707514 -49.011326   \n",
       "1     -173.877896 -116.794177  33.418188   -1.556187 -69.779909 -51.001599   \n",
       "2     -175.805390 -118.389954  64.473467   -7.593208 -69.412832 -52.480088   \n",
       "3     -170.906344 -119.754459  54.479436   -3.910071 -68.782323 -53.006089   \n",
       "4     -162.594027 -116.215997  87.748158  -12.411747 -72.142157 -50.020679   \n",
       "...           ...         ...        ...         ...        ...        ...   \n",
       "15996 -246.118752  -71.002319 -68.266054  -88.566823  -9.384956  -2.481576   \n",
       "15997 -243.147199  -67.764510 -65.784314  -91.696104  -7.847552   0.247942   \n",
       "15998 -236.400971  -61.473912 -61.089132 -105.459403  -3.969492   1.484755   \n",
       "15999 -238.248153  -61.867074 -58.808614  -96.902342  -4.798654   2.167134   \n",
       "16000 -241.540954  -63.300961 -58.674466  -86.323710  -7.597076   2.010755   \n",
       "\n",
       "              F8         T3         C3         Cz         C4         T4  \\\n",
       "0     -12.416786  10.371734 -32.831533 -28.469000 -12.807568   9.759761   \n",
       "1     -13.867926  31.866286 -24.871664 -25.202006 -11.848305  12.467998   \n",
       "2     -16.696420  13.820617  -5.290389 -25.539442 -15.896393   9.736810   \n",
       "3     -20.090613  -8.301004   1.594897 -25.505698 -18.966032   4.871165   \n",
       "4     -13.720352  21.206103 -17.349589 -25.766444 -14.610981  10.517150   \n",
       "...          ...        ...        ...        ...        ...        ...   \n",
       "15996 -35.143119 -33.627648 -80.909136 -21.091422 -37.000165  17.976275   \n",
       "15997 -32.708155 -32.547695 -83.615492 -22.468774 -38.189650  15.956573   \n",
       "15998 -28.600690 -30.736161 -84.610475 -21.839916 -37.901871  11.595854   \n",
       "15999 -27.493888 -31.676765 -80.391745 -20.373604 -39.264024  14.900820   \n",
       "16000 -23.042085 -36.031415 -75.934219 -20.993259 -40.376768  22.382897   \n",
       "\n",
       "              T5         P3         Pz         P4         T6          O1  \\\n",
       "0     -35.782211 -16.815982   8.581891  72.525610  49.671773  102.469989   \n",
       "1     -16.045504  -4.362878  12.894548  76.087524  50.927955  112.681901   \n",
       "2      -9.136154   3.951592  12.663714  72.600796  39.190897  109.743665   \n",
       "3      -7.288654   6.899788  14.493496  71.651578  32.960740  111.808649   \n",
       "4      -4.494874   3.421475  13.761583  74.085710  37.845894  114.674970   \n",
       "...          ...        ...        ...        ...        ...         ...   \n",
       "15996 -37.900077 -38.746095   7.382679  61.454542  -5.194215   76.097780   \n",
       "15997 -39.056642 -39.899332   7.804937  62.206397  -1.501800   74.001975   \n",
       "15998 -35.586947 -36.662827   7.652924  63.578533  -2.757982   86.124767   \n",
       "15999 -33.499122 -33.435622  10.715699  64.264601  -2.757982   92.422455   \n",
       "16000 -25.958919 -29.008679  12.793206  62.337972  -4.953129   92.740935   \n",
       "\n",
       "              O2  \n",
       "0      -2.850259  \n",
       "1       2.977428  \n",
       "2      -2.839427  \n",
       "3      -2.427806  \n",
       "4       1.200959  \n",
       "...          ...  \n",
       "15996 -10.216109  \n",
       "15997  -4.648393  \n",
       "15998   2.825779  \n",
       "15999   3.248232  \n",
       "16000  -1.723717  \n",
       "\n",
       "[16001 rows x 19 columns]"
      ],
      "text/html": "<div>\n<style scoped>\n    .dataframe tbody tr th:only-of-type {\n        vertical-align: middle;\n    }\n\n    .dataframe tbody tr th {\n        vertical-align: top;\n    }\n\n    .dataframe thead th {\n        text-align: right;\n    }\n</style>\n<table border=\"1\" class=\"dataframe\">\n  <thead>\n    <tr style=\"text-align: right;\">\n      <th></th>\n      <th>FP1</th>\n      <th>FP2</th>\n      <th>F7</th>\n      <th>F3</th>\n      <th>Fz</th>\n      <th>F4</th>\n      <th>F8</th>\n      <th>T3</th>\n      <th>C3</th>\n      <th>Cz</th>\n      <th>C4</th>\n      <th>T4</th>\n      <th>T5</th>\n      <th>P3</th>\n      <th>Pz</th>\n      <th>P4</th>\n      <th>T6</th>\n      <th>O1</th>\n      <th>O2</th>\n    </tr>\n  </thead>\n  <tbody>\n    <tr>\n      <th>0</th>\n      <td>-149.623601</td>\n      <td>-111.775574</td>\n      <td>49.314735</td>\n      <td>-1.279259</td>\n      <td>-65.707514</td>\n      <td>-49.011326</td>\n      <td>-12.416786</td>\n      <td>10.371734</td>\n      <td>-32.831533</td>\n      <td>-28.469000</td>\n      <td>-12.807568</td>\n      <td>9.759761</td>\n      <td>-35.782211</td>\n      <td>-16.815982</td>\n      <td>8.581891</td>\n      <td>72.525610</td>\n      <td>49.671773</td>\n      <td>102.469989</td>\n      <td>-2.850259</td>\n    </tr>\n    <tr>\n      <th>1</th>\n      <td>-173.877896</td>\n      <td>-116.794177</td>\n      <td>33.418188</td>\n      <td>-1.556187</td>\n      <td>-69.779909</td>\n      <td>-51.001599</td>\n      <td>-13.867926</td>\n      <td>31.866286</td>\n      <td>-24.871664</td>\n      <td>-25.202006</td>\n      <td>-11.848305</td>\n      <td>12.467998</td>\n      <td>-16.045504</td>\n      <td>-4.362878</td>\n      <td>12.894548</td>\n      <td>76.087524</td>\n      <td>50.927955</td>\n      <td>112.681901</td>\n      <td>2.977428</td>\n    </tr>\n    <tr>\n      <th>2</th>\n      <td>-175.805390</td>\n      <td>-118.389954</td>\n      <td>64.473467</td>\n      <td>-7.593208</td>\n      <td>-69.412832</td>\n      <td>-52.480088</td>\n      <td>-16.696420</td>\n      <td>13.820617</td>\n      <td>-5.290389</td>\n      <td>-25.539442</td>\n      <td>-15.896393</td>\n      <td>9.736810</td>\n      <td>-9.136154</td>\n      <td>3.951592</td>\n      <td>12.663714</td>\n      <td>72.600796</td>\n      <td>39.190897</td>\n      <td>109.743665</td>\n      <td>-2.839427</td>\n    </tr>\n    <tr>\n      <th>3</th>\n      <td>-170.906344</td>\n      <td>-119.754459</td>\n      <td>54.479436</td>\n      <td>-3.910071</td>\n      <td>-68.782323</td>\n      <td>-53.006089</td>\n      <td>-20.090613</td>\n      <td>-8.301004</td>\n      <td>1.594897</td>\n      <td>-25.505698</td>\n      <td>-18.966032</td>\n      <td>4.871165</td>\n      <td>-7.288654</td>\n      <td>6.899788</td>\n      <td>14.493496</td>\n      <td>71.651578</td>\n      <td>32.960740</td>\n      <td>111.808649</td>\n      <td>-2.427806</td>\n    </tr>\n    <tr>\n      <th>4</th>\n      <td>-162.594027</td>\n      <td>-116.215997</td>\n      <td>87.748158</td>\n      <td>-12.411747</td>\n      <td>-72.142157</td>\n      <td>-50.020679</td>\n      <td>-13.720352</td>\n      <td>21.206103</td>\n      <td>-17.349589</td>\n      <td>-25.766444</td>\n      <td>-14.610981</td>\n      <td>10.517150</td>\n      <td>-4.494874</td>\n      <td>3.421475</td>\n      <td>13.761583</td>\n      <td>74.085710</td>\n      <td>37.845894</td>\n      <td>114.674970</td>\n      <td>1.200959</td>\n    </tr>\n    <tr>\n      <th>...</th>\n      <td>...</td>\n      <td>...</td>\n      <td>...</td>\n      <td>...</td>\n      <td>...</td>\n      <td>...</td>\n      <td>...</td>\n      <td>...</td>\n      <td>...</td>\n      <td>...</td>\n      <td>...</td>\n      <td>...</td>\n      <td>...</td>\n      <td>...</td>\n      <td>...</td>\n      <td>...</td>\n      <td>...</td>\n      <td>...</td>\n      <td>...</td>\n    </tr>\n    <tr>\n      <th>15996</th>\n      <td>-246.118752</td>\n      <td>-71.002319</td>\n      <td>-68.266054</td>\n      <td>-88.566823</td>\n      <td>-9.384956</td>\n      <td>-2.481576</td>\n      <td>-35.143119</td>\n      <td>-33.627648</td>\n      <td>-80.909136</td>\n      <td>-21.091422</td>\n      <td>-37.000165</td>\n      <td>17.976275</td>\n      <td>-37.900077</td>\n      <td>-38.746095</td>\n      <td>7.382679</td>\n      <td>61.454542</td>\n      <td>-5.194215</td>\n      <td>76.097780</td>\n      <td>-10.216109</td>\n    </tr>\n    <tr>\n      <th>15997</th>\n      <td>-243.147199</td>\n      <td>-67.764510</td>\n      <td>-65.784314</td>\n      <td>-91.696104</td>\n      <td>-7.847552</td>\n      <td>0.247942</td>\n      <td>-32.708155</td>\n      <td>-32.547695</td>\n      <td>-83.615492</td>\n      <td>-22.468774</td>\n      <td>-38.189650</td>\n      <td>15.956573</td>\n      <td>-39.056642</td>\n      <td>-39.899332</td>\n      <td>7.804937</td>\n      <td>62.206397</td>\n      <td>-1.501800</td>\n      <td>74.001975</td>\n      <td>-4.648393</td>\n    </tr>\n    <tr>\n      <th>15998</th>\n      <td>-236.400971</td>\n      <td>-61.473912</td>\n      <td>-61.089132</td>\n      <td>-105.459403</td>\n      <td>-3.969492</td>\n      <td>1.484755</td>\n      <td>-28.600690</td>\n      <td>-30.736161</td>\n      <td>-84.610475</td>\n      <td>-21.839916</td>\n      <td>-37.901871</td>\n      <td>11.595854</td>\n      <td>-35.586947</td>\n      <td>-36.662827</td>\n      <td>7.652924</td>\n      <td>63.578533</td>\n      <td>-2.757982</td>\n      <td>86.124767</td>\n      <td>2.825779</td>\n    </tr>\n    <tr>\n      <th>15999</th>\n      <td>-238.248153</td>\n      <td>-61.867074</td>\n      <td>-58.808614</td>\n      <td>-96.902342</td>\n      <td>-4.798654</td>\n      <td>2.167134</td>\n      <td>-27.493888</td>\n      <td>-31.676765</td>\n      <td>-80.391745</td>\n      <td>-20.373604</td>\n      <td>-39.264024</td>\n      <td>14.900820</td>\n      <td>-33.499122</td>\n      <td>-33.435622</td>\n      <td>10.715699</td>\n      <td>64.264601</td>\n      <td>-2.757982</td>\n      <td>92.422455</td>\n      <td>3.248232</td>\n    </tr>\n    <tr>\n      <th>16000</th>\n      <td>-241.540954</td>\n      <td>-63.300961</td>\n      <td>-58.674466</td>\n      <td>-86.323710</td>\n      <td>-7.597076</td>\n      <td>2.010755</td>\n      <td>-23.042085</td>\n      <td>-36.031415</td>\n      <td>-75.934219</td>\n      <td>-20.993259</td>\n      <td>-40.376768</td>\n      <td>22.382897</td>\n      <td>-25.958919</td>\n      <td>-29.008679</td>\n      <td>12.793206</td>\n      <td>62.337972</td>\n      <td>-4.953129</td>\n      <td>92.740935</td>\n      <td>-1.723717</td>\n    </tr>\n  </tbody>\n</table>\n<p>16001 rows × 19 columns</p>\n</div>"
     },
     "metadata": {},
     "execution_count": 5
    }
   ],
   "source": [
    "\n",
    "# df.song_clip.unique()\n",
    "df[df.song_clip==29].drop(columns=['song_clip','Number','TARGET','time'])"
   ]
  },
  {
   "cell_type": "code",
   "execution_count": 6,
   "metadata": {},
   "outputs": [],
   "source": [
    "fs = 240.0                      # Hz; sampling rate\n",
    "dt = 1000/fs                    # ms; time between samples\n",
    "sdt = np.round(dt).astype(int); # rounded dt so that we can index samples\n",
    "hp = 0.1                        # Hz; our low cut for our bandpass\n",
    "lp = 30.                        # Hz; our high cut for our bandpass\n",
    "order = 3                       # filter order (functionally doubled)\n",
    "\n",
    "# Create our filter coefficient as as a second-order section\n",
    "# Note: by defining 'fs' we don't divide our windows by the Nyquist\n",
    "sos = butter(order, [hp, lp], analog = False, btype = 'band', output = 'sos', fs = fs)"
   ]
  },
  {
   "cell_type": "code",
   "execution_count": 23,
   "metadata": {
    "tags": []
   },
   "outputs": [
    {
     "output_type": "stream",
     "name": "stdout",
     "text": [
      "Extracting EDF parameters from c:\\Users\\Staro\\Documents\\GitHub\\COGS189-final-project\\data\\sub-01\\eeg\\sub-01_task-run2_eeg.edf...\n",
      "EDF file detected\n",
      "Setting channel info structure...\n",
      "Creating raw.info structure...\n",
      "c:\\Users\\Staro\\Documents\\GitHub\\COGS189-final-project\\data_tools.py:17: RuntimeWarning: Invalid date encountered (2014-00-00 00:00:00).\n",
      "  data = mne.io.read_raw_edf(file)\n",
      "Extracting EDF parameters from c:\\Users\\Staro\\Documents\\GitHub\\COGS189-final-project\\data\\sub-01\\eeg\\sub-01_task-run3_eeg.edf...\n",
      "EDF file detected\n",
      "Setting channel info structure...\n",
      "Creating raw.info structure...\n",
      "c:\\Users\\Staro\\Documents\\GitHub\\COGS189-final-project\\data_tools.py:17: RuntimeWarning: Invalid date encountered (2014-00-00 00:00:00).\n",
      "  data = mne.io.read_raw_edf(file)\n",
      "Extracting EDF parameters from c:\\Users\\Staro\\Documents\\GitHub\\COGS189-final-project\\data\\sub-01\\eeg\\sub-01_task-run4_eeg.edf...\n",
      "EDF file detected\n",
      "Setting channel info structure...\n",
      "Creating raw.info structure...\n",
      "c:\\Users\\Staro\\Documents\\GitHub\\COGS189-final-project\\data_tools.py:17: RuntimeWarning: Invalid date encountered (2014-00-00 00:00:00).\n",
      "  data = mne.io.read_raw_edf(file)\n",
      "Extracting EDF parameters from c:\\Users\\Staro\\Documents\\GitHub\\COGS189-final-project\\data\\sub-01\\eeg\\sub-01_task-run5_eeg.edf...\n",
      "EDF file detected\n",
      "Setting channel info structure...\n",
      "Creating raw.info structure...\n",
      "c:\\Users\\Staro\\Documents\\GitHub\\COGS189-final-project\\data_tools.py:17: RuntimeWarning: Invalid date encountered (2014-00-00 00:00:00).\n",
      "  data = mne.io.read_raw_edf(file)\n",
      "Extracting EDF parameters from c:\\Users\\Staro\\Documents\\GitHub\\COGS189-final-project\\data\\sub-02\\eeg\\sub-02_task-run2_eeg.edf...\n",
      "EDF file detected\n",
      "Setting channel info structure...\n",
      "Creating raw.info structure...\n",
      "c:\\Users\\Staro\\Documents\\GitHub\\COGS189-final-project\\data_tools.py:17: RuntimeWarning: Invalid date encountered (2014-00-00 00:00:00).\n",
      "  data = mne.io.read_raw_edf(file)\n",
      "Extracting EDF parameters from c:\\Users\\Staro\\Documents\\GitHub\\COGS189-final-project\\data\\sub-02\\eeg\\sub-02_task-run3_eeg.edf...\n",
      "EDF file detected\n",
      "Setting channel info structure...\n",
      "Creating raw.info structure...\n",
      "c:\\Users\\Staro\\Documents\\GitHub\\COGS189-final-project\\data_tools.py:17: RuntimeWarning: Invalid date encountered (2014-00-00 00:00:00).\n",
      "  data = mne.io.read_raw_edf(file)\n",
      "Extracting EDF parameters from c:\\Users\\Staro\\Documents\\GitHub\\COGS189-final-project\\data\\sub-02\\eeg\\sub-02_task-run4_eeg.edf...\n",
      "EDF file detected\n",
      "Setting channel info structure...\n",
      "Creating raw.info structure...\n",
      "c:\\Users\\Staro\\Documents\\GitHub\\COGS189-final-project\\data_tools.py:17: RuntimeWarning: Invalid date encountered (2014-00-00 00:00:00).\n",
      "  data = mne.io.read_raw_edf(file)\n",
      "Extracting EDF parameters from c:\\Users\\Staro\\Documents\\GitHub\\COGS189-final-project\\data\\sub-02\\eeg\\sub-02_task-run5_eeg.edf...\n",
      "EDF file detected\n",
      "Setting channel info structure...\n",
      "Creating raw.info structure...\n",
      "c:\\Users\\Staro\\Documents\\GitHub\\COGS189-final-project\\data_tools.py:17: RuntimeWarning: Invalid date encountered (2014-00-00 00:00:00).\n",
      "  data = mne.io.read_raw_edf(file)\n",
      "Processing completed!\n"
     ]
    },
    {
     "output_type": "execute_result",
     "data": {
      "text/plain": [
       "array([], dtype=float64)"
      ]
     },
     "metadata": {},
     "execution_count": 23
    }
   ],
   "source": [
    "# Create empty lists to store our data. We'll conver them into np.arrays at the end\n",
    "train_data = []\n",
    "train_labels = []\n",
    "test_data = []\n",
    "test_labels = []\n",
    "\n",
    "test_set = np.random.choice(124, size=24, replace=False)\n",
    "\n",
    "# Going through all 124 trials\n",
    "for subject in range(1,32):\n",
    "    for trial in range(2,6):\n",
    "        # fileName = f\"data/sub-{format(subject, '02x')}/eeg/sub-{format(subject, '02x')}_task-run{trial}_eeg.edf\"\n",
    "        # print('Processing: ' + fileName)\n",
    "        # data = mne.io.read_raw_edf(fileName)\n",
    "        # trialRecording = data.to_data_frame().infer_objects()\n",
    "        df = get_recording_events(subject, trial)\n",
    "        labels = df.groupby('song_clip').head(1).TARGET.to_list() # Should be an array of 10 labels for each of the songs played in this trial\n",
    "        recordings = [df[df.song_clip==x].drop(columns=['song_clip','Number','TARGET','time']) for x in df.song_clip.unique()] # Should be a 3D array of 10 recordings, each with 16000 rows and 20 columns NOTE the row counts are inconsistent and there are 19 columns\n",
    "        # Bens code to get individual playings\n",
    "\n",
    "\n",
    "\n",
    "\n",
    "        # Going through all 10 playings\n",
    "        for playing in range(0,10):\n",
    "            recording = recordings[playing]\n",
    "            if recording.shape[0] < 16000:\n",
    "                continue\n",
    "            recording = recording.iloc[:16000,:]\n",
    "\n",
    "            # Epoch and correct DC offset of signal pre-filtering\n",
    "            # recording = recording[e_s+t0:t0+e_e, :] - np.mean(recording_[e_s+t0:t0+e_e, :], 0)\n",
    "            # recording = sosfiltfilt(sos, recording)\n",
    "            \n",
    "            # Now let's baseline correct\n",
    "            # data = data - np.mean(data[bl_s+np.abs(e_s):np.abs(e_s)+bl_e, :], 0)\n",
    "            \n",
    "            # Append data to correct locations\n",
    "            if subject == 31:\n",
    "                test_data.append(recording)\n",
    "                test_labels.append(labels[playing]) # target or non-target\n",
    "\n",
    "            else:\n",
    "                train_data.append(recording)\n",
    "                train_labels.append(labels[playing]) # target or non-target\n",
    "                    \n",
    "print('Processing completed!')\n",
    "\n",
    "# Convert all of our lists into numpy arrays\n",
    "# train_data = np.array(train_data)\n",
    "# train_labels = np.array(train_labels)\n",
    "# test_data = np.array(test_data)\n",
    "# test_labels = np.array(test_labels)\n",
    "test_labels"
   ]
  },
  {
   "cell_type": "code",
   "execution_count": 24,
   "metadata": {},
   "outputs": [
    {
     "output_type": "execute_result",
     "data": {
      "text/plain": [
       "16000    79\n",
       "dtype: int64"
      ]
     },
     "metadata": {},
     "execution_count": 24
    }
   ],
   "source": [
    "lst = [x.shape[0] for x in train_data]\n",
    "pd.value_counts(lst).sort_index(ascending=False)"
   ]
  },
  {
   "cell_type": "code",
   "execution_count": 22,
   "metadata": {},
   "outputs": [
    {
     "output_type": "execute_result",
     "data": {
      "text/plain": [
       "16002      10\n",
       "16001    1154\n",
       "16000       7\n",
       "15486       1\n",
       "15252       1\n",
       "15000       1\n",
       "14962       1\n",
       "14086       1\n",
       "13403       1\n",
       "13272       1\n",
       "13140       1\n",
       "12408       1\n",
       "12001       1\n",
       "11507       1\n",
       "11090       1\n",
       "10725       1\n",
       "10541       1\n",
       "10486       1\n",
       "10452       1\n",
       "10436       1\n",
       "10420       1\n",
       "10407       1\n",
       "10290       1\n",
       "10234       1\n",
       "10097       1\n",
       "9834        1\n",
       "9573        1\n",
       "9526        1\n",
       "9520        1\n",
       "9320        1\n",
       "8765        1\n",
       "8548        1\n",
       "dtype: int64"
      ]
     },
     "metadata": {},
     "execution_count": 22
    }
   ],
   "source": [
    "lst = [x.shape[0] for x in train_data]\n",
    "pd.value_counts(lst).sort_index(ascending=False)"
   ]
  },
  {
   "cell_type": "code",
   "execution_count": null,
   "metadata": {},
   "outputs": [],
   "source": []
  },
  {
   "cell_type": "code",
   "execution_count": null,
   "metadata": {},
   "outputs": [],
   "source": [
    "# Seperate target and non-target for plotting\n",
    "tar     = train_data[np.where(train_labels == 1)[0], :, :]\n",
    "non_tar = train_data[np.where(train_labels == 0)[0], :, :]\n",
    "\n",
    "print('We have %d target trials' % tar.shape[0])\n",
    "print('We have %d non-target trials' % non_tar.shape[0])\n",
    "\n",
    "# We'll take the average of all trials to create an averaged ERP\n",
    "tar_avg     = np.mean(tar, 0)\n",
    "non_tar_avg = np.mean(non_tar, 0)\n",
    "\n",
    "# Define channel of interest and create an array of time points\n",
    "chan = 'Cz' # let's plot Cz\n",
    "ch = np.where(channels == chan)[0][0]\n",
    "times = np.linspace(epoch_start, epoch_end, train_data.shape[1])\n",
    "\n",
    "# Initialize plot and calculate min and max y value\n",
    "fig, ax = plt.subplots(nrows=1, ncols=1, figsize=(20, 6))\n",
    "min_y = min(np.min(tar_avg), np.min(non_tar_avg))\n",
    "max_y = max(np.max(tar_avg), np.max(non_tar_avg))\n",
    "\n",
    "# Plot x and y axes\n",
    "plt.plot([np.min(times), np.max(times)], [0, 0], color='k');  # x-axis\n",
    "plt.plot([0, 0], [min_y, max_y], color='k');                  # y-axis\n",
    "\n",
    "# Plot our averaged ERPs\n",
    "plt.plot(times, tar_avg[:, ch], 'b', linewidth=4)\n",
    "plt.plot(times, non_tar_avg[:, ch], 'r', linewidth=4)\n",
    "\n",
    "# Highlight the baseline window and window of interest of our ERP\n",
    "baseline = patches.Rectangle([baseline_start, min_y], baseline_end, np.abs(min_y)+max_y, \n",
    "                             color='c', alpha=0.2)\n",
    "erp_win = patches.Rectangle([erp_start, min_y], erp_end-erp_start, np.abs(min_y)+max_y, \n",
    "                             color='lime', alpha=0.3)\n",
    "\n",
    "# Add our baseline and window of interest highlights\n",
    "ax.add_patch(baseline)\n",
    "ax.add_patch(erp_win)\n",
    "\n",
    "# Manually create legends since patches will corrupt default handles\n",
    "legend_ = [patches.Patch(color='b', label = 'Target (oddball)'),\n",
    "           patches.Patch(color='r', label = 'Non-target (standard)')]\n",
    "\n",
    "# Finalize plot and set a high DPI for a crisp, hi-res figure\n",
    "plt.xlabel('Time (msec)');\n",
    "plt.ylabel('Amplitude (A/D Units)');\n",
    "plt.legend(handles=legend_, loc=\"upper right\");\n",
    "plt.title('Event Related Potentials at channel %s' % chan);\n",
    "fig.set_dpi(216);\n",
    "plt.show();"
   ]
  },
  {
   "cell_type": "code",
   "execution_count": null,
   "metadata": {},
   "outputs": [],
   "source": [
    "# Let's compute the windowed means within erp_start and erp_end\n",
    "num_points = 5; # we will divide our window into num_points means\n",
    "\n",
    "# Define a simple windowed means function\n",
    "def wm(x, start, end, num_points):\n",
    "    num_trials = x.shape[0] # assumes first dem is numb observations\n",
    "    w = np.round((start+end)/num_points).astype(int)\n",
    "    y = np.zeros((num_points, x.shape[-1], num_trials)) # assumes num chans as last dimension\n",
    "    for i in range(0, num_points):\n",
    "        s = start + (w * i)\n",
    "        e = end   + (w * i)\n",
    "        y[i, :, :] = np.mean(x[:, s:e, :], 1).T\n",
    "    return y\n",
    "\n",
    "# Combine into a single train variable. Also create labels\n",
    "X_train    = wm(train_data, erp_s, erp_e, num_points)\n",
    "markers_train = np.vstack((train_labels, train_markers)).T\n",
    "y = train_labels\n",
    "\n",
    "# Now let's compute windowed means of our test data\n",
    "X_test = wm(test_data, erp_s, erp_e, num_points)\n",
    "markers_test = test_markers\n",
    "\n",
    "# Let's print out the shapes of our data\n",
    "print('X_train shape is: ' + str(X_train.shape))\n",
    "print('y shape is......: ' + str(y.shape))\n",
    "print('X_test shape is.: ' + str(X_test.shape))"
   ]
  },
  {
   "cell_type": "code",
   "execution_count": null,
   "metadata": {},
   "outputs": [],
   "source": [
    "# Since our X is 3D, we must flatten our data. We will then transpose it for sklearn\n",
    "X_train = X_train.reshape(-1, X_train.shape[-1]).T\n",
    "X_test = X_test.reshape(-1, X_test.shape[-1]).T\n",
    "\n",
    "# Let's print out the new shape\n",
    "print('X_train shape is now: ' + str(X_train.shape))\n",
    "print('X_test  shape is now: ' + str(X_test.shape))"
   ]
  },
  {
   "cell_type": "code",
   "execution_count": null,
   "metadata": {},
   "outputs": [],
   "source": [
    "# Train our classifier (this may take a while via JupyterHub)\n",
    "clf_lsqrs = LinearDiscriminantAnalysis(solver = 'lsqr',  shrinkage = 'auto').fit(X_train, y)"
   ]
  },
  {
   "cell_type": "code",
   "execution_count": null,
   "metadata": {},
   "outputs": [],
   "source": [
    "# Let's do 5-fold cross validation\n",
    "score_lsqrs = cross_val_score(clf_lsqrs.fit(X_train, y), X_train, y, cv = 5)\n",
    "\n",
    "# We will print out the mean score\n",
    "print(\"solver = lsqr  accuracy: %f\" % np.mean(score_lsqrs))"
   ]
  }
 ]
}